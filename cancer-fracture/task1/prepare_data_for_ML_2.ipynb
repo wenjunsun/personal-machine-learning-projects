{
  "nbformat": 4,
  "nbformat_minor": 0,
  "metadata": {
    "colab": {
      "name": "prepare_data_for_ML_2.ipynb",
      "provenance": [],
      "collapsed_sections": [
        "qzIP8Yv6Onov",
        "MDG_rvCgL5pE",
        "NnorZpYxh6iU",
        "iwagMlP_sdQz",
        "QY1mrQ7Hj_Zn",
        "_KVhyWQydmfo"
      ],
      "mount_file_id": "1UvL6_43xfc__21UQpyjQRxCvv4Y59CX6",
      "authorship_tag": "ABX9TyNHroVDrKshDnm905NgpOWV",
      "include_colab_link": true
    },
    "kernelspec": {
      "name": "python3",
      "display_name": "Python 3"
    }
  },
  "cells": [
    {
      "cell_type": "markdown",
      "metadata": {
        "id": "view-in-github",
        "colab_type": "text"
      },
      "source": [
        "<a href=\"https://colab.research.google.com/github/wenjunsun/personal-machine-learning-projects/blob/master/cancer-fracture/task1/prepare_data_for_ML_2.ipynb\" target=\"_parent\"><img src=\"https://colab.research.google.com/assets/colab-badge.svg\" alt=\"Open In Colab\"/></a>"
      ]
    },
    {
      "cell_type": "markdown",
      "metadata": {
        "id": "rhgcQ-F1Lmrb"
      },
      "source": [
        "This is a notebook for preparing the dataset of fracture. In the last notebook of data preparation, there are some stuff we need to change. We will discuss the new new data preparation process here."
      ]
    },
    {
      "cell_type": "markdown",
      "metadata": {
        "id": "B_nioWRuL8B0"
      },
      "source": [
        "Things we will do differently here:\n",
        "\n",
        "1. we only had 14% of fractures in patients in our previous processing scheme. That is too small! So we decide to include more fracture data.\n",
        "\n",
        "2. Based on the age distribution, we'll make the age into 3 categories: <=40 , >40 to <70, >=70 to category 1, 2, 3 respectively.\n",
        "\n",
        "3. Use new Stages data with less null values."
      ]
    },
    {
      "cell_type": "markdown",
      "metadata": {
        "id": "qzIP8Yv6Onov"
      },
      "source": [
        "# 0. Go to the directory containing data + import packages"
      ]
    },
    {
      "cell_type": "code",
      "metadata": {
        "id": "wtkzYUgHOmzv"
      },
      "source": [
        "import pandas as pd\n",
        "import numpy as np"
      ],
      "execution_count": 1,
      "outputs": []
    },
    {
      "cell_type": "code",
      "metadata": {
        "id": "7oswcOKBOtor",
        "outputId": "c67683ce-d1f0-4597-929e-f856ae285ca7",
        "colab": {
          "base_uri": "https://localhost:8080/"
        }
      },
      "source": [
        "cd drive/My\\ Drive/fracture_with_emissa/Datasets/Raw\\ Data"
      ],
      "execution_count": 2,
      "outputs": [
        {
          "output_type": "stream",
          "text": [
            "/content/drive/My Drive/fracture_with_emissa/Datasets/Raw Data\n"
          ],
          "name": "stdout"
        }
      ]
    },
    {
      "cell_type": "code",
      "metadata": {
        "id": "xUbxRIXRO9RD",
        "outputId": "80faa62d-79a6-4cd2-d437-abde5ca126ac",
        "colab": {
          "base_uri": "https://localhost:8080/"
        }
      },
      "source": [
        "ls"
      ],
      "execution_count": 3,
      "outputs": [
        {
          "output_type": "stream",
          "text": [
            "BillingCodes.csv           Labs_encoded.csv\n",
            "BonyLesions.csv            Lesions_encoded.csv\n",
            "data_agg_2.csv             Medications.csv\n",
            "data_agg.csv               medicines_90_days_before_STC.csv\n",
            "data_for_ML_back_fill.csv  MyelomaTherapy.csv\n",
            "Demographics.csv           PlasmaCells.csv\n",
            "Demographics_encoded.csv   RadiationTherapy.csv\n",
            "Diagnoses.csv              Signs.csv\n",
            "Final_stage.csv            Stage.csv\n",
            "Fractures.csv              Stages_encoded.csv\n",
            "Labs2.csv                  STC_Days.csv\n",
            "Labs_closest_to_SCT.csv    SurvivalDays.csv\n",
            "Labs.csv                   Symptoms.csv\n"
          ],
          "name": "stdout"
        }
      ]
    },
    {
      "cell_type": "markdown",
      "metadata": {
        "id": "MDG_rvCgL5pE"
      },
      "source": [
        "# 1. include more fractures."
      ]
    },
    {
      "cell_type": "code",
      "metadata": {
        "id": "8_7__QGXTWr0"
      },
      "source": [
        "STC_data = pd.read_csv('STC_Days.csv')"
      ],
      "execution_count": null,
      "outputs": []
    },
    {
      "cell_type": "code",
      "metadata": {
        "id": "rQBgwbENTcjC",
        "outputId": "642691b3-5272-4f18-c1d9-737989bcec74",
        "colab": {
          "base_uri": "https://localhost:8080/",
          "height": 419
        }
      },
      "source": [
        "STC_data"
      ],
      "execution_count": null,
      "outputs": [
        {
          "output_type": "execute_result",
          "data": {
            "text/html": [
              "<div>\n",
              "<style scoped>\n",
              "    .dataframe tbody tr th:only-of-type {\n",
              "        vertical-align: middle;\n",
              "    }\n",
              "\n",
              "    .dataframe tbody tr th {\n",
              "        vertical-align: top;\n",
              "    }\n",
              "\n",
              "    .dataframe thead th {\n",
              "        text-align: right;\n",
              "    }\n",
              "</style>\n",
              "<table border=\"1\" class=\"dataframe\">\n",
              "  <thead>\n",
              "    <tr style=\"text-align: right;\">\n",
              "      <th></th>\n",
              "      <th>ID</th>\n",
              "      <th>STC_Day</th>\n",
              "    </tr>\n",
              "  </thead>\n",
              "  <tbody>\n",
              "    <tr>\n",
              "      <th>0</th>\n",
              "      <td>MM1</td>\n",
              "      <td>343.0</td>\n",
              "    </tr>\n",
              "    <tr>\n",
              "      <th>1</th>\n",
              "      <td>MM2</td>\n",
              "      <td>229.0</td>\n",
              "    </tr>\n",
              "    <tr>\n",
              "      <th>2</th>\n",
              "      <td>MM4</td>\n",
              "      <td>425.0</td>\n",
              "    </tr>\n",
              "    <tr>\n",
              "      <th>3</th>\n",
              "      <td>MM5</td>\n",
              "      <td>416.0</td>\n",
              "    </tr>\n",
              "    <tr>\n",
              "      <th>4</th>\n",
              "      <td>MM6</td>\n",
              "      <td>657.0</td>\n",
              "    </tr>\n",
              "    <tr>\n",
              "      <th>...</th>\n",
              "      <td>...</td>\n",
              "      <td>...</td>\n",
              "    </tr>\n",
              "    <tr>\n",
              "      <th>697</th>\n",
              "      <td>MM834</td>\n",
              "      <td>204.0</td>\n",
              "    </tr>\n",
              "    <tr>\n",
              "      <th>698</th>\n",
              "      <td>MM843</td>\n",
              "      <td>841.0</td>\n",
              "    </tr>\n",
              "    <tr>\n",
              "      <th>699</th>\n",
              "      <td>MM836</td>\n",
              "      <td>786.0</td>\n",
              "    </tr>\n",
              "    <tr>\n",
              "      <th>700</th>\n",
              "      <td>MM837</td>\n",
              "      <td>203.0</td>\n",
              "    </tr>\n",
              "    <tr>\n",
              "      <th>701</th>\n",
              "      <td>MM838</td>\n",
              "      <td>244.0</td>\n",
              "    </tr>\n",
              "  </tbody>\n",
              "</table>\n",
              "<p>702 rows × 2 columns</p>\n",
              "</div>"
            ],
            "text/plain": [
              "        ID  STC_Day\n",
              "0      MM1    343.0\n",
              "1      MM2    229.0\n",
              "2      MM4    425.0\n",
              "3      MM5    416.0\n",
              "4      MM6    657.0\n",
              "..     ...      ...\n",
              "697  MM834    204.0\n",
              "698  MM843    841.0\n",
              "699  MM836    786.0\n",
              "700  MM837    203.0\n",
              "701  MM838    244.0\n",
              "\n",
              "[702 rows x 2 columns]"
            ]
          },
          "metadata": {
            "tags": []
          },
          "execution_count": 5
        }
      ]
    },
    {
      "cell_type": "code",
      "metadata": {
        "id": "kHx7n37JLJrJ"
      },
      "source": [
        "data = pd.read_csv('BillingCodes.csv')"
      ],
      "execution_count": null,
      "outputs": []
    },
    {
      "cell_type": "code",
      "metadata": {
        "id": "YlrPB3WjPIA-",
        "outputId": "8eb532b4-4c88-4a33-bc5d-4c70b21d7026",
        "colab": {
          "base_uri": "https://localhost:8080/",
          "height": 289
        }
      },
      "source": [
        "data.head()"
      ],
      "execution_count": null,
      "outputs": [
        {
          "output_type": "execute_result",
          "data": {
            "text/html": [
              "<div>\n",
              "<style scoped>\n",
              "    .dataframe tbody tr th:only-of-type {\n",
              "        vertical-align: middle;\n",
              "    }\n",
              "\n",
              "    .dataframe tbody tr th {\n",
              "        vertical-align: top;\n",
              "    }\n",
              "\n",
              "    .dataframe thead th {\n",
              "        text-align: right;\n",
              "    }\n",
              "</style>\n",
              "<table border=\"1\" class=\"dataframe\">\n",
              "  <thead>\n",
              "    <tr style=\"text-align: right;\">\n",
              "      <th></th>\n",
              "      <th>ID</th>\n",
              "      <th>DaysFromDx</th>\n",
              "      <th>DxCodingMethod</th>\n",
              "      <th>DxCode</th>\n",
              "      <th>DxDescription</th>\n",
              "      <th>CCSLevel1Name</th>\n",
              "      <th>CCSLevel2Name</th>\n",
              "      <th>CCSLevel3Name</th>\n",
              "    </tr>\n",
              "  </thead>\n",
              "  <tbody>\n",
              "    <tr>\n",
              "      <th>0</th>\n",
              "      <td>MM1</td>\n",
              "      <td>354</td>\n",
              "      <td>ICD9CM</td>\n",
              "      <td>V10.87</td>\n",
              "      <td>Personal history of malignant neoplasm of thyroid</td>\n",
              "      <td>Neoplasms</td>\n",
              "      <td>Cancer; other primary</td>\n",
              "      <td>Cancer of thyroid [36.]</td>\n",
              "    </tr>\n",
              "    <tr>\n",
              "      <th>1</th>\n",
              "      <td>MM1</td>\n",
              "      <td>373</td>\n",
              "      <td>ICD9CM</td>\n",
              "      <td>V10.87</td>\n",
              "      <td>Personal history of malignant neoplasm of thyroid</td>\n",
              "      <td>Neoplasms</td>\n",
              "      <td>Cancer; other primary</td>\n",
              "      <td>Cancer of thyroid [36.]</td>\n",
              "    </tr>\n",
              "    <tr>\n",
              "      <th>2</th>\n",
              "      <td>MM1</td>\n",
              "      <td>355</td>\n",
              "      <td>ICD9CM</td>\n",
              "      <td>V10.87</td>\n",
              "      <td>Personal history of malignant neoplasm of thyroid</td>\n",
              "      <td>Neoplasms</td>\n",
              "      <td>Cancer; other primary</td>\n",
              "      <td>Cancer of thyroid [36.]</td>\n",
              "    </tr>\n",
              "    <tr>\n",
              "      <th>3</th>\n",
              "      <td>MM1</td>\n",
              "      <td>741</td>\n",
              "      <td>ICD9CM</td>\n",
              "      <td>V12.29</td>\n",
              "      <td>Personal history of other endocrine, metabolic...</td>\n",
              "      <td>Endocrine; nutritional; and metabolic diseases...</td>\n",
              "      <td>Other nutritional; endocrine; and metabolic di...</td>\n",
              "      <td>Other and unspecified metabolic; nutritional; ...</td>\n",
              "    </tr>\n",
              "    <tr>\n",
              "      <th>4</th>\n",
              "      <td>MM1</td>\n",
              "      <td>318</td>\n",
              "      <td>ICD9CM</td>\n",
              "      <td>V14.0</td>\n",
              "      <td>Personal history of allergy to penicillin</td>\n",
              "      <td>Symptoms; signs; and ill-defined conditions an...</td>\n",
              "      <td>Symptoms; signs; and ill-defined conditions</td>\n",
              "      <td>Allergic reactions [253.]</td>\n",
              "    </tr>\n",
              "  </tbody>\n",
              "</table>\n",
              "</div>"
            ],
            "text/plain": [
              "    ID  ...                                      CCSLevel3Name\n",
              "0  MM1  ...                            Cancer of thyroid [36.]\n",
              "1  MM1  ...                            Cancer of thyroid [36.]\n",
              "2  MM1  ...                            Cancer of thyroid [36.]\n",
              "3  MM1  ...  Other and unspecified metabolic; nutritional; ...\n",
              "4  MM1  ...                          Allergic reactions [253.]\n",
              "\n",
              "[5 rows x 8 columns]"
            ]
          },
          "metadata": {
            "tags": []
          },
          "execution_count": 7
        }
      ]
    },
    {
      "cell_type": "code",
      "metadata": {
        "id": "kxsQ4oSMPKKn"
      },
      "source": [
        "# we think fracture will be one of the word in the string of\n",
        "# DxDescription, CCSLevel1Name, CCSLevel2Name, CCSLevel3Name\n",
        "# Let's get those rows where there any of the 4 columns\n",
        "# contain the word 'fracture'.\n",
        "\n",
        "# define a function such that given a row, return true if that row contains\n",
        "# the word fracture in one of its 4 columns\n",
        "def doesRowContainFracture(row):\n",
        "  return (isinstance(row['DxDescription'], str) and 'Fracture'.lower() in row['DxDescription'].lower()) or \\\n",
        "         (isinstance(row['CCSLevel1Name'], str) and 'Fracture'.lower() in row['CCSLevel1Name'].lower()) or \\\n",
        "         (isinstance(row['CCSLevel2Name'], str) and 'Fracture'.lower() in row['CCSLevel2Name'].lower()) or \\\n",
        "         (isinstance(row['CCSLevel3Name'], str) and 'Fracture'.lower() in row['CCSLevel3Name'].lower())"
      ],
      "execution_count": null,
      "outputs": []
    },
    {
      "cell_type": "code",
      "metadata": {
        "id": "U7O4RTmYPNIA"
      },
      "source": [
        "# get rows with word fracture in them.\n",
        "data_fracture = data[data.apply(doesRowContainFracture, axis = 1)]"
      ],
      "execution_count": null,
      "outputs": []
    },
    {
      "cell_type": "code",
      "metadata": {
        "id": "xI7BNetHPSFw",
        "outputId": "96c9bbac-1904-4ab6-d868-9ed61db4abd9",
        "colab": {
          "base_uri": "https://localhost:8080/",
          "height": 204
        }
      },
      "source": [
        "data_fracture.head()"
      ],
      "execution_count": null,
      "outputs": [
        {
          "output_type": "execute_result",
          "data": {
            "text/html": [
              "<div>\n",
              "<style scoped>\n",
              "    .dataframe tbody tr th:only-of-type {\n",
              "        vertical-align: middle;\n",
              "    }\n",
              "\n",
              "    .dataframe tbody tr th {\n",
              "        vertical-align: top;\n",
              "    }\n",
              "\n",
              "    .dataframe thead th {\n",
              "        text-align: right;\n",
              "    }\n",
              "</style>\n",
              "<table border=\"1\" class=\"dataframe\">\n",
              "  <thead>\n",
              "    <tr style=\"text-align: right;\">\n",
              "      <th></th>\n",
              "      <th>ID</th>\n",
              "      <th>DaysFromDx</th>\n",
              "      <th>DxCodingMethod</th>\n",
              "      <th>DxCode</th>\n",
              "      <th>DxDescription</th>\n",
              "      <th>CCSLevel1Name</th>\n",
              "      <th>CCSLevel2Name</th>\n",
              "      <th>CCSLevel3Name</th>\n",
              "    </tr>\n",
              "  </thead>\n",
              "  <tbody>\n",
              "    <tr>\n",
              "      <th>469</th>\n",
              "      <td>MM2</td>\n",
              "      <td>-5558</td>\n",
              "      <td>ICD9CM</td>\n",
              "      <td>807.00</td>\n",
              "      <td>Closed fracture of rib(s), unspecified</td>\n",
              "      <td>Injury and poisoning</td>\n",
              "      <td>Fractures</td>\n",
              "      <td>Other fractures [231.]</td>\n",
              "    </tr>\n",
              "    <tr>\n",
              "      <th>656</th>\n",
              "      <td>MM3</td>\n",
              "      <td>101</td>\n",
              "      <td>ICD10CM</td>\n",
              "      <td>M84.48XD</td>\n",
              "      <td>Pathological fracture, other site, subsequent ...</td>\n",
              "      <td>Diseases of the musculoskeletal system and con...</td>\n",
              "      <td>Pathological fracture [207.]</td>\n",
              "      <td>No Value</td>\n",
              "    </tr>\n",
              "    <tr>\n",
              "      <th>657</th>\n",
              "      <td>MM3</td>\n",
              "      <td>194</td>\n",
              "      <td>ICD10CM</td>\n",
              "      <td>M84.48XD</td>\n",
              "      <td>Pathological fracture, other site, subsequent ...</td>\n",
              "      <td>Diseases of the musculoskeletal system and con...</td>\n",
              "      <td>Pathological fracture [207.]</td>\n",
              "      <td>No Value</td>\n",
              "    </tr>\n",
              "    <tr>\n",
              "      <th>658</th>\n",
              "      <td>MM3</td>\n",
              "      <td>0</td>\n",
              "      <td>ICD10CM</td>\n",
              "      <td>M84.58XA</td>\n",
              "      <td>Pathological fracture in neoplastic disease, o...</td>\n",
              "      <td>Diseases of the musculoskeletal system and con...</td>\n",
              "      <td>Pathological fracture [207.]</td>\n",
              "      <td>No Value</td>\n",
              "    </tr>\n",
              "    <tr>\n",
              "      <th>740</th>\n",
              "      <td>MM4</td>\n",
              "      <td>433</td>\n",
              "      <td>ICD10CM</td>\n",
              "      <td>Z87.81</td>\n",
              "      <td>Personal history of (healed) traumatic fracture</td>\n",
              "      <td>Injury and poisoning</td>\n",
              "      <td>Other injuries and conditions due to external ...</td>\n",
              "      <td>No Value</td>\n",
              "    </tr>\n",
              "  </tbody>\n",
              "</table>\n",
              "</div>"
            ],
            "text/plain": [
              "      ID  ...           CCSLevel3Name\n",
              "469  MM2  ...  Other fractures [231.]\n",
              "656  MM3  ...                No Value\n",
              "657  MM3  ...                No Value\n",
              "658  MM3  ...                No Value\n",
              "740  MM4  ...                No Value\n",
              "\n",
              "[5 rows x 8 columns]"
            ]
          },
          "metadata": {
            "tags": []
          },
          "execution_count": 10
        }
      ]
    },
    {
      "cell_type": "code",
      "metadata": {
        "id": "6A59G8WjPWpe",
        "outputId": "a7abfb76-07f3-4197-f100-c3a195dc0a61",
        "colab": {
          "base_uri": "https://localhost:8080/",
          "height": 34
        }
      },
      "source": [
        "data_fracture.shape"
      ],
      "execution_count": null,
      "outputs": [
        {
          "output_type": "execute_result",
          "data": {
            "text/plain": [
              "(2078, 8)"
            ]
          },
          "metadata": {
            "tags": []
          },
          "execution_count": 11
        }
      ]
    },
    {
      "cell_type": "code",
      "metadata": {
        "id": "4-0QLRKJPY1Q"
      },
      "source": [
        "# delete the instance of fractures that are not related to the myeloma disease\n",
        "data_fracture = data_fracture[data_fracture['DxDescription']\\\n",
        "                              .apply(lambda x: 'encounter for removal of internal fixation device' not in x.lower())]\n",
        "data_fracture = data_fracture[data_fracture['DxDescription']\\\n",
        "                              .apply(lambda x: 'follow-up examination, following treatment of healed fracture' not in x.lower())]\n",
        "data_fracture = data_fracture[data_fracture['DxDescription'].\\\n",
        "                              apply(lambda x: 'open wound of tooth (broken) (fractured) (due to trauma), without mention of complication' not in x.lower())]\n",
        "data_fracture = data_fracture[data_fracture['DxDescription']\\\n",
        "                              .apply(lambda x: 'other aftercare involving internal fixation device' not in x.lower())]\n",
        "data_fracture = data_fracture[data_fracture['DxDescription']\\\n",
        "                              .apply(lambda x: 'other osteoporosis without current pathological fracture' not in x.lower())]\n",
        "data_fracture = data_fracture[data_fracture['DxDescription']\\\n",
        "                              .apply(lambda x: 'osteoporosis without current pathological fracture' not in x.lower())]\n",
        "data_fracture = data_fracture[data_fracture['DxDescription']\\\n",
        "                              .apply(lambda x: 'tooth fracture' not in x.lower())]"
      ],
      "execution_count": null,
      "outputs": []
    },
    {
      "cell_type": "code",
      "metadata": {
        "id": "lxOWth77QTJh",
        "outputId": "83abf0ae-bebc-40fd-d2a9-763583836ed3",
        "colab": {
          "base_uri": "https://localhost:8080/",
          "height": 34
        }
      },
      "source": [
        "data_fracture.shape"
      ],
      "execution_count": null,
      "outputs": [
        {
          "output_type": "execute_result",
          "data": {
            "text/plain": [
              "(1831, 8)"
            ]
          },
          "metadata": {
            "tags": []
          },
          "execution_count": 13
        }
      ]
    },
    {
      "cell_type": "code",
      "metadata": {
        "id": "2oExySgQRDoX",
        "outputId": "c2511ff6-b61f-4dfc-8153-fed6c87919d0",
        "colab": {
          "base_uri": "https://localhost:8080/",
          "height": 34
        }
      },
      "source": [
        "# num_of_fractures include all the patients, not necessarily taking the STC.\n",
        "# and not necessarily having fracture after 1 year of STC.\n",
        "num_of_fractures = len(data_fracture['ID'].unique())\n",
        "print(f'number of patients having fracture after elimination of non-pathological fractures: {num_of_fractures}')"
      ],
      "execution_count": null,
      "outputs": [
        {
          "output_type": "stream",
          "text": [
            "number of patients having fracture after elimination of non-pathological fractures: 352\n"
          ],
          "name": "stdout"
        }
      ]
    },
    {
      "cell_type": "markdown",
      "metadata": {
        "id": "0BW5MkbzVTPW"
      },
      "source": [
        "Are there any patients who didn't have stem cell transplant treatment, but did have fracture? Let's find out."
      ]
    },
    {
      "cell_type": "code",
      "metadata": {
        "id": "wuT9cpYUV2hN"
      },
      "source": [
        "patients_with_fracture = data_fracture['ID'].unique()\n",
        "patients_with_STC = STC_data['ID'].unique()"
      ],
      "execution_count": null,
      "outputs": []
    },
    {
      "cell_type": "code",
      "metadata": {
        "id": "DJMmVWCiWFJZ",
        "outputId": "533e4a36-38dc-4a32-a1de-4864a733b3fc",
        "colab": {
          "base_uri": "https://localhost:8080/",
          "height": 833
        }
      },
      "source": [
        "set(patients_with_fracture) - set(patients_with_STC)"
      ],
      "execution_count": null,
      "outputs": [
        {
          "output_type": "execute_result",
          "data": {
            "text/plain": [
              "{'MM157',\n",
              " 'MM199',\n",
              " 'MM238',\n",
              " 'MM290',\n",
              " 'MM3',\n",
              " 'MM332',\n",
              " 'MM36',\n",
              " 'MM363',\n",
              " 'MM383',\n",
              " 'MM387',\n",
              " 'MM396',\n",
              " 'MM422',\n",
              " 'MM432',\n",
              " 'MM444',\n",
              " 'MM454',\n",
              " 'MM460',\n",
              " 'MM491',\n",
              " 'MM505',\n",
              " 'MM522',\n",
              " 'MM533',\n",
              " 'MM571',\n",
              " 'MM632',\n",
              " 'MM655',\n",
              " 'MM660',\n",
              " 'MM672',\n",
              " 'MM684',\n",
              " 'MM696',\n",
              " 'MM697',\n",
              " 'MM712',\n",
              " 'MM722',\n",
              " 'MM806',\n",
              " 'MM820',\n",
              " 'MM83',\n",
              " 'MM841',\n",
              " 'MM849',\n",
              " 'MM850',\n",
              " 'MM851',\n",
              " 'MM853',\n",
              " 'MM854',\n",
              " 'MM865',\n",
              " 'MM895',\n",
              " 'MM898',\n",
              " 'MM902',\n",
              " 'MM910',\n",
              " 'MM913',\n",
              " 'MM933',\n",
              " 'MM95',\n",
              " 'MM968'}"
            ]
          },
          "metadata": {
            "tags": []
          },
          "execution_count": 21
        }
      ]
    },
    {
      "cell_type": "code",
      "metadata": {
        "id": "BN_O3cXeWT9m",
        "outputId": "3b1cd1fd-d983-431c-e5ea-8d8d88379c15",
        "colab": {
          "base_uri": "https://localhost:8080/",
          "height": 34
        }
      },
      "source": [
        "'MM3' in data_fracture['ID'].unique()"
      ],
      "execution_count": null,
      "outputs": [
        {
          "output_type": "execute_result",
          "data": {
            "text/plain": [
              "True"
            ]
          },
          "metadata": {
            "tags": []
          },
          "execution_count": 23
        }
      ]
    },
    {
      "cell_type": "code",
      "metadata": {
        "id": "GyF_lCSEWZdG",
        "outputId": "d438611a-052f-4ec9-ec5b-7c5599e0d104",
        "colab": {
          "base_uri": "https://localhost:8080/",
          "height": 34
        }
      },
      "source": [
        "'MM3' in STC_data['ID'].unique()"
      ],
      "execution_count": null,
      "outputs": [
        {
          "output_type": "execute_result",
          "data": {
            "text/plain": [
              "False"
            ]
          },
          "metadata": {
            "tags": []
          },
          "execution_count": 24
        }
      ]
    },
    {
      "cell_type": "markdown",
      "metadata": {
        "id": "-asZQhfbXDeG"
      },
      "source": [
        "As we can see, patient MM3 had fracture, but didn't stem cell transplant. We are only studying people with stem cell transplant so patients like him/her will be excluded from the study, for now."
      ]
    },
    {
      "cell_type": "code",
      "metadata": {
        "id": "0qOFBqsMXOl7",
        "outputId": "b846cd48-d12b-4507-f8a2-ff66b48608d1",
        "colab": {
          "base_uri": "https://localhost:8080/",
          "height": 34
        }
      },
      "source": [
        "num_patients_with_fracture_but_without_STC = len(set(patients_with_fracture) - set(patients_with_STC))\n",
        "print(f'number of patients with fracture but didn\\'t have stem cell treatment: {num_patients_with_fracture_but_without_STC} ')"
      ],
      "execution_count": null,
      "outputs": [
        {
          "output_type": "stream",
          "text": [
            "number of patients with fracture but didn't have stem cell treatment: 48 \n"
          ],
          "name": "stdout"
        }
      ]
    },
    {
      "cell_type": "markdown",
      "metadata": {
        "id": "5c43IYvTXcGY"
      },
      "source": [
        "Now we get all the patients who have fracture within our time window: 1 year after the stem cell treatment."
      ]
    },
    {
      "cell_type": "code",
      "metadata": {
        "id": "MoLHBannUOpj"
      },
      "source": [
        "fractureList = [] # list of mappings from ID to 0 or 1 based on if this patient has fracture\n",
        "for ID in STC_data['ID'].unique(): # for every patient who took STC:\n",
        "  if ID not in data_fracture['ID'].unique(): # if they are not in the dataframe\n",
        "    # it means they don't have fracture after STC. put 0 there\n",
        "    fractureList.append([ID, 0])\n",
        "  else:\n",
        "    # get their dataframe\n",
        "    patient_df = data_fracture[data_fracture['ID'] == ID]\n",
        "    # if that dataframe contain any row that has date during 1 year after STC,\n",
        "    # put 1 there\n",
        "    STC_Day_of_patient = STC_data[STC_data['ID'] == ID]['STC_Day'].values[0]\n",
        "    if patient_df[(patient_df['DaysFromDx'] >= STC_Day_of_patient) & (patient_df['DaysFromDx'] <= STC_Day_of_patient + 365)].shape[0] != 0:\n",
        "      fractureList.append([ID, 1])\n",
        "    else:\n",
        "      # means patient does have fracture but not within a year after STC, put 0.\n",
        "      fractureList.append([ID, 0])"
      ],
      "execution_count": null,
      "outputs": []
    },
    {
      "cell_type": "code",
      "metadata": {
        "id": "aRDYOI9zU17R"
      },
      "source": [
        "# make a dataframe out of list:\n",
        "df_result = pd.DataFrame(data = fractureList, columns= ['ID', 'HasFracture?'])"
      ],
      "execution_count": null,
      "outputs": []
    },
    {
      "cell_type": "code",
      "metadata": {
        "id": "oHMWbG3CXtcj",
        "outputId": "89a50452-fa38-400a-ea65-5f0ff6a237b6",
        "colab": {
          "base_uri": "https://localhost:8080/",
          "height": 34
        }
      },
      "source": [
        "df_result['HasFracture?'].sum()"
      ],
      "execution_count": null,
      "outputs": [
        {
          "output_type": "execute_result",
          "data": {
            "text/plain": [
              "129"
            ]
          },
          "metadata": {
            "tags": []
          },
          "execution_count": 34
        }
      ]
    },
    {
      "cell_type": "markdown",
      "metadata": {
        "id": "lTHdvCwRWLoL"
      },
      "source": [
        "day 0 - infinity: 204, day 0 -365: 129, day -infty to infty: 304"
      ]
    },
    {
      "cell_type": "code",
      "metadata": {
        "id": "9NOLB8ooaGGP"
      },
      "source": [
        "df_result.to_csv('Fractures.csv', index = False)"
      ],
      "execution_count": null,
      "outputs": []
    },
    {
      "cell_type": "markdown",
      "metadata": {
        "id": "NnorZpYxh6iU"
      },
      "source": [
        "# 2. age encoding "
      ]
    },
    {
      "cell_type": "code",
      "metadata": {
        "id": "tnhfKgU1YbQH"
      },
      "source": [
        "data = pd.read_csv('Demographics.csv')"
      ],
      "execution_count": null,
      "outputs": []
    },
    {
      "cell_type": "code",
      "metadata": {
        "id": "NVX8E51eiPmA",
        "outputId": "ae3e9e1d-3b24-4b8f-d966-68543b94b99a",
        "colab": {
          "base_uri": "https://localhost:8080/",
          "height": 419
        }
      },
      "source": [
        "data"
      ],
      "execution_count": null,
      "outputs": [
        {
          "output_type": "execute_result",
          "data": {
            "text/html": [
              "<div>\n",
              "<style scoped>\n",
              "    .dataframe tbody tr th:only-of-type {\n",
              "        vertical-align: middle;\n",
              "    }\n",
              "\n",
              "    .dataframe tbody tr th {\n",
              "        vertical-align: top;\n",
              "    }\n",
              "\n",
              "    .dataframe thead th {\n",
              "        text-align: right;\n",
              "    }\n",
              "</style>\n",
              "<table border=\"1\" class=\"dataframe\">\n",
              "  <thead>\n",
              "    <tr style=\"text-align: right;\">\n",
              "      <th></th>\n",
              "      <th>ID</th>\n",
              "      <th>AgeAtDx</th>\n",
              "      <th>PatientSex</th>\n",
              "      <th>RacialGroup</th>\n",
              "    </tr>\n",
              "  </thead>\n",
              "  <tbody>\n",
              "    <tr>\n",
              "      <th>0</th>\n",
              "      <td>MM1</td>\n",
              "      <td>67</td>\n",
              "      <td>Male</td>\n",
              "      <td>White</td>\n",
              "    </tr>\n",
              "    <tr>\n",
              "      <th>1</th>\n",
              "      <td>MM2</td>\n",
              "      <td>61</td>\n",
              "      <td>Male</td>\n",
              "      <td>Black</td>\n",
              "    </tr>\n",
              "    <tr>\n",
              "      <th>2</th>\n",
              "      <td>MM3</td>\n",
              "      <td>59</td>\n",
              "      <td>Male</td>\n",
              "      <td>White</td>\n",
              "    </tr>\n",
              "    <tr>\n",
              "      <th>3</th>\n",
              "      <td>MM4</td>\n",
              "      <td>68</td>\n",
              "      <td>Female</td>\n",
              "      <td>White</td>\n",
              "    </tr>\n",
              "    <tr>\n",
              "      <th>4</th>\n",
              "      <td>MM5</td>\n",
              "      <td>63</td>\n",
              "      <td>Male</td>\n",
              "      <td>White</td>\n",
              "    </tr>\n",
              "    <tr>\n",
              "      <th>...</th>\n",
              "      <td>...</td>\n",
              "      <td>...</td>\n",
              "      <td>...</td>\n",
              "      <td>...</td>\n",
              "    </tr>\n",
              "    <tr>\n",
              "      <th>826</th>\n",
              "      <td>MM843</td>\n",
              "      <td>70</td>\n",
              "      <td>Male</td>\n",
              "      <td>White</td>\n",
              "    </tr>\n",
              "    <tr>\n",
              "      <th>827</th>\n",
              "      <td>MM835</td>\n",
              "      <td>56</td>\n",
              "      <td>Male</td>\n",
              "      <td>White</td>\n",
              "    </tr>\n",
              "    <tr>\n",
              "      <th>828</th>\n",
              "      <td>MM836</td>\n",
              "      <td>46</td>\n",
              "      <td>Male</td>\n",
              "      <td>White</td>\n",
              "    </tr>\n",
              "    <tr>\n",
              "      <th>829</th>\n",
              "      <td>MM837</td>\n",
              "      <td>59</td>\n",
              "      <td>Male</td>\n",
              "      <td>White</td>\n",
              "    </tr>\n",
              "    <tr>\n",
              "      <th>830</th>\n",
              "      <td>MM838</td>\n",
              "      <td>53</td>\n",
              "      <td>Male</td>\n",
              "      <td>White</td>\n",
              "    </tr>\n",
              "  </tbody>\n",
              "</table>\n",
              "<p>831 rows × 4 columns</p>\n",
              "</div>"
            ],
            "text/plain": [
              "        ID  AgeAtDx PatientSex RacialGroup\n",
              "0      MM1       67       Male       White\n",
              "1      MM2       61       Male       Black\n",
              "2      MM3       59       Male       White\n",
              "3      MM4       68     Female       White\n",
              "4      MM5       63       Male       White\n",
              "..     ...      ...        ...         ...\n",
              "826  MM843       70       Male       White\n",
              "827  MM835       56       Male       White\n",
              "828  MM836       46       Male       White\n",
              "829  MM837       59       Male       White\n",
              "830  MM838       53       Male       White\n",
              "\n",
              "[831 rows x 4 columns]"
            ]
          },
          "metadata": {
            "tags": []
          },
          "execution_count": 133
        }
      ]
    },
    {
      "cell_type": "code",
      "metadata": {
        "id": "tK4aMfxfiQ6Z"
      },
      "source": [
        "# given a age return its encoding:\n",
        "def encodeAge(age):\n",
        "  # <=40 , >40 to <70, >=70 to category 1, 2, 3 respectively.\n",
        "  if age <= 40:\n",
        "    return 1\n",
        "  elif age < 70:\n",
        "    return 2\n",
        "  else:\n",
        "    return 3\n",
        "\n",
        "# Male -> 1, Female -> 0\n",
        "def encodeSex(sex):\n",
        "  return 1 if sex == 'Male' else 0\n",
        "\n",
        "# White -> 1, Black -> 2, Asian -> 3\n",
        "# else -> 4\n",
        "def encodeRace(race):\n",
        "  if race == 'White':\n",
        "    return 1\n",
        "  elif race == 'Black':\n",
        "    return 2\n",
        "  elif race == 'Asian':\n",
        "    return 3\n",
        "  else:\n",
        "    return 4"
      ],
      "execution_count": null,
      "outputs": []
    },
    {
      "cell_type": "code",
      "metadata": {
        "id": "s8mqNiNfihRX"
      },
      "source": [
        "# apply encoding to Age column\n",
        "data['AgeAtDx'] = data['AgeAtDx'].apply(encodeAge)\n",
        "# apply encoding function to sex column\n",
        "data['PatientSex'] = data['PatientSex'].apply(encodeSex)\n",
        "# apply encoding function to race column\n",
        "data['RacialGroup'] = data['RacialGroup'].apply(encodeRace)"
      ],
      "execution_count": null,
      "outputs": []
    },
    {
      "cell_type": "code",
      "metadata": {
        "id": "xxlOecTnint_",
        "outputId": "f11a960d-1ab4-4479-d7e7-d043b4764541",
        "colab": {
          "base_uri": "https://localhost:8080/",
          "height": 419
        }
      },
      "source": [
        "data"
      ],
      "execution_count": null,
      "outputs": [
        {
          "output_type": "execute_result",
          "data": {
            "text/html": [
              "<div>\n",
              "<style scoped>\n",
              "    .dataframe tbody tr th:only-of-type {\n",
              "        vertical-align: middle;\n",
              "    }\n",
              "\n",
              "    .dataframe tbody tr th {\n",
              "        vertical-align: top;\n",
              "    }\n",
              "\n",
              "    .dataframe thead th {\n",
              "        text-align: right;\n",
              "    }\n",
              "</style>\n",
              "<table border=\"1\" class=\"dataframe\">\n",
              "  <thead>\n",
              "    <tr style=\"text-align: right;\">\n",
              "      <th></th>\n",
              "      <th>ID</th>\n",
              "      <th>AgeAtDx</th>\n",
              "      <th>PatientSex</th>\n",
              "      <th>RacialGroup</th>\n",
              "    </tr>\n",
              "  </thead>\n",
              "  <tbody>\n",
              "    <tr>\n",
              "      <th>0</th>\n",
              "      <td>MM1</td>\n",
              "      <td>2</td>\n",
              "      <td>1</td>\n",
              "      <td>1</td>\n",
              "    </tr>\n",
              "    <tr>\n",
              "      <th>1</th>\n",
              "      <td>MM2</td>\n",
              "      <td>2</td>\n",
              "      <td>1</td>\n",
              "      <td>2</td>\n",
              "    </tr>\n",
              "    <tr>\n",
              "      <th>2</th>\n",
              "      <td>MM3</td>\n",
              "      <td>2</td>\n",
              "      <td>1</td>\n",
              "      <td>1</td>\n",
              "    </tr>\n",
              "    <tr>\n",
              "      <th>3</th>\n",
              "      <td>MM4</td>\n",
              "      <td>2</td>\n",
              "      <td>0</td>\n",
              "      <td>1</td>\n",
              "    </tr>\n",
              "    <tr>\n",
              "      <th>4</th>\n",
              "      <td>MM5</td>\n",
              "      <td>2</td>\n",
              "      <td>1</td>\n",
              "      <td>1</td>\n",
              "    </tr>\n",
              "    <tr>\n",
              "      <th>...</th>\n",
              "      <td>...</td>\n",
              "      <td>...</td>\n",
              "      <td>...</td>\n",
              "      <td>...</td>\n",
              "    </tr>\n",
              "    <tr>\n",
              "      <th>826</th>\n",
              "      <td>MM843</td>\n",
              "      <td>3</td>\n",
              "      <td>1</td>\n",
              "      <td>1</td>\n",
              "    </tr>\n",
              "    <tr>\n",
              "      <th>827</th>\n",
              "      <td>MM835</td>\n",
              "      <td>2</td>\n",
              "      <td>1</td>\n",
              "      <td>1</td>\n",
              "    </tr>\n",
              "    <tr>\n",
              "      <th>828</th>\n",
              "      <td>MM836</td>\n",
              "      <td>2</td>\n",
              "      <td>1</td>\n",
              "      <td>1</td>\n",
              "    </tr>\n",
              "    <tr>\n",
              "      <th>829</th>\n",
              "      <td>MM837</td>\n",
              "      <td>2</td>\n",
              "      <td>1</td>\n",
              "      <td>1</td>\n",
              "    </tr>\n",
              "    <tr>\n",
              "      <th>830</th>\n",
              "      <td>MM838</td>\n",
              "      <td>2</td>\n",
              "      <td>1</td>\n",
              "      <td>1</td>\n",
              "    </tr>\n",
              "  </tbody>\n",
              "</table>\n",
              "<p>831 rows × 4 columns</p>\n",
              "</div>"
            ],
            "text/plain": [
              "        ID  AgeAtDx  PatientSex  RacialGroup\n",
              "0      MM1        2           1            1\n",
              "1      MM2        2           1            2\n",
              "2      MM3        2           1            1\n",
              "3      MM4        2           0            1\n",
              "4      MM5        2           1            1\n",
              "..     ...      ...         ...          ...\n",
              "826  MM843        3           1            1\n",
              "827  MM835        2           1            1\n",
              "828  MM836        2           1            1\n",
              "829  MM837        2           1            1\n",
              "830  MM838        2           1            1\n",
              "\n",
              "[831 rows x 4 columns]"
            ]
          },
          "metadata": {
            "tags": []
          },
          "execution_count": 136
        }
      ]
    },
    {
      "cell_type": "code",
      "metadata": {
        "id": "AdhQnvYbipVx"
      },
      "source": [
        "data.to_csv('Demographics_encoded.csv', index = False)"
      ],
      "execution_count": null,
      "outputs": []
    },
    {
      "cell_type": "markdown",
      "metadata": {
        "id": "iwagMlP_sdQz"
      },
      "source": [
        "# 3. Use new Stages data (hopefully less nulls)"
      ]
    },
    {
      "cell_type": "code",
      "metadata": {
        "id": "km1_b4L7skxZ"
      },
      "source": [
        "data_stages = pd.read_csv('Final_stage.csv')"
      ],
      "execution_count": null,
      "outputs": []
    },
    {
      "cell_type": "code",
      "metadata": {
        "id": "Ou2T_OG-ssku",
        "outputId": "30136f41-87db-4954-a117-baf2e1946ab3",
        "colab": {
          "base_uri": "https://localhost:8080/",
          "height": 419
        }
      },
      "source": [
        "data_stages"
      ],
      "execution_count": null,
      "outputs": [
        {
          "output_type": "execute_result",
          "data": {
            "text/html": [
              "<div>\n",
              "<style scoped>\n",
              "    .dataframe tbody tr th:only-of-type {\n",
              "        vertical-align: middle;\n",
              "    }\n",
              "\n",
              "    .dataframe tbody tr th {\n",
              "        vertical-align: top;\n",
              "    }\n",
              "\n",
              "    .dataframe thead th {\n",
              "        text-align: right;\n",
              "    }\n",
              "</style>\n",
              "<table border=\"1\" class=\"dataframe\">\n",
              "  <thead>\n",
              "    <tr style=\"text-align: right;\">\n",
              "      <th></th>\n",
              "      <th>ID</th>\n",
              "      <th>StagingSystem</th>\n",
              "      <th>Stage</th>\n",
              "    </tr>\n",
              "  </thead>\n",
              "  <tbody>\n",
              "    <tr>\n",
              "      <th>0</th>\n",
              "      <td>MM2</td>\n",
              "      <td>ISS</td>\n",
              "      <td>III</td>\n",
              "    </tr>\n",
              "    <tr>\n",
              "      <th>1</th>\n",
              "      <td>MM3</td>\n",
              "      <td>ISS</td>\n",
              "      <td>I</td>\n",
              "    </tr>\n",
              "    <tr>\n",
              "      <th>2</th>\n",
              "      <td>MM4</td>\n",
              "      <td>ISS</td>\n",
              "      <td>III</td>\n",
              "    </tr>\n",
              "    <tr>\n",
              "      <th>3</th>\n",
              "      <td>MM5</td>\n",
              "      <td>ISS</td>\n",
              "      <td>I</td>\n",
              "    </tr>\n",
              "    <tr>\n",
              "      <th>4</th>\n",
              "      <td>MM6</td>\n",
              "      <td>ISS</td>\n",
              "      <td>I</td>\n",
              "    </tr>\n",
              "    <tr>\n",
              "      <th>...</th>\n",
              "      <td>...</td>\n",
              "      <td>...</td>\n",
              "      <td>...</td>\n",
              "    </tr>\n",
              "    <tr>\n",
              "      <th>815</th>\n",
              "      <td>MM832</td>\n",
              "      <td>NaN</td>\n",
              "      <td>II</td>\n",
              "    </tr>\n",
              "    <tr>\n",
              "      <th>816</th>\n",
              "      <td>MM930</td>\n",
              "      <td>NaN</td>\n",
              "      <td>II</td>\n",
              "    </tr>\n",
              "    <tr>\n",
              "      <th>817</th>\n",
              "      <td>MM957</td>\n",
              "      <td>NaN</td>\n",
              "      <td>II</td>\n",
              "    </tr>\n",
              "    <tr>\n",
              "      <th>818</th>\n",
              "      <td>MM935</td>\n",
              "      <td>NaN</td>\n",
              "      <td>II</td>\n",
              "    </tr>\n",
              "    <tr>\n",
              "      <th>819</th>\n",
              "      <td>MM837</td>\n",
              "      <td>NaN</td>\n",
              "      <td>III</td>\n",
              "    </tr>\n",
              "  </tbody>\n",
              "</table>\n",
              "<p>820 rows × 3 columns</p>\n",
              "</div>"
            ],
            "text/plain": [
              "        ID StagingSystem Stage\n",
              "0      MM2           ISS   III\n",
              "1      MM3           ISS     I\n",
              "2      MM4           ISS   III\n",
              "3      MM5           ISS     I\n",
              "4      MM6           ISS     I\n",
              "..     ...           ...   ...\n",
              "815  MM832           NaN    II\n",
              "816  MM930           NaN    II\n",
              "817  MM957           NaN    II\n",
              "818  MM935           NaN    II\n",
              "819  MM837           NaN   III\n",
              "\n",
              "[820 rows x 3 columns]"
            ]
          },
          "metadata": {
            "tags": []
          },
          "execution_count": 31
        }
      ]
    },
    {
      "cell_type": "code",
      "metadata": {
        "id": "utLqcl_Zs3lU"
      },
      "source": [
        "def encodeStage(stage):\n",
        "  if stage == 'I':\n",
        "    return 1\n",
        "  elif stage == 'II':\n",
        "    return 2\n",
        "  elif stage == 'III':\n",
        "    return 3\n",
        "  else:\n",
        "    return None"
      ],
      "execution_count": null,
      "outputs": []
    },
    {
      "cell_type": "code",
      "metadata": {
        "id": "66bUSLhls57W"
      },
      "source": [
        "data_stages['Stage'] = data_stages['Stage'].apply(lambda x: encodeStage(x))"
      ],
      "execution_count": null,
      "outputs": []
    },
    {
      "cell_type": "code",
      "metadata": {
        "id": "UxjD6PuMs9T2",
        "outputId": "50a91679-315d-4c2b-b1fd-fb3d37bbb2c7",
        "colab": {
          "base_uri": "https://localhost:8080/",
          "height": 34
        }
      },
      "source": [
        "sorted(data_stages['Stage'].unique())"
      ],
      "execution_count": null,
      "outputs": [
        {
          "output_type": "execute_result",
          "data": {
            "text/plain": [
              "[1, 2, 3]"
            ]
          },
          "metadata": {
            "tags": []
          },
          "execution_count": 37
        }
      ]
    },
    {
      "cell_type": "code",
      "metadata": {
        "id": "2ZTQrBZrtBMP"
      },
      "source": [
        "data_stages = data_stages[['ID', 'Stage']]"
      ],
      "execution_count": null,
      "outputs": []
    },
    {
      "cell_type": "code",
      "metadata": {
        "id": "X8JcrFU1tIMI"
      },
      "source": [
        "# save this to csv.\n",
        "data_stages.to_csv('Stages_encoded.csv', index = False)"
      ],
      "execution_count": null,
      "outputs": []
    },
    {
      "cell_type": "markdown",
      "metadata": {
        "id": "QY1mrQ7Hj_Zn"
      },
      "source": [
        "# 4. reprepare aggregated data"
      ]
    },
    {
      "cell_type": "code",
      "metadata": {
        "id": "yafUn_VM6jgs"
      },
      "source": [
        "data_labs = pd.read_csv('Labs_closest_to_SCT.csv')\n",
        "data_demographics = pd.read_csv('Demographics_encoded.csv')\n",
        "data_medications = pd.read_csv('medicines_90_days_before_STC.csv')\n",
        "data_cancer_stage = pd.read_csv('Stages_encoded.csv')\n",
        "data_bony_lesions = pd.read_csv('Lesions_encoded.csv')\n",
        "data_fracture = pd.read_csv('Fractures.csv')"
      ],
      "execution_count": null,
      "outputs": []
    },
    {
      "cell_type": "code",
      "metadata": {
        "id": "MjGAkO5sEamg"
      },
      "source": [
        "# combine fracture data with lesions data\n",
        "data_agg = data_fracture.merge(data_bony_lesions, on = 'ID', how='outer')"
      ],
      "execution_count": null,
      "outputs": []
    },
    {
      "cell_type": "code",
      "metadata": {
        "id": "umyHqUkQE9Aq"
      },
      "source": [
        "# combine with cancer stage data\n",
        "data_agg = data_agg.merge(data_cancer_stage, on = 'ID', how='outer')"
      ],
      "execution_count": null,
      "outputs": []
    },
    {
      "cell_type": "code",
      "metadata": {
        "id": "dX9SRBv9FLIr"
      },
      "source": [
        "# combine with medications\n",
        "data_agg = data_agg.merge(data_medications, on = 'ID', how = 'outer')"
      ],
      "execution_count": null,
      "outputs": []
    },
    {
      "cell_type": "code",
      "metadata": {
        "id": "K8neR7U0FxUW"
      },
      "source": [
        "# combine with demographics data\n",
        "data_agg = data_agg.merge(data_demographics, on = 'ID', how = 'outer')"
      ],
      "execution_count": null,
      "outputs": []
    },
    {
      "cell_type": "code",
      "metadata": {
        "id": "zsTZ4-fmF86X",
        "outputId": "803a00af-bdf3-48c0-db25-851997b1bbd7",
        "colab": {
          "base_uri": "https://localhost:8080/",
          "height": 419
        }
      },
      "source": [
        "data_agg"
      ],
      "execution_count": null,
      "outputs": [
        {
          "output_type": "execute_result",
          "data": {
            "text/html": [
              "<div>\n",
              "<style scoped>\n",
              "    .dataframe tbody tr th:only-of-type {\n",
              "        vertical-align: middle;\n",
              "    }\n",
              "\n",
              "    .dataframe tbody tr th {\n",
              "        vertical-align: top;\n",
              "    }\n",
              "\n",
              "    .dataframe thead th {\n",
              "        text-align: right;\n",
              "    }\n",
              "</style>\n",
              "<table border=\"1\" class=\"dataframe\">\n",
              "  <thead>\n",
              "    <tr style=\"text-align: right;\">\n",
              "      <th></th>\n",
              "      <th>ID</th>\n",
              "      <th>HasFracture?</th>\n",
              "      <th>DxType</th>\n",
              "      <th>DaysFromDx</th>\n",
              "      <th>BonyLesions</th>\n",
              "      <th>Stage</th>\n",
              "      <th>Vitamin D supplements</th>\n",
              "      <th>Calcium</th>\n",
              "      <th>Denosumab</th>\n",
              "      <th>Pamidronate</th>\n",
              "      <th>Zoledronate</th>\n",
              "      <th>Dexamethasone</th>\n",
              "      <th>AgeAtDx</th>\n",
              "      <th>PatientSex</th>\n",
              "      <th>RacialGroup</th>\n",
              "    </tr>\n",
              "  </thead>\n",
              "  <tbody>\n",
              "    <tr>\n",
              "      <th>0</th>\n",
              "      <td>MM1</td>\n",
              "      <td>0.0</td>\n",
              "      <td>MRI</td>\n",
              "      <td>297.0</td>\n",
              "      <td>0.0</td>\n",
              "      <td>1.0</td>\n",
              "      <td>0.0</td>\n",
              "      <td>1.0</td>\n",
              "      <td>0.0</td>\n",
              "      <td>0.0</td>\n",
              "      <td>0.0</td>\n",
              "      <td>1.0</td>\n",
              "      <td>2.0</td>\n",
              "      <td>1.0</td>\n",
              "      <td>1.0</td>\n",
              "    </tr>\n",
              "    <tr>\n",
              "      <th>1</th>\n",
              "      <td>MM2</td>\n",
              "      <td>0.0</td>\n",
              "      <td>MRI</td>\n",
              "      <td>176.0</td>\n",
              "      <td>1.0</td>\n",
              "      <td>3.0</td>\n",
              "      <td>0.0</td>\n",
              "      <td>0.0</td>\n",
              "      <td>0.0</td>\n",
              "      <td>0.0</td>\n",
              "      <td>0.0</td>\n",
              "      <td>1.0</td>\n",
              "      <td>2.0</td>\n",
              "      <td>1.0</td>\n",
              "      <td>2.0</td>\n",
              "    </tr>\n",
              "    <tr>\n",
              "      <th>2</th>\n",
              "      <td>MM4</td>\n",
              "      <td>1.0</td>\n",
              "      <td>MRI</td>\n",
              "      <td>411.0</td>\n",
              "      <td>1.0</td>\n",
              "      <td>3.0</td>\n",
              "      <td>0.0</td>\n",
              "      <td>0.0</td>\n",
              "      <td>0.0</td>\n",
              "      <td>0.0</td>\n",
              "      <td>0.0</td>\n",
              "      <td>1.0</td>\n",
              "      <td>2.0</td>\n",
              "      <td>0.0</td>\n",
              "      <td>1.0</td>\n",
              "    </tr>\n",
              "    <tr>\n",
              "      <th>3</th>\n",
              "      <td>MM5</td>\n",
              "      <td>0.0</td>\n",
              "      <td>MRI</td>\n",
              "      <td>373.0</td>\n",
              "      <td>0.0</td>\n",
              "      <td>1.0</td>\n",
              "      <td>0.0</td>\n",
              "      <td>0.0</td>\n",
              "      <td>0.0</td>\n",
              "      <td>0.0</td>\n",
              "      <td>0.0</td>\n",
              "      <td>0.0</td>\n",
              "      <td>2.0</td>\n",
              "      <td>1.0</td>\n",
              "      <td>1.0</td>\n",
              "    </tr>\n",
              "    <tr>\n",
              "      <th>4</th>\n",
              "      <td>MM6</td>\n",
              "      <td>0.0</td>\n",
              "      <td>NaN</td>\n",
              "      <td>NaN</td>\n",
              "      <td>NaN</td>\n",
              "      <td>1.0</td>\n",
              "      <td>0.0</td>\n",
              "      <td>0.0</td>\n",
              "      <td>0.0</td>\n",
              "      <td>0.0</td>\n",
              "      <td>0.0</td>\n",
              "      <td>1.0</td>\n",
              "      <td>2.0</td>\n",
              "      <td>1.0</td>\n",
              "      <td>1.0</td>\n",
              "    </tr>\n",
              "    <tr>\n",
              "      <th>...</th>\n",
              "      <td>...</td>\n",
              "      <td>...</td>\n",
              "      <td>...</td>\n",
              "      <td>...</td>\n",
              "      <td>...</td>\n",
              "      <td>...</td>\n",
              "      <td>...</td>\n",
              "      <td>...</td>\n",
              "      <td>...</td>\n",
              "      <td>...</td>\n",
              "      <td>...</td>\n",
              "      <td>...</td>\n",
              "      <td>...</td>\n",
              "      <td>...</td>\n",
              "      <td>...</td>\n",
              "    </tr>\n",
              "    <tr>\n",
              "      <th>828</th>\n",
              "      <td>MM423</td>\n",
              "      <td>NaN</td>\n",
              "      <td>NaN</td>\n",
              "      <td>NaN</td>\n",
              "      <td>NaN</td>\n",
              "      <td>NaN</td>\n",
              "      <td>NaN</td>\n",
              "      <td>NaN</td>\n",
              "      <td>NaN</td>\n",
              "      <td>NaN</td>\n",
              "      <td>NaN</td>\n",
              "      <td>NaN</td>\n",
              "      <td>2.0</td>\n",
              "      <td>0.0</td>\n",
              "      <td>2.0</td>\n",
              "    </tr>\n",
              "    <tr>\n",
              "      <th>829</th>\n",
              "      <td>MM486</td>\n",
              "      <td>NaN</td>\n",
              "      <td>NaN</td>\n",
              "      <td>NaN</td>\n",
              "      <td>NaN</td>\n",
              "      <td>NaN</td>\n",
              "      <td>NaN</td>\n",
              "      <td>NaN</td>\n",
              "      <td>NaN</td>\n",
              "      <td>NaN</td>\n",
              "      <td>NaN</td>\n",
              "      <td>NaN</td>\n",
              "      <td>2.0</td>\n",
              "      <td>0.0</td>\n",
              "      <td>1.0</td>\n",
              "    </tr>\n",
              "    <tr>\n",
              "      <th>830</th>\n",
              "      <td>MM583</td>\n",
              "      <td>NaN</td>\n",
              "      <td>NaN</td>\n",
              "      <td>NaN</td>\n",
              "      <td>NaN</td>\n",
              "      <td>NaN</td>\n",
              "      <td>NaN</td>\n",
              "      <td>NaN</td>\n",
              "      <td>NaN</td>\n",
              "      <td>NaN</td>\n",
              "      <td>NaN</td>\n",
              "      <td>NaN</td>\n",
              "      <td>2.0</td>\n",
              "      <td>0.0</td>\n",
              "      <td>1.0</td>\n",
              "    </tr>\n",
              "    <tr>\n",
              "      <th>831</th>\n",
              "      <td>MM675</td>\n",
              "      <td>NaN</td>\n",
              "      <td>NaN</td>\n",
              "      <td>NaN</td>\n",
              "      <td>NaN</td>\n",
              "      <td>NaN</td>\n",
              "      <td>NaN</td>\n",
              "      <td>NaN</td>\n",
              "      <td>NaN</td>\n",
              "      <td>NaN</td>\n",
              "      <td>NaN</td>\n",
              "      <td>NaN</td>\n",
              "      <td>2.0</td>\n",
              "      <td>0.0</td>\n",
              "      <td>1.0</td>\n",
              "    </tr>\n",
              "    <tr>\n",
              "      <th>832</th>\n",
              "      <td>MM711</td>\n",
              "      <td>NaN</td>\n",
              "      <td>NaN</td>\n",
              "      <td>NaN</td>\n",
              "      <td>NaN</td>\n",
              "      <td>NaN</td>\n",
              "      <td>NaN</td>\n",
              "      <td>NaN</td>\n",
              "      <td>NaN</td>\n",
              "      <td>NaN</td>\n",
              "      <td>NaN</td>\n",
              "      <td>NaN</td>\n",
              "      <td>3.0</td>\n",
              "      <td>1.0</td>\n",
              "      <td>1.0</td>\n",
              "    </tr>\n",
              "  </tbody>\n",
              "</table>\n",
              "<p>833 rows × 15 columns</p>\n",
              "</div>"
            ],
            "text/plain": [
              "        ID  HasFracture? DxType  ...  AgeAtDx  PatientSex  RacialGroup\n",
              "0      MM1           0.0    MRI  ...      2.0         1.0          1.0\n",
              "1      MM2           0.0    MRI  ...      2.0         1.0          2.0\n",
              "2      MM4           1.0    MRI  ...      2.0         0.0          1.0\n",
              "3      MM5           0.0    MRI  ...      2.0         1.0          1.0\n",
              "4      MM6           0.0    NaN  ...      2.0         1.0          1.0\n",
              "..     ...           ...    ...  ...      ...         ...          ...\n",
              "828  MM423           NaN    NaN  ...      2.0         0.0          2.0\n",
              "829  MM486           NaN    NaN  ...      2.0         0.0          1.0\n",
              "830  MM583           NaN    NaN  ...      2.0         0.0          1.0\n",
              "831  MM675           NaN    NaN  ...      2.0         0.0          1.0\n",
              "832  MM711           NaN    NaN  ...      3.0         1.0          1.0\n",
              "\n",
              "[833 rows x 15 columns]"
            ]
          },
          "metadata": {
            "tags": []
          },
          "execution_count": 45
        }
      ]
    },
    {
      "cell_type": "markdown",
      "metadata": {
        "id": "zPVo92OPGJxZ"
      },
      "source": [
        "It turns out before we combine it with lab data, we need to process the lab data somehow. We need to flag if this chemical level is normal/abnormal on this patient based on the lab sheet."
      ]
    },
    {
      "cell_type": "code",
      "metadata": {
        "id": "EwfHrOmzkQ33",
        "outputId": "b549af71-3188-491e-ce8f-5a5267f63680",
        "colab": {
          "base_uri": "https://localhost:8080/",
          "height": 419
        }
      },
      "source": [
        "data_labs[data_labs['ObservationName'] == 'Parathyroid hormone']"
      ],
      "execution_count": null,
      "outputs": [
        {
          "output_type": "execute_result",
          "data": {
            "text/html": [
              "<div>\n",
              "<style scoped>\n",
              "    .dataframe tbody tr th:only-of-type {\n",
              "        vertical-align: middle;\n",
              "    }\n",
              "\n",
              "    .dataframe tbody tr th {\n",
              "        vertical-align: top;\n",
              "    }\n",
              "\n",
              "    .dataframe thead th {\n",
              "        text-align: right;\n",
              "    }\n",
              "</style>\n",
              "<table border=\"1\" class=\"dataframe\">\n",
              "  <thead>\n",
              "    <tr style=\"text-align: right;\">\n",
              "      <th></th>\n",
              "      <th>ID</th>\n",
              "      <th>ObservationId</th>\n",
              "      <th>ObservationName</th>\n",
              "      <th>Panel</th>\n",
              "      <th>DaysFromDx</th>\n",
              "      <th>ObservationValueNumeric</th>\n",
              "      <th>Units</th>\n",
              "      <th>AbnormalFlags</th>\n",
              "      <th>LowerLimit</th>\n",
              "      <th>UpperLimit</th>\n",
              "    </tr>\n",
              "  </thead>\n",
              "  <tbody>\n",
              "    <tr>\n",
              "      <th>39</th>\n",
              "      <td>MM7</td>\n",
              "      <td>IPTH</td>\n",
              "      <td>Parathyroid hormone</td>\n",
              "      <td>Endocrine</td>\n",
              "      <td>404</td>\n",
              "      <td>47.0</td>\n",
              "      <td>pg/mL</td>\n",
              "      <td>N</td>\n",
              "      <td>12.0</td>\n",
              "      <td>88.0</td>\n",
              "    </tr>\n",
              "    <tr>\n",
              "      <th>103</th>\n",
              "      <td>MM18</td>\n",
              "      <td>IPTH</td>\n",
              "      <td>Parathyroid hormone</td>\n",
              "      <td>Endocrine</td>\n",
              "      <td>1341</td>\n",
              "      <td>142.0</td>\n",
              "      <td>pg/mL</td>\n",
              "      <td>H</td>\n",
              "      <td>12.0</td>\n",
              "      <td>88.0</td>\n",
              "    </tr>\n",
              "    <tr>\n",
              "      <th>157</th>\n",
              "      <td>MM26</td>\n",
              "      <td>IPTH</td>\n",
              "      <td>Parathyroid hormone</td>\n",
              "      <td>Endocrine</td>\n",
              "      <td>1173</td>\n",
              "      <td>17.0</td>\n",
              "      <td>pg/mL</td>\n",
              "      <td>N</td>\n",
              "      <td>12.0</td>\n",
              "      <td>88.0</td>\n",
              "    </tr>\n",
              "    <tr>\n",
              "      <th>167</th>\n",
              "      <td>MM844</td>\n",
              "      <td>IPTH</td>\n",
              "      <td>Parathyroid hormone</td>\n",
              "      <td>Endocrine</td>\n",
              "      <td>3508</td>\n",
              "      <td>1.0</td>\n",
              "      <td>pg/mL</td>\n",
              "      <td>L</td>\n",
              "      <td>12.0</td>\n",
              "      <td>88.0</td>\n",
              "    </tr>\n",
              "    <tr>\n",
              "      <th>184</th>\n",
              "      <td>MM29</td>\n",
              "      <td>IPTH</td>\n",
              "      <td>Parathyroid hormone</td>\n",
              "      <td>Endocrine</td>\n",
              "      <td>3802</td>\n",
              "      <td>17.0</td>\n",
              "      <td>pg/mL</td>\n",
              "      <td>N</td>\n",
              "      <td>12.0</td>\n",
              "      <td>88.0</td>\n",
              "    </tr>\n",
              "    <tr>\n",
              "      <th>...</th>\n",
              "      <td>...</td>\n",
              "      <td>...</td>\n",
              "      <td>...</td>\n",
              "      <td>...</td>\n",
              "      <td>...</td>\n",
              "      <td>...</td>\n",
              "      <td>...</td>\n",
              "      <td>...</td>\n",
              "      <td>...</td>\n",
              "      <td>...</td>\n",
              "    </tr>\n",
              "    <tr>\n",
              "      <th>4675</th>\n",
              "      <td>MM715</td>\n",
              "      <td>IPTH</td>\n",
              "      <td>Parathyroid hormone</td>\n",
              "      <td>Endocrine</td>\n",
              "      <td>2266</td>\n",
              "      <td>28.0</td>\n",
              "      <td>pg/mL</td>\n",
              "      <td>N</td>\n",
              "      <td>12.0</td>\n",
              "      <td>88.0</td>\n",
              "    </tr>\n",
              "    <tr>\n",
              "      <th>4825</th>\n",
              "      <td>MM738</td>\n",
              "      <td>IPTH</td>\n",
              "      <td>Parathyroid hormone</td>\n",
              "      <td>Endocrine</td>\n",
              "      <td>2</td>\n",
              "      <td>39.0</td>\n",
              "      <td>pg/mL</td>\n",
              "      <td>N</td>\n",
              "      <td>12.0</td>\n",
              "      <td>88.0</td>\n",
              "    </tr>\n",
              "    <tr>\n",
              "      <th>5092</th>\n",
              "      <td>MM814</td>\n",
              "      <td>IPTH</td>\n",
              "      <td>Parathyroid hormone</td>\n",
              "      <td>Endocrine</td>\n",
              "      <td>674</td>\n",
              "      <td>197.0</td>\n",
              "      <td>pg/mL</td>\n",
              "      <td>H</td>\n",
              "      <td>12.0</td>\n",
              "      <td>88.0</td>\n",
              "    </tr>\n",
              "    <tr>\n",
              "      <th>5138</th>\n",
              "      <td>MM855</td>\n",
              "      <td>IPTH</td>\n",
              "      <td>Parathyroid hormone</td>\n",
              "      <td>Endocrine</td>\n",
              "      <td>791</td>\n",
              "      <td>249.0</td>\n",
              "      <td>pg/mL</td>\n",
              "      <td>H</td>\n",
              "      <td>12.0</td>\n",
              "      <td>88.0</td>\n",
              "    </tr>\n",
              "    <tr>\n",
              "      <th>5149</th>\n",
              "      <td>MM822</td>\n",
              "      <td>IPTH</td>\n",
              "      <td>Parathyroid hormone</td>\n",
              "      <td>Endocrine</td>\n",
              "      <td>204</td>\n",
              "      <td>46.0</td>\n",
              "      <td>pg/mL</td>\n",
              "      <td>N</td>\n",
              "      <td>12.0</td>\n",
              "      <td>88.0</td>\n",
              "    </tr>\n",
              "  </tbody>\n",
              "</table>\n",
              "<p>62 rows × 10 columns</p>\n",
              "</div>"
            ],
            "text/plain": [
              "         ID ObservationId  ... LowerLimit UpperLimit\n",
              "39      MM7          IPTH  ...       12.0       88.0\n",
              "103    MM18          IPTH  ...       12.0       88.0\n",
              "157    MM26          IPTH  ...       12.0       88.0\n",
              "167   MM844          IPTH  ...       12.0       88.0\n",
              "184    MM29          IPTH  ...       12.0       88.0\n",
              "...     ...           ...  ...        ...        ...\n",
              "4675  MM715          IPTH  ...       12.0       88.0\n",
              "4825  MM738          IPTH  ...       12.0       88.0\n",
              "5092  MM814          IPTH  ...       12.0       88.0\n",
              "5138  MM855          IPTH  ...       12.0       88.0\n",
              "5149  MM822          IPTH  ...       12.0       88.0\n",
              "\n",
              "[62 rows x 10 columns]"
            ]
          },
          "metadata": {
            "tags": []
          },
          "execution_count": 46
        }
      ]
    },
    {
      "cell_type": "markdown",
      "metadata": {
        "id": "HyRL4oG4mrEY"
      },
      "source": [
        "can take out the rows with parathyroid hormone because less than 10% (62 / 700) of people took this lab test. Too many nulls"
      ]
    },
    {
      "cell_type": "code",
      "metadata": {
        "id": "WuU26yd5qbJw"
      },
      "source": [
        "data_labs = data_labs[data_labs['ObservationName'] != 'Parathyroid hormone']"
      ],
      "execution_count": null,
      "outputs": []
    },
    {
      "cell_type": "code",
      "metadata": {
        "id": "NwDs6O31F9Ta"
      },
      "source": [
        "important_chemicals = ['Calcium', 'Phosphate', 'Parathyroid hormone', \\\n",
        "                       'Alkaline\\xa0Phosphatase', 'Vitamin\\xa0D3', \\\n",
        "                       'Estradiol', 'Testosterone', 'Thyroid\\xa0Stimulating\\xa0Hormone',\\\n",
        "                       'Creatinine', 'C-Reactive Protein', 'Sedimentation\\xa0Rate']"
      ],
      "execution_count": null,
      "outputs": []
    },
    {
      "cell_type": "markdown",
      "metadata": {
        "id": "H-BJqb3zjhw6"
      },
      "source": [
        "Calcium: N: normal (0), H, L -> abnormal (1) \\\\\n",
        "phosphate: N: normal (0), H, L -> abnormal \\\\\n",
        "Parathyroid hormone: not in lab sheet \\\\\n",
        "Alkaline Phosphatase: L, N -> 0 normal, H -> 1 abnormal \\\\\n",
        "Vitamin D3: H, N -> 0 normal, L -> 1 abnormal \\\\\n",
        "Estradiol: H, N -> 0, L -> abnormal \\\\\n",
        "testoterone: H, N -> 0, L -> 1 \\\\\n",
        "thyroid stimulating hormone: N -> 0, H, L -> 1 \\\\\n",
        "creatinine: L, N -> 0, H -> 1 \\\\\n",
        "c-reactive protein: L, N -> 0, H -> 1 \\\\\n",
        "sedimentation rate: L, N -> 0, H -> 1 \\\\"
      ]
    },
    {
      "cell_type": "code",
      "metadata": {
        "id": "k0Eo8vXbttDS"
      },
      "source": [
        "lab_interpretation = {}\n",
        "lab_interpretation['Calcium'] = {'N':0, 'H': 1, 'L': 1}\n",
        "lab_interpretation['Phosphate'] = {'N':0, 'H': 1, 'L': 1}\n",
        "lab_interpretation['Alkaline\\xa0Phosphatase'] = {'N':0, 'H': 1, 'L': 0}\n",
        "lab_interpretation['Vitamin\\xa0D3'] = {'N':0, 'H': 1, 'L': 0}\n",
        "lab_interpretation['Estradiol'] = {'N':0, 'H': 0, 'L': 1}\n",
        "lab_interpretation['Testosterone'] = {'N':0, 'H': 0, 'L': 1}\n",
        "lab_interpretation['Thyroid\\xa0Stimulating\\xa0Hormone'] = {'N':0, 'H': 1, 'L': 1}\n",
        "lab_interpretation['Creatinine'] = {'N':0, 'H': 1, 'L': 0}\n",
        "lab_interpretation['C-Reactive Protein'] = {'N':0, 'H': 1, 'L': 0}\n",
        "lab_interpretation['Sedimentation\\xa0Rate'] = {'N':0, 'H': 1, 'L': 0}\n"
      ],
      "execution_count": null,
      "outputs": []
    },
    {
      "cell_type": "code",
      "metadata": {
        "id": "_2ahGJ0qtoKt"
      },
      "source": [
        "# transform lab results flags to match lab interpretation.\n",
        "data_labs['Abnormal?'] = data_labs.apply(lambda row: lab_interpretation[row['ObservationName']][row['AbnormalFlags']], axis = 1)"
      ],
      "execution_count": null,
      "outputs": []
    },
    {
      "cell_type": "code",
      "metadata": {
        "id": "iVUgq1gUwDGp",
        "outputId": "e60fc949-3d03-4e25-ea41-6c7c23f46b55",
        "colab": {
          "base_uri": "https://localhost:8080/",
          "height": 419
        }
      },
      "source": [
        "data_labs"
      ],
      "execution_count": null,
      "outputs": [
        {
          "output_type": "execute_result",
          "data": {
            "text/html": [
              "<div>\n",
              "<style scoped>\n",
              "    .dataframe tbody tr th:only-of-type {\n",
              "        vertical-align: middle;\n",
              "    }\n",
              "\n",
              "    .dataframe tbody tr th {\n",
              "        vertical-align: top;\n",
              "    }\n",
              "\n",
              "    .dataframe thead th {\n",
              "        text-align: right;\n",
              "    }\n",
              "</style>\n",
              "<table border=\"1\" class=\"dataframe\">\n",
              "  <thead>\n",
              "    <tr style=\"text-align: right;\">\n",
              "      <th></th>\n",
              "      <th>ID</th>\n",
              "      <th>ObservationId</th>\n",
              "      <th>ObservationName</th>\n",
              "      <th>Panel</th>\n",
              "      <th>DaysFromDx</th>\n",
              "      <th>ObservationValueNumeric</th>\n",
              "      <th>Units</th>\n",
              "      <th>AbnormalFlags</th>\n",
              "      <th>LowerLimit</th>\n",
              "      <th>UpperLimit</th>\n",
              "      <th>Abnormal?</th>\n",
              "    </tr>\n",
              "  </thead>\n",
              "  <tbody>\n",
              "    <tr>\n",
              "      <th>0</th>\n",
              "      <td>MM1</td>\n",
              "      <td>CA</td>\n",
              "      <td>Calcium</td>\n",
              "      <td>Electrolyte</td>\n",
              "      <td>343</td>\n",
              "      <td>9.100</td>\n",
              "      <td>mg/dL</td>\n",
              "      <td>N</td>\n",
              "      <td>8.9</td>\n",
              "      <td>10.2</td>\n",
              "      <td>0</td>\n",
              "    </tr>\n",
              "    <tr>\n",
              "      <th>1</th>\n",
              "      <td>MM1</td>\n",
              "      <td>P</td>\n",
              "      <td>Phosphate</td>\n",
              "      <td>Electrolyte</td>\n",
              "      <td>343</td>\n",
              "      <td>4.700</td>\n",
              "      <td>mg/dL</td>\n",
              "      <td>H</td>\n",
              "      <td>2.5</td>\n",
              "      <td>4.5</td>\n",
              "      <td>1</td>\n",
              "    </tr>\n",
              "    <tr>\n",
              "      <th>2</th>\n",
              "      <td>MM1</td>\n",
              "      <td>ALK</td>\n",
              "      <td>Alkaline Phosphatase</td>\n",
              "      <td>Liver function</td>\n",
              "      <td>343</td>\n",
              "      <td>93.000</td>\n",
              "      <td>U/L</td>\n",
              "      <td>N</td>\n",
              "      <td>36.0</td>\n",
              "      <td>161.0</td>\n",
              "      <td>0</td>\n",
              "    </tr>\n",
              "    <tr>\n",
              "      <th>3</th>\n",
              "      <td>MM1</td>\n",
              "      <td>VITD3</td>\n",
              "      <td>Vitamin D3</td>\n",
              "      <td>Nutrtion</td>\n",
              "      <td>289</td>\n",
              "      <td>48.700</td>\n",
              "      <td>ng/mL</td>\n",
              "      <td>N</td>\n",
              "      <td>20.0</td>\n",
              "      <td>100.0</td>\n",
              "      <td>0</td>\n",
              "    </tr>\n",
              "    <tr>\n",
              "      <th>4</th>\n",
              "      <td>MM1</td>\n",
              "      <td>TEST</td>\n",
              "      <td>Testosterone</td>\n",
              "      <td>Endocrine</td>\n",
              "      <td>294</td>\n",
              "      <td>0.700</td>\n",
              "      <td>ng/mL</td>\n",
              "      <td>L</td>\n",
              "      <td>1.6</td>\n",
              "      <td>5.9</td>\n",
              "      <td>1</td>\n",
              "    </tr>\n",
              "    <tr>\n",
              "      <th>...</th>\n",
              "      <td>...</td>\n",
              "      <td>...</td>\n",
              "      <td>...</td>\n",
              "      <td>...</td>\n",
              "      <td>...</td>\n",
              "      <td>...</td>\n",
              "      <td>...</td>\n",
              "      <td>...</td>\n",
              "      <td>...</td>\n",
              "      <td>...</td>\n",
              "      <td>...</td>\n",
              "    </tr>\n",
              "    <tr>\n",
              "      <th>5254</th>\n",
              "      <td>MM838</td>\n",
              "      <td>VITD3</td>\n",
              "      <td>Vitamin D3</td>\n",
              "      <td>Nutrtion</td>\n",
              "      <td>2316</td>\n",
              "      <td>42.600</td>\n",
              "      <td>ng/mL</td>\n",
              "      <td>N</td>\n",
              "      <td>20.0</td>\n",
              "      <td>100.0</td>\n",
              "      <td>0</td>\n",
              "    </tr>\n",
              "    <tr>\n",
              "      <th>5255</th>\n",
              "      <td>MM838</td>\n",
              "      <td>TEST</td>\n",
              "      <td>Testosterone</td>\n",
              "      <td>Endocrine</td>\n",
              "      <td>1628</td>\n",
              "      <td>1.800</td>\n",
              "      <td>ng/mL</td>\n",
              "      <td>N</td>\n",
              "      <td>1.6</td>\n",
              "      <td>5.9</td>\n",
              "      <td>0</td>\n",
              "    </tr>\n",
              "    <tr>\n",
              "      <th>5256</th>\n",
              "      <td>MM838</td>\n",
              "      <td>TSH</td>\n",
              "      <td>Thyroid Stimulating Hormone</td>\n",
              "      <td>Endocrine</td>\n",
              "      <td>712</td>\n",
              "      <td>7.306</td>\n",
              "      <td>uIU/mL</td>\n",
              "      <td>H</td>\n",
              "      <td>0.4</td>\n",
              "      <td>5.0</td>\n",
              "      <td>1</td>\n",
              "    </tr>\n",
              "    <tr>\n",
              "      <th>5257</th>\n",
              "      <td>MM838</td>\n",
              "      <td>CRE</td>\n",
              "      <td>Creatinine</td>\n",
              "      <td>Kidney function</td>\n",
              "      <td>242</td>\n",
              "      <td>1.000</td>\n",
              "      <td>mg/dL</td>\n",
              "      <td>N</td>\n",
              "      <td>0.3</td>\n",
              "      <td>1.2</td>\n",
              "      <td>0</td>\n",
              "    </tr>\n",
              "    <tr>\n",
              "      <th>5258</th>\n",
              "      <td>MM838</td>\n",
              "      <td>HSCRP</td>\n",
              "      <td>C-Reactive Protein</td>\n",
              "      <td>Immune</td>\n",
              "      <td>187</td>\n",
              "      <td>3.400</td>\n",
              "      <td>mg/L</td>\n",
              "      <td>N</td>\n",
              "      <td>0.0</td>\n",
              "      <td>10.0</td>\n",
              "      <td>0</td>\n",
              "    </tr>\n",
              "  </tbody>\n",
              "</table>\n",
              "<p>5197 rows × 11 columns</p>\n",
              "</div>"
            ],
            "text/plain": [
              "         ID ObservationId  ... UpperLimit Abnormal?\n",
              "0       MM1            CA  ...       10.2         0\n",
              "1       MM1             P  ...        4.5         1\n",
              "2       MM1           ALK  ...      161.0         0\n",
              "3       MM1         VITD3  ...      100.0         0\n",
              "4       MM1          TEST  ...        5.9         1\n",
              "...     ...           ...  ...        ...       ...\n",
              "5254  MM838         VITD3  ...      100.0         0\n",
              "5255  MM838          TEST  ...        5.9         0\n",
              "5256  MM838           TSH  ...        5.0         1\n",
              "5257  MM838           CRE  ...        1.2         0\n",
              "5258  MM838         HSCRP  ...       10.0         0\n",
              "\n",
              "[5197 rows x 11 columns]"
            ]
          },
          "metadata": {
            "tags": []
          },
          "execution_count": 51
        }
      ]
    },
    {
      "cell_type": "markdown",
      "metadata": {
        "id": "4wo-87g2s6GG"
      },
      "source": [
        "Now we need to convert all these rows into columns indicating whether each patient has abnormal level of each chemical."
      ]
    },
    {
      "cell_type": "code",
      "metadata": {
        "id": "1oedd5mFJ6gD"
      },
      "source": [
        "list_of_lab_results = []\n",
        "for ID in data_labs['ID'].unique():\n",
        "  patient_labs = data_labs[data_labs['ID'] == ID]\n",
        "  thisRow = [ID]\n",
        "  for chemical in important_chemicals:\n",
        "    if chemical in patient_labs['ObservationName'].unique():\n",
        "      patient_labs_this_chemical = patient_labs[patient_labs['ObservationName'] == chemical]\n",
        "      if patient_labs_this_chemical.shape[0] == 1:\n",
        "        thisRow.append(patient_labs_this_chemical['Abnormal?'].values[0])\n",
        "      else:\n",
        "        if 1 in patient_labs_this_chemical['Abnormal?']:\n",
        "          thisRow.append(1)\n",
        "        else:\n",
        "          thisRow.append(0)\n",
        "    else:\n",
        "      thisRow.append(None)\n",
        "  list_of_lab_results.append(thisRow)"
      ],
      "execution_count": null,
      "outputs": []
    },
    {
      "cell_type": "code",
      "metadata": {
        "id": "sG4QoweLLqg8"
      },
      "source": [
        "data_labs_new = pd.DataFrame(data = list_of_lab_results, columns= ['ID'] + important_chemicals)"
      ],
      "execution_count": null,
      "outputs": []
    },
    {
      "cell_type": "code",
      "metadata": {
        "id": "cBc0NzzXMVKc"
      },
      "source": [
        "data_labs_new.drop(['Parathyroid hormone'], axis = 1, inplace = True)"
      ],
      "execution_count": null,
      "outputs": []
    },
    {
      "cell_type": "code",
      "metadata": {
        "id": "YmqtOVzWzzMc",
        "outputId": "a1e26c08-a7af-4513-f245-dbd99a7ac1e4",
        "colab": {
          "base_uri": "https://localhost:8080/",
          "height": 419
        }
      },
      "source": [
        "data_labs_new"
      ],
      "execution_count": null,
      "outputs": [
        {
          "output_type": "execute_result",
          "data": {
            "text/html": [
              "<div>\n",
              "<style scoped>\n",
              "    .dataframe tbody tr th:only-of-type {\n",
              "        vertical-align: middle;\n",
              "    }\n",
              "\n",
              "    .dataframe tbody tr th {\n",
              "        vertical-align: top;\n",
              "    }\n",
              "\n",
              "    .dataframe thead th {\n",
              "        text-align: right;\n",
              "    }\n",
              "</style>\n",
              "<table border=\"1\" class=\"dataframe\">\n",
              "  <thead>\n",
              "    <tr style=\"text-align: right;\">\n",
              "      <th></th>\n",
              "      <th>ID</th>\n",
              "      <th>Calcium</th>\n",
              "      <th>Phosphate</th>\n",
              "      <th>Alkaline Phosphatase</th>\n",
              "      <th>Vitamin D3</th>\n",
              "      <th>Estradiol</th>\n",
              "      <th>Testosterone</th>\n",
              "      <th>Thyroid Stimulating Hormone</th>\n",
              "      <th>Creatinine</th>\n",
              "      <th>C-Reactive Protein</th>\n",
              "      <th>Sedimentation Rate</th>\n",
              "    </tr>\n",
              "  </thead>\n",
              "  <tbody>\n",
              "    <tr>\n",
              "      <th>0</th>\n",
              "      <td>MM1</td>\n",
              "      <td>0.0</td>\n",
              "      <td>1.0</td>\n",
              "      <td>0.0</td>\n",
              "      <td>0.0</td>\n",
              "      <td>NaN</td>\n",
              "      <td>1.0</td>\n",
              "      <td>NaN</td>\n",
              "      <td>1.0</td>\n",
              "      <td>1.0</td>\n",
              "      <td>NaN</td>\n",
              "    </tr>\n",
              "    <tr>\n",
              "      <th>1</th>\n",
              "      <td>MM2</td>\n",
              "      <td>0.0</td>\n",
              "      <td>0.0</td>\n",
              "      <td>0.0</td>\n",
              "      <td>0.0</td>\n",
              "      <td>NaN</td>\n",
              "      <td>0.0</td>\n",
              "      <td>NaN</td>\n",
              "      <td>0.0</td>\n",
              "      <td>0.0</td>\n",
              "      <td>NaN</td>\n",
              "    </tr>\n",
              "    <tr>\n",
              "      <th>2</th>\n",
              "      <td>MM4</td>\n",
              "      <td>0.0</td>\n",
              "      <td>0.0</td>\n",
              "      <td>0.0</td>\n",
              "      <td>0.0</td>\n",
              "      <td>NaN</td>\n",
              "      <td>NaN</td>\n",
              "      <td>0.0</td>\n",
              "      <td>1.0</td>\n",
              "      <td>0.0</td>\n",
              "      <td>NaN</td>\n",
              "    </tr>\n",
              "    <tr>\n",
              "      <th>3</th>\n",
              "      <td>MM5</td>\n",
              "      <td>1.0</td>\n",
              "      <td>0.0</td>\n",
              "      <td>0.0</td>\n",
              "      <td>0.0</td>\n",
              "      <td>NaN</td>\n",
              "      <td>0.0</td>\n",
              "      <td>0.0</td>\n",
              "      <td>0.0</td>\n",
              "      <td>0.0</td>\n",
              "      <td>NaN</td>\n",
              "    </tr>\n",
              "    <tr>\n",
              "      <th>4</th>\n",
              "      <td>MM6</td>\n",
              "      <td>1.0</td>\n",
              "      <td>0.0</td>\n",
              "      <td>0.0</td>\n",
              "      <td>0.0</td>\n",
              "      <td>NaN</td>\n",
              "      <td>0.0</td>\n",
              "      <td>0.0</td>\n",
              "      <td>0.0</td>\n",
              "      <td>0.0</td>\n",
              "      <td>NaN</td>\n",
              "    </tr>\n",
              "    <tr>\n",
              "      <th>...</th>\n",
              "      <td>...</td>\n",
              "      <td>...</td>\n",
              "      <td>...</td>\n",
              "      <td>...</td>\n",
              "      <td>...</td>\n",
              "      <td>...</td>\n",
              "      <td>...</td>\n",
              "      <td>...</td>\n",
              "      <td>...</td>\n",
              "      <td>...</td>\n",
              "      <td>...</td>\n",
              "    </tr>\n",
              "    <tr>\n",
              "      <th>695</th>\n",
              "      <td>MM834</td>\n",
              "      <td>0.0</td>\n",
              "      <td>0.0</td>\n",
              "      <td>0.0</td>\n",
              "      <td>NaN</td>\n",
              "      <td>NaN</td>\n",
              "      <td>0.0</td>\n",
              "      <td>1.0</td>\n",
              "      <td>0.0</td>\n",
              "      <td>1.0</td>\n",
              "      <td>NaN</td>\n",
              "    </tr>\n",
              "    <tr>\n",
              "      <th>696</th>\n",
              "      <td>MM843</td>\n",
              "      <td>0.0</td>\n",
              "      <td>0.0</td>\n",
              "      <td>0.0</td>\n",
              "      <td>0.0</td>\n",
              "      <td>NaN</td>\n",
              "      <td>0.0</td>\n",
              "      <td>0.0</td>\n",
              "      <td>0.0</td>\n",
              "      <td>0.0</td>\n",
              "      <td>1.0</td>\n",
              "    </tr>\n",
              "    <tr>\n",
              "      <th>697</th>\n",
              "      <td>MM836</td>\n",
              "      <td>0.0</td>\n",
              "      <td>0.0</td>\n",
              "      <td>0.0</td>\n",
              "      <td>0.0</td>\n",
              "      <td>NaN</td>\n",
              "      <td>0.0</td>\n",
              "      <td>0.0</td>\n",
              "      <td>0.0</td>\n",
              "      <td>1.0</td>\n",
              "      <td>NaN</td>\n",
              "    </tr>\n",
              "    <tr>\n",
              "      <th>698</th>\n",
              "      <td>MM837</td>\n",
              "      <td>0.0</td>\n",
              "      <td>0.0</td>\n",
              "      <td>0.0</td>\n",
              "      <td>0.0</td>\n",
              "      <td>NaN</td>\n",
              "      <td>1.0</td>\n",
              "      <td>NaN</td>\n",
              "      <td>0.0</td>\n",
              "      <td>0.0</td>\n",
              "      <td>NaN</td>\n",
              "    </tr>\n",
              "    <tr>\n",
              "      <th>699</th>\n",
              "      <td>MM838</td>\n",
              "      <td>1.0</td>\n",
              "      <td>0.0</td>\n",
              "      <td>0.0</td>\n",
              "      <td>0.0</td>\n",
              "      <td>NaN</td>\n",
              "      <td>0.0</td>\n",
              "      <td>1.0</td>\n",
              "      <td>0.0</td>\n",
              "      <td>0.0</td>\n",
              "      <td>NaN</td>\n",
              "    </tr>\n",
              "  </tbody>\n",
              "</table>\n",
              "<p>700 rows × 11 columns</p>\n",
              "</div>"
            ],
            "text/plain": [
              "        ID  Calcium  ...  C-Reactive Protein  Sedimentation Rate\n",
              "0      MM1      0.0  ...                 1.0                 NaN\n",
              "1      MM2      0.0  ...                 0.0                 NaN\n",
              "2      MM4      0.0  ...                 0.0                 NaN\n",
              "3      MM5      1.0  ...                 0.0                 NaN\n",
              "4      MM6      1.0  ...                 0.0                 NaN\n",
              "..     ...      ...  ...                 ...                 ...\n",
              "695  MM834      0.0  ...                 1.0                 NaN\n",
              "696  MM843      0.0  ...                 0.0                 1.0\n",
              "697  MM836      0.0  ...                 1.0                 NaN\n",
              "698  MM837      0.0  ...                 0.0                 NaN\n",
              "699  MM838      1.0  ...                 0.0                 NaN\n",
              "\n",
              "[700 rows x 11 columns]"
            ]
          },
          "metadata": {
            "tags": []
          },
          "execution_count": 55
        }
      ]
    },
    {
      "cell_type": "code",
      "metadata": {
        "id": "LrsRD45lz2tD",
        "outputId": "7fde641c-55ef-410a-fd09-d215f38630fd",
        "colab": {
          "base_uri": "https://localhost:8080/",
          "height": 221
        }
      },
      "source": [
        "data_labs_new.isnull().sum()"
      ],
      "execution_count": null,
      "outputs": [
        {
          "output_type": "execute_result",
          "data": {
            "text/plain": [
              "ID                               0\n",
              "Calcium                          1\n",
              "Phosphate                        4\n",
              "Alkaline Phosphatase             1\n",
              "Vitamin D3                     135\n",
              "Estradiol                      550\n",
              "Testosterone                   387\n",
              "Thyroid Stimulating Hormone    221\n",
              "Creatinine                       1\n",
              "C-Reactive Protein              21\n",
              "Sedimentation Rate             599\n",
              "dtype: int64"
            ]
          },
          "metadata": {
            "tags": []
          },
          "execution_count": 56
        }
      ]
    },
    {
      "cell_type": "code",
      "metadata": {
        "id": "Yu25NNHbtZcl"
      },
      "source": [
        "data_labs_new.to_csv('Labs_encoded.csv', index=False)"
      ],
      "execution_count": null,
      "outputs": []
    },
    {
      "cell_type": "markdown",
      "metadata": {
        "id": "dzFtmU-I0AgI"
      },
      "source": [
        "might need to remove nulls later, but now let's combine them with our aggregated dataframe"
      ]
    },
    {
      "cell_type": "code",
      "metadata": {
        "id": "LimJrEI5NOK3"
      },
      "source": [
        "# combine lab data with everything else\n",
        "data_agg = data_agg.merge(data_labs_new, on = 'ID', how = 'outer')"
      ],
      "execution_count": null,
      "outputs": []
    },
    {
      "cell_type": "code",
      "metadata": {
        "id": "1I5qXGO3NXlp",
        "outputId": "d5a42cb9-44a2-424e-ee0c-32c169a3ede7",
        "colab": {
          "base_uri": "https://localhost:8080/",
          "height": 473
        }
      },
      "source": [
        "data_agg"
      ],
      "execution_count": null,
      "outputs": [
        {
          "output_type": "execute_result",
          "data": {
            "text/html": [
              "<div>\n",
              "<style scoped>\n",
              "    .dataframe tbody tr th:only-of-type {\n",
              "        vertical-align: middle;\n",
              "    }\n",
              "\n",
              "    .dataframe tbody tr th {\n",
              "        vertical-align: top;\n",
              "    }\n",
              "\n",
              "    .dataframe thead th {\n",
              "        text-align: right;\n",
              "    }\n",
              "</style>\n",
              "<table border=\"1\" class=\"dataframe\">\n",
              "  <thead>\n",
              "    <tr style=\"text-align: right;\">\n",
              "      <th></th>\n",
              "      <th>ID</th>\n",
              "      <th>HasFracture?</th>\n",
              "      <th>DxType</th>\n",
              "      <th>DaysFromDx</th>\n",
              "      <th>BonyLesions</th>\n",
              "      <th>Stage</th>\n",
              "      <th>Vitamin D supplements</th>\n",
              "      <th>Calcium_x</th>\n",
              "      <th>Denosumab</th>\n",
              "      <th>Pamidronate</th>\n",
              "      <th>Zoledronate</th>\n",
              "      <th>Dexamethasone</th>\n",
              "      <th>AgeAtDx</th>\n",
              "      <th>PatientSex</th>\n",
              "      <th>RacialGroup</th>\n",
              "      <th>Calcium_y</th>\n",
              "      <th>Phosphate</th>\n",
              "      <th>Alkaline Phosphatase</th>\n",
              "      <th>Vitamin D3</th>\n",
              "      <th>Estradiol</th>\n",
              "      <th>Testosterone</th>\n",
              "      <th>Thyroid Stimulating Hormone</th>\n",
              "      <th>Creatinine</th>\n",
              "      <th>C-Reactive Protein</th>\n",
              "      <th>Sedimentation Rate</th>\n",
              "    </tr>\n",
              "  </thead>\n",
              "  <tbody>\n",
              "    <tr>\n",
              "      <th>0</th>\n",
              "      <td>MM1</td>\n",
              "      <td>0.0</td>\n",
              "      <td>MRI</td>\n",
              "      <td>297.0</td>\n",
              "      <td>0.0</td>\n",
              "      <td>1.0</td>\n",
              "      <td>0.0</td>\n",
              "      <td>1.0</td>\n",
              "      <td>0.0</td>\n",
              "      <td>0.0</td>\n",
              "      <td>0.0</td>\n",
              "      <td>1.0</td>\n",
              "      <td>2.0</td>\n",
              "      <td>1.0</td>\n",
              "      <td>1.0</td>\n",
              "      <td>0.0</td>\n",
              "      <td>1.0</td>\n",
              "      <td>0.0</td>\n",
              "      <td>0.0</td>\n",
              "      <td>NaN</td>\n",
              "      <td>1.0</td>\n",
              "      <td>NaN</td>\n",
              "      <td>1.0</td>\n",
              "      <td>1.0</td>\n",
              "      <td>NaN</td>\n",
              "    </tr>\n",
              "    <tr>\n",
              "      <th>1</th>\n",
              "      <td>MM2</td>\n",
              "      <td>0.0</td>\n",
              "      <td>MRI</td>\n",
              "      <td>176.0</td>\n",
              "      <td>1.0</td>\n",
              "      <td>3.0</td>\n",
              "      <td>0.0</td>\n",
              "      <td>0.0</td>\n",
              "      <td>0.0</td>\n",
              "      <td>0.0</td>\n",
              "      <td>0.0</td>\n",
              "      <td>1.0</td>\n",
              "      <td>2.0</td>\n",
              "      <td>1.0</td>\n",
              "      <td>2.0</td>\n",
              "      <td>0.0</td>\n",
              "      <td>0.0</td>\n",
              "      <td>0.0</td>\n",
              "      <td>0.0</td>\n",
              "      <td>NaN</td>\n",
              "      <td>0.0</td>\n",
              "      <td>NaN</td>\n",
              "      <td>0.0</td>\n",
              "      <td>0.0</td>\n",
              "      <td>NaN</td>\n",
              "    </tr>\n",
              "    <tr>\n",
              "      <th>2</th>\n",
              "      <td>MM4</td>\n",
              "      <td>1.0</td>\n",
              "      <td>MRI</td>\n",
              "      <td>411.0</td>\n",
              "      <td>1.0</td>\n",
              "      <td>3.0</td>\n",
              "      <td>0.0</td>\n",
              "      <td>0.0</td>\n",
              "      <td>0.0</td>\n",
              "      <td>0.0</td>\n",
              "      <td>0.0</td>\n",
              "      <td>1.0</td>\n",
              "      <td>2.0</td>\n",
              "      <td>0.0</td>\n",
              "      <td>1.0</td>\n",
              "      <td>0.0</td>\n",
              "      <td>0.0</td>\n",
              "      <td>0.0</td>\n",
              "      <td>0.0</td>\n",
              "      <td>NaN</td>\n",
              "      <td>NaN</td>\n",
              "      <td>0.0</td>\n",
              "      <td>1.0</td>\n",
              "      <td>0.0</td>\n",
              "      <td>NaN</td>\n",
              "    </tr>\n",
              "    <tr>\n",
              "      <th>3</th>\n",
              "      <td>MM5</td>\n",
              "      <td>0.0</td>\n",
              "      <td>MRI</td>\n",
              "      <td>373.0</td>\n",
              "      <td>0.0</td>\n",
              "      <td>1.0</td>\n",
              "      <td>0.0</td>\n",
              "      <td>0.0</td>\n",
              "      <td>0.0</td>\n",
              "      <td>0.0</td>\n",
              "      <td>0.0</td>\n",
              "      <td>0.0</td>\n",
              "      <td>2.0</td>\n",
              "      <td>1.0</td>\n",
              "      <td>1.0</td>\n",
              "      <td>1.0</td>\n",
              "      <td>0.0</td>\n",
              "      <td>0.0</td>\n",
              "      <td>0.0</td>\n",
              "      <td>NaN</td>\n",
              "      <td>0.0</td>\n",
              "      <td>0.0</td>\n",
              "      <td>0.0</td>\n",
              "      <td>0.0</td>\n",
              "      <td>NaN</td>\n",
              "    </tr>\n",
              "    <tr>\n",
              "      <th>4</th>\n",
              "      <td>MM6</td>\n",
              "      <td>0.0</td>\n",
              "      <td>NaN</td>\n",
              "      <td>NaN</td>\n",
              "      <td>NaN</td>\n",
              "      <td>1.0</td>\n",
              "      <td>0.0</td>\n",
              "      <td>0.0</td>\n",
              "      <td>0.0</td>\n",
              "      <td>0.0</td>\n",
              "      <td>0.0</td>\n",
              "      <td>1.0</td>\n",
              "      <td>2.0</td>\n",
              "      <td>1.0</td>\n",
              "      <td>1.0</td>\n",
              "      <td>1.0</td>\n",
              "      <td>0.0</td>\n",
              "      <td>0.0</td>\n",
              "      <td>0.0</td>\n",
              "      <td>NaN</td>\n",
              "      <td>0.0</td>\n",
              "      <td>0.0</td>\n",
              "      <td>0.0</td>\n",
              "      <td>0.0</td>\n",
              "      <td>NaN</td>\n",
              "    </tr>\n",
              "    <tr>\n",
              "      <th>...</th>\n",
              "      <td>...</td>\n",
              "      <td>...</td>\n",
              "      <td>...</td>\n",
              "      <td>...</td>\n",
              "      <td>...</td>\n",
              "      <td>...</td>\n",
              "      <td>...</td>\n",
              "      <td>...</td>\n",
              "      <td>...</td>\n",
              "      <td>...</td>\n",
              "      <td>...</td>\n",
              "      <td>...</td>\n",
              "      <td>...</td>\n",
              "      <td>...</td>\n",
              "      <td>...</td>\n",
              "      <td>...</td>\n",
              "      <td>...</td>\n",
              "      <td>...</td>\n",
              "      <td>...</td>\n",
              "      <td>...</td>\n",
              "      <td>...</td>\n",
              "      <td>...</td>\n",
              "      <td>...</td>\n",
              "      <td>...</td>\n",
              "      <td>...</td>\n",
              "    </tr>\n",
              "    <tr>\n",
              "      <th>828</th>\n",
              "      <td>MM423</td>\n",
              "      <td>NaN</td>\n",
              "      <td>NaN</td>\n",
              "      <td>NaN</td>\n",
              "      <td>NaN</td>\n",
              "      <td>NaN</td>\n",
              "      <td>NaN</td>\n",
              "      <td>NaN</td>\n",
              "      <td>NaN</td>\n",
              "      <td>NaN</td>\n",
              "      <td>NaN</td>\n",
              "      <td>NaN</td>\n",
              "      <td>2.0</td>\n",
              "      <td>0.0</td>\n",
              "      <td>2.0</td>\n",
              "      <td>NaN</td>\n",
              "      <td>NaN</td>\n",
              "      <td>NaN</td>\n",
              "      <td>NaN</td>\n",
              "      <td>NaN</td>\n",
              "      <td>NaN</td>\n",
              "      <td>NaN</td>\n",
              "      <td>NaN</td>\n",
              "      <td>NaN</td>\n",
              "      <td>NaN</td>\n",
              "    </tr>\n",
              "    <tr>\n",
              "      <th>829</th>\n",
              "      <td>MM486</td>\n",
              "      <td>NaN</td>\n",
              "      <td>NaN</td>\n",
              "      <td>NaN</td>\n",
              "      <td>NaN</td>\n",
              "      <td>NaN</td>\n",
              "      <td>NaN</td>\n",
              "      <td>NaN</td>\n",
              "      <td>NaN</td>\n",
              "      <td>NaN</td>\n",
              "      <td>NaN</td>\n",
              "      <td>NaN</td>\n",
              "      <td>2.0</td>\n",
              "      <td>0.0</td>\n",
              "      <td>1.0</td>\n",
              "      <td>NaN</td>\n",
              "      <td>NaN</td>\n",
              "      <td>NaN</td>\n",
              "      <td>NaN</td>\n",
              "      <td>NaN</td>\n",
              "      <td>NaN</td>\n",
              "      <td>NaN</td>\n",
              "      <td>NaN</td>\n",
              "      <td>NaN</td>\n",
              "      <td>NaN</td>\n",
              "    </tr>\n",
              "    <tr>\n",
              "      <th>830</th>\n",
              "      <td>MM583</td>\n",
              "      <td>NaN</td>\n",
              "      <td>NaN</td>\n",
              "      <td>NaN</td>\n",
              "      <td>NaN</td>\n",
              "      <td>NaN</td>\n",
              "      <td>NaN</td>\n",
              "      <td>NaN</td>\n",
              "      <td>NaN</td>\n",
              "      <td>NaN</td>\n",
              "      <td>NaN</td>\n",
              "      <td>NaN</td>\n",
              "      <td>2.0</td>\n",
              "      <td>0.0</td>\n",
              "      <td>1.0</td>\n",
              "      <td>NaN</td>\n",
              "      <td>NaN</td>\n",
              "      <td>NaN</td>\n",
              "      <td>NaN</td>\n",
              "      <td>NaN</td>\n",
              "      <td>NaN</td>\n",
              "      <td>NaN</td>\n",
              "      <td>NaN</td>\n",
              "      <td>NaN</td>\n",
              "      <td>NaN</td>\n",
              "    </tr>\n",
              "    <tr>\n",
              "      <th>831</th>\n",
              "      <td>MM675</td>\n",
              "      <td>NaN</td>\n",
              "      <td>NaN</td>\n",
              "      <td>NaN</td>\n",
              "      <td>NaN</td>\n",
              "      <td>NaN</td>\n",
              "      <td>NaN</td>\n",
              "      <td>NaN</td>\n",
              "      <td>NaN</td>\n",
              "      <td>NaN</td>\n",
              "      <td>NaN</td>\n",
              "      <td>NaN</td>\n",
              "      <td>2.0</td>\n",
              "      <td>0.0</td>\n",
              "      <td>1.0</td>\n",
              "      <td>NaN</td>\n",
              "      <td>NaN</td>\n",
              "      <td>NaN</td>\n",
              "      <td>NaN</td>\n",
              "      <td>NaN</td>\n",
              "      <td>NaN</td>\n",
              "      <td>NaN</td>\n",
              "      <td>NaN</td>\n",
              "      <td>NaN</td>\n",
              "      <td>NaN</td>\n",
              "    </tr>\n",
              "    <tr>\n",
              "      <th>832</th>\n",
              "      <td>MM711</td>\n",
              "      <td>NaN</td>\n",
              "      <td>NaN</td>\n",
              "      <td>NaN</td>\n",
              "      <td>NaN</td>\n",
              "      <td>NaN</td>\n",
              "      <td>NaN</td>\n",
              "      <td>NaN</td>\n",
              "      <td>NaN</td>\n",
              "      <td>NaN</td>\n",
              "      <td>NaN</td>\n",
              "      <td>NaN</td>\n",
              "      <td>3.0</td>\n",
              "      <td>1.0</td>\n",
              "      <td>1.0</td>\n",
              "      <td>NaN</td>\n",
              "      <td>NaN</td>\n",
              "      <td>NaN</td>\n",
              "      <td>NaN</td>\n",
              "      <td>NaN</td>\n",
              "      <td>NaN</td>\n",
              "      <td>NaN</td>\n",
              "      <td>NaN</td>\n",
              "      <td>NaN</td>\n",
              "      <td>NaN</td>\n",
              "    </tr>\n",
              "  </tbody>\n",
              "</table>\n",
              "<p>833 rows × 25 columns</p>\n",
              "</div>"
            ],
            "text/plain": [
              "        ID  HasFracture?  ... C-Reactive Protein  Sedimentation Rate\n",
              "0      MM1           0.0  ...                1.0                 NaN\n",
              "1      MM2           0.0  ...                0.0                 NaN\n",
              "2      MM4           1.0  ...                0.0                 NaN\n",
              "3      MM5           0.0  ...                0.0                 NaN\n",
              "4      MM6           0.0  ...                0.0                 NaN\n",
              "..     ...           ...  ...                ...                 ...\n",
              "828  MM423           NaN  ...                NaN                 NaN\n",
              "829  MM486           NaN  ...                NaN                 NaN\n",
              "830  MM583           NaN  ...                NaN                 NaN\n",
              "831  MM675           NaN  ...                NaN                 NaN\n",
              "832  MM711           NaN  ...                NaN                 NaN\n",
              "\n",
              "[833 rows x 25 columns]"
            ]
          },
          "metadata": {
            "tags": []
          },
          "execution_count": 59
        }
      ]
    },
    {
      "cell_type": "code",
      "metadata": {
        "id": "8WApHO1FNYHf"
      },
      "source": [
        "# delete the rows NaN HasFracture? values since that is what we are trying to predict\n",
        "data_agg = data_agg.dropna(subset = ['HasFracture?'])"
      ],
      "execution_count": null,
      "outputs": []
    },
    {
      "cell_type": "code",
      "metadata": {
        "id": "_sufBohyNxQw",
        "outputId": "930eb79b-10ca-4ac6-c751-bfb965a79d28",
        "colab": {
          "base_uri": "https://localhost:8080/",
          "height": 473
        }
      },
      "source": [
        "data_agg"
      ],
      "execution_count": null,
      "outputs": [
        {
          "output_type": "execute_result",
          "data": {
            "text/html": [
              "<div>\n",
              "<style scoped>\n",
              "    .dataframe tbody tr th:only-of-type {\n",
              "        vertical-align: middle;\n",
              "    }\n",
              "\n",
              "    .dataframe tbody tr th {\n",
              "        vertical-align: top;\n",
              "    }\n",
              "\n",
              "    .dataframe thead th {\n",
              "        text-align: right;\n",
              "    }\n",
              "</style>\n",
              "<table border=\"1\" class=\"dataframe\">\n",
              "  <thead>\n",
              "    <tr style=\"text-align: right;\">\n",
              "      <th></th>\n",
              "      <th>ID</th>\n",
              "      <th>HasFracture?</th>\n",
              "      <th>DxType</th>\n",
              "      <th>DaysFromDx</th>\n",
              "      <th>BonyLesions</th>\n",
              "      <th>Stage</th>\n",
              "      <th>Vitamin D supplements</th>\n",
              "      <th>Calcium_x</th>\n",
              "      <th>Denosumab</th>\n",
              "      <th>Pamidronate</th>\n",
              "      <th>Zoledronate</th>\n",
              "      <th>Dexamethasone</th>\n",
              "      <th>AgeAtDx</th>\n",
              "      <th>PatientSex</th>\n",
              "      <th>RacialGroup</th>\n",
              "      <th>Calcium_y</th>\n",
              "      <th>Phosphate</th>\n",
              "      <th>Alkaline Phosphatase</th>\n",
              "      <th>Vitamin D3</th>\n",
              "      <th>Estradiol</th>\n",
              "      <th>Testosterone</th>\n",
              "      <th>Thyroid Stimulating Hormone</th>\n",
              "      <th>Creatinine</th>\n",
              "      <th>C-Reactive Protein</th>\n",
              "      <th>Sedimentation Rate</th>\n",
              "    </tr>\n",
              "  </thead>\n",
              "  <tbody>\n",
              "    <tr>\n",
              "      <th>0</th>\n",
              "      <td>MM1</td>\n",
              "      <td>0.0</td>\n",
              "      <td>MRI</td>\n",
              "      <td>297.0</td>\n",
              "      <td>0.0</td>\n",
              "      <td>1.0</td>\n",
              "      <td>0.0</td>\n",
              "      <td>1.0</td>\n",
              "      <td>0.0</td>\n",
              "      <td>0.0</td>\n",
              "      <td>0.0</td>\n",
              "      <td>1.0</td>\n",
              "      <td>2.0</td>\n",
              "      <td>1.0</td>\n",
              "      <td>1.0</td>\n",
              "      <td>0.0</td>\n",
              "      <td>1.0</td>\n",
              "      <td>0.0</td>\n",
              "      <td>0.0</td>\n",
              "      <td>NaN</td>\n",
              "      <td>1.0</td>\n",
              "      <td>NaN</td>\n",
              "      <td>1.0</td>\n",
              "      <td>1.0</td>\n",
              "      <td>NaN</td>\n",
              "    </tr>\n",
              "    <tr>\n",
              "      <th>1</th>\n",
              "      <td>MM2</td>\n",
              "      <td>0.0</td>\n",
              "      <td>MRI</td>\n",
              "      <td>176.0</td>\n",
              "      <td>1.0</td>\n",
              "      <td>3.0</td>\n",
              "      <td>0.0</td>\n",
              "      <td>0.0</td>\n",
              "      <td>0.0</td>\n",
              "      <td>0.0</td>\n",
              "      <td>0.0</td>\n",
              "      <td>1.0</td>\n",
              "      <td>2.0</td>\n",
              "      <td>1.0</td>\n",
              "      <td>2.0</td>\n",
              "      <td>0.0</td>\n",
              "      <td>0.0</td>\n",
              "      <td>0.0</td>\n",
              "      <td>0.0</td>\n",
              "      <td>NaN</td>\n",
              "      <td>0.0</td>\n",
              "      <td>NaN</td>\n",
              "      <td>0.0</td>\n",
              "      <td>0.0</td>\n",
              "      <td>NaN</td>\n",
              "    </tr>\n",
              "    <tr>\n",
              "      <th>2</th>\n",
              "      <td>MM4</td>\n",
              "      <td>1.0</td>\n",
              "      <td>MRI</td>\n",
              "      <td>411.0</td>\n",
              "      <td>1.0</td>\n",
              "      <td>3.0</td>\n",
              "      <td>0.0</td>\n",
              "      <td>0.0</td>\n",
              "      <td>0.0</td>\n",
              "      <td>0.0</td>\n",
              "      <td>0.0</td>\n",
              "      <td>1.0</td>\n",
              "      <td>2.0</td>\n",
              "      <td>0.0</td>\n",
              "      <td>1.0</td>\n",
              "      <td>0.0</td>\n",
              "      <td>0.0</td>\n",
              "      <td>0.0</td>\n",
              "      <td>0.0</td>\n",
              "      <td>NaN</td>\n",
              "      <td>NaN</td>\n",
              "      <td>0.0</td>\n",
              "      <td>1.0</td>\n",
              "      <td>0.0</td>\n",
              "      <td>NaN</td>\n",
              "    </tr>\n",
              "    <tr>\n",
              "      <th>3</th>\n",
              "      <td>MM5</td>\n",
              "      <td>0.0</td>\n",
              "      <td>MRI</td>\n",
              "      <td>373.0</td>\n",
              "      <td>0.0</td>\n",
              "      <td>1.0</td>\n",
              "      <td>0.0</td>\n",
              "      <td>0.0</td>\n",
              "      <td>0.0</td>\n",
              "      <td>0.0</td>\n",
              "      <td>0.0</td>\n",
              "      <td>0.0</td>\n",
              "      <td>2.0</td>\n",
              "      <td>1.0</td>\n",
              "      <td>1.0</td>\n",
              "      <td>1.0</td>\n",
              "      <td>0.0</td>\n",
              "      <td>0.0</td>\n",
              "      <td>0.0</td>\n",
              "      <td>NaN</td>\n",
              "      <td>0.0</td>\n",
              "      <td>0.0</td>\n",
              "      <td>0.0</td>\n",
              "      <td>0.0</td>\n",
              "      <td>NaN</td>\n",
              "    </tr>\n",
              "    <tr>\n",
              "      <th>4</th>\n",
              "      <td>MM6</td>\n",
              "      <td>0.0</td>\n",
              "      <td>NaN</td>\n",
              "      <td>NaN</td>\n",
              "      <td>NaN</td>\n",
              "      <td>1.0</td>\n",
              "      <td>0.0</td>\n",
              "      <td>0.0</td>\n",
              "      <td>0.0</td>\n",
              "      <td>0.0</td>\n",
              "      <td>0.0</td>\n",
              "      <td>1.0</td>\n",
              "      <td>2.0</td>\n",
              "      <td>1.0</td>\n",
              "      <td>1.0</td>\n",
              "      <td>1.0</td>\n",
              "      <td>0.0</td>\n",
              "      <td>0.0</td>\n",
              "      <td>0.0</td>\n",
              "      <td>NaN</td>\n",
              "      <td>0.0</td>\n",
              "      <td>0.0</td>\n",
              "      <td>0.0</td>\n",
              "      <td>0.0</td>\n",
              "      <td>NaN</td>\n",
              "    </tr>\n",
              "    <tr>\n",
              "      <th>...</th>\n",
              "      <td>...</td>\n",
              "      <td>...</td>\n",
              "      <td>...</td>\n",
              "      <td>...</td>\n",
              "      <td>...</td>\n",
              "      <td>...</td>\n",
              "      <td>...</td>\n",
              "      <td>...</td>\n",
              "      <td>...</td>\n",
              "      <td>...</td>\n",
              "      <td>...</td>\n",
              "      <td>...</td>\n",
              "      <td>...</td>\n",
              "      <td>...</td>\n",
              "      <td>...</td>\n",
              "      <td>...</td>\n",
              "      <td>...</td>\n",
              "      <td>...</td>\n",
              "      <td>...</td>\n",
              "      <td>...</td>\n",
              "      <td>...</td>\n",
              "      <td>...</td>\n",
              "      <td>...</td>\n",
              "      <td>...</td>\n",
              "      <td>...</td>\n",
              "    </tr>\n",
              "    <tr>\n",
              "      <th>697</th>\n",
              "      <td>MM834</td>\n",
              "      <td>0.0</td>\n",
              "      <td>MRI</td>\n",
              "      <td>161.0</td>\n",
              "      <td>1.0</td>\n",
              "      <td>1.0</td>\n",
              "      <td>0.0</td>\n",
              "      <td>0.0</td>\n",
              "      <td>0.0</td>\n",
              "      <td>0.0</td>\n",
              "      <td>0.0</td>\n",
              "      <td>0.0</td>\n",
              "      <td>2.0</td>\n",
              "      <td>1.0</td>\n",
              "      <td>1.0</td>\n",
              "      <td>0.0</td>\n",
              "      <td>0.0</td>\n",
              "      <td>0.0</td>\n",
              "      <td>NaN</td>\n",
              "      <td>NaN</td>\n",
              "      <td>0.0</td>\n",
              "      <td>1.0</td>\n",
              "      <td>0.0</td>\n",
              "      <td>1.0</td>\n",
              "      <td>NaN</td>\n",
              "    </tr>\n",
              "    <tr>\n",
              "      <th>698</th>\n",
              "      <td>MM843</td>\n",
              "      <td>0.0</td>\n",
              "      <td>MRI</td>\n",
              "      <td>812.0</td>\n",
              "      <td>1.0</td>\n",
              "      <td>2.0</td>\n",
              "      <td>0.0</td>\n",
              "      <td>0.0</td>\n",
              "      <td>0.0</td>\n",
              "      <td>0.0</td>\n",
              "      <td>0.0</td>\n",
              "      <td>0.0</td>\n",
              "      <td>3.0</td>\n",
              "      <td>1.0</td>\n",
              "      <td>1.0</td>\n",
              "      <td>0.0</td>\n",
              "      <td>0.0</td>\n",
              "      <td>0.0</td>\n",
              "      <td>0.0</td>\n",
              "      <td>NaN</td>\n",
              "      <td>0.0</td>\n",
              "      <td>0.0</td>\n",
              "      <td>0.0</td>\n",
              "      <td>0.0</td>\n",
              "      <td>1.0</td>\n",
              "    </tr>\n",
              "    <tr>\n",
              "      <th>699</th>\n",
              "      <td>MM836</td>\n",
              "      <td>0.0</td>\n",
              "      <td>MRI</td>\n",
              "      <td>754.0</td>\n",
              "      <td>1.0</td>\n",
              "      <td>2.0</td>\n",
              "      <td>0.0</td>\n",
              "      <td>0.0</td>\n",
              "      <td>0.0</td>\n",
              "      <td>0.0</td>\n",
              "      <td>0.0</td>\n",
              "      <td>1.0</td>\n",
              "      <td>2.0</td>\n",
              "      <td>1.0</td>\n",
              "      <td>1.0</td>\n",
              "      <td>0.0</td>\n",
              "      <td>0.0</td>\n",
              "      <td>0.0</td>\n",
              "      <td>0.0</td>\n",
              "      <td>NaN</td>\n",
              "      <td>0.0</td>\n",
              "      <td>0.0</td>\n",
              "      <td>0.0</td>\n",
              "      <td>1.0</td>\n",
              "      <td>NaN</td>\n",
              "    </tr>\n",
              "    <tr>\n",
              "      <th>700</th>\n",
              "      <td>MM837</td>\n",
              "      <td>0.0</td>\n",
              "      <td>MRI</td>\n",
              "      <td>173.0</td>\n",
              "      <td>1.0</td>\n",
              "      <td>3.0</td>\n",
              "      <td>0.0</td>\n",
              "      <td>1.0</td>\n",
              "      <td>0.0</td>\n",
              "      <td>0.0</td>\n",
              "      <td>0.0</td>\n",
              "      <td>1.0</td>\n",
              "      <td>2.0</td>\n",
              "      <td>1.0</td>\n",
              "      <td>1.0</td>\n",
              "      <td>0.0</td>\n",
              "      <td>0.0</td>\n",
              "      <td>0.0</td>\n",
              "      <td>0.0</td>\n",
              "      <td>NaN</td>\n",
              "      <td>1.0</td>\n",
              "      <td>NaN</td>\n",
              "      <td>0.0</td>\n",
              "      <td>0.0</td>\n",
              "      <td>NaN</td>\n",
              "    </tr>\n",
              "    <tr>\n",
              "      <th>701</th>\n",
              "      <td>MM838</td>\n",
              "      <td>0.0</td>\n",
              "      <td>MRI</td>\n",
              "      <td>190.0</td>\n",
              "      <td>1.0</td>\n",
              "      <td>2.0</td>\n",
              "      <td>0.0</td>\n",
              "      <td>0.0</td>\n",
              "      <td>0.0</td>\n",
              "      <td>0.0</td>\n",
              "      <td>0.0</td>\n",
              "      <td>0.0</td>\n",
              "      <td>2.0</td>\n",
              "      <td>1.0</td>\n",
              "      <td>1.0</td>\n",
              "      <td>1.0</td>\n",
              "      <td>0.0</td>\n",
              "      <td>0.0</td>\n",
              "      <td>0.0</td>\n",
              "      <td>NaN</td>\n",
              "      <td>0.0</td>\n",
              "      <td>1.0</td>\n",
              "      <td>0.0</td>\n",
              "      <td>0.0</td>\n",
              "      <td>NaN</td>\n",
              "    </tr>\n",
              "  </tbody>\n",
              "</table>\n",
              "<p>702 rows × 25 columns</p>\n",
              "</div>"
            ],
            "text/plain": [
              "        ID  HasFracture?  ... C-Reactive Protein  Sedimentation Rate\n",
              "0      MM1           0.0  ...                1.0                 NaN\n",
              "1      MM2           0.0  ...                0.0                 NaN\n",
              "2      MM4           1.0  ...                0.0                 NaN\n",
              "3      MM5           0.0  ...                0.0                 NaN\n",
              "4      MM6           0.0  ...                0.0                 NaN\n",
              "..     ...           ...  ...                ...                 ...\n",
              "697  MM834           0.0  ...                1.0                 NaN\n",
              "698  MM843           0.0  ...                0.0                 1.0\n",
              "699  MM836           0.0  ...                1.0                 NaN\n",
              "700  MM837           0.0  ...                0.0                 NaN\n",
              "701  MM838           0.0  ...                0.0                 NaN\n",
              "\n",
              "[702 rows x 25 columns]"
            ]
          },
          "metadata": {
            "tags": []
          },
          "execution_count": 61
        }
      ]
    },
    {
      "cell_type": "code",
      "metadata": {
        "id": "JQRHA7X5N23S",
        "outputId": "cab212ce-7690-415f-c944-5d81678e1e85",
        "colab": {
          "base_uri": "https://localhost:8080/",
          "height": 102
        }
      },
      "source": [
        "# drop some columns we are not going to use in prediction\n",
        "data_agg.drop(['DxType', 'DaysFromDx'], axis = 1, inplace = True)"
      ],
      "execution_count": null,
      "outputs": [
        {
          "output_type": "stream",
          "text": [
            "/usr/local/lib/python3.6/dist-packages/pandas/core/frame.py:4169: SettingWithCopyWarning: \n",
            "A value is trying to be set on a copy of a slice from a DataFrame\n",
            "\n",
            "See the caveats in the documentation: https://pandas.pydata.org/pandas-docs/stable/user_guide/indexing.html#returning-a-view-versus-a-copy\n",
            "  errors=errors,\n"
          ],
          "name": "stderr"
        }
      ]
    },
    {
      "cell_type": "code",
      "metadata": {
        "id": "2y66z-IZP61R",
        "outputId": "10dfddd1-16f7-4725-b3b4-332f4986f82b",
        "colab": {
          "base_uri": "https://localhost:8080/",
          "height": 258
        }
      },
      "source": [
        "data_agg.head()"
      ],
      "execution_count": null,
      "outputs": [
        {
          "output_type": "execute_result",
          "data": {
            "text/html": [
              "<div>\n",
              "<style scoped>\n",
              "    .dataframe tbody tr th:only-of-type {\n",
              "        vertical-align: middle;\n",
              "    }\n",
              "\n",
              "    .dataframe tbody tr th {\n",
              "        vertical-align: top;\n",
              "    }\n",
              "\n",
              "    .dataframe thead th {\n",
              "        text-align: right;\n",
              "    }\n",
              "</style>\n",
              "<table border=\"1\" class=\"dataframe\">\n",
              "  <thead>\n",
              "    <tr style=\"text-align: right;\">\n",
              "      <th></th>\n",
              "      <th>ID</th>\n",
              "      <th>HasFracture?</th>\n",
              "      <th>BonyLesions</th>\n",
              "      <th>Stage</th>\n",
              "      <th>Vitamin D supplements</th>\n",
              "      <th>Calcium_x</th>\n",
              "      <th>Denosumab</th>\n",
              "      <th>Pamidronate</th>\n",
              "      <th>Zoledronate</th>\n",
              "      <th>Dexamethasone</th>\n",
              "      <th>AgeAtDx</th>\n",
              "      <th>PatientSex</th>\n",
              "      <th>RacialGroup</th>\n",
              "      <th>Calcium_y</th>\n",
              "      <th>Phosphate</th>\n",
              "      <th>Alkaline Phosphatase</th>\n",
              "      <th>Vitamin D3</th>\n",
              "      <th>Estradiol</th>\n",
              "      <th>Testosterone</th>\n",
              "      <th>Thyroid Stimulating Hormone</th>\n",
              "      <th>Creatinine</th>\n",
              "      <th>C-Reactive Protein</th>\n",
              "      <th>Sedimentation Rate</th>\n",
              "    </tr>\n",
              "  </thead>\n",
              "  <tbody>\n",
              "    <tr>\n",
              "      <th>0</th>\n",
              "      <td>MM1</td>\n",
              "      <td>0.0</td>\n",
              "      <td>0.0</td>\n",
              "      <td>1.0</td>\n",
              "      <td>0.0</td>\n",
              "      <td>1.0</td>\n",
              "      <td>0.0</td>\n",
              "      <td>0.0</td>\n",
              "      <td>0.0</td>\n",
              "      <td>1.0</td>\n",
              "      <td>2.0</td>\n",
              "      <td>1.0</td>\n",
              "      <td>1.0</td>\n",
              "      <td>0.0</td>\n",
              "      <td>1.0</td>\n",
              "      <td>0.0</td>\n",
              "      <td>0.0</td>\n",
              "      <td>NaN</td>\n",
              "      <td>1.0</td>\n",
              "      <td>NaN</td>\n",
              "      <td>1.0</td>\n",
              "      <td>1.0</td>\n",
              "      <td>NaN</td>\n",
              "    </tr>\n",
              "    <tr>\n",
              "      <th>1</th>\n",
              "      <td>MM2</td>\n",
              "      <td>0.0</td>\n",
              "      <td>1.0</td>\n",
              "      <td>3.0</td>\n",
              "      <td>0.0</td>\n",
              "      <td>0.0</td>\n",
              "      <td>0.0</td>\n",
              "      <td>0.0</td>\n",
              "      <td>0.0</td>\n",
              "      <td>1.0</td>\n",
              "      <td>2.0</td>\n",
              "      <td>1.0</td>\n",
              "      <td>2.0</td>\n",
              "      <td>0.0</td>\n",
              "      <td>0.0</td>\n",
              "      <td>0.0</td>\n",
              "      <td>0.0</td>\n",
              "      <td>NaN</td>\n",
              "      <td>0.0</td>\n",
              "      <td>NaN</td>\n",
              "      <td>0.0</td>\n",
              "      <td>0.0</td>\n",
              "      <td>NaN</td>\n",
              "    </tr>\n",
              "    <tr>\n",
              "      <th>2</th>\n",
              "      <td>MM4</td>\n",
              "      <td>1.0</td>\n",
              "      <td>1.0</td>\n",
              "      <td>3.0</td>\n",
              "      <td>0.0</td>\n",
              "      <td>0.0</td>\n",
              "      <td>0.0</td>\n",
              "      <td>0.0</td>\n",
              "      <td>0.0</td>\n",
              "      <td>1.0</td>\n",
              "      <td>2.0</td>\n",
              "      <td>0.0</td>\n",
              "      <td>1.0</td>\n",
              "      <td>0.0</td>\n",
              "      <td>0.0</td>\n",
              "      <td>0.0</td>\n",
              "      <td>0.0</td>\n",
              "      <td>NaN</td>\n",
              "      <td>NaN</td>\n",
              "      <td>0.0</td>\n",
              "      <td>1.0</td>\n",
              "      <td>0.0</td>\n",
              "      <td>NaN</td>\n",
              "    </tr>\n",
              "    <tr>\n",
              "      <th>3</th>\n",
              "      <td>MM5</td>\n",
              "      <td>0.0</td>\n",
              "      <td>0.0</td>\n",
              "      <td>1.0</td>\n",
              "      <td>0.0</td>\n",
              "      <td>0.0</td>\n",
              "      <td>0.0</td>\n",
              "      <td>0.0</td>\n",
              "      <td>0.0</td>\n",
              "      <td>0.0</td>\n",
              "      <td>2.0</td>\n",
              "      <td>1.0</td>\n",
              "      <td>1.0</td>\n",
              "      <td>1.0</td>\n",
              "      <td>0.0</td>\n",
              "      <td>0.0</td>\n",
              "      <td>0.0</td>\n",
              "      <td>NaN</td>\n",
              "      <td>0.0</td>\n",
              "      <td>0.0</td>\n",
              "      <td>0.0</td>\n",
              "      <td>0.0</td>\n",
              "      <td>NaN</td>\n",
              "    </tr>\n",
              "    <tr>\n",
              "      <th>4</th>\n",
              "      <td>MM6</td>\n",
              "      <td>0.0</td>\n",
              "      <td>NaN</td>\n",
              "      <td>1.0</td>\n",
              "      <td>0.0</td>\n",
              "      <td>0.0</td>\n",
              "      <td>0.0</td>\n",
              "      <td>0.0</td>\n",
              "      <td>0.0</td>\n",
              "      <td>1.0</td>\n",
              "      <td>2.0</td>\n",
              "      <td>1.0</td>\n",
              "      <td>1.0</td>\n",
              "      <td>1.0</td>\n",
              "      <td>0.0</td>\n",
              "      <td>0.0</td>\n",
              "      <td>0.0</td>\n",
              "      <td>NaN</td>\n",
              "      <td>0.0</td>\n",
              "      <td>0.0</td>\n",
              "      <td>0.0</td>\n",
              "      <td>0.0</td>\n",
              "      <td>NaN</td>\n",
              "    </tr>\n",
              "  </tbody>\n",
              "</table>\n",
              "</div>"
            ],
            "text/plain": [
              "    ID  HasFracture?  ...  C-Reactive Protein  Sedimentation Rate\n",
              "0  MM1           0.0  ...                 1.0                 NaN\n",
              "1  MM2           0.0  ...                 0.0                 NaN\n",
              "2  MM4           1.0  ...                 0.0                 NaN\n",
              "3  MM5           0.0  ...                 0.0                 NaN\n",
              "4  MM6           0.0  ...                 0.0                 NaN\n",
              "\n",
              "[5 rows x 23 columns]"
            ]
          },
          "metadata": {
            "tags": []
          },
          "execution_count": 63
        }
      ]
    },
    {
      "cell_type": "code",
      "metadata": {
        "id": "P5H3PE5rcKWO"
      },
      "source": [
        "data_agg = data_agg.rename(columns={'Calcium_x': 'TookCalciumMedicine', 'Calcium_y': 'LabCalciumLevel'})"
      ],
      "execution_count": null,
      "outputs": []
    },
    {
      "cell_type": "markdown",
      "metadata": {
        "id": "od5NZun9Qnh0"
      },
      "source": [
        "Let's save this aggregated data file to csv. (without dealing with null values at all)"
      ]
    },
    {
      "cell_type": "code",
      "metadata": {
        "id": "CApiw6rldGFu"
      },
      "source": [
        "data_agg.to_csv('data_agg.csv', index=False)"
      ],
      "execution_count": null,
      "outputs": []
    },
    {
      "cell_type": "markdown",
      "metadata": {
        "id": "_KVhyWQydmfo"
      },
      "source": [
        "# 5. dealing with nulls"
      ]
    },
    {
      "cell_type": "markdown",
      "metadata": {
        "id": "zr8IO8ekdr1h"
      },
      "source": [
        "there are basically no way to elegantly deal with nulls, it is illy defined as a mathematical problem. We can do regression on missing values or use a Boltzmann machine or something. We can try to do that. but the underlying problem will not change"
      ]
    },
    {
      "cell_type": "code",
      "metadata": {
        "id": "7SurQ_Vudn5R"
      },
      "source": [
        "data = pd.read_csv('data_agg.csv')"
      ],
      "execution_count": null,
      "outputs": []
    },
    {
      "cell_type": "code",
      "metadata": {
        "id": "zIrXgNaMd-rC",
        "outputId": "784f6a94-6ed0-4cbc-f278-45f035e0596f",
        "colab": {
          "base_uri": "https://localhost:8080/",
          "height": 473
        }
      },
      "source": [
        "data"
      ],
      "execution_count": null,
      "outputs": [
        {
          "output_type": "execute_result",
          "data": {
            "text/html": [
              "<div>\n",
              "<style scoped>\n",
              "    .dataframe tbody tr th:only-of-type {\n",
              "        vertical-align: middle;\n",
              "    }\n",
              "\n",
              "    .dataframe tbody tr th {\n",
              "        vertical-align: top;\n",
              "    }\n",
              "\n",
              "    .dataframe thead th {\n",
              "        text-align: right;\n",
              "    }\n",
              "</style>\n",
              "<table border=\"1\" class=\"dataframe\">\n",
              "  <thead>\n",
              "    <tr style=\"text-align: right;\">\n",
              "      <th></th>\n",
              "      <th>ID</th>\n",
              "      <th>HasFracture?</th>\n",
              "      <th>BonyLesions</th>\n",
              "      <th>Stage</th>\n",
              "      <th>Vitamin D supplements</th>\n",
              "      <th>TookCalciumMedicine</th>\n",
              "      <th>Denosumab</th>\n",
              "      <th>Pamidronate</th>\n",
              "      <th>Zoledronate</th>\n",
              "      <th>Dexamethasone</th>\n",
              "      <th>AgeAtDx</th>\n",
              "      <th>PatientSex</th>\n",
              "      <th>RacialGroup</th>\n",
              "      <th>LabCalciumLevel</th>\n",
              "      <th>Phosphate</th>\n",
              "      <th>Alkaline Phosphatase</th>\n",
              "      <th>Vitamin D3</th>\n",
              "      <th>Estradiol</th>\n",
              "      <th>Testosterone</th>\n",
              "      <th>Thyroid Stimulating Hormone</th>\n",
              "      <th>Creatinine</th>\n",
              "      <th>C-Reactive Protein</th>\n",
              "      <th>Sedimentation Rate</th>\n",
              "    </tr>\n",
              "  </thead>\n",
              "  <tbody>\n",
              "    <tr>\n",
              "      <th>0</th>\n",
              "      <td>MM1</td>\n",
              "      <td>0.0</td>\n",
              "      <td>0.0</td>\n",
              "      <td>1.0</td>\n",
              "      <td>0.0</td>\n",
              "      <td>1.0</td>\n",
              "      <td>0.0</td>\n",
              "      <td>0.0</td>\n",
              "      <td>0.0</td>\n",
              "      <td>1.0</td>\n",
              "      <td>2.0</td>\n",
              "      <td>1.0</td>\n",
              "      <td>1.0</td>\n",
              "      <td>0.0</td>\n",
              "      <td>1.0</td>\n",
              "      <td>0.0</td>\n",
              "      <td>0.0</td>\n",
              "      <td>NaN</td>\n",
              "      <td>1.0</td>\n",
              "      <td>NaN</td>\n",
              "      <td>1.0</td>\n",
              "      <td>1.0</td>\n",
              "      <td>NaN</td>\n",
              "    </tr>\n",
              "    <tr>\n",
              "      <th>1</th>\n",
              "      <td>MM2</td>\n",
              "      <td>0.0</td>\n",
              "      <td>1.0</td>\n",
              "      <td>3.0</td>\n",
              "      <td>0.0</td>\n",
              "      <td>0.0</td>\n",
              "      <td>0.0</td>\n",
              "      <td>0.0</td>\n",
              "      <td>0.0</td>\n",
              "      <td>1.0</td>\n",
              "      <td>2.0</td>\n",
              "      <td>1.0</td>\n",
              "      <td>2.0</td>\n",
              "      <td>0.0</td>\n",
              "      <td>0.0</td>\n",
              "      <td>0.0</td>\n",
              "      <td>0.0</td>\n",
              "      <td>NaN</td>\n",
              "      <td>0.0</td>\n",
              "      <td>NaN</td>\n",
              "      <td>0.0</td>\n",
              "      <td>0.0</td>\n",
              "      <td>NaN</td>\n",
              "    </tr>\n",
              "    <tr>\n",
              "      <th>2</th>\n",
              "      <td>MM4</td>\n",
              "      <td>1.0</td>\n",
              "      <td>1.0</td>\n",
              "      <td>3.0</td>\n",
              "      <td>0.0</td>\n",
              "      <td>0.0</td>\n",
              "      <td>0.0</td>\n",
              "      <td>0.0</td>\n",
              "      <td>0.0</td>\n",
              "      <td>1.0</td>\n",
              "      <td>2.0</td>\n",
              "      <td>0.0</td>\n",
              "      <td>1.0</td>\n",
              "      <td>0.0</td>\n",
              "      <td>0.0</td>\n",
              "      <td>0.0</td>\n",
              "      <td>0.0</td>\n",
              "      <td>NaN</td>\n",
              "      <td>NaN</td>\n",
              "      <td>0.0</td>\n",
              "      <td>1.0</td>\n",
              "      <td>0.0</td>\n",
              "      <td>NaN</td>\n",
              "    </tr>\n",
              "    <tr>\n",
              "      <th>3</th>\n",
              "      <td>MM5</td>\n",
              "      <td>0.0</td>\n",
              "      <td>0.0</td>\n",
              "      <td>1.0</td>\n",
              "      <td>0.0</td>\n",
              "      <td>0.0</td>\n",
              "      <td>0.0</td>\n",
              "      <td>0.0</td>\n",
              "      <td>0.0</td>\n",
              "      <td>0.0</td>\n",
              "      <td>2.0</td>\n",
              "      <td>1.0</td>\n",
              "      <td>1.0</td>\n",
              "      <td>1.0</td>\n",
              "      <td>0.0</td>\n",
              "      <td>0.0</td>\n",
              "      <td>0.0</td>\n",
              "      <td>NaN</td>\n",
              "      <td>0.0</td>\n",
              "      <td>0.0</td>\n",
              "      <td>0.0</td>\n",
              "      <td>0.0</td>\n",
              "      <td>NaN</td>\n",
              "    </tr>\n",
              "    <tr>\n",
              "      <th>4</th>\n",
              "      <td>MM6</td>\n",
              "      <td>0.0</td>\n",
              "      <td>NaN</td>\n",
              "      <td>1.0</td>\n",
              "      <td>0.0</td>\n",
              "      <td>0.0</td>\n",
              "      <td>0.0</td>\n",
              "      <td>0.0</td>\n",
              "      <td>0.0</td>\n",
              "      <td>1.0</td>\n",
              "      <td>2.0</td>\n",
              "      <td>1.0</td>\n",
              "      <td>1.0</td>\n",
              "      <td>1.0</td>\n",
              "      <td>0.0</td>\n",
              "      <td>0.0</td>\n",
              "      <td>0.0</td>\n",
              "      <td>NaN</td>\n",
              "      <td>0.0</td>\n",
              "      <td>0.0</td>\n",
              "      <td>0.0</td>\n",
              "      <td>0.0</td>\n",
              "      <td>NaN</td>\n",
              "    </tr>\n",
              "    <tr>\n",
              "      <th>...</th>\n",
              "      <td>...</td>\n",
              "      <td>...</td>\n",
              "      <td>...</td>\n",
              "      <td>...</td>\n",
              "      <td>...</td>\n",
              "      <td>...</td>\n",
              "      <td>...</td>\n",
              "      <td>...</td>\n",
              "      <td>...</td>\n",
              "      <td>...</td>\n",
              "      <td>...</td>\n",
              "      <td>...</td>\n",
              "      <td>...</td>\n",
              "      <td>...</td>\n",
              "      <td>...</td>\n",
              "      <td>...</td>\n",
              "      <td>...</td>\n",
              "      <td>...</td>\n",
              "      <td>...</td>\n",
              "      <td>...</td>\n",
              "      <td>...</td>\n",
              "      <td>...</td>\n",
              "      <td>...</td>\n",
              "    </tr>\n",
              "    <tr>\n",
              "      <th>697</th>\n",
              "      <td>MM834</td>\n",
              "      <td>0.0</td>\n",
              "      <td>1.0</td>\n",
              "      <td>1.0</td>\n",
              "      <td>0.0</td>\n",
              "      <td>0.0</td>\n",
              "      <td>0.0</td>\n",
              "      <td>0.0</td>\n",
              "      <td>0.0</td>\n",
              "      <td>0.0</td>\n",
              "      <td>2.0</td>\n",
              "      <td>1.0</td>\n",
              "      <td>1.0</td>\n",
              "      <td>0.0</td>\n",
              "      <td>0.0</td>\n",
              "      <td>0.0</td>\n",
              "      <td>NaN</td>\n",
              "      <td>NaN</td>\n",
              "      <td>0.0</td>\n",
              "      <td>1.0</td>\n",
              "      <td>0.0</td>\n",
              "      <td>1.0</td>\n",
              "      <td>NaN</td>\n",
              "    </tr>\n",
              "    <tr>\n",
              "      <th>698</th>\n",
              "      <td>MM843</td>\n",
              "      <td>0.0</td>\n",
              "      <td>1.0</td>\n",
              "      <td>2.0</td>\n",
              "      <td>0.0</td>\n",
              "      <td>0.0</td>\n",
              "      <td>0.0</td>\n",
              "      <td>0.0</td>\n",
              "      <td>0.0</td>\n",
              "      <td>0.0</td>\n",
              "      <td>3.0</td>\n",
              "      <td>1.0</td>\n",
              "      <td>1.0</td>\n",
              "      <td>0.0</td>\n",
              "      <td>0.0</td>\n",
              "      <td>0.0</td>\n",
              "      <td>0.0</td>\n",
              "      <td>NaN</td>\n",
              "      <td>0.0</td>\n",
              "      <td>0.0</td>\n",
              "      <td>0.0</td>\n",
              "      <td>0.0</td>\n",
              "      <td>1.0</td>\n",
              "    </tr>\n",
              "    <tr>\n",
              "      <th>699</th>\n",
              "      <td>MM836</td>\n",
              "      <td>0.0</td>\n",
              "      <td>1.0</td>\n",
              "      <td>2.0</td>\n",
              "      <td>0.0</td>\n",
              "      <td>0.0</td>\n",
              "      <td>0.0</td>\n",
              "      <td>0.0</td>\n",
              "      <td>0.0</td>\n",
              "      <td>1.0</td>\n",
              "      <td>2.0</td>\n",
              "      <td>1.0</td>\n",
              "      <td>1.0</td>\n",
              "      <td>0.0</td>\n",
              "      <td>0.0</td>\n",
              "      <td>0.0</td>\n",
              "      <td>0.0</td>\n",
              "      <td>NaN</td>\n",
              "      <td>0.0</td>\n",
              "      <td>0.0</td>\n",
              "      <td>0.0</td>\n",
              "      <td>1.0</td>\n",
              "      <td>NaN</td>\n",
              "    </tr>\n",
              "    <tr>\n",
              "      <th>700</th>\n",
              "      <td>MM837</td>\n",
              "      <td>0.0</td>\n",
              "      <td>1.0</td>\n",
              "      <td>3.0</td>\n",
              "      <td>0.0</td>\n",
              "      <td>1.0</td>\n",
              "      <td>0.0</td>\n",
              "      <td>0.0</td>\n",
              "      <td>0.0</td>\n",
              "      <td>1.0</td>\n",
              "      <td>2.0</td>\n",
              "      <td>1.0</td>\n",
              "      <td>1.0</td>\n",
              "      <td>0.0</td>\n",
              "      <td>0.0</td>\n",
              "      <td>0.0</td>\n",
              "      <td>0.0</td>\n",
              "      <td>NaN</td>\n",
              "      <td>1.0</td>\n",
              "      <td>NaN</td>\n",
              "      <td>0.0</td>\n",
              "      <td>0.0</td>\n",
              "      <td>NaN</td>\n",
              "    </tr>\n",
              "    <tr>\n",
              "      <th>701</th>\n",
              "      <td>MM838</td>\n",
              "      <td>0.0</td>\n",
              "      <td>1.0</td>\n",
              "      <td>2.0</td>\n",
              "      <td>0.0</td>\n",
              "      <td>0.0</td>\n",
              "      <td>0.0</td>\n",
              "      <td>0.0</td>\n",
              "      <td>0.0</td>\n",
              "      <td>0.0</td>\n",
              "      <td>2.0</td>\n",
              "      <td>1.0</td>\n",
              "      <td>1.0</td>\n",
              "      <td>1.0</td>\n",
              "      <td>0.0</td>\n",
              "      <td>0.0</td>\n",
              "      <td>0.0</td>\n",
              "      <td>NaN</td>\n",
              "      <td>0.0</td>\n",
              "      <td>1.0</td>\n",
              "      <td>0.0</td>\n",
              "      <td>0.0</td>\n",
              "      <td>NaN</td>\n",
              "    </tr>\n",
              "  </tbody>\n",
              "</table>\n",
              "<p>702 rows × 23 columns</p>\n",
              "</div>"
            ],
            "text/plain": [
              "        ID  HasFracture?  ...  C-Reactive Protein  Sedimentation Rate\n",
              "0      MM1           0.0  ...                 1.0                 NaN\n",
              "1      MM2           0.0  ...                 0.0                 NaN\n",
              "2      MM4           1.0  ...                 0.0                 NaN\n",
              "3      MM5           0.0  ...                 0.0                 NaN\n",
              "4      MM6           0.0  ...                 0.0                 NaN\n",
              "..     ...           ...  ...                 ...                 ...\n",
              "697  MM834           0.0  ...                 1.0                 NaN\n",
              "698  MM843           0.0  ...                 0.0                 1.0\n",
              "699  MM836           0.0  ...                 1.0                 NaN\n",
              "700  MM837           0.0  ...                 0.0                 NaN\n",
              "701  MM838           0.0  ...                 0.0                 NaN\n",
              "\n",
              "[702 rows x 23 columns]"
            ]
          },
          "metadata": {
            "tags": []
          },
          "execution_count": 69
        }
      ]
    },
    {
      "cell_type": "code",
      "metadata": {
        "id": "MstyHCOUd_Ll",
        "outputId": "c87950a0-6c12-4f76-efd8-f79b3d5283b2",
        "colab": {
          "base_uri": "https://localhost:8080/",
          "height": 425
        }
      },
      "source": [
        "data.isnull().sum()"
      ],
      "execution_count": null,
      "outputs": [
        {
          "output_type": "execute_result",
          "data": {
            "text/plain": [
              "ID                               0\n",
              "HasFracture?                     0\n",
              "BonyLesions                     33\n",
              "Stage                            4\n",
              "Vitamin D supplements            0\n",
              "TookCalciumMedicine              0\n",
              "Denosumab                        0\n",
              "Pamidronate                      0\n",
              "Zoledronate                      0\n",
              "Dexamethasone                    0\n",
              "AgeAtDx                          1\n",
              "PatientSex                       1\n",
              "RacialGroup                      1\n",
              "LabCalciumLevel                  3\n",
              "Phosphate                        6\n",
              "Alkaline Phosphatase             3\n",
              "Vitamin D3                     137\n",
              "Estradiol                      552\n",
              "Testosterone                   389\n",
              "Thyroid Stimulating Hormone    223\n",
              "Creatinine                       3\n",
              "C-Reactive Protein              23\n",
              "Sedimentation Rate             601\n",
              "dtype: int64"
            ]
          },
          "metadata": {
            "tags": []
          },
          "execution_count": 70
        }
      ]
    },
    {
      "cell_type": "code",
      "metadata": {
        "id": "VB3Bse0leBYz"
      },
      "source": [
        "data.drop(['Estradiol', 'Testosterone', 'Sedimentation\\xa0Rate'], axis = 1, inplace = True)"
      ],
      "execution_count": null,
      "outputs": []
    },
    {
      "cell_type": "code",
      "metadata": {
        "id": "lOsIO4ANjNGj",
        "outputId": "335942f4-127e-4372-d733-6ae6a35dde7b",
        "colab": {
          "base_uri": "https://localhost:8080/",
          "height": 374
        }
      },
      "source": [
        "data.isnull().sum()"
      ],
      "execution_count": null,
      "outputs": [
        {
          "output_type": "execute_result",
          "data": {
            "text/plain": [
              "ID                               0\n",
              "HasFracture?                     0\n",
              "BonyLesions                     33\n",
              "Stage                            4\n",
              "Vitamin D supplements            0\n",
              "TookCalciumMedicine              0\n",
              "Denosumab                        0\n",
              "Pamidronate                      0\n",
              "Zoledronate                      0\n",
              "Dexamethasone                    0\n",
              "AgeAtDx                          1\n",
              "PatientSex                       1\n",
              "RacialGroup                      1\n",
              "LabCalciumLevel                  3\n",
              "Phosphate                        6\n",
              "Alkaline Phosphatase             3\n",
              "Vitamin D3                     137\n",
              "Thyroid Stimulating Hormone    223\n",
              "Creatinine                       3\n",
              "C-Reactive Protein              23\n",
              "dtype: int64"
            ]
          },
          "metadata": {
            "tags": []
          },
          "execution_count": 72
        }
      ]
    },
    {
      "cell_type": "code",
      "metadata": {
        "id": "O2pPz59Fj50E",
        "outputId": "79e881e7-503d-412e-ab14-5ab180e8055a",
        "colab": {
          "base_uri": "https://localhost:8080/",
          "height": 134
        }
      },
      "source": [
        "data[data.isnull()['AgeAtDx']]"
      ],
      "execution_count": null,
      "outputs": [
        {
          "output_type": "execute_result",
          "data": {
            "text/html": [
              "<div>\n",
              "<style scoped>\n",
              "    .dataframe tbody tr th:only-of-type {\n",
              "        vertical-align: middle;\n",
              "    }\n",
              "\n",
              "    .dataframe tbody tr th {\n",
              "        vertical-align: top;\n",
              "    }\n",
              "\n",
              "    .dataframe thead th {\n",
              "        text-align: right;\n",
              "    }\n",
              "</style>\n",
              "<table border=\"1\" class=\"dataframe\">\n",
              "  <thead>\n",
              "    <tr style=\"text-align: right;\">\n",
              "      <th></th>\n",
              "      <th>ID</th>\n",
              "      <th>HasFracture?</th>\n",
              "      <th>BonyLesions</th>\n",
              "      <th>Stage</th>\n",
              "      <th>Vitamin D supplements</th>\n",
              "      <th>TookCalciumMedicine</th>\n",
              "      <th>Denosumab</th>\n",
              "      <th>Pamidronate</th>\n",
              "      <th>Zoledronate</th>\n",
              "      <th>Dexamethasone</th>\n",
              "      <th>AgeAtDx</th>\n",
              "      <th>PatientSex</th>\n",
              "      <th>RacialGroup</th>\n",
              "      <th>LabCalciumLevel</th>\n",
              "      <th>Phosphate</th>\n",
              "      <th>Alkaline Phosphatase</th>\n",
              "      <th>Vitamin D3</th>\n",
              "      <th>Thyroid Stimulating Hormone</th>\n",
              "      <th>Creatinine</th>\n",
              "      <th>C-Reactive Protein</th>\n",
              "    </tr>\n",
              "  </thead>\n",
              "  <tbody>\n",
              "    <tr>\n",
              "      <th>622</th>\n",
              "      <td>MM908</td>\n",
              "      <td>0.0</td>\n",
              "      <td>1.0</td>\n",
              "      <td>1.0</td>\n",
              "      <td>0.0</td>\n",
              "      <td>0.0</td>\n",
              "      <td>0.0</td>\n",
              "      <td>0.0</td>\n",
              "      <td>0.0</td>\n",
              "      <td>0.0</td>\n",
              "      <td>NaN</td>\n",
              "      <td>NaN</td>\n",
              "      <td>NaN</td>\n",
              "      <td>NaN</td>\n",
              "      <td>NaN</td>\n",
              "      <td>NaN</td>\n",
              "      <td>NaN</td>\n",
              "      <td>NaN</td>\n",
              "      <td>NaN</td>\n",
              "      <td>NaN</td>\n",
              "    </tr>\n",
              "  </tbody>\n",
              "</table>\n",
              "</div>"
            ],
            "text/plain": [
              "        ID  HasFracture?  ...  Creatinine  C-Reactive Protein\n",
              "622  MM908           0.0  ...         NaN                 NaN\n",
              "\n",
              "[1 rows x 20 columns]"
            ]
          },
          "metadata": {
            "tags": []
          },
          "execution_count": 73
        }
      ]
    },
    {
      "cell_type": "code",
      "metadata": {
        "id": "2kRWLy-Gk-NB"
      },
      "source": [
        "# should remove this row because it doesn't have a lot of data on it\n",
        "data = data[~data.isnull()['AgeAtDx']]"
      ],
      "execution_count": null,
      "outputs": []
    },
    {
      "cell_type": "code",
      "metadata": {
        "id": "f7ICiDssliB6",
        "outputId": "0c584d40-5ce5-481a-ee5a-da3b9742f370",
        "colab": {
          "base_uri": "https://localhost:8080/",
          "height": 374
        }
      },
      "source": [
        "data.isnull().sum()"
      ],
      "execution_count": null,
      "outputs": [
        {
          "output_type": "execute_result",
          "data": {
            "text/plain": [
              "ID                               0\n",
              "HasFracture?                     0\n",
              "BonyLesions                     33\n",
              "Stage                            4\n",
              "Vitamin D supplements            0\n",
              "TookCalciumMedicine              0\n",
              "Denosumab                        0\n",
              "Pamidronate                      0\n",
              "Zoledronate                      0\n",
              "Dexamethasone                    0\n",
              "AgeAtDx                          0\n",
              "PatientSex                       0\n",
              "RacialGroup                      0\n",
              "LabCalciumLevel                  2\n",
              "Phosphate                        5\n",
              "Alkaline Phosphatase             2\n",
              "Vitamin D3                     136\n",
              "Thyroid Stimulating Hormone    222\n",
              "Creatinine                       2\n",
              "C-Reactive Protein              22\n",
              "dtype: int64"
            ]
          },
          "metadata": {
            "tags": []
          },
          "execution_count": 75
        }
      ]
    },
    {
      "cell_type": "code",
      "metadata": {
        "id": "fw9D1vXZmn7I"
      },
      "source": [
        "# drop any rows with null value in Vitamin D3 cell\n",
        "data = data.dropna(subset = ['Vitamin\\xa0D3'])"
      ],
      "execution_count": null,
      "outputs": []
    },
    {
      "cell_type": "code",
      "metadata": {
        "id": "SlA_0pPEfSwi",
        "outputId": "91435762-8838-4e93-ac4a-62385fbf56fe",
        "colab": {
          "base_uri": "https://localhost:8080/",
          "height": 374
        }
      },
      "source": [
        "data.isnull().sum()"
      ],
      "execution_count": null,
      "outputs": [
        {
          "output_type": "execute_result",
          "data": {
            "text/plain": [
              "ID                               0\n",
              "HasFracture?                     0\n",
              "BonyLesions                     28\n",
              "Stage                            1\n",
              "Vitamin D supplements            0\n",
              "TookCalciumMedicine              0\n",
              "Denosumab                        0\n",
              "Pamidronate                      0\n",
              "Zoledronate                      0\n",
              "Dexamethasone                    0\n",
              "AgeAtDx                          0\n",
              "PatientSex                       0\n",
              "RacialGroup                      0\n",
              "LabCalciumLevel                  0\n",
              "Phosphate                        1\n",
              "Alkaline Phosphatase             0\n",
              "Vitamin D3                       0\n",
              "Thyroid Stimulating Hormone    172\n",
              "Creatinine                       0\n",
              "C-Reactive Protein              12\n",
              "dtype: int64"
            ]
          },
          "metadata": {
            "tags": []
          },
          "execution_count": 77
        }
      ]
    },
    {
      "cell_type": "code",
      "metadata": {
        "id": "L_VM3USyfUWn",
        "outputId": "38b8ec91-bb21-4890-e2dd-81560834f21d",
        "colab": {
          "base_uri": "https://localhost:8080/",
          "height": 34
        }
      },
      "source": [
        "data.shape"
      ],
      "execution_count": null,
      "outputs": [
        {
          "output_type": "execute_result",
          "data": {
            "text/plain": [
              "(565, 20)"
            ]
          },
          "metadata": {
            "tags": []
          },
          "execution_count": 78
        }
      ]
    },
    {
      "cell_type": "code",
      "metadata": {
        "id": "bDAyYOBlfWPP"
      },
      "source": [
        "data = data.dropna(subset = ['Phosphate'])"
      ],
      "execution_count": null,
      "outputs": []
    },
    {
      "cell_type": "code",
      "metadata": {
        "id": "5gCduyjZf3JS",
        "outputId": "a1698b82-eda8-4abc-cc9e-5eb1478a5163",
        "colab": {
          "base_uri": "https://localhost:8080/",
          "height": 374
        }
      },
      "source": [
        "data.isnull().sum()"
      ],
      "execution_count": null,
      "outputs": [
        {
          "output_type": "execute_result",
          "data": {
            "text/plain": [
              "ID                               0\n",
              "HasFracture?                     0\n",
              "BonyLesions                     28\n",
              "Stage                            1\n",
              "Vitamin D supplements            0\n",
              "TookCalciumMedicine              0\n",
              "Denosumab                        0\n",
              "Pamidronate                      0\n",
              "Zoledronate                      0\n",
              "Dexamethasone                    0\n",
              "AgeAtDx                          0\n",
              "PatientSex                       0\n",
              "RacialGroup                      0\n",
              "LabCalciumLevel                  0\n",
              "Phosphate                        0\n",
              "Alkaline Phosphatase             0\n",
              "Vitamin D3                       0\n",
              "Thyroid Stimulating Hormone    171\n",
              "Creatinine                       0\n",
              "C-Reactive Protein              11\n",
              "dtype: int64"
            ]
          },
          "metadata": {
            "tags": []
          },
          "execution_count": 80
        }
      ]
    },
    {
      "cell_type": "code",
      "metadata": {
        "id": "QbGpYsWvgOFF"
      },
      "source": [
        "data = data.drop('Thyroid\\xa0Stimulating\\xa0Hormone', axis = 1)"
      ],
      "execution_count": null,
      "outputs": []
    },
    {
      "cell_type": "code",
      "metadata": {
        "id": "06VFvo2qgVsr",
        "outputId": "a965f2ba-d053-4e27-b00c-454125ac2fde",
        "colab": {
          "base_uri": "https://localhost:8080/",
          "height": 357
        }
      },
      "source": [
        "data.isnull().sum()"
      ],
      "execution_count": null,
      "outputs": [
        {
          "output_type": "execute_result",
          "data": {
            "text/plain": [
              "ID                        0\n",
              "HasFracture?              0\n",
              "BonyLesions              28\n",
              "Stage                     1\n",
              "Vitamin D supplements     0\n",
              "TookCalciumMedicine       0\n",
              "Denosumab                 0\n",
              "Pamidronate               0\n",
              "Zoledronate               0\n",
              "Dexamethasone             0\n",
              "AgeAtDx                   0\n",
              "PatientSex                0\n",
              "RacialGroup               0\n",
              "LabCalciumLevel           0\n",
              "Phosphate                 0\n",
              "Alkaline Phosphatase      0\n",
              "Vitamin D3                0\n",
              "Creatinine                0\n",
              "C-Reactive Protein       11\n",
              "dtype: int64"
            ]
          },
          "metadata": {
            "tags": []
          },
          "execution_count": 84
        }
      ]
    },
    {
      "cell_type": "code",
      "metadata": {
        "id": "9jw9j2ZZuUIx"
      },
      "source": [
        "data = data.dropna(subset = ['Stage', 'BonyLesions', 'C-Reactive Protein'])"
      ],
      "execution_count": null,
      "outputs": []
    },
    {
      "cell_type": "code",
      "metadata": {
        "id": "LAqV9KmKuhhd",
        "outputId": "edd6e97b-fb70-4091-b2ea-829545ab4e61",
        "colab": {
          "base_uri": "https://localhost:8080/",
          "height": 357
        }
      },
      "source": [
        "data.isnull().sum()"
      ],
      "execution_count": null,
      "outputs": [
        {
          "output_type": "execute_result",
          "data": {
            "text/plain": [
              "ID                       0\n",
              "HasFracture?             0\n",
              "BonyLesions              0\n",
              "Stage                    0\n",
              "Vitamin D supplements    0\n",
              "TookCalciumMedicine      0\n",
              "Denosumab                0\n",
              "Pamidronate              0\n",
              "Zoledronate              0\n",
              "Dexamethasone            0\n",
              "AgeAtDx                  0\n",
              "PatientSex               0\n",
              "RacialGroup              0\n",
              "LabCalciumLevel          0\n",
              "Phosphate                0\n",
              "Alkaline Phosphatase     0\n",
              "Vitamin D3               0\n",
              "Creatinine               0\n",
              "C-Reactive Protein       0\n",
              "dtype: int64"
            ]
          },
          "metadata": {
            "tags": []
          },
          "execution_count": 88
        }
      ]
    },
    {
      "cell_type": "code",
      "metadata": {
        "id": "lKOuCyY7unRa",
        "outputId": "2f496cab-5ac2-4707-e54e-c07b84002945",
        "colab": {
          "base_uri": "https://localhost:8080/",
          "height": 34
        }
      },
      "source": [
        "data.shape"
      ],
      "execution_count": null,
      "outputs": [
        {
          "output_type": "execute_result",
          "data": {
            "text/plain": [
              "(525, 19)"
            ]
          },
          "metadata": {
            "tags": []
          },
          "execution_count": 89
        }
      ]
    },
    {
      "cell_type": "code",
      "metadata": {
        "id": "pnaj9ARbuoFg"
      },
      "source": [
        "data.to_csv('data_agg_2.csv', index = False)"
      ],
      "execution_count": null,
      "outputs": []
    },
    {
      "cell_type": "markdown",
      "metadata": {
        "id": "cle27-lmv5lx"
      },
      "source": [
        "# 6. one hot encoding"
      ]
    },
    {
      "cell_type": "code",
      "metadata": {
        "id": "KoU7X6UewE7Y",
        "outputId": "878536c9-fa84-4cab-e183-be8771553476",
        "colab": {
          "base_uri": "https://localhost:8080/"
        }
      },
      "source": [
        "ls"
      ],
      "execution_count": 4,
      "outputs": [
        {
          "output_type": "stream",
          "text": [
            "BillingCodes.csv           Labs_encoded.csv\n",
            "BonyLesions.csv            Lesions_encoded.csv\n",
            "data_agg_2.csv             Medications.csv\n",
            "data_agg.csv               medicines_90_days_before_STC.csv\n",
            "data_for_ML_back_fill.csv  MyelomaTherapy.csv\n",
            "Demographics.csv           PlasmaCells.csv\n",
            "Demographics_encoded.csv   RadiationTherapy.csv\n",
            "Diagnoses.csv              Signs.csv\n",
            "Final_stage.csv            Stage.csv\n",
            "Fractures.csv              Stages_encoded.csv\n",
            "Labs2.csv                  STC_Days.csv\n",
            "Labs_closest_to_SCT.csv    SurvivalDays.csv\n",
            "Labs.csv                   Symptoms.csv\n"
          ],
          "name": "stdout"
        }
      ]
    },
    {
      "cell_type": "code",
      "metadata": {
        "id": "rvb-tnmRwFHO"
      },
      "source": [
        "data = pd.read_csv('data_agg_2.csv')"
      ],
      "execution_count": 5,
      "outputs": []
    },
    {
      "cell_type": "code",
      "metadata": {
        "id": "G22u5SbewYPk",
        "outputId": "cd065f18-d9d1-44c0-b058-bea697652359",
        "colab": {
          "base_uri": "https://localhost:8080/",
          "height": 473
        }
      },
      "source": [
        "data"
      ],
      "execution_count": 6,
      "outputs": [
        {
          "output_type": "execute_result",
          "data": {
            "text/html": [
              "<div>\n",
              "<style scoped>\n",
              "    .dataframe tbody tr th:only-of-type {\n",
              "        vertical-align: middle;\n",
              "    }\n",
              "\n",
              "    .dataframe tbody tr th {\n",
              "        vertical-align: top;\n",
              "    }\n",
              "\n",
              "    .dataframe thead th {\n",
              "        text-align: right;\n",
              "    }\n",
              "</style>\n",
              "<table border=\"1\" class=\"dataframe\">\n",
              "  <thead>\n",
              "    <tr style=\"text-align: right;\">\n",
              "      <th></th>\n",
              "      <th>ID</th>\n",
              "      <th>HasFracture?</th>\n",
              "      <th>BonyLesions</th>\n",
              "      <th>Stage</th>\n",
              "      <th>Vitamin D supplements</th>\n",
              "      <th>TookCalciumMedicine</th>\n",
              "      <th>Denosumab</th>\n",
              "      <th>Pamidronate</th>\n",
              "      <th>Zoledronate</th>\n",
              "      <th>Dexamethasone</th>\n",
              "      <th>AgeAtDx</th>\n",
              "      <th>PatientSex</th>\n",
              "      <th>RacialGroup</th>\n",
              "      <th>LabCalciumLevel</th>\n",
              "      <th>Phosphate</th>\n",
              "      <th>Alkaline Phosphatase</th>\n",
              "      <th>Vitamin D3</th>\n",
              "      <th>Creatinine</th>\n",
              "      <th>C-Reactive Protein</th>\n",
              "    </tr>\n",
              "  </thead>\n",
              "  <tbody>\n",
              "    <tr>\n",
              "      <th>0</th>\n",
              "      <td>MM1</td>\n",
              "      <td>0.0</td>\n",
              "      <td>0.0</td>\n",
              "      <td>1.0</td>\n",
              "      <td>0.0</td>\n",
              "      <td>1.0</td>\n",
              "      <td>0.0</td>\n",
              "      <td>0.0</td>\n",
              "      <td>0.0</td>\n",
              "      <td>1.0</td>\n",
              "      <td>2.0</td>\n",
              "      <td>1.0</td>\n",
              "      <td>1.0</td>\n",
              "      <td>0.0</td>\n",
              "      <td>1.0</td>\n",
              "      <td>0.0</td>\n",
              "      <td>0.0</td>\n",
              "      <td>1.0</td>\n",
              "      <td>1.0</td>\n",
              "    </tr>\n",
              "    <tr>\n",
              "      <th>1</th>\n",
              "      <td>MM2</td>\n",
              "      <td>0.0</td>\n",
              "      <td>1.0</td>\n",
              "      <td>3.0</td>\n",
              "      <td>0.0</td>\n",
              "      <td>0.0</td>\n",
              "      <td>0.0</td>\n",
              "      <td>0.0</td>\n",
              "      <td>0.0</td>\n",
              "      <td>1.0</td>\n",
              "      <td>2.0</td>\n",
              "      <td>1.0</td>\n",
              "      <td>2.0</td>\n",
              "      <td>0.0</td>\n",
              "      <td>0.0</td>\n",
              "      <td>0.0</td>\n",
              "      <td>0.0</td>\n",
              "      <td>0.0</td>\n",
              "      <td>0.0</td>\n",
              "    </tr>\n",
              "    <tr>\n",
              "      <th>2</th>\n",
              "      <td>MM4</td>\n",
              "      <td>1.0</td>\n",
              "      <td>1.0</td>\n",
              "      <td>3.0</td>\n",
              "      <td>0.0</td>\n",
              "      <td>0.0</td>\n",
              "      <td>0.0</td>\n",
              "      <td>0.0</td>\n",
              "      <td>0.0</td>\n",
              "      <td>1.0</td>\n",
              "      <td>2.0</td>\n",
              "      <td>0.0</td>\n",
              "      <td>1.0</td>\n",
              "      <td>0.0</td>\n",
              "      <td>0.0</td>\n",
              "      <td>0.0</td>\n",
              "      <td>0.0</td>\n",
              "      <td>1.0</td>\n",
              "      <td>0.0</td>\n",
              "    </tr>\n",
              "    <tr>\n",
              "      <th>3</th>\n",
              "      <td>MM5</td>\n",
              "      <td>0.0</td>\n",
              "      <td>0.0</td>\n",
              "      <td>1.0</td>\n",
              "      <td>0.0</td>\n",
              "      <td>0.0</td>\n",
              "      <td>0.0</td>\n",
              "      <td>0.0</td>\n",
              "      <td>0.0</td>\n",
              "      <td>0.0</td>\n",
              "      <td>2.0</td>\n",
              "      <td>1.0</td>\n",
              "      <td>1.0</td>\n",
              "      <td>1.0</td>\n",
              "      <td>0.0</td>\n",
              "      <td>0.0</td>\n",
              "      <td>0.0</td>\n",
              "      <td>0.0</td>\n",
              "      <td>0.0</td>\n",
              "    </tr>\n",
              "    <tr>\n",
              "      <th>4</th>\n",
              "      <td>MM7</td>\n",
              "      <td>1.0</td>\n",
              "      <td>1.0</td>\n",
              "      <td>3.0</td>\n",
              "      <td>0.0</td>\n",
              "      <td>0.0</td>\n",
              "      <td>0.0</td>\n",
              "      <td>0.0</td>\n",
              "      <td>0.0</td>\n",
              "      <td>1.0</td>\n",
              "      <td>2.0</td>\n",
              "      <td>0.0</td>\n",
              "      <td>1.0</td>\n",
              "      <td>1.0</td>\n",
              "      <td>0.0</td>\n",
              "      <td>0.0</td>\n",
              "      <td>0.0</td>\n",
              "      <td>1.0</td>\n",
              "      <td>0.0</td>\n",
              "    </tr>\n",
              "    <tr>\n",
              "      <th>...</th>\n",
              "      <td>...</td>\n",
              "      <td>...</td>\n",
              "      <td>...</td>\n",
              "      <td>...</td>\n",
              "      <td>...</td>\n",
              "      <td>...</td>\n",
              "      <td>...</td>\n",
              "      <td>...</td>\n",
              "      <td>...</td>\n",
              "      <td>...</td>\n",
              "      <td>...</td>\n",
              "      <td>...</td>\n",
              "      <td>...</td>\n",
              "      <td>...</td>\n",
              "      <td>...</td>\n",
              "      <td>...</td>\n",
              "      <td>...</td>\n",
              "      <td>...</td>\n",
              "      <td>...</td>\n",
              "    </tr>\n",
              "    <tr>\n",
              "      <th>520</th>\n",
              "      <td>MM832</td>\n",
              "      <td>0.0</td>\n",
              "      <td>1.0</td>\n",
              "      <td>2.0</td>\n",
              "      <td>0.0</td>\n",
              "      <td>1.0</td>\n",
              "      <td>0.0</td>\n",
              "      <td>0.0</td>\n",
              "      <td>0.0</td>\n",
              "      <td>1.0</td>\n",
              "      <td>2.0</td>\n",
              "      <td>1.0</td>\n",
              "      <td>1.0</td>\n",
              "      <td>1.0</td>\n",
              "      <td>0.0</td>\n",
              "      <td>0.0</td>\n",
              "      <td>0.0</td>\n",
              "      <td>1.0</td>\n",
              "      <td>0.0</td>\n",
              "    </tr>\n",
              "    <tr>\n",
              "      <th>521</th>\n",
              "      <td>MM843</td>\n",
              "      <td>0.0</td>\n",
              "      <td>1.0</td>\n",
              "      <td>2.0</td>\n",
              "      <td>0.0</td>\n",
              "      <td>0.0</td>\n",
              "      <td>0.0</td>\n",
              "      <td>0.0</td>\n",
              "      <td>0.0</td>\n",
              "      <td>0.0</td>\n",
              "      <td>3.0</td>\n",
              "      <td>1.0</td>\n",
              "      <td>1.0</td>\n",
              "      <td>0.0</td>\n",
              "      <td>0.0</td>\n",
              "      <td>0.0</td>\n",
              "      <td>0.0</td>\n",
              "      <td>0.0</td>\n",
              "      <td>0.0</td>\n",
              "    </tr>\n",
              "    <tr>\n",
              "      <th>522</th>\n",
              "      <td>MM836</td>\n",
              "      <td>0.0</td>\n",
              "      <td>1.0</td>\n",
              "      <td>2.0</td>\n",
              "      <td>0.0</td>\n",
              "      <td>0.0</td>\n",
              "      <td>0.0</td>\n",
              "      <td>0.0</td>\n",
              "      <td>0.0</td>\n",
              "      <td>1.0</td>\n",
              "      <td>2.0</td>\n",
              "      <td>1.0</td>\n",
              "      <td>1.0</td>\n",
              "      <td>0.0</td>\n",
              "      <td>0.0</td>\n",
              "      <td>0.0</td>\n",
              "      <td>0.0</td>\n",
              "      <td>0.0</td>\n",
              "      <td>1.0</td>\n",
              "    </tr>\n",
              "    <tr>\n",
              "      <th>523</th>\n",
              "      <td>MM837</td>\n",
              "      <td>0.0</td>\n",
              "      <td>1.0</td>\n",
              "      <td>3.0</td>\n",
              "      <td>0.0</td>\n",
              "      <td>1.0</td>\n",
              "      <td>0.0</td>\n",
              "      <td>0.0</td>\n",
              "      <td>0.0</td>\n",
              "      <td>1.0</td>\n",
              "      <td>2.0</td>\n",
              "      <td>1.0</td>\n",
              "      <td>1.0</td>\n",
              "      <td>0.0</td>\n",
              "      <td>0.0</td>\n",
              "      <td>0.0</td>\n",
              "      <td>0.0</td>\n",
              "      <td>0.0</td>\n",
              "      <td>0.0</td>\n",
              "    </tr>\n",
              "    <tr>\n",
              "      <th>524</th>\n",
              "      <td>MM838</td>\n",
              "      <td>0.0</td>\n",
              "      <td>1.0</td>\n",
              "      <td>2.0</td>\n",
              "      <td>0.0</td>\n",
              "      <td>0.0</td>\n",
              "      <td>0.0</td>\n",
              "      <td>0.0</td>\n",
              "      <td>0.0</td>\n",
              "      <td>0.0</td>\n",
              "      <td>2.0</td>\n",
              "      <td>1.0</td>\n",
              "      <td>1.0</td>\n",
              "      <td>1.0</td>\n",
              "      <td>0.0</td>\n",
              "      <td>0.0</td>\n",
              "      <td>0.0</td>\n",
              "      <td>0.0</td>\n",
              "      <td>0.0</td>\n",
              "    </tr>\n",
              "  </tbody>\n",
              "</table>\n",
              "<p>525 rows × 19 columns</p>\n",
              "</div>"
            ],
            "text/plain": [
              "        ID  HasFracture?  ...  Creatinine  C-Reactive Protein\n",
              "0      MM1           0.0  ...         1.0                 1.0\n",
              "1      MM2           0.0  ...         0.0                 0.0\n",
              "2      MM4           1.0  ...         1.0                 0.0\n",
              "3      MM5           0.0  ...         0.0                 0.0\n",
              "4      MM7           1.0  ...         1.0                 0.0\n",
              "..     ...           ...  ...         ...                 ...\n",
              "520  MM832           0.0  ...         1.0                 0.0\n",
              "521  MM843           0.0  ...         0.0                 0.0\n",
              "522  MM836           0.0  ...         0.0                 1.0\n",
              "523  MM837           0.0  ...         0.0                 0.0\n",
              "524  MM838           0.0  ...         0.0                 0.0\n",
              "\n",
              "[525 rows x 19 columns]"
            ]
          },
          "metadata": {
            "tags": []
          },
          "execution_count": 6
        }
      ]
    },
    {
      "cell_type": "code",
      "metadata": {
        "id": "CtmQHD_HwYmg",
        "outputId": "e485b7fe-3049-4447-d3b8-e213df5ee39f",
        "colab": {
          "base_uri": "https://localhost:8080/"
        }
      },
      "source": [
        "data['HasFracture?'].sum()"
      ],
      "execution_count": 7,
      "outputs": [
        {
          "output_type": "execute_result",
          "data": {
            "text/plain": [
              "108.0"
            ]
          },
          "metadata": {
            "tags": []
          },
          "execution_count": 7
        }
      ]
    },
    {
      "cell_type": "code",
      "metadata": {
        "id": "2TErkmvtYbQ3",
        "outputId": "2538491c-01c2-4422-e8db-bdcb4116ec85",
        "colab": {
          "base_uri": "https://localhost:8080/"
        }
      },
      "source": [
        "data.isnull().sum()"
      ],
      "execution_count": 8,
      "outputs": [
        {
          "output_type": "execute_result",
          "data": {
            "text/plain": [
              "ID                       0\n",
              "HasFracture?             0\n",
              "BonyLesions              0\n",
              "Stage                    0\n",
              "Vitamin D supplements    0\n",
              "TookCalciumMedicine      0\n",
              "Denosumab                0\n",
              "Pamidronate              0\n",
              "Zoledronate              0\n",
              "Dexamethasone            0\n",
              "AgeAtDx                  0\n",
              "PatientSex               0\n",
              "RacialGroup              0\n",
              "LabCalciumLevel          0\n",
              "Phosphate                0\n",
              "Alkaline Phosphatase     0\n",
              "Vitamin D3               0\n",
              "Creatinine               0\n",
              "C-Reactive Protein       0\n",
              "dtype: int64"
            ]
          },
          "metadata": {
            "tags": []
          },
          "execution_count": 8
        }
      ]
    },
    {
      "cell_type": "code",
      "metadata": {
        "id": "rVB2o_7DYavL"
      },
      "source": [
        "# need to do one hot encoding on 1. Age variable, 2. sex, 3. racial group\n",
        "data = pd.get_dummies(data, columns=['AgeAtDx', 'PatientSex', 'RacialGroup'])"
      ],
      "execution_count": 9,
      "outputs": []
    },
    {
      "cell_type": "code",
      "metadata": {
        "id": "5DF3pCX5ZVP8",
        "outputId": "07bee007-00c2-4b33-dbee-061b6bdf2ce7",
        "colab": {
          "base_uri": "https://localhost:8080/",
          "height": 473
        }
      },
      "source": [
        "data"
      ],
      "execution_count": 10,
      "outputs": [
        {
          "output_type": "execute_result",
          "data": {
            "text/html": [
              "<div>\n",
              "<style scoped>\n",
              "    .dataframe tbody tr th:only-of-type {\n",
              "        vertical-align: middle;\n",
              "    }\n",
              "\n",
              "    .dataframe tbody tr th {\n",
              "        vertical-align: top;\n",
              "    }\n",
              "\n",
              "    .dataframe thead th {\n",
              "        text-align: right;\n",
              "    }\n",
              "</style>\n",
              "<table border=\"1\" class=\"dataframe\">\n",
              "  <thead>\n",
              "    <tr style=\"text-align: right;\">\n",
              "      <th></th>\n",
              "      <th>ID</th>\n",
              "      <th>HasFracture?</th>\n",
              "      <th>BonyLesions</th>\n",
              "      <th>Stage</th>\n",
              "      <th>Vitamin D supplements</th>\n",
              "      <th>TookCalciumMedicine</th>\n",
              "      <th>Denosumab</th>\n",
              "      <th>Pamidronate</th>\n",
              "      <th>Zoledronate</th>\n",
              "      <th>Dexamethasone</th>\n",
              "      <th>LabCalciumLevel</th>\n",
              "      <th>Phosphate</th>\n",
              "      <th>Alkaline Phosphatase</th>\n",
              "      <th>Vitamin D3</th>\n",
              "      <th>Creatinine</th>\n",
              "      <th>C-Reactive Protein</th>\n",
              "      <th>AgeAtDx_1.0</th>\n",
              "      <th>AgeAtDx_2.0</th>\n",
              "      <th>AgeAtDx_3.0</th>\n",
              "      <th>PatientSex_0.0</th>\n",
              "      <th>PatientSex_1.0</th>\n",
              "      <th>RacialGroup_1.0</th>\n",
              "      <th>RacialGroup_2.0</th>\n",
              "      <th>RacialGroup_3.0</th>\n",
              "      <th>RacialGroup_4.0</th>\n",
              "    </tr>\n",
              "  </thead>\n",
              "  <tbody>\n",
              "    <tr>\n",
              "      <th>0</th>\n",
              "      <td>MM1</td>\n",
              "      <td>0.0</td>\n",
              "      <td>0.0</td>\n",
              "      <td>1.0</td>\n",
              "      <td>0.0</td>\n",
              "      <td>1.0</td>\n",
              "      <td>0.0</td>\n",
              "      <td>0.0</td>\n",
              "      <td>0.0</td>\n",
              "      <td>1.0</td>\n",
              "      <td>0.0</td>\n",
              "      <td>1.0</td>\n",
              "      <td>0.0</td>\n",
              "      <td>0.0</td>\n",
              "      <td>1.0</td>\n",
              "      <td>1.0</td>\n",
              "      <td>0</td>\n",
              "      <td>1</td>\n",
              "      <td>0</td>\n",
              "      <td>0</td>\n",
              "      <td>1</td>\n",
              "      <td>1</td>\n",
              "      <td>0</td>\n",
              "      <td>0</td>\n",
              "      <td>0</td>\n",
              "    </tr>\n",
              "    <tr>\n",
              "      <th>1</th>\n",
              "      <td>MM2</td>\n",
              "      <td>0.0</td>\n",
              "      <td>1.0</td>\n",
              "      <td>3.0</td>\n",
              "      <td>0.0</td>\n",
              "      <td>0.0</td>\n",
              "      <td>0.0</td>\n",
              "      <td>0.0</td>\n",
              "      <td>0.0</td>\n",
              "      <td>1.0</td>\n",
              "      <td>0.0</td>\n",
              "      <td>0.0</td>\n",
              "      <td>0.0</td>\n",
              "      <td>0.0</td>\n",
              "      <td>0.0</td>\n",
              "      <td>0.0</td>\n",
              "      <td>0</td>\n",
              "      <td>1</td>\n",
              "      <td>0</td>\n",
              "      <td>0</td>\n",
              "      <td>1</td>\n",
              "      <td>0</td>\n",
              "      <td>1</td>\n",
              "      <td>0</td>\n",
              "      <td>0</td>\n",
              "    </tr>\n",
              "    <tr>\n",
              "      <th>2</th>\n",
              "      <td>MM4</td>\n",
              "      <td>1.0</td>\n",
              "      <td>1.0</td>\n",
              "      <td>3.0</td>\n",
              "      <td>0.0</td>\n",
              "      <td>0.0</td>\n",
              "      <td>0.0</td>\n",
              "      <td>0.0</td>\n",
              "      <td>0.0</td>\n",
              "      <td>1.0</td>\n",
              "      <td>0.0</td>\n",
              "      <td>0.0</td>\n",
              "      <td>0.0</td>\n",
              "      <td>0.0</td>\n",
              "      <td>1.0</td>\n",
              "      <td>0.0</td>\n",
              "      <td>0</td>\n",
              "      <td>1</td>\n",
              "      <td>0</td>\n",
              "      <td>1</td>\n",
              "      <td>0</td>\n",
              "      <td>1</td>\n",
              "      <td>0</td>\n",
              "      <td>0</td>\n",
              "      <td>0</td>\n",
              "    </tr>\n",
              "    <tr>\n",
              "      <th>3</th>\n",
              "      <td>MM5</td>\n",
              "      <td>0.0</td>\n",
              "      <td>0.0</td>\n",
              "      <td>1.0</td>\n",
              "      <td>0.0</td>\n",
              "      <td>0.0</td>\n",
              "      <td>0.0</td>\n",
              "      <td>0.0</td>\n",
              "      <td>0.0</td>\n",
              "      <td>0.0</td>\n",
              "      <td>1.0</td>\n",
              "      <td>0.0</td>\n",
              "      <td>0.0</td>\n",
              "      <td>0.0</td>\n",
              "      <td>0.0</td>\n",
              "      <td>0.0</td>\n",
              "      <td>0</td>\n",
              "      <td>1</td>\n",
              "      <td>0</td>\n",
              "      <td>0</td>\n",
              "      <td>1</td>\n",
              "      <td>1</td>\n",
              "      <td>0</td>\n",
              "      <td>0</td>\n",
              "      <td>0</td>\n",
              "    </tr>\n",
              "    <tr>\n",
              "      <th>4</th>\n",
              "      <td>MM7</td>\n",
              "      <td>1.0</td>\n",
              "      <td>1.0</td>\n",
              "      <td>3.0</td>\n",
              "      <td>0.0</td>\n",
              "      <td>0.0</td>\n",
              "      <td>0.0</td>\n",
              "      <td>0.0</td>\n",
              "      <td>0.0</td>\n",
              "      <td>1.0</td>\n",
              "      <td>1.0</td>\n",
              "      <td>0.0</td>\n",
              "      <td>0.0</td>\n",
              "      <td>0.0</td>\n",
              "      <td>1.0</td>\n",
              "      <td>0.0</td>\n",
              "      <td>0</td>\n",
              "      <td>1</td>\n",
              "      <td>0</td>\n",
              "      <td>1</td>\n",
              "      <td>0</td>\n",
              "      <td>1</td>\n",
              "      <td>0</td>\n",
              "      <td>0</td>\n",
              "      <td>0</td>\n",
              "    </tr>\n",
              "    <tr>\n",
              "      <th>...</th>\n",
              "      <td>...</td>\n",
              "      <td>...</td>\n",
              "      <td>...</td>\n",
              "      <td>...</td>\n",
              "      <td>...</td>\n",
              "      <td>...</td>\n",
              "      <td>...</td>\n",
              "      <td>...</td>\n",
              "      <td>...</td>\n",
              "      <td>...</td>\n",
              "      <td>...</td>\n",
              "      <td>...</td>\n",
              "      <td>...</td>\n",
              "      <td>...</td>\n",
              "      <td>...</td>\n",
              "      <td>...</td>\n",
              "      <td>...</td>\n",
              "      <td>...</td>\n",
              "      <td>...</td>\n",
              "      <td>...</td>\n",
              "      <td>...</td>\n",
              "      <td>...</td>\n",
              "      <td>...</td>\n",
              "      <td>...</td>\n",
              "      <td>...</td>\n",
              "    </tr>\n",
              "    <tr>\n",
              "      <th>520</th>\n",
              "      <td>MM832</td>\n",
              "      <td>0.0</td>\n",
              "      <td>1.0</td>\n",
              "      <td>2.0</td>\n",
              "      <td>0.0</td>\n",
              "      <td>1.0</td>\n",
              "      <td>0.0</td>\n",
              "      <td>0.0</td>\n",
              "      <td>0.0</td>\n",
              "      <td>1.0</td>\n",
              "      <td>1.0</td>\n",
              "      <td>0.0</td>\n",
              "      <td>0.0</td>\n",
              "      <td>0.0</td>\n",
              "      <td>1.0</td>\n",
              "      <td>0.0</td>\n",
              "      <td>0</td>\n",
              "      <td>1</td>\n",
              "      <td>0</td>\n",
              "      <td>0</td>\n",
              "      <td>1</td>\n",
              "      <td>1</td>\n",
              "      <td>0</td>\n",
              "      <td>0</td>\n",
              "      <td>0</td>\n",
              "    </tr>\n",
              "    <tr>\n",
              "      <th>521</th>\n",
              "      <td>MM843</td>\n",
              "      <td>0.0</td>\n",
              "      <td>1.0</td>\n",
              "      <td>2.0</td>\n",
              "      <td>0.0</td>\n",
              "      <td>0.0</td>\n",
              "      <td>0.0</td>\n",
              "      <td>0.0</td>\n",
              "      <td>0.0</td>\n",
              "      <td>0.0</td>\n",
              "      <td>0.0</td>\n",
              "      <td>0.0</td>\n",
              "      <td>0.0</td>\n",
              "      <td>0.0</td>\n",
              "      <td>0.0</td>\n",
              "      <td>0.0</td>\n",
              "      <td>0</td>\n",
              "      <td>0</td>\n",
              "      <td>1</td>\n",
              "      <td>0</td>\n",
              "      <td>1</td>\n",
              "      <td>1</td>\n",
              "      <td>0</td>\n",
              "      <td>0</td>\n",
              "      <td>0</td>\n",
              "    </tr>\n",
              "    <tr>\n",
              "      <th>522</th>\n",
              "      <td>MM836</td>\n",
              "      <td>0.0</td>\n",
              "      <td>1.0</td>\n",
              "      <td>2.0</td>\n",
              "      <td>0.0</td>\n",
              "      <td>0.0</td>\n",
              "      <td>0.0</td>\n",
              "      <td>0.0</td>\n",
              "      <td>0.0</td>\n",
              "      <td>1.0</td>\n",
              "      <td>0.0</td>\n",
              "      <td>0.0</td>\n",
              "      <td>0.0</td>\n",
              "      <td>0.0</td>\n",
              "      <td>0.0</td>\n",
              "      <td>1.0</td>\n",
              "      <td>0</td>\n",
              "      <td>1</td>\n",
              "      <td>0</td>\n",
              "      <td>0</td>\n",
              "      <td>1</td>\n",
              "      <td>1</td>\n",
              "      <td>0</td>\n",
              "      <td>0</td>\n",
              "      <td>0</td>\n",
              "    </tr>\n",
              "    <tr>\n",
              "      <th>523</th>\n",
              "      <td>MM837</td>\n",
              "      <td>0.0</td>\n",
              "      <td>1.0</td>\n",
              "      <td>3.0</td>\n",
              "      <td>0.0</td>\n",
              "      <td>1.0</td>\n",
              "      <td>0.0</td>\n",
              "      <td>0.0</td>\n",
              "      <td>0.0</td>\n",
              "      <td>1.0</td>\n",
              "      <td>0.0</td>\n",
              "      <td>0.0</td>\n",
              "      <td>0.0</td>\n",
              "      <td>0.0</td>\n",
              "      <td>0.0</td>\n",
              "      <td>0.0</td>\n",
              "      <td>0</td>\n",
              "      <td>1</td>\n",
              "      <td>0</td>\n",
              "      <td>0</td>\n",
              "      <td>1</td>\n",
              "      <td>1</td>\n",
              "      <td>0</td>\n",
              "      <td>0</td>\n",
              "      <td>0</td>\n",
              "    </tr>\n",
              "    <tr>\n",
              "      <th>524</th>\n",
              "      <td>MM838</td>\n",
              "      <td>0.0</td>\n",
              "      <td>1.0</td>\n",
              "      <td>2.0</td>\n",
              "      <td>0.0</td>\n",
              "      <td>0.0</td>\n",
              "      <td>0.0</td>\n",
              "      <td>0.0</td>\n",
              "      <td>0.0</td>\n",
              "      <td>0.0</td>\n",
              "      <td>1.0</td>\n",
              "      <td>0.0</td>\n",
              "      <td>0.0</td>\n",
              "      <td>0.0</td>\n",
              "      <td>0.0</td>\n",
              "      <td>0.0</td>\n",
              "      <td>0</td>\n",
              "      <td>1</td>\n",
              "      <td>0</td>\n",
              "      <td>0</td>\n",
              "      <td>1</td>\n",
              "      <td>1</td>\n",
              "      <td>0</td>\n",
              "      <td>0</td>\n",
              "      <td>0</td>\n",
              "    </tr>\n",
              "  </tbody>\n",
              "</table>\n",
              "<p>525 rows × 25 columns</p>\n",
              "</div>"
            ],
            "text/plain": [
              "        ID  HasFracture?  ...  RacialGroup_3.0  RacialGroup_4.0\n",
              "0      MM1           0.0  ...                0                0\n",
              "1      MM2           0.0  ...                0                0\n",
              "2      MM4           1.0  ...                0                0\n",
              "3      MM5           0.0  ...                0                0\n",
              "4      MM7           1.0  ...                0                0\n",
              "..     ...           ...  ...              ...              ...\n",
              "520  MM832           0.0  ...                0                0\n",
              "521  MM843           0.0  ...                0                0\n",
              "522  MM836           0.0  ...                0                0\n",
              "523  MM837           0.0  ...                0                0\n",
              "524  MM838           0.0  ...                0                0\n",
              "\n",
              "[525 rows x 25 columns]"
            ]
          },
          "metadata": {
            "tags": []
          },
          "execution_count": 10
        }
      ]
    },
    {
      "cell_type": "code",
      "metadata": {
        "id": "3KBStEo4ZcAe"
      },
      "source": [
        "data.to_csv('data_agg_3.csv', index = False)"
      ],
      "execution_count": 13,
      "outputs": []
    }
  ]
}