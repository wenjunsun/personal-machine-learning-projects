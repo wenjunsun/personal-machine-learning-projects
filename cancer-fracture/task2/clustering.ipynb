{
  "nbformat": 4,
  "nbformat_minor": 0,
  "metadata": {
    "colab": {
      "name": "clustering.ipynb",
      "provenance": [],
      "mount_file_id": "1F_dJ2ePm2N-ucahlxPXrzD7Y5p1BXP-_",
      "authorship_tag": "ABX9TyPTnP9lJ1dhJDH4NxjpxLNn",
      "include_colab_link": true
    },
    "kernelspec": {
      "name": "python3",
      "display_name": "Python 3"
    }
  },
  "cells": [
    {
      "cell_type": "markdown",
      "metadata": {
        "id": "view-in-github",
        "colab_type": "text"
      },
      "source": [
        "<a href=\"https://colab.research.google.com/github/wenjunsun/personal-machine-learning-projects/blob/master/cancer-fracture/task2/clustering.ipynb\" target=\"_parent\"><img src=\"https://colab.research.google.com/assets/colab-badge.svg\" alt=\"Open In Colab\"/></a>"
      ]
    },
    {
      "cell_type": "markdown",
      "metadata": {
        "id": "2s0Sh2PrLIAE"
      },
      "source": [
        "The goal of this notebook is to apply some clustering algorithms to our dataset of patients. (features are binary, indicating whether patient has some other contingency diseases and disorders). We want to group similar patients together and see what those groups mean, and also find relevant features for our supervised machine learning model (to predict whether patient will have cancer fracture or not)"
      ]
    },
    {
      "cell_type": "markdown",
      "metadata": {
        "id": "UsGE6h6dKa1Q"
      },
      "source": [
        "# 0. Prepare data"
      ]
    },
    {
      "cell_type": "code",
      "metadata": {
        "colab": {
          "base_uri": "https://localhost:8080/"
        },
        "id": "ccmt1M_IqVdB",
        "outputId": "5977d577-80c8-4d36-9205-44027664069a"
      },
      "source": [
        "cd drive/MyDrive/fracture_with_emisa/Task2/data/"
      ],
      "execution_count": 1,
      "outputs": [
        {
          "output_type": "stream",
          "text": [
            "/content/drive/MyDrive/fracture_with_emisa/Task2/data\n"
          ],
          "name": "stdout"
        }
      ]
    },
    {
      "cell_type": "code",
      "metadata": {
        "colab": {
          "base_uri": "https://localhost:8080/"
        },
        "id": "wFeRN_BYqeLr",
        "outputId": "eae43737-76ee-4243-9db1-b055a48290c9"
      },
      "source": [
        "ls"
      ],
      "execution_count": 2,
      "outputs": [
        {
          "output_type": "stream",
          "text": [
            "BillingCodes.csv  LabInterpretation.csv   RadiationTherapy.csv\n",
            "\u001b[0m\u001b[01;34mBinary\u001b[0m/           LabInterpretation.xlsx  RadiationTherapyTargets.csv\n",
            "BonyLesions.csv   Labs.csv                Signs.csv\n",
            "Cdiff.csv         Medications.csv         Stage.csv\n",
            "Demographics.csv  merged.csv              SurvivalDays.csv\n",
            "Diagnoses.csv     MyelomaTherapy.csv      Symptoms.csv\n",
            "FISH.csv          PlasmaCells.csv\n"
          ],
          "name": "stdout"
        }
      ]
    },
    {
      "cell_type": "code",
      "metadata": {
        "id": "9C-jxGF-qT3j"
      },
      "source": [
        "import pandas as pd\r\n",
        "import numpy as np\r\n",
        "import matplotlib.pyplot as plt"
      ],
      "execution_count": 3,
      "outputs": []
    },
    {
      "cell_type": "code",
      "metadata": {
        "id": "YOhnX3aiqoUh"
      },
      "source": [
        "data = pd.read_csv(\"merged.csv\")"
      ],
      "execution_count": 4,
      "outputs": []
    },
    {
      "cell_type": "code",
      "metadata": {
        "colab": {
          "base_uri": "https://localhost:8080/",
          "height": 609
        },
        "id": "ZcW23yPPqvv3",
        "outputId": "9e6c59d8-9a8a-4697-9c5d-3e3591f69dbe"
      },
      "source": [
        "data"
      ],
      "execution_count": 5,
      "outputs": [
        {
          "output_type": "execute_result",
          "data": {
            "text/html": [
              "<div>\n",
              "<style scoped>\n",
              "    .dataframe tbody tr th:only-of-type {\n",
              "        vertical-align: middle;\n",
              "    }\n",
              "\n",
              "    .dataframe tbody tr th {\n",
              "        vertical-align: top;\n",
              "    }\n",
              "\n",
              "    .dataframe thead th {\n",
              "        text-align: right;\n",
              "    }\n",
              "</style>\n",
              "<table border=\"1\" class=\"dataframe\">\n",
              "  <thead>\n",
              "    <tr style=\"text-align: right;\">\n",
              "      <th></th>\n",
              "      <th>Unnamed: 0</th>\n",
              "      <th>Unspecified essential hypertension code</th>\n",
              "      <th>Encounter for change or removal of surgical wound dressing code</th>\n",
              "      <th>Esophageal reflux code</th>\n",
              "      <th>Personal history of allergy to other specified medicinal agents code</th>\n",
              "      <th>Anemia, unspecified code</th>\n",
              "      <th>Leukocytosis, unspecified code</th>\n",
              "      <th>Other specified aftercare following surgery code</th>\n",
              "      <th>Neutropenia, unspecified code</th>\n",
              "      <th>Disorders of magnesium metabolism code</th>\n",
              "      <th>Other specified pre-operative examination code</th>\n",
              "      <th>Constipation, unspecified code</th>\n",
              "      <th>Other pancytopenia code</th>\n",
              "      <th>Laboratory examination, unspecified code</th>\n",
              "      <th>Backache, unspecified code</th>\n",
              "      <th>Hypopotassemia code</th>\n",
              "      <th>Thrombocytopenia, unspecified code</th>\n",
              "      <th>Hypogammaglobulinemia, unspecified code</th>\n",
              "      <th>Other postprocedural status code</th>\n",
              "      <th>Disturbance of skin sensation code</th>\n",
              "      <th>Fever, unspecified code</th>\n",
              "      <th>Examination of participant in clinical trial code</th>\n",
              "      <th>Dietary surveillance and counseling code</th>\n",
              "      <th>Antineoplastic and immunosuppressive drugs causing adverse effects in therapeutic use code</th>\n",
              "      <th>Mineral deficiency, not elsewhere classified code</th>\n",
              "      <th>Radiological examination, not elsewhere classified code</th>\n",
              "      <th>Intestinal infection due to Clostridium difficile code</th>\n",
              "      <th>Bacteremia code</th>\n",
              "      <th>Benign essential hypertension code</th>\n",
              "      <th>Cough code</th>\n",
              "      <th>Orthostatic hypotension code</th>\n",
              "      <th>Dysuria code</th>\n",
              "      <th>Abdominal pain, unspecified site code</th>\n",
              "      <th>Antineoplastic chemotherapy induced pancytopenia code</th>\n",
              "      <th>Fever presenting with conditions classified elsewhere code</th>\n",
              "      <th>Family history of other condition code</th>\n",
              "      <th>Mucositis (ulcerative) due to antineoplastic therapy code</th>\n",
              "      <th>Morbid obesity code</th>\n",
              "      <th>Shortness of breath code</th>\n",
              "      <th>Dyspepsia and other specified disorders of function of stomach code</th>\n",
              "      <th>...</th>\n",
              "      <th>Other nonspecific abnormal serum enzyme levels code</th>\n",
              "      <th>Allergy status to narcotic agent status code</th>\n",
              "      <th>Unspecified transfusion reaction, initial encounter code</th>\n",
              "      <th>Enterocolitis due to Clostridium difficile code</th>\n",
              "      <th>Other transfusion reaction code</th>\n",
              "      <th>Long-term (current) use of antibiotics code</th>\n",
              "      <th>Other and unspecified coagulation defects code</th>\n",
              "      <th>Special screening examination for Human papillomavirus (HPV) code</th>\n",
              "      <th>Follicular disorder, unspecified code</th>\n",
              "      <th>Other specified anxiety disorders code</th>\n",
              "      <th>Other symptoms involving digestive system code</th>\n",
              "      <th>Other specified examination code</th>\n",
              "      <th>Other fluid overload code</th>\n",
              "      <th>Infection with microorganisms without mention of resistance to multiple drugs code</th>\n",
              "      <th>Carrier or suspected carrier of other specified bacterial diseases code</th>\n",
              "      <th>Renal dialysis status code</th>\n",
              "      <th>Complications of other specified transplanted organ code</th>\n",
              "      <th>Polyneuropathy in malignant disease code</th>\n",
              "      <th>Gastroparesis code</th>\n",
              "      <th>Other nonspecific abnormal finding of lung field code</th>\n",
              "      <th>Other and unspecified mycoses code</th>\n",
              "      <th>Family history of other chronic respiratory conditions code</th>\n",
              "      <th>Long-term (current) use of aspirin code</th>\n",
              "      <th>Chronic sinusitis, unspecified code</th>\n",
              "      <th>Hemorrhage of vascular prosthetic devices, implants and grafts, initial encounter code</th>\n",
              "      <th>Activated protein C resistance code</th>\n",
              "      <th>Monoclonal gammopathy code</th>\n",
              "      <th>Fibromyalgia code</th>\n",
              "      <th>ALT</th>\n",
              "      <th>ALK</th>\n",
              "      <th>BETA2</th>\n",
              "      <th>CRE</th>\n",
              "      <th>TP</th>\n",
              "      <th>Lenalidomide</th>\n",
              "      <th>Bortezomib</th>\n",
              "      <th>Etoposide</th>\n",
              "      <th>Cisplatin</th>\n",
              "      <th>Doxorubicin</th>\n",
              "      <th>Bendamustine</th>\n",
              "      <th>Melphalan</th>\n",
              "    </tr>\n",
              "  </thead>\n",
              "  <tbody>\n",
              "    <tr>\n",
              "      <th>0</th>\n",
              "      <td>MM1</td>\n",
              "      <td>1</td>\n",
              "      <td>1</td>\n",
              "      <td>1</td>\n",
              "      <td>1</td>\n",
              "      <td>1</td>\n",
              "      <td>1</td>\n",
              "      <td>1</td>\n",
              "      <td>1</td>\n",
              "      <td>1</td>\n",
              "      <td>1</td>\n",
              "      <td>1</td>\n",
              "      <td>1</td>\n",
              "      <td>1</td>\n",
              "      <td>1</td>\n",
              "      <td>1</td>\n",
              "      <td>0</td>\n",
              "      <td>0</td>\n",
              "      <td>0</td>\n",
              "      <td>0</td>\n",
              "      <td>0</td>\n",
              "      <td>0</td>\n",
              "      <td>0</td>\n",
              "      <td>0</td>\n",
              "      <td>0</td>\n",
              "      <td>0</td>\n",
              "      <td>0</td>\n",
              "      <td>0</td>\n",
              "      <td>0</td>\n",
              "      <td>0</td>\n",
              "      <td>0</td>\n",
              "      <td>0</td>\n",
              "      <td>0</td>\n",
              "      <td>0</td>\n",
              "      <td>0</td>\n",
              "      <td>0</td>\n",
              "      <td>0</td>\n",
              "      <td>0</td>\n",
              "      <td>0</td>\n",
              "      <td>0</td>\n",
              "      <td>...</td>\n",
              "      <td>0</td>\n",
              "      <td>0</td>\n",
              "      <td>0</td>\n",
              "      <td>0</td>\n",
              "      <td>0</td>\n",
              "      <td>0</td>\n",
              "      <td>0</td>\n",
              "      <td>0</td>\n",
              "      <td>0</td>\n",
              "      <td>0</td>\n",
              "      <td>0</td>\n",
              "      <td>0</td>\n",
              "      <td>0</td>\n",
              "      <td>0</td>\n",
              "      <td>0</td>\n",
              "      <td>0</td>\n",
              "      <td>0</td>\n",
              "      <td>0</td>\n",
              "      <td>0</td>\n",
              "      <td>0</td>\n",
              "      <td>0</td>\n",
              "      <td>0</td>\n",
              "      <td>0</td>\n",
              "      <td>0</td>\n",
              "      <td>0</td>\n",
              "      <td>0</td>\n",
              "      <td>0</td>\n",
              "      <td>0</td>\n",
              "      <td>0.0</td>\n",
              "      <td>1.0</td>\n",
              "      <td>0.0</td>\n",
              "      <td>1.0</td>\n",
              "      <td>1.0</td>\n",
              "      <td>1</td>\n",
              "      <td>1</td>\n",
              "      <td>0</td>\n",
              "      <td>0</td>\n",
              "      <td>0</td>\n",
              "      <td>0</td>\n",
              "      <td>0</td>\n",
              "    </tr>\n",
              "    <tr>\n",
              "      <th>1</th>\n",
              "      <td>MM10</td>\n",
              "      <td>0</td>\n",
              "      <td>1</td>\n",
              "      <td>0</td>\n",
              "      <td>0</td>\n",
              "      <td>1</td>\n",
              "      <td>0</td>\n",
              "      <td>0</td>\n",
              "      <td>1</td>\n",
              "      <td>0</td>\n",
              "      <td>0</td>\n",
              "      <td>0</td>\n",
              "      <td>0</td>\n",
              "      <td>0</td>\n",
              "      <td>0</td>\n",
              "      <td>0</td>\n",
              "      <td>1</td>\n",
              "      <td>1</td>\n",
              "      <td>1</td>\n",
              "      <td>1</td>\n",
              "      <td>1</td>\n",
              "      <td>0</td>\n",
              "      <td>0</td>\n",
              "      <td>0</td>\n",
              "      <td>0</td>\n",
              "      <td>0</td>\n",
              "      <td>0</td>\n",
              "      <td>0</td>\n",
              "      <td>0</td>\n",
              "      <td>0</td>\n",
              "      <td>0</td>\n",
              "      <td>0</td>\n",
              "      <td>0</td>\n",
              "      <td>0</td>\n",
              "      <td>0</td>\n",
              "      <td>0</td>\n",
              "      <td>0</td>\n",
              "      <td>0</td>\n",
              "      <td>0</td>\n",
              "      <td>0</td>\n",
              "      <td>...</td>\n",
              "      <td>0</td>\n",
              "      <td>0</td>\n",
              "      <td>0</td>\n",
              "      <td>0</td>\n",
              "      <td>0</td>\n",
              "      <td>0</td>\n",
              "      <td>0</td>\n",
              "      <td>0</td>\n",
              "      <td>0</td>\n",
              "      <td>0</td>\n",
              "      <td>0</td>\n",
              "      <td>0</td>\n",
              "      <td>0</td>\n",
              "      <td>0</td>\n",
              "      <td>0</td>\n",
              "      <td>0</td>\n",
              "      <td>0</td>\n",
              "      <td>0</td>\n",
              "      <td>0</td>\n",
              "      <td>0</td>\n",
              "      <td>0</td>\n",
              "      <td>0</td>\n",
              "      <td>0</td>\n",
              "      <td>0</td>\n",
              "      <td>0</td>\n",
              "      <td>0</td>\n",
              "      <td>0</td>\n",
              "      <td>0</td>\n",
              "      <td>1.0</td>\n",
              "      <td>0.0</td>\n",
              "      <td>0.0</td>\n",
              "      <td>0.0</td>\n",
              "      <td>1.0</td>\n",
              "      <td>1</td>\n",
              "      <td>1</td>\n",
              "      <td>0</td>\n",
              "      <td>0</td>\n",
              "      <td>0</td>\n",
              "      <td>0</td>\n",
              "      <td>0</td>\n",
              "    </tr>\n",
              "    <tr>\n",
              "      <th>2</th>\n",
              "      <td>MM102</td>\n",
              "      <td>1</td>\n",
              "      <td>0</td>\n",
              "      <td>1</td>\n",
              "      <td>0</td>\n",
              "      <td>0</td>\n",
              "      <td>0</td>\n",
              "      <td>1</td>\n",
              "      <td>0</td>\n",
              "      <td>0</td>\n",
              "      <td>0</td>\n",
              "      <td>0</td>\n",
              "      <td>0</td>\n",
              "      <td>0</td>\n",
              "      <td>0</td>\n",
              "      <td>1</td>\n",
              "      <td>0</td>\n",
              "      <td>0</td>\n",
              "      <td>0</td>\n",
              "      <td>0</td>\n",
              "      <td>0</td>\n",
              "      <td>1</td>\n",
              "      <td>1</td>\n",
              "      <td>1</td>\n",
              "      <td>1</td>\n",
              "      <td>1</td>\n",
              "      <td>1</td>\n",
              "      <td>0</td>\n",
              "      <td>0</td>\n",
              "      <td>0</td>\n",
              "      <td>0</td>\n",
              "      <td>0</td>\n",
              "      <td>0</td>\n",
              "      <td>0</td>\n",
              "      <td>0</td>\n",
              "      <td>0</td>\n",
              "      <td>0</td>\n",
              "      <td>0</td>\n",
              "      <td>0</td>\n",
              "      <td>0</td>\n",
              "      <td>...</td>\n",
              "      <td>0</td>\n",
              "      <td>0</td>\n",
              "      <td>0</td>\n",
              "      <td>0</td>\n",
              "      <td>0</td>\n",
              "      <td>0</td>\n",
              "      <td>0</td>\n",
              "      <td>0</td>\n",
              "      <td>0</td>\n",
              "      <td>0</td>\n",
              "      <td>0</td>\n",
              "      <td>0</td>\n",
              "      <td>0</td>\n",
              "      <td>0</td>\n",
              "      <td>0</td>\n",
              "      <td>0</td>\n",
              "      <td>0</td>\n",
              "      <td>0</td>\n",
              "      <td>0</td>\n",
              "      <td>0</td>\n",
              "      <td>0</td>\n",
              "      <td>0</td>\n",
              "      <td>0</td>\n",
              "      <td>0</td>\n",
              "      <td>0</td>\n",
              "      <td>0</td>\n",
              "      <td>0</td>\n",
              "      <td>0</td>\n",
              "      <td>1.0</td>\n",
              "      <td>0.0</td>\n",
              "      <td>0.0</td>\n",
              "      <td>0.0</td>\n",
              "      <td>1.0</td>\n",
              "      <td>0</td>\n",
              "      <td>0</td>\n",
              "      <td>1</td>\n",
              "      <td>0</td>\n",
              "      <td>0</td>\n",
              "      <td>0</td>\n",
              "      <td>0</td>\n",
              "    </tr>\n",
              "    <tr>\n",
              "      <th>3</th>\n",
              "      <td>MM103</td>\n",
              "      <td>0</td>\n",
              "      <td>0</td>\n",
              "      <td>0</td>\n",
              "      <td>0</td>\n",
              "      <td>0</td>\n",
              "      <td>0</td>\n",
              "      <td>0</td>\n",
              "      <td>0</td>\n",
              "      <td>1</td>\n",
              "      <td>0</td>\n",
              "      <td>0</td>\n",
              "      <td>0</td>\n",
              "      <td>0</td>\n",
              "      <td>0</td>\n",
              "      <td>0</td>\n",
              "      <td>0</td>\n",
              "      <td>0</td>\n",
              "      <td>0</td>\n",
              "      <td>0</td>\n",
              "      <td>0</td>\n",
              "      <td>1</td>\n",
              "      <td>1</td>\n",
              "      <td>0</td>\n",
              "      <td>0</td>\n",
              "      <td>0</td>\n",
              "      <td>0</td>\n",
              "      <td>0</td>\n",
              "      <td>0</td>\n",
              "      <td>0</td>\n",
              "      <td>0</td>\n",
              "      <td>0</td>\n",
              "      <td>0</td>\n",
              "      <td>0</td>\n",
              "      <td>0</td>\n",
              "      <td>0</td>\n",
              "      <td>0</td>\n",
              "      <td>0</td>\n",
              "      <td>0</td>\n",
              "      <td>0</td>\n",
              "      <td>...</td>\n",
              "      <td>0</td>\n",
              "      <td>0</td>\n",
              "      <td>0</td>\n",
              "      <td>0</td>\n",
              "      <td>0</td>\n",
              "      <td>0</td>\n",
              "      <td>0</td>\n",
              "      <td>0</td>\n",
              "      <td>0</td>\n",
              "      <td>0</td>\n",
              "      <td>0</td>\n",
              "      <td>0</td>\n",
              "      <td>0</td>\n",
              "      <td>0</td>\n",
              "      <td>0</td>\n",
              "      <td>0</td>\n",
              "      <td>0</td>\n",
              "      <td>0</td>\n",
              "      <td>0</td>\n",
              "      <td>0</td>\n",
              "      <td>0</td>\n",
              "      <td>0</td>\n",
              "      <td>0</td>\n",
              "      <td>0</td>\n",
              "      <td>0</td>\n",
              "      <td>0</td>\n",
              "      <td>0</td>\n",
              "      <td>0</td>\n",
              "      <td>0.0</td>\n",
              "      <td>0.0</td>\n",
              "      <td>1.0</td>\n",
              "      <td>0.0</td>\n",
              "      <td>0.0</td>\n",
              "      <td>0</td>\n",
              "      <td>0</td>\n",
              "      <td>1</td>\n",
              "      <td>0</td>\n",
              "      <td>0</td>\n",
              "      <td>0</td>\n",
              "      <td>0</td>\n",
              "    </tr>\n",
              "    <tr>\n",
              "      <th>4</th>\n",
              "      <td>MM105</td>\n",
              "      <td>0</td>\n",
              "      <td>0</td>\n",
              "      <td>0</td>\n",
              "      <td>0</td>\n",
              "      <td>0</td>\n",
              "      <td>0</td>\n",
              "      <td>0</td>\n",
              "      <td>0</td>\n",
              "      <td>0</td>\n",
              "      <td>0</td>\n",
              "      <td>0</td>\n",
              "      <td>0</td>\n",
              "      <td>0</td>\n",
              "      <td>0</td>\n",
              "      <td>1</td>\n",
              "      <td>0</td>\n",
              "      <td>0</td>\n",
              "      <td>0</td>\n",
              "      <td>0</td>\n",
              "      <td>0</td>\n",
              "      <td>1</td>\n",
              "      <td>1</td>\n",
              "      <td>0</td>\n",
              "      <td>0</td>\n",
              "      <td>0</td>\n",
              "      <td>0</td>\n",
              "      <td>0</td>\n",
              "      <td>0</td>\n",
              "      <td>0</td>\n",
              "      <td>0</td>\n",
              "      <td>0</td>\n",
              "      <td>0</td>\n",
              "      <td>0</td>\n",
              "      <td>0</td>\n",
              "      <td>0</td>\n",
              "      <td>0</td>\n",
              "      <td>0</td>\n",
              "      <td>0</td>\n",
              "      <td>0</td>\n",
              "      <td>...</td>\n",
              "      <td>0</td>\n",
              "      <td>0</td>\n",
              "      <td>0</td>\n",
              "      <td>0</td>\n",
              "      <td>0</td>\n",
              "      <td>0</td>\n",
              "      <td>0</td>\n",
              "      <td>0</td>\n",
              "      <td>0</td>\n",
              "      <td>0</td>\n",
              "      <td>0</td>\n",
              "      <td>0</td>\n",
              "      <td>0</td>\n",
              "      <td>0</td>\n",
              "      <td>0</td>\n",
              "      <td>0</td>\n",
              "      <td>0</td>\n",
              "      <td>0</td>\n",
              "      <td>0</td>\n",
              "      <td>0</td>\n",
              "      <td>0</td>\n",
              "      <td>0</td>\n",
              "      <td>0</td>\n",
              "      <td>0</td>\n",
              "      <td>0</td>\n",
              "      <td>0</td>\n",
              "      <td>0</td>\n",
              "      <td>0</td>\n",
              "      <td>0.0</td>\n",
              "      <td>0.0</td>\n",
              "      <td>0.0</td>\n",
              "      <td>0.0</td>\n",
              "      <td>1.0</td>\n",
              "      <td>0</td>\n",
              "      <td>0</td>\n",
              "      <td>0</td>\n",
              "      <td>0</td>\n",
              "      <td>0</td>\n",
              "      <td>0</td>\n",
              "      <td>0</td>\n",
              "    </tr>\n",
              "    <tr>\n",
              "      <th>...</th>\n",
              "      <td>...</td>\n",
              "      <td>...</td>\n",
              "      <td>...</td>\n",
              "      <td>...</td>\n",
              "      <td>...</td>\n",
              "      <td>...</td>\n",
              "      <td>...</td>\n",
              "      <td>...</td>\n",
              "      <td>...</td>\n",
              "      <td>...</td>\n",
              "      <td>...</td>\n",
              "      <td>...</td>\n",
              "      <td>...</td>\n",
              "      <td>...</td>\n",
              "      <td>...</td>\n",
              "      <td>...</td>\n",
              "      <td>...</td>\n",
              "      <td>...</td>\n",
              "      <td>...</td>\n",
              "      <td>...</td>\n",
              "      <td>...</td>\n",
              "      <td>...</td>\n",
              "      <td>...</td>\n",
              "      <td>...</td>\n",
              "      <td>...</td>\n",
              "      <td>...</td>\n",
              "      <td>...</td>\n",
              "      <td>...</td>\n",
              "      <td>...</td>\n",
              "      <td>...</td>\n",
              "      <td>...</td>\n",
              "      <td>...</td>\n",
              "      <td>...</td>\n",
              "      <td>...</td>\n",
              "      <td>...</td>\n",
              "      <td>...</td>\n",
              "      <td>...</td>\n",
              "      <td>...</td>\n",
              "      <td>...</td>\n",
              "      <td>...</td>\n",
              "      <td>...</td>\n",
              "      <td>...</td>\n",
              "      <td>...</td>\n",
              "      <td>...</td>\n",
              "      <td>...</td>\n",
              "      <td>...</td>\n",
              "      <td>...</td>\n",
              "      <td>...</td>\n",
              "      <td>...</td>\n",
              "      <td>...</td>\n",
              "      <td>...</td>\n",
              "      <td>...</td>\n",
              "      <td>...</td>\n",
              "      <td>...</td>\n",
              "      <td>...</td>\n",
              "      <td>...</td>\n",
              "      <td>...</td>\n",
              "      <td>...</td>\n",
              "      <td>...</td>\n",
              "      <td>...</td>\n",
              "      <td>...</td>\n",
              "      <td>...</td>\n",
              "      <td>...</td>\n",
              "      <td>...</td>\n",
              "      <td>...</td>\n",
              "      <td>...</td>\n",
              "      <td>...</td>\n",
              "      <td>...</td>\n",
              "      <td>...</td>\n",
              "      <td>...</td>\n",
              "      <td>...</td>\n",
              "      <td>...</td>\n",
              "      <td>...</td>\n",
              "      <td>...</td>\n",
              "      <td>...</td>\n",
              "      <td>...</td>\n",
              "      <td>...</td>\n",
              "      <td>...</td>\n",
              "      <td>...</td>\n",
              "      <td>...</td>\n",
              "      <td>...</td>\n",
              "    </tr>\n",
              "    <tr>\n",
              "      <th>610</th>\n",
              "      <td>MM980</td>\n",
              "      <td>0</td>\n",
              "      <td>0</td>\n",
              "      <td>0</td>\n",
              "      <td>0</td>\n",
              "      <td>0</td>\n",
              "      <td>0</td>\n",
              "      <td>1</td>\n",
              "      <td>0</td>\n",
              "      <td>0</td>\n",
              "      <td>0</td>\n",
              "      <td>0</td>\n",
              "      <td>0</td>\n",
              "      <td>0</td>\n",
              "      <td>0</td>\n",
              "      <td>0</td>\n",
              "      <td>0</td>\n",
              "      <td>0</td>\n",
              "      <td>0</td>\n",
              "      <td>0</td>\n",
              "      <td>0</td>\n",
              "      <td>1</td>\n",
              "      <td>0</td>\n",
              "      <td>0</td>\n",
              "      <td>0</td>\n",
              "      <td>0</td>\n",
              "      <td>0</td>\n",
              "      <td>0</td>\n",
              "      <td>0</td>\n",
              "      <td>0</td>\n",
              "      <td>0</td>\n",
              "      <td>0</td>\n",
              "      <td>0</td>\n",
              "      <td>0</td>\n",
              "      <td>0</td>\n",
              "      <td>0</td>\n",
              "      <td>0</td>\n",
              "      <td>1</td>\n",
              "      <td>0</td>\n",
              "      <td>0</td>\n",
              "      <td>...</td>\n",
              "      <td>0</td>\n",
              "      <td>0</td>\n",
              "      <td>0</td>\n",
              "      <td>0</td>\n",
              "      <td>0</td>\n",
              "      <td>0</td>\n",
              "      <td>0</td>\n",
              "      <td>0</td>\n",
              "      <td>0</td>\n",
              "      <td>0</td>\n",
              "      <td>0</td>\n",
              "      <td>0</td>\n",
              "      <td>0</td>\n",
              "      <td>0</td>\n",
              "      <td>0</td>\n",
              "      <td>0</td>\n",
              "      <td>0</td>\n",
              "      <td>0</td>\n",
              "      <td>0</td>\n",
              "      <td>0</td>\n",
              "      <td>0</td>\n",
              "      <td>0</td>\n",
              "      <td>0</td>\n",
              "      <td>0</td>\n",
              "      <td>0</td>\n",
              "      <td>0</td>\n",
              "      <td>0</td>\n",
              "      <td>0</td>\n",
              "      <td>NaN</td>\n",
              "      <td>NaN</td>\n",
              "      <td>NaN</td>\n",
              "      <td>NaN</td>\n",
              "      <td>NaN</td>\n",
              "      <td>1</td>\n",
              "      <td>1</td>\n",
              "      <td>0</td>\n",
              "      <td>0</td>\n",
              "      <td>0</td>\n",
              "      <td>0</td>\n",
              "      <td>0</td>\n",
              "    </tr>\n",
              "    <tr>\n",
              "      <th>611</th>\n",
              "      <td>MM981</td>\n",
              "      <td>1</td>\n",
              "      <td>0</td>\n",
              "      <td>0</td>\n",
              "      <td>0</td>\n",
              "      <td>0</td>\n",
              "      <td>0</td>\n",
              "      <td>0</td>\n",
              "      <td>1</td>\n",
              "      <td>0</td>\n",
              "      <td>1</td>\n",
              "      <td>1</td>\n",
              "      <td>0</td>\n",
              "      <td>0</td>\n",
              "      <td>0</td>\n",
              "      <td>0</td>\n",
              "      <td>0</td>\n",
              "      <td>0</td>\n",
              "      <td>0</td>\n",
              "      <td>0</td>\n",
              "      <td>0</td>\n",
              "      <td>1</td>\n",
              "      <td>1</td>\n",
              "      <td>0</td>\n",
              "      <td>0</td>\n",
              "      <td>0</td>\n",
              "      <td>0</td>\n",
              "      <td>0</td>\n",
              "      <td>0</td>\n",
              "      <td>0</td>\n",
              "      <td>0</td>\n",
              "      <td>0</td>\n",
              "      <td>0</td>\n",
              "      <td>0</td>\n",
              "      <td>0</td>\n",
              "      <td>0</td>\n",
              "      <td>0</td>\n",
              "      <td>0</td>\n",
              "      <td>0</td>\n",
              "      <td>0</td>\n",
              "      <td>...</td>\n",
              "      <td>0</td>\n",
              "      <td>0</td>\n",
              "      <td>0</td>\n",
              "      <td>0</td>\n",
              "      <td>0</td>\n",
              "      <td>0</td>\n",
              "      <td>0</td>\n",
              "      <td>0</td>\n",
              "      <td>0</td>\n",
              "      <td>0</td>\n",
              "      <td>0</td>\n",
              "      <td>0</td>\n",
              "      <td>0</td>\n",
              "      <td>0</td>\n",
              "      <td>0</td>\n",
              "      <td>0</td>\n",
              "      <td>0</td>\n",
              "      <td>0</td>\n",
              "      <td>0</td>\n",
              "      <td>0</td>\n",
              "      <td>0</td>\n",
              "      <td>0</td>\n",
              "      <td>0</td>\n",
              "      <td>0</td>\n",
              "      <td>0</td>\n",
              "      <td>0</td>\n",
              "      <td>0</td>\n",
              "      <td>0</td>\n",
              "      <td>0.0</td>\n",
              "      <td>0.0</td>\n",
              "      <td>0.0</td>\n",
              "      <td>0.0</td>\n",
              "      <td>0.0</td>\n",
              "      <td>0</td>\n",
              "      <td>1</td>\n",
              "      <td>0</td>\n",
              "      <td>0</td>\n",
              "      <td>0</td>\n",
              "      <td>0</td>\n",
              "      <td>0</td>\n",
              "    </tr>\n",
              "    <tr>\n",
              "      <th>612</th>\n",
              "      <td>MM985</td>\n",
              "      <td>0</td>\n",
              "      <td>0</td>\n",
              "      <td>0</td>\n",
              "      <td>0</td>\n",
              "      <td>0</td>\n",
              "      <td>0</td>\n",
              "      <td>0</td>\n",
              "      <td>0</td>\n",
              "      <td>0</td>\n",
              "      <td>0</td>\n",
              "      <td>0</td>\n",
              "      <td>0</td>\n",
              "      <td>0</td>\n",
              "      <td>0</td>\n",
              "      <td>0</td>\n",
              "      <td>0</td>\n",
              "      <td>0</td>\n",
              "      <td>0</td>\n",
              "      <td>0</td>\n",
              "      <td>0</td>\n",
              "      <td>1</td>\n",
              "      <td>1</td>\n",
              "      <td>0</td>\n",
              "      <td>1</td>\n",
              "      <td>0</td>\n",
              "      <td>0</td>\n",
              "      <td>0</td>\n",
              "      <td>0</td>\n",
              "      <td>0</td>\n",
              "      <td>0</td>\n",
              "      <td>0</td>\n",
              "      <td>0</td>\n",
              "      <td>0</td>\n",
              "      <td>0</td>\n",
              "      <td>0</td>\n",
              "      <td>0</td>\n",
              "      <td>0</td>\n",
              "      <td>0</td>\n",
              "      <td>0</td>\n",
              "      <td>...</td>\n",
              "      <td>0</td>\n",
              "      <td>0</td>\n",
              "      <td>0</td>\n",
              "      <td>0</td>\n",
              "      <td>0</td>\n",
              "      <td>0</td>\n",
              "      <td>0</td>\n",
              "      <td>0</td>\n",
              "      <td>0</td>\n",
              "      <td>0</td>\n",
              "      <td>0</td>\n",
              "      <td>0</td>\n",
              "      <td>0</td>\n",
              "      <td>0</td>\n",
              "      <td>0</td>\n",
              "      <td>0</td>\n",
              "      <td>0</td>\n",
              "      <td>0</td>\n",
              "      <td>0</td>\n",
              "      <td>0</td>\n",
              "      <td>0</td>\n",
              "      <td>0</td>\n",
              "      <td>0</td>\n",
              "      <td>0</td>\n",
              "      <td>0</td>\n",
              "      <td>0</td>\n",
              "      <td>0</td>\n",
              "      <td>0</td>\n",
              "      <td>NaN</td>\n",
              "      <td>NaN</td>\n",
              "      <td>NaN</td>\n",
              "      <td>NaN</td>\n",
              "      <td>NaN</td>\n",
              "      <td>0</td>\n",
              "      <td>0</td>\n",
              "      <td>1</td>\n",
              "      <td>0</td>\n",
              "      <td>0</td>\n",
              "      <td>0</td>\n",
              "      <td>0</td>\n",
              "    </tr>\n",
              "    <tr>\n",
              "      <th>613</th>\n",
              "      <td>MM986</td>\n",
              "      <td>0</td>\n",
              "      <td>0</td>\n",
              "      <td>0</td>\n",
              "      <td>0</td>\n",
              "      <td>0</td>\n",
              "      <td>0</td>\n",
              "      <td>1</td>\n",
              "      <td>0</td>\n",
              "      <td>0</td>\n",
              "      <td>1</td>\n",
              "      <td>0</td>\n",
              "      <td>0</td>\n",
              "      <td>0</td>\n",
              "      <td>0</td>\n",
              "      <td>1</td>\n",
              "      <td>0</td>\n",
              "      <td>0</td>\n",
              "      <td>0</td>\n",
              "      <td>0</td>\n",
              "      <td>0</td>\n",
              "      <td>1</td>\n",
              "      <td>1</td>\n",
              "      <td>1</td>\n",
              "      <td>1</td>\n",
              "      <td>1</td>\n",
              "      <td>0</td>\n",
              "      <td>0</td>\n",
              "      <td>1</td>\n",
              "      <td>0</td>\n",
              "      <td>0</td>\n",
              "      <td>0</td>\n",
              "      <td>0</td>\n",
              "      <td>0</td>\n",
              "      <td>0</td>\n",
              "      <td>0</td>\n",
              "      <td>0</td>\n",
              "      <td>0</td>\n",
              "      <td>0</td>\n",
              "      <td>0</td>\n",
              "      <td>...</td>\n",
              "      <td>0</td>\n",
              "      <td>0</td>\n",
              "      <td>0</td>\n",
              "      <td>0</td>\n",
              "      <td>0</td>\n",
              "      <td>0</td>\n",
              "      <td>0</td>\n",
              "      <td>0</td>\n",
              "      <td>0</td>\n",
              "      <td>0</td>\n",
              "      <td>0</td>\n",
              "      <td>0</td>\n",
              "      <td>0</td>\n",
              "      <td>0</td>\n",
              "      <td>0</td>\n",
              "      <td>0</td>\n",
              "      <td>0</td>\n",
              "      <td>0</td>\n",
              "      <td>0</td>\n",
              "      <td>0</td>\n",
              "      <td>0</td>\n",
              "      <td>0</td>\n",
              "      <td>0</td>\n",
              "      <td>0</td>\n",
              "      <td>0</td>\n",
              "      <td>0</td>\n",
              "      <td>0</td>\n",
              "      <td>0</td>\n",
              "      <td>NaN</td>\n",
              "      <td>NaN</td>\n",
              "      <td>NaN</td>\n",
              "      <td>NaN</td>\n",
              "      <td>NaN</td>\n",
              "      <td>0</td>\n",
              "      <td>0</td>\n",
              "      <td>1</td>\n",
              "      <td>0</td>\n",
              "      <td>0</td>\n",
              "      <td>0</td>\n",
              "      <td>0</td>\n",
              "    </tr>\n",
              "    <tr>\n",
              "      <th>614</th>\n",
              "      <td>MM99</td>\n",
              "      <td>0</td>\n",
              "      <td>0</td>\n",
              "      <td>0</td>\n",
              "      <td>0</td>\n",
              "      <td>0</td>\n",
              "      <td>0</td>\n",
              "      <td>0</td>\n",
              "      <td>0</td>\n",
              "      <td>0</td>\n",
              "      <td>0</td>\n",
              "      <td>0</td>\n",
              "      <td>0</td>\n",
              "      <td>0</td>\n",
              "      <td>0</td>\n",
              "      <td>0</td>\n",
              "      <td>0</td>\n",
              "      <td>0</td>\n",
              "      <td>0</td>\n",
              "      <td>0</td>\n",
              "      <td>0</td>\n",
              "      <td>1</td>\n",
              "      <td>1</td>\n",
              "      <td>0</td>\n",
              "      <td>0</td>\n",
              "      <td>0</td>\n",
              "      <td>0</td>\n",
              "      <td>0</td>\n",
              "      <td>0</td>\n",
              "      <td>0</td>\n",
              "      <td>0</td>\n",
              "      <td>0</td>\n",
              "      <td>0</td>\n",
              "      <td>0</td>\n",
              "      <td>0</td>\n",
              "      <td>0</td>\n",
              "      <td>0</td>\n",
              "      <td>1</td>\n",
              "      <td>0</td>\n",
              "      <td>0</td>\n",
              "      <td>...</td>\n",
              "      <td>0</td>\n",
              "      <td>0</td>\n",
              "      <td>0</td>\n",
              "      <td>0</td>\n",
              "      <td>0</td>\n",
              "      <td>0</td>\n",
              "      <td>0</td>\n",
              "      <td>0</td>\n",
              "      <td>0</td>\n",
              "      <td>0</td>\n",
              "      <td>0</td>\n",
              "      <td>0</td>\n",
              "      <td>0</td>\n",
              "      <td>0</td>\n",
              "      <td>0</td>\n",
              "      <td>0</td>\n",
              "      <td>0</td>\n",
              "      <td>0</td>\n",
              "      <td>0</td>\n",
              "      <td>0</td>\n",
              "      <td>0</td>\n",
              "      <td>0</td>\n",
              "      <td>0</td>\n",
              "      <td>0</td>\n",
              "      <td>0</td>\n",
              "      <td>0</td>\n",
              "      <td>0</td>\n",
              "      <td>0</td>\n",
              "      <td>0.0</td>\n",
              "      <td>1.0</td>\n",
              "      <td>1.0</td>\n",
              "      <td>0.0</td>\n",
              "      <td>1.0</td>\n",
              "      <td>0</td>\n",
              "      <td>0</td>\n",
              "      <td>0</td>\n",
              "      <td>0</td>\n",
              "      <td>0</td>\n",
              "      <td>0</td>\n",
              "      <td>0</td>\n",
              "    </tr>\n",
              "  </tbody>\n",
              "</table>\n",
              "<p>615 rows × 101 columns</p>\n",
              "</div>"
            ],
            "text/plain": [
              "    Unnamed: 0  ...  Melphalan\n",
              "0          MM1  ...          0\n",
              "1         MM10  ...          0\n",
              "2        MM102  ...          0\n",
              "3        MM103  ...          0\n",
              "4        MM105  ...          0\n",
              "..         ...  ...        ...\n",
              "610      MM980  ...          0\n",
              "611      MM981  ...          0\n",
              "612      MM985  ...          0\n",
              "613      MM986  ...          0\n",
              "614       MM99  ...          0\n",
              "\n",
              "[615 rows x 101 columns]"
            ]
          },
          "metadata": {
            "tags": []
          },
          "execution_count": 5
        }
      ]
    },
    {
      "cell_type": "code",
      "metadata": {
        "id": "_H3mTFLwuPBP"
      },
      "source": [
        "# drop ID column\r\n",
        "data = data.drop(['Unnamed: 0'], axis = 1)"
      ],
      "execution_count": 6,
      "outputs": []
    },
    {
      "cell_type": "markdown",
      "metadata": {
        "id": "EWf658L3NyZO"
      },
      "source": [
        "Let's look at the columns that contain nulls."
      ]
    },
    {
      "cell_type": "code",
      "metadata": {
        "colab": {
          "base_uri": "https://localhost:8080/"
        },
        "id": "Ebz46vr6N-oP",
        "outputId": "69421733-b5fb-4f14-b269-1af878a1391e"
      },
      "source": [
        "for column in series_of_nulls.index:\r\n",
        "  num_nulls_in_this_col = series_of_nulls[column]\r\n",
        "  if num_nulls_in_this_col != 0:\r\n",
        "    print(f\"column {column} has {num_nulls_in_this_col} nulls.\")"
      ],
      "execution_count": 17,
      "outputs": [
        {
          "output_type": "stream",
          "text": [
            "column ALT has 24 nulls.\n",
            "column ALK has 25 nulls.\n",
            "column BETA2 has 43 nulls.\n",
            "column CRE has 24 nulls.\n",
            "column TP has 25 nulls.\n"
          ],
          "name": "stdout"
        }
      ]
    },
    {
      "cell_type": "markdown",
      "metadata": {
        "id": "rRg798laOc82"
      },
      "source": [
        "As we can see those 5 columns are the only columns that have nulls in them. We might want to just drop those 5 columns, or we can drop all the rows with any nulls. I will do the latter but we can come back at how we deal with nulls."
      ]
    },
    {
      "cell_type": "code",
      "metadata": {
        "id": "rSfupL7vuV5w"
      },
      "source": [
        "# drop any null rows.\r\n",
        "# could've drop null columns instead.\r\n",
        "data = data.dropna()"
      ],
      "execution_count": 18,
      "outputs": []
    },
    {
      "cell_type": "code",
      "metadata": {
        "colab": {
          "base_uri": "https://localhost:8080/",
          "height": 609
        },
        "id": "AtJ6u-yfBSHe",
        "outputId": "151d99ac-c6cd-4b6e-b212-f8ea0353f8f8"
      },
      "source": [
        "data"
      ],
      "execution_count": 19,
      "outputs": [
        {
          "output_type": "execute_result",
          "data": {
            "text/html": [
              "<div>\n",
              "<style scoped>\n",
              "    .dataframe tbody tr th:only-of-type {\n",
              "        vertical-align: middle;\n",
              "    }\n",
              "\n",
              "    .dataframe tbody tr th {\n",
              "        vertical-align: top;\n",
              "    }\n",
              "\n",
              "    .dataframe thead th {\n",
              "        text-align: right;\n",
              "    }\n",
              "</style>\n",
              "<table border=\"1\" class=\"dataframe\">\n",
              "  <thead>\n",
              "    <tr style=\"text-align: right;\">\n",
              "      <th></th>\n",
              "      <th>Unspecified essential hypertension code</th>\n",
              "      <th>Encounter for change or removal of surgical wound dressing code</th>\n",
              "      <th>Esophageal reflux code</th>\n",
              "      <th>Personal history of allergy to other specified medicinal agents code</th>\n",
              "      <th>Anemia, unspecified code</th>\n",
              "      <th>Leukocytosis, unspecified code</th>\n",
              "      <th>Other specified aftercare following surgery code</th>\n",
              "      <th>Neutropenia, unspecified code</th>\n",
              "      <th>Disorders of magnesium metabolism code</th>\n",
              "      <th>Other specified pre-operative examination code</th>\n",
              "      <th>Constipation, unspecified code</th>\n",
              "      <th>Other pancytopenia code</th>\n",
              "      <th>Laboratory examination, unspecified code</th>\n",
              "      <th>Backache, unspecified code</th>\n",
              "      <th>Hypopotassemia code</th>\n",
              "      <th>Thrombocytopenia, unspecified code</th>\n",
              "      <th>Hypogammaglobulinemia, unspecified code</th>\n",
              "      <th>Other postprocedural status code</th>\n",
              "      <th>Disturbance of skin sensation code</th>\n",
              "      <th>Fever, unspecified code</th>\n",
              "      <th>Examination of participant in clinical trial code</th>\n",
              "      <th>Dietary surveillance and counseling code</th>\n",
              "      <th>Antineoplastic and immunosuppressive drugs causing adverse effects in therapeutic use code</th>\n",
              "      <th>Mineral deficiency, not elsewhere classified code</th>\n",
              "      <th>Radiological examination, not elsewhere classified code</th>\n",
              "      <th>Intestinal infection due to Clostridium difficile code</th>\n",
              "      <th>Bacteremia code</th>\n",
              "      <th>Benign essential hypertension code</th>\n",
              "      <th>Cough code</th>\n",
              "      <th>Orthostatic hypotension code</th>\n",
              "      <th>Dysuria code</th>\n",
              "      <th>Abdominal pain, unspecified site code</th>\n",
              "      <th>Antineoplastic chemotherapy induced pancytopenia code</th>\n",
              "      <th>Fever presenting with conditions classified elsewhere code</th>\n",
              "      <th>Family history of other condition code</th>\n",
              "      <th>Mucositis (ulcerative) due to antineoplastic therapy code</th>\n",
              "      <th>Morbid obesity code</th>\n",
              "      <th>Shortness of breath code</th>\n",
              "      <th>Dyspepsia and other specified disorders of function of stomach code</th>\n",
              "      <th>Chronic gingivitis, non-plaque induced code</th>\n",
              "      <th>...</th>\n",
              "      <th>Other nonspecific abnormal serum enzyme levels code</th>\n",
              "      <th>Allergy status to narcotic agent status code</th>\n",
              "      <th>Unspecified transfusion reaction, initial encounter code</th>\n",
              "      <th>Enterocolitis due to Clostridium difficile code</th>\n",
              "      <th>Other transfusion reaction code</th>\n",
              "      <th>Long-term (current) use of antibiotics code</th>\n",
              "      <th>Other and unspecified coagulation defects code</th>\n",
              "      <th>Special screening examination for Human papillomavirus (HPV) code</th>\n",
              "      <th>Follicular disorder, unspecified code</th>\n",
              "      <th>Other specified anxiety disorders code</th>\n",
              "      <th>Other symptoms involving digestive system code</th>\n",
              "      <th>Other specified examination code</th>\n",
              "      <th>Other fluid overload code</th>\n",
              "      <th>Infection with microorganisms without mention of resistance to multiple drugs code</th>\n",
              "      <th>Carrier or suspected carrier of other specified bacterial diseases code</th>\n",
              "      <th>Renal dialysis status code</th>\n",
              "      <th>Complications of other specified transplanted organ code</th>\n",
              "      <th>Polyneuropathy in malignant disease code</th>\n",
              "      <th>Gastroparesis code</th>\n",
              "      <th>Other nonspecific abnormal finding of lung field code</th>\n",
              "      <th>Other and unspecified mycoses code</th>\n",
              "      <th>Family history of other chronic respiratory conditions code</th>\n",
              "      <th>Long-term (current) use of aspirin code</th>\n",
              "      <th>Chronic sinusitis, unspecified code</th>\n",
              "      <th>Hemorrhage of vascular prosthetic devices, implants and grafts, initial encounter code</th>\n",
              "      <th>Activated protein C resistance code</th>\n",
              "      <th>Monoclonal gammopathy code</th>\n",
              "      <th>Fibromyalgia code</th>\n",
              "      <th>ALT</th>\n",
              "      <th>ALK</th>\n",
              "      <th>BETA2</th>\n",
              "      <th>CRE</th>\n",
              "      <th>TP</th>\n",
              "      <th>Lenalidomide</th>\n",
              "      <th>Bortezomib</th>\n",
              "      <th>Etoposide</th>\n",
              "      <th>Cisplatin</th>\n",
              "      <th>Doxorubicin</th>\n",
              "      <th>Bendamustine</th>\n",
              "      <th>Melphalan</th>\n",
              "    </tr>\n",
              "  </thead>\n",
              "  <tbody>\n",
              "    <tr>\n",
              "      <th>0</th>\n",
              "      <td>1</td>\n",
              "      <td>1</td>\n",
              "      <td>1</td>\n",
              "      <td>1</td>\n",
              "      <td>1</td>\n",
              "      <td>1</td>\n",
              "      <td>1</td>\n",
              "      <td>1</td>\n",
              "      <td>1</td>\n",
              "      <td>1</td>\n",
              "      <td>1</td>\n",
              "      <td>1</td>\n",
              "      <td>1</td>\n",
              "      <td>1</td>\n",
              "      <td>1</td>\n",
              "      <td>0</td>\n",
              "      <td>0</td>\n",
              "      <td>0</td>\n",
              "      <td>0</td>\n",
              "      <td>0</td>\n",
              "      <td>0</td>\n",
              "      <td>0</td>\n",
              "      <td>0</td>\n",
              "      <td>0</td>\n",
              "      <td>0</td>\n",
              "      <td>0</td>\n",
              "      <td>0</td>\n",
              "      <td>0</td>\n",
              "      <td>0</td>\n",
              "      <td>0</td>\n",
              "      <td>0</td>\n",
              "      <td>0</td>\n",
              "      <td>0</td>\n",
              "      <td>0</td>\n",
              "      <td>0</td>\n",
              "      <td>0</td>\n",
              "      <td>0</td>\n",
              "      <td>0</td>\n",
              "      <td>0</td>\n",
              "      <td>0</td>\n",
              "      <td>...</td>\n",
              "      <td>0</td>\n",
              "      <td>0</td>\n",
              "      <td>0</td>\n",
              "      <td>0</td>\n",
              "      <td>0</td>\n",
              "      <td>0</td>\n",
              "      <td>0</td>\n",
              "      <td>0</td>\n",
              "      <td>0</td>\n",
              "      <td>0</td>\n",
              "      <td>0</td>\n",
              "      <td>0</td>\n",
              "      <td>0</td>\n",
              "      <td>0</td>\n",
              "      <td>0</td>\n",
              "      <td>0</td>\n",
              "      <td>0</td>\n",
              "      <td>0</td>\n",
              "      <td>0</td>\n",
              "      <td>0</td>\n",
              "      <td>0</td>\n",
              "      <td>0</td>\n",
              "      <td>0</td>\n",
              "      <td>0</td>\n",
              "      <td>0</td>\n",
              "      <td>0</td>\n",
              "      <td>0</td>\n",
              "      <td>0</td>\n",
              "      <td>0.0</td>\n",
              "      <td>1.0</td>\n",
              "      <td>0.0</td>\n",
              "      <td>1.0</td>\n",
              "      <td>1.0</td>\n",
              "      <td>1</td>\n",
              "      <td>1</td>\n",
              "      <td>0</td>\n",
              "      <td>0</td>\n",
              "      <td>0</td>\n",
              "      <td>0</td>\n",
              "      <td>0</td>\n",
              "    </tr>\n",
              "    <tr>\n",
              "      <th>1</th>\n",
              "      <td>0</td>\n",
              "      <td>1</td>\n",
              "      <td>0</td>\n",
              "      <td>0</td>\n",
              "      <td>1</td>\n",
              "      <td>0</td>\n",
              "      <td>0</td>\n",
              "      <td>1</td>\n",
              "      <td>0</td>\n",
              "      <td>0</td>\n",
              "      <td>0</td>\n",
              "      <td>0</td>\n",
              "      <td>0</td>\n",
              "      <td>0</td>\n",
              "      <td>0</td>\n",
              "      <td>1</td>\n",
              "      <td>1</td>\n",
              "      <td>1</td>\n",
              "      <td>1</td>\n",
              "      <td>1</td>\n",
              "      <td>0</td>\n",
              "      <td>0</td>\n",
              "      <td>0</td>\n",
              "      <td>0</td>\n",
              "      <td>0</td>\n",
              "      <td>0</td>\n",
              "      <td>0</td>\n",
              "      <td>0</td>\n",
              "      <td>0</td>\n",
              "      <td>0</td>\n",
              "      <td>0</td>\n",
              "      <td>0</td>\n",
              "      <td>0</td>\n",
              "      <td>0</td>\n",
              "      <td>0</td>\n",
              "      <td>0</td>\n",
              "      <td>0</td>\n",
              "      <td>0</td>\n",
              "      <td>0</td>\n",
              "      <td>0</td>\n",
              "      <td>...</td>\n",
              "      <td>0</td>\n",
              "      <td>0</td>\n",
              "      <td>0</td>\n",
              "      <td>0</td>\n",
              "      <td>0</td>\n",
              "      <td>0</td>\n",
              "      <td>0</td>\n",
              "      <td>0</td>\n",
              "      <td>0</td>\n",
              "      <td>0</td>\n",
              "      <td>0</td>\n",
              "      <td>0</td>\n",
              "      <td>0</td>\n",
              "      <td>0</td>\n",
              "      <td>0</td>\n",
              "      <td>0</td>\n",
              "      <td>0</td>\n",
              "      <td>0</td>\n",
              "      <td>0</td>\n",
              "      <td>0</td>\n",
              "      <td>0</td>\n",
              "      <td>0</td>\n",
              "      <td>0</td>\n",
              "      <td>0</td>\n",
              "      <td>0</td>\n",
              "      <td>0</td>\n",
              "      <td>0</td>\n",
              "      <td>0</td>\n",
              "      <td>1.0</td>\n",
              "      <td>0.0</td>\n",
              "      <td>0.0</td>\n",
              "      <td>0.0</td>\n",
              "      <td>1.0</td>\n",
              "      <td>1</td>\n",
              "      <td>1</td>\n",
              "      <td>0</td>\n",
              "      <td>0</td>\n",
              "      <td>0</td>\n",
              "      <td>0</td>\n",
              "      <td>0</td>\n",
              "    </tr>\n",
              "    <tr>\n",
              "      <th>2</th>\n",
              "      <td>1</td>\n",
              "      <td>0</td>\n",
              "      <td>1</td>\n",
              "      <td>0</td>\n",
              "      <td>0</td>\n",
              "      <td>0</td>\n",
              "      <td>1</td>\n",
              "      <td>0</td>\n",
              "      <td>0</td>\n",
              "      <td>0</td>\n",
              "      <td>0</td>\n",
              "      <td>0</td>\n",
              "      <td>0</td>\n",
              "      <td>0</td>\n",
              "      <td>1</td>\n",
              "      <td>0</td>\n",
              "      <td>0</td>\n",
              "      <td>0</td>\n",
              "      <td>0</td>\n",
              "      <td>0</td>\n",
              "      <td>1</td>\n",
              "      <td>1</td>\n",
              "      <td>1</td>\n",
              "      <td>1</td>\n",
              "      <td>1</td>\n",
              "      <td>1</td>\n",
              "      <td>0</td>\n",
              "      <td>0</td>\n",
              "      <td>0</td>\n",
              "      <td>0</td>\n",
              "      <td>0</td>\n",
              "      <td>0</td>\n",
              "      <td>0</td>\n",
              "      <td>0</td>\n",
              "      <td>0</td>\n",
              "      <td>0</td>\n",
              "      <td>0</td>\n",
              "      <td>0</td>\n",
              "      <td>0</td>\n",
              "      <td>0</td>\n",
              "      <td>...</td>\n",
              "      <td>0</td>\n",
              "      <td>0</td>\n",
              "      <td>0</td>\n",
              "      <td>0</td>\n",
              "      <td>0</td>\n",
              "      <td>0</td>\n",
              "      <td>0</td>\n",
              "      <td>0</td>\n",
              "      <td>0</td>\n",
              "      <td>0</td>\n",
              "      <td>0</td>\n",
              "      <td>0</td>\n",
              "      <td>0</td>\n",
              "      <td>0</td>\n",
              "      <td>0</td>\n",
              "      <td>0</td>\n",
              "      <td>0</td>\n",
              "      <td>0</td>\n",
              "      <td>0</td>\n",
              "      <td>0</td>\n",
              "      <td>0</td>\n",
              "      <td>0</td>\n",
              "      <td>0</td>\n",
              "      <td>0</td>\n",
              "      <td>0</td>\n",
              "      <td>0</td>\n",
              "      <td>0</td>\n",
              "      <td>0</td>\n",
              "      <td>1.0</td>\n",
              "      <td>0.0</td>\n",
              "      <td>0.0</td>\n",
              "      <td>0.0</td>\n",
              "      <td>1.0</td>\n",
              "      <td>0</td>\n",
              "      <td>0</td>\n",
              "      <td>1</td>\n",
              "      <td>0</td>\n",
              "      <td>0</td>\n",
              "      <td>0</td>\n",
              "      <td>0</td>\n",
              "    </tr>\n",
              "    <tr>\n",
              "      <th>3</th>\n",
              "      <td>0</td>\n",
              "      <td>0</td>\n",
              "      <td>0</td>\n",
              "      <td>0</td>\n",
              "      <td>0</td>\n",
              "      <td>0</td>\n",
              "      <td>0</td>\n",
              "      <td>0</td>\n",
              "      <td>1</td>\n",
              "      <td>0</td>\n",
              "      <td>0</td>\n",
              "      <td>0</td>\n",
              "      <td>0</td>\n",
              "      <td>0</td>\n",
              "      <td>0</td>\n",
              "      <td>0</td>\n",
              "      <td>0</td>\n",
              "      <td>0</td>\n",
              "      <td>0</td>\n",
              "      <td>0</td>\n",
              "      <td>1</td>\n",
              "      <td>1</td>\n",
              "      <td>0</td>\n",
              "      <td>0</td>\n",
              "      <td>0</td>\n",
              "      <td>0</td>\n",
              "      <td>0</td>\n",
              "      <td>0</td>\n",
              "      <td>0</td>\n",
              "      <td>0</td>\n",
              "      <td>0</td>\n",
              "      <td>0</td>\n",
              "      <td>0</td>\n",
              "      <td>0</td>\n",
              "      <td>0</td>\n",
              "      <td>0</td>\n",
              "      <td>0</td>\n",
              "      <td>0</td>\n",
              "      <td>0</td>\n",
              "      <td>0</td>\n",
              "      <td>...</td>\n",
              "      <td>0</td>\n",
              "      <td>0</td>\n",
              "      <td>0</td>\n",
              "      <td>0</td>\n",
              "      <td>0</td>\n",
              "      <td>0</td>\n",
              "      <td>0</td>\n",
              "      <td>0</td>\n",
              "      <td>0</td>\n",
              "      <td>0</td>\n",
              "      <td>0</td>\n",
              "      <td>0</td>\n",
              "      <td>0</td>\n",
              "      <td>0</td>\n",
              "      <td>0</td>\n",
              "      <td>0</td>\n",
              "      <td>0</td>\n",
              "      <td>0</td>\n",
              "      <td>0</td>\n",
              "      <td>0</td>\n",
              "      <td>0</td>\n",
              "      <td>0</td>\n",
              "      <td>0</td>\n",
              "      <td>0</td>\n",
              "      <td>0</td>\n",
              "      <td>0</td>\n",
              "      <td>0</td>\n",
              "      <td>0</td>\n",
              "      <td>0.0</td>\n",
              "      <td>0.0</td>\n",
              "      <td>1.0</td>\n",
              "      <td>0.0</td>\n",
              "      <td>0.0</td>\n",
              "      <td>0</td>\n",
              "      <td>0</td>\n",
              "      <td>1</td>\n",
              "      <td>0</td>\n",
              "      <td>0</td>\n",
              "      <td>0</td>\n",
              "      <td>0</td>\n",
              "    </tr>\n",
              "    <tr>\n",
              "      <th>4</th>\n",
              "      <td>0</td>\n",
              "      <td>0</td>\n",
              "      <td>0</td>\n",
              "      <td>0</td>\n",
              "      <td>0</td>\n",
              "      <td>0</td>\n",
              "      <td>0</td>\n",
              "      <td>0</td>\n",
              "      <td>0</td>\n",
              "      <td>0</td>\n",
              "      <td>0</td>\n",
              "      <td>0</td>\n",
              "      <td>0</td>\n",
              "      <td>0</td>\n",
              "      <td>1</td>\n",
              "      <td>0</td>\n",
              "      <td>0</td>\n",
              "      <td>0</td>\n",
              "      <td>0</td>\n",
              "      <td>0</td>\n",
              "      <td>1</td>\n",
              "      <td>1</td>\n",
              "      <td>0</td>\n",
              "      <td>0</td>\n",
              "      <td>0</td>\n",
              "      <td>0</td>\n",
              "      <td>0</td>\n",
              "      <td>0</td>\n",
              "      <td>0</td>\n",
              "      <td>0</td>\n",
              "      <td>0</td>\n",
              "      <td>0</td>\n",
              "      <td>0</td>\n",
              "      <td>0</td>\n",
              "      <td>0</td>\n",
              "      <td>0</td>\n",
              "      <td>0</td>\n",
              "      <td>0</td>\n",
              "      <td>0</td>\n",
              "      <td>0</td>\n",
              "      <td>...</td>\n",
              "      <td>0</td>\n",
              "      <td>0</td>\n",
              "      <td>0</td>\n",
              "      <td>0</td>\n",
              "      <td>0</td>\n",
              "      <td>0</td>\n",
              "      <td>0</td>\n",
              "      <td>0</td>\n",
              "      <td>0</td>\n",
              "      <td>0</td>\n",
              "      <td>0</td>\n",
              "      <td>0</td>\n",
              "      <td>0</td>\n",
              "      <td>0</td>\n",
              "      <td>0</td>\n",
              "      <td>0</td>\n",
              "      <td>0</td>\n",
              "      <td>0</td>\n",
              "      <td>0</td>\n",
              "      <td>0</td>\n",
              "      <td>0</td>\n",
              "      <td>0</td>\n",
              "      <td>0</td>\n",
              "      <td>0</td>\n",
              "      <td>0</td>\n",
              "      <td>0</td>\n",
              "      <td>0</td>\n",
              "      <td>0</td>\n",
              "      <td>0.0</td>\n",
              "      <td>0.0</td>\n",
              "      <td>0.0</td>\n",
              "      <td>0.0</td>\n",
              "      <td>1.0</td>\n",
              "      <td>0</td>\n",
              "      <td>0</td>\n",
              "      <td>0</td>\n",
              "      <td>0</td>\n",
              "      <td>0</td>\n",
              "      <td>0</td>\n",
              "      <td>0</td>\n",
              "    </tr>\n",
              "    <tr>\n",
              "      <th>...</th>\n",
              "      <td>...</td>\n",
              "      <td>...</td>\n",
              "      <td>...</td>\n",
              "      <td>...</td>\n",
              "      <td>...</td>\n",
              "      <td>...</td>\n",
              "      <td>...</td>\n",
              "      <td>...</td>\n",
              "      <td>...</td>\n",
              "      <td>...</td>\n",
              "      <td>...</td>\n",
              "      <td>...</td>\n",
              "      <td>...</td>\n",
              "      <td>...</td>\n",
              "      <td>...</td>\n",
              "      <td>...</td>\n",
              "      <td>...</td>\n",
              "      <td>...</td>\n",
              "      <td>...</td>\n",
              "      <td>...</td>\n",
              "      <td>...</td>\n",
              "      <td>...</td>\n",
              "      <td>...</td>\n",
              "      <td>...</td>\n",
              "      <td>...</td>\n",
              "      <td>...</td>\n",
              "      <td>...</td>\n",
              "      <td>...</td>\n",
              "      <td>...</td>\n",
              "      <td>...</td>\n",
              "      <td>...</td>\n",
              "      <td>...</td>\n",
              "      <td>...</td>\n",
              "      <td>...</td>\n",
              "      <td>...</td>\n",
              "      <td>...</td>\n",
              "      <td>...</td>\n",
              "      <td>...</td>\n",
              "      <td>...</td>\n",
              "      <td>...</td>\n",
              "      <td>...</td>\n",
              "      <td>...</td>\n",
              "      <td>...</td>\n",
              "      <td>...</td>\n",
              "      <td>...</td>\n",
              "      <td>...</td>\n",
              "      <td>...</td>\n",
              "      <td>...</td>\n",
              "      <td>...</td>\n",
              "      <td>...</td>\n",
              "      <td>...</td>\n",
              "      <td>...</td>\n",
              "      <td>...</td>\n",
              "      <td>...</td>\n",
              "      <td>...</td>\n",
              "      <td>...</td>\n",
              "      <td>...</td>\n",
              "      <td>...</td>\n",
              "      <td>...</td>\n",
              "      <td>...</td>\n",
              "      <td>...</td>\n",
              "      <td>...</td>\n",
              "      <td>...</td>\n",
              "      <td>...</td>\n",
              "      <td>...</td>\n",
              "      <td>...</td>\n",
              "      <td>...</td>\n",
              "      <td>...</td>\n",
              "      <td>...</td>\n",
              "      <td>...</td>\n",
              "      <td>...</td>\n",
              "      <td>...</td>\n",
              "      <td>...</td>\n",
              "      <td>...</td>\n",
              "      <td>...</td>\n",
              "      <td>...</td>\n",
              "      <td>...</td>\n",
              "      <td>...</td>\n",
              "      <td>...</td>\n",
              "      <td>...</td>\n",
              "      <td>...</td>\n",
              "    </tr>\n",
              "    <tr>\n",
              "      <th>596</th>\n",
              "      <td>0</td>\n",
              "      <td>0</td>\n",
              "      <td>0</td>\n",
              "      <td>0</td>\n",
              "      <td>0</td>\n",
              "      <td>0</td>\n",
              "      <td>0</td>\n",
              "      <td>0</td>\n",
              "      <td>0</td>\n",
              "      <td>0</td>\n",
              "      <td>0</td>\n",
              "      <td>0</td>\n",
              "      <td>0</td>\n",
              "      <td>0</td>\n",
              "      <td>0</td>\n",
              "      <td>0</td>\n",
              "      <td>0</td>\n",
              "      <td>0</td>\n",
              "      <td>0</td>\n",
              "      <td>0</td>\n",
              "      <td>1</td>\n",
              "      <td>0</td>\n",
              "      <td>0</td>\n",
              "      <td>1</td>\n",
              "      <td>0</td>\n",
              "      <td>0</td>\n",
              "      <td>0</td>\n",
              "      <td>0</td>\n",
              "      <td>0</td>\n",
              "      <td>0</td>\n",
              "      <td>0</td>\n",
              "      <td>1</td>\n",
              "      <td>0</td>\n",
              "      <td>0</td>\n",
              "      <td>0</td>\n",
              "      <td>0</td>\n",
              "      <td>0</td>\n",
              "      <td>0</td>\n",
              "      <td>0</td>\n",
              "      <td>0</td>\n",
              "      <td>...</td>\n",
              "      <td>0</td>\n",
              "      <td>0</td>\n",
              "      <td>0</td>\n",
              "      <td>0</td>\n",
              "      <td>0</td>\n",
              "      <td>0</td>\n",
              "      <td>0</td>\n",
              "      <td>0</td>\n",
              "      <td>0</td>\n",
              "      <td>0</td>\n",
              "      <td>0</td>\n",
              "      <td>0</td>\n",
              "      <td>0</td>\n",
              "      <td>0</td>\n",
              "      <td>0</td>\n",
              "      <td>0</td>\n",
              "      <td>0</td>\n",
              "      <td>0</td>\n",
              "      <td>0</td>\n",
              "      <td>0</td>\n",
              "      <td>0</td>\n",
              "      <td>0</td>\n",
              "      <td>0</td>\n",
              "      <td>0</td>\n",
              "      <td>0</td>\n",
              "      <td>0</td>\n",
              "      <td>0</td>\n",
              "      <td>0</td>\n",
              "      <td>0.0</td>\n",
              "      <td>0.0</td>\n",
              "      <td>0.0</td>\n",
              "      <td>0.0</td>\n",
              "      <td>1.0</td>\n",
              "      <td>0</td>\n",
              "      <td>0</td>\n",
              "      <td>0</td>\n",
              "      <td>0</td>\n",
              "      <td>0</td>\n",
              "      <td>0</td>\n",
              "      <td>0</td>\n",
              "    </tr>\n",
              "    <tr>\n",
              "      <th>600</th>\n",
              "      <td>0</td>\n",
              "      <td>0</td>\n",
              "      <td>1</td>\n",
              "      <td>0</td>\n",
              "      <td>1</td>\n",
              "      <td>0</td>\n",
              "      <td>1</td>\n",
              "      <td>0</td>\n",
              "      <td>0</td>\n",
              "      <td>0</td>\n",
              "      <td>0</td>\n",
              "      <td>0</td>\n",
              "      <td>0</td>\n",
              "      <td>0</td>\n",
              "      <td>0</td>\n",
              "      <td>0</td>\n",
              "      <td>0</td>\n",
              "      <td>0</td>\n",
              "      <td>0</td>\n",
              "      <td>0</td>\n",
              "      <td>1</td>\n",
              "      <td>1</td>\n",
              "      <td>1</td>\n",
              "      <td>1</td>\n",
              "      <td>0</td>\n",
              "      <td>0</td>\n",
              "      <td>1</td>\n",
              "      <td>0</td>\n",
              "      <td>0</td>\n",
              "      <td>0</td>\n",
              "      <td>0</td>\n",
              "      <td>0</td>\n",
              "      <td>0</td>\n",
              "      <td>0</td>\n",
              "      <td>0</td>\n",
              "      <td>0</td>\n",
              "      <td>0</td>\n",
              "      <td>0</td>\n",
              "      <td>0</td>\n",
              "      <td>0</td>\n",
              "      <td>...</td>\n",
              "      <td>0</td>\n",
              "      <td>0</td>\n",
              "      <td>0</td>\n",
              "      <td>0</td>\n",
              "      <td>0</td>\n",
              "      <td>0</td>\n",
              "      <td>1</td>\n",
              "      <td>0</td>\n",
              "      <td>0</td>\n",
              "      <td>0</td>\n",
              "      <td>0</td>\n",
              "      <td>0</td>\n",
              "      <td>0</td>\n",
              "      <td>0</td>\n",
              "      <td>0</td>\n",
              "      <td>0</td>\n",
              "      <td>0</td>\n",
              "      <td>0</td>\n",
              "      <td>0</td>\n",
              "      <td>0</td>\n",
              "      <td>0</td>\n",
              "      <td>0</td>\n",
              "      <td>0</td>\n",
              "      <td>0</td>\n",
              "      <td>0</td>\n",
              "      <td>0</td>\n",
              "      <td>0</td>\n",
              "      <td>0</td>\n",
              "      <td>1.0</td>\n",
              "      <td>0.0</td>\n",
              "      <td>0.0</td>\n",
              "      <td>0.0</td>\n",
              "      <td>1.0</td>\n",
              "      <td>0</td>\n",
              "      <td>0</td>\n",
              "      <td>1</td>\n",
              "      <td>0</td>\n",
              "      <td>0</td>\n",
              "      <td>0</td>\n",
              "      <td>0</td>\n",
              "    </tr>\n",
              "    <tr>\n",
              "      <th>601</th>\n",
              "      <td>0</td>\n",
              "      <td>0</td>\n",
              "      <td>0</td>\n",
              "      <td>0</td>\n",
              "      <td>0</td>\n",
              "      <td>0</td>\n",
              "      <td>1</td>\n",
              "      <td>0</td>\n",
              "      <td>0</td>\n",
              "      <td>0</td>\n",
              "      <td>0</td>\n",
              "      <td>0</td>\n",
              "      <td>0</td>\n",
              "      <td>0</td>\n",
              "      <td>0</td>\n",
              "      <td>0</td>\n",
              "      <td>0</td>\n",
              "      <td>0</td>\n",
              "      <td>0</td>\n",
              "      <td>0</td>\n",
              "      <td>1</td>\n",
              "      <td>1</td>\n",
              "      <td>0</td>\n",
              "      <td>1</td>\n",
              "      <td>1</td>\n",
              "      <td>0</td>\n",
              "      <td>0</td>\n",
              "      <td>0</td>\n",
              "      <td>0</td>\n",
              "      <td>0</td>\n",
              "      <td>0</td>\n",
              "      <td>0</td>\n",
              "      <td>0</td>\n",
              "      <td>0</td>\n",
              "      <td>0</td>\n",
              "      <td>0</td>\n",
              "      <td>1</td>\n",
              "      <td>0</td>\n",
              "      <td>0</td>\n",
              "      <td>0</td>\n",
              "      <td>...</td>\n",
              "      <td>0</td>\n",
              "      <td>0</td>\n",
              "      <td>0</td>\n",
              "      <td>0</td>\n",
              "      <td>0</td>\n",
              "      <td>0</td>\n",
              "      <td>0</td>\n",
              "      <td>0</td>\n",
              "      <td>0</td>\n",
              "      <td>0</td>\n",
              "      <td>0</td>\n",
              "      <td>0</td>\n",
              "      <td>0</td>\n",
              "      <td>0</td>\n",
              "      <td>0</td>\n",
              "      <td>0</td>\n",
              "      <td>0</td>\n",
              "      <td>0</td>\n",
              "      <td>0</td>\n",
              "      <td>0</td>\n",
              "      <td>0</td>\n",
              "      <td>0</td>\n",
              "      <td>0</td>\n",
              "      <td>0</td>\n",
              "      <td>0</td>\n",
              "      <td>0</td>\n",
              "      <td>0</td>\n",
              "      <td>0</td>\n",
              "      <td>0.0</td>\n",
              "      <td>0.0</td>\n",
              "      <td>0.0</td>\n",
              "      <td>0.0</td>\n",
              "      <td>0.0</td>\n",
              "      <td>0</td>\n",
              "      <td>0</td>\n",
              "      <td>0</td>\n",
              "      <td>0</td>\n",
              "      <td>0</td>\n",
              "      <td>0</td>\n",
              "      <td>0</td>\n",
              "    </tr>\n",
              "    <tr>\n",
              "      <th>611</th>\n",
              "      <td>1</td>\n",
              "      <td>0</td>\n",
              "      <td>0</td>\n",
              "      <td>0</td>\n",
              "      <td>0</td>\n",
              "      <td>0</td>\n",
              "      <td>0</td>\n",
              "      <td>1</td>\n",
              "      <td>0</td>\n",
              "      <td>1</td>\n",
              "      <td>1</td>\n",
              "      <td>0</td>\n",
              "      <td>0</td>\n",
              "      <td>0</td>\n",
              "      <td>0</td>\n",
              "      <td>0</td>\n",
              "      <td>0</td>\n",
              "      <td>0</td>\n",
              "      <td>0</td>\n",
              "      <td>0</td>\n",
              "      <td>1</td>\n",
              "      <td>1</td>\n",
              "      <td>0</td>\n",
              "      <td>0</td>\n",
              "      <td>0</td>\n",
              "      <td>0</td>\n",
              "      <td>0</td>\n",
              "      <td>0</td>\n",
              "      <td>0</td>\n",
              "      <td>0</td>\n",
              "      <td>0</td>\n",
              "      <td>0</td>\n",
              "      <td>0</td>\n",
              "      <td>0</td>\n",
              "      <td>0</td>\n",
              "      <td>0</td>\n",
              "      <td>0</td>\n",
              "      <td>0</td>\n",
              "      <td>0</td>\n",
              "      <td>0</td>\n",
              "      <td>...</td>\n",
              "      <td>0</td>\n",
              "      <td>0</td>\n",
              "      <td>0</td>\n",
              "      <td>0</td>\n",
              "      <td>0</td>\n",
              "      <td>0</td>\n",
              "      <td>0</td>\n",
              "      <td>0</td>\n",
              "      <td>0</td>\n",
              "      <td>0</td>\n",
              "      <td>0</td>\n",
              "      <td>0</td>\n",
              "      <td>0</td>\n",
              "      <td>0</td>\n",
              "      <td>0</td>\n",
              "      <td>0</td>\n",
              "      <td>0</td>\n",
              "      <td>0</td>\n",
              "      <td>0</td>\n",
              "      <td>0</td>\n",
              "      <td>0</td>\n",
              "      <td>0</td>\n",
              "      <td>0</td>\n",
              "      <td>0</td>\n",
              "      <td>0</td>\n",
              "      <td>0</td>\n",
              "      <td>0</td>\n",
              "      <td>0</td>\n",
              "      <td>0.0</td>\n",
              "      <td>0.0</td>\n",
              "      <td>0.0</td>\n",
              "      <td>0.0</td>\n",
              "      <td>0.0</td>\n",
              "      <td>0</td>\n",
              "      <td>1</td>\n",
              "      <td>0</td>\n",
              "      <td>0</td>\n",
              "      <td>0</td>\n",
              "      <td>0</td>\n",
              "      <td>0</td>\n",
              "    </tr>\n",
              "    <tr>\n",
              "      <th>614</th>\n",
              "      <td>0</td>\n",
              "      <td>0</td>\n",
              "      <td>0</td>\n",
              "      <td>0</td>\n",
              "      <td>0</td>\n",
              "      <td>0</td>\n",
              "      <td>0</td>\n",
              "      <td>0</td>\n",
              "      <td>0</td>\n",
              "      <td>0</td>\n",
              "      <td>0</td>\n",
              "      <td>0</td>\n",
              "      <td>0</td>\n",
              "      <td>0</td>\n",
              "      <td>0</td>\n",
              "      <td>0</td>\n",
              "      <td>0</td>\n",
              "      <td>0</td>\n",
              "      <td>0</td>\n",
              "      <td>0</td>\n",
              "      <td>1</td>\n",
              "      <td>1</td>\n",
              "      <td>0</td>\n",
              "      <td>0</td>\n",
              "      <td>0</td>\n",
              "      <td>0</td>\n",
              "      <td>0</td>\n",
              "      <td>0</td>\n",
              "      <td>0</td>\n",
              "      <td>0</td>\n",
              "      <td>0</td>\n",
              "      <td>0</td>\n",
              "      <td>0</td>\n",
              "      <td>0</td>\n",
              "      <td>0</td>\n",
              "      <td>0</td>\n",
              "      <td>1</td>\n",
              "      <td>0</td>\n",
              "      <td>0</td>\n",
              "      <td>0</td>\n",
              "      <td>...</td>\n",
              "      <td>0</td>\n",
              "      <td>0</td>\n",
              "      <td>0</td>\n",
              "      <td>0</td>\n",
              "      <td>0</td>\n",
              "      <td>0</td>\n",
              "      <td>0</td>\n",
              "      <td>0</td>\n",
              "      <td>0</td>\n",
              "      <td>0</td>\n",
              "      <td>0</td>\n",
              "      <td>0</td>\n",
              "      <td>0</td>\n",
              "      <td>0</td>\n",
              "      <td>0</td>\n",
              "      <td>0</td>\n",
              "      <td>0</td>\n",
              "      <td>0</td>\n",
              "      <td>0</td>\n",
              "      <td>0</td>\n",
              "      <td>0</td>\n",
              "      <td>0</td>\n",
              "      <td>0</td>\n",
              "      <td>0</td>\n",
              "      <td>0</td>\n",
              "      <td>0</td>\n",
              "      <td>0</td>\n",
              "      <td>0</td>\n",
              "      <td>0.0</td>\n",
              "      <td>1.0</td>\n",
              "      <td>1.0</td>\n",
              "      <td>0.0</td>\n",
              "      <td>1.0</td>\n",
              "      <td>0</td>\n",
              "      <td>0</td>\n",
              "      <td>0</td>\n",
              "      <td>0</td>\n",
              "      <td>0</td>\n",
              "      <td>0</td>\n",
              "      <td>0</td>\n",
              "    </tr>\n",
              "  </tbody>\n",
              "</table>\n",
              "<p>571 rows × 100 columns</p>\n",
              "</div>"
            ],
            "text/plain": [
              "     Unspecified essential hypertension code  ...  Melphalan\n",
              "0                                          1  ...          0\n",
              "1                                          0  ...          0\n",
              "2                                          1  ...          0\n",
              "3                                          0  ...          0\n",
              "4                                          0  ...          0\n",
              "..                                       ...  ...        ...\n",
              "596                                        0  ...          0\n",
              "600                                        0  ...          0\n",
              "601                                        0  ...          0\n",
              "611                                        1  ...          0\n",
              "614                                        0  ...          0\n",
              "\n",
              "[571 rows x 100 columns]"
            ]
          },
          "metadata": {
            "tags": []
          },
          "execution_count": 19
        }
      ]
    },
    {
      "cell_type": "markdown",
      "metadata": {
        "id": "ppKr11ivscTp"
      },
      "source": [
        "# 1. KMeans"
      ]
    },
    {
      "cell_type": "code",
      "metadata": {
        "id": "idNFT78NDA_b"
      },
      "source": [
        "from sklearn.cluster import KMeans"
      ],
      "execution_count": 20,
      "outputs": []
    },
    {
      "cell_type": "code",
      "metadata": {
        "id": "BEwTcJ-cuXL4"
      },
      "source": [
        "kmeans_model = KMeans(n_clusters=10)\r\n",
        "kmeans_result = kmeans_model.fit_predict(data)"
      ],
      "execution_count": 21,
      "outputs": []
    },
    {
      "cell_type": "code",
      "metadata": {
        "colab": {
          "base_uri": "https://localhost:8080/"
        },
        "id": "86HaQuI-DFrY",
        "outputId": "d4faf0a3-7494-46ea-cb9e-28bef4dfd56d"
      },
      "source": [
        "kmeans_model.inertia_"
      ],
      "execution_count": 22,
      "outputs": [
        {
          "output_type": "execute_result",
          "data": {
            "text/plain": [
              "3379.7554893106812"
            ]
          },
          "metadata": {
            "tags": []
          },
          "execution_count": 22
        }
      ]
    },
    {
      "cell_type": "code",
      "metadata": {
        "id": "8H_X869nDRjc"
      },
      "source": [
        "inertias = []\r\n",
        "for i in range(1, 20):\r\n",
        "  kmeans_model = KMeans(n_clusters=i)\r\n",
        "  kmeans_result = kmeans_model.fit_predict(data)\r\n",
        "  inertias.append(kmeans_model.inertia_)"
      ],
      "execution_count": 23,
      "outputs": []
    },
    {
      "cell_type": "code",
      "metadata": {
        "colab": {
          "base_uri": "https://localhost:8080/",
          "height": 475
        },
        "id": "kG5T7weqD0mC",
        "outputId": "e5d9e02c-81e0-4098-e9dc-27990a914999"
      },
      "source": [
        "plt.figure(figsize=(7, 7))\r\n",
        "plt.title('inertia vs # clusters graph')\r\n",
        "plt.xlabel('number of clusters')\r\n",
        "plt.ylabel('inertia (sum of distances between all points and their cluster)')\r\n",
        "plt.plot(np.array(list(range(1, len(inertias) + 1))), np.array(inertias))"
      ],
      "execution_count": 34,
      "outputs": [
        {
          "output_type": "execute_result",
          "data": {
            "text/plain": [
              "[<matplotlib.lines.Line2D at 0x7f2513ccf978>]"
            ]
          },
          "metadata": {
            "tags": []
          },
          "execution_count": 34
        },
        {
          "output_type": "display_data",
          "data": {
            "image/png": "[encoded data removed]",
            "text/plain": [
              "<Figure size 504x504 with 1 Axes>"
            ]
          },
          "metadata": {
            "tags": [],
            "needs_background": "light"
          }
        }
      ]
    },
    {
      "cell_type": "markdown",
      "metadata": {
        "id": "uX6G_tTjQvoi"
      },
      "source": [
        "As we can see from the graph, the best `k` is about `7` or `8`"
      ]
    },
    {
      "cell_type": "code",
      "metadata": {
        "id": "iQtxWuBlQ5lF"
      },
      "source": [
        "kmeans_model = KMeans(n_clusters=7)\r\n",
        "kmeans_result = kmeans_model.fit_predict(data)"
      ],
      "execution_count": 35,
      "outputs": []
    },
    {
      "cell_type": "code",
      "metadata": {
        "id": "QQ_D8CCruibr"
      },
      "source": [
        "clusters = kmeans_model.cluster_centers_"
      ],
      "execution_count": 36,
      "outputs": []
    },
    {
      "cell_type": "code",
      "metadata": {
        "colab": {
          "base_uri": "https://localhost:8080/"
        },
        "id": "n1w3FfUjvnbP",
        "outputId": "fb9cd85a-b763-451c-c335-b0186a5ebbb0"
      },
      "source": [
        "clusters[0]"
      ],
      "execution_count": null,
      "outputs": [
        {
          "output_type": "execute_result",
          "data": {
            "text/plain": [
              "array([ 2.14285714e-01, -1.44328993e-15,  1.02040816e-01, -1.04083409e-16,\n",
              "        7.14285714e-02, -1.94289029e-16,  5.51020408e-01,  8.16326531e-02,\n",
              "        1.22448980e-01,  9.18367347e-02,  1.02040816e-01, -2.08166817e-16,\n",
              "        1.38777878e-16,  8.16326531e-02,  2.24489796e-01,  5.10204082e-02,\n",
              "        1.02040816e-02, -2.08166817e-16,  6.12244898e-02, -2.77555756e-16,\n",
              "        9.69387755e-01,  7.44897959e-01,  2.24489796e-01,  3.97959184e-01,\n",
              "        3.87755102e-01,  4.08163265e-02,  9.18367347e-02,  8.16326531e-02,\n",
              "        2.14285714e-01,  5.10204082e-02,  3.06122449e-02,  2.04081633e-02,\n",
              "        1.80411242e-16,  2.77555756e-17,  1.73472348e-17,  3.46944695e-17,\n",
              "        2.34693878e-01,  6.12244898e-02,  2.04081633e-02,  1.02040816e-02,\n",
              "        5.10204082e-02,  2.04081633e-02,  4.08163265e-02,  1.53061224e-01,\n",
              "       -1.04083409e-16, -5.55111512e-17, -4.85722573e-17, -2.08166817e-17,\n",
              "        1.73472348e-17,  2.04081633e-02,  0.00000000e+00,  1.73472348e-17,\n",
              "       -5.20417043e-17,  1.02040816e-02,  3.46944695e-17,  8.67361738e-18,\n",
              "        1.02040816e-02, -3.46944695e-17,  0.00000000e+00,  1.73472348e-17,\n",
              "        1.73472348e-17,  4.33680869e-18, -8.67361738e-18,  1.73472348e-17,\n",
              "        8.67361738e-18, -1.04083409e-17,  2.04081633e-02,  1.73472348e-17,\n",
              "       -1.73472348e-17,  8.67361738e-18, -1.73472348e-17,  1.02040816e-02,\n",
              "       -1.73472348e-17, -5.20417043e-18,  1.02040816e-02,  1.73472348e-17,\n",
              "       -8.67361738e-18, -8.67361738e-18, -1.73472348e-17, -2.08166817e-17,\n",
              "       -8.67361738e-18,  4.33680869e-18,  4.33680869e-18, -8.67361738e-18,\n",
              "       -8.67361738e-18, -8.67361738e-18,  4.33680869e-18,  4.33680869e-18,\n",
              "        3.16326531e-01,  2.34693878e-01,  2.55102041e-01,  2.95918367e-01,\n",
              "        5.40816327e-01,  6.12244898e-02,  1.53061224e-01,  6.02040816e-01,\n",
              "        2.77555756e-16,  3.06122449e-02,  3.46944695e-17,  3.06122449e-02])"
            ]
          },
          "metadata": {
            "tags": []
          },
          "execution_count": 51
        }
      ]
    },
    {
      "cell_type": "markdown",
      "metadata": {
        "id": "3QwxMKOmRHGu"
      },
      "source": [
        "Now let's see what each of the clusters represents. -- what features tend to cluster as a group?"
      ]
    },
    {
      "cell_type": "code",
      "metadata": {
        "colab": {
          "base_uri": "https://localhost:8080/"
        },
        "id": "20ytrsEWRdc3",
        "outputId": "4edabe2a-76a5-4e7f-86f8-ecad248b0c9e"
      },
      "source": [
        "np.argsort(clusters[0])[::-1][:5]"
      ],
      "execution_count": 45,
      "outputs": [
        {
          "output_type": "execute_result",
          "data": {
            "text/plain": [
              "array([94,  1, 93, 89,  4])"
            ]
          },
          "metadata": {
            "tags": []
          },
          "execution_count": 45
        }
      ]
    },
    {
      "cell_type": "code",
      "metadata": {
        "colab": {
          "base_uri": "https://localhost:8080/"
        },
        "id": "0DYKjIIdvtmc",
        "outputId": "365725de-e886-4877-b424-dfd84368849e"
      },
      "source": [
        "# find the top 5 features in the cluster[i] that have the largest values \r\n",
        "for i in range(len(clusters)):\r\n",
        "  indices = np.argsort(clusters[i])[::-1][:5]\r\n",
        "  print(f\"cluster {i}\\' centroid represents\")\r\n",
        "  print(\"feature \", end = \" \")\r\n",
        "  for j in indices:\r\n",
        "    name = data.columns[j]\r\n",
        "    print(f\"{name}\", end = \", \")\r\n",
        "  print()"
      ],
      "execution_count": 47,
      "outputs": [
        {
          "output_type": "stream",
          "text": [
            "cluster 0' centroid represents\n",
            "feature  Bortezomib, Encounter for change or removal of surgical wound dressing code, Lenalidomide, ALK, Anemia, unspecified code, \n",
            "cluster 1' centroid represents\n",
            "feature  Examination of participant in clinical trial code, Multiple myeloma, in remission code, Bortezomib, Dietary surveillance and counseling code, Neutropenia, unspecified code, \n",
            "cluster 2' centroid represents\n",
            "feature  Bortezomib, Encounter for change or removal of surgical wound dressing code, Neutropenia, unspecified code, Other specified pre-operative examination code, TP, \n",
            "cluster 3' centroid represents\n",
            "feature  Examination of participant in clinical trial code, Dietary surveillance and counseling code, Etoposide, Other specified aftercare following surgery code, TP, \n",
            "cluster 4' centroid represents\n",
            "feature  Bortezomib, Encounter for change or removal of surgical wound dressing code, Disorders of magnesium metabolism code, Hypopotassemia code, Unspecified essential hypertension code, \n",
            "cluster 5' centroid represents\n",
            "feature  Etoposide, Encounter for change or removal of surgical wound dressing code, Bortezomib, Lenalidomide, TP, \n",
            "cluster 6' centroid represents\n",
            "feature  Neutropenia, unspecified code, Encounter for change or removal of surgical wound dressing code, Bortezomib, Etoposide, Anemia, unspecified code, \n"
          ],
          "name": "stdout"
        }
      ]
    },
    {
      "cell_type": "markdown",
      "metadata": {
        "id": "MiPLLGUNsenr"
      },
      "source": [
        "# 2.K-Modes"
      ]
    },
    {
      "cell_type": "markdown",
      "metadata": {
        "id": "oLgRZSCmShdk"
      },
      "source": [
        "Now, beware teh K-Means uses `Euclidean distance`, which assumes continuous features. But we have binary features. In this case K-Modes is more suitable. I think K-Modes uses `Hamming distance`, which is the number of different matches of features between two rows."
      ]
    },
    {
      "cell_type": "code",
      "metadata": {
        "colab": {
          "base_uri": "https://localhost:8080/"
        },
        "id": "4pTQjDmKH3fH",
        "outputId": "ad780624-677e-406e-f3ce-9c067aef0abd"
      },
      "source": [
        "pip install kmodes"
      ],
      "execution_count": 48,
      "outputs": [
        {
          "output_type": "stream",
          "text": [
            "Collecting kmodes\n",
            "  Downloading https://files.pythonhosted.org/packages/b2/55/d8ec1ae1f7e1e202a8a4184c6852a3ee993b202b0459672c699d0ac18fc8/kmodes-0.10.2-py2.py3-none-any.whl\n",
            "Requirement already satisfied: scikit-learn>=0.19.0 in /usr/local/lib/python3.6/dist-packages (from kmodes) (0.22.2.post1)\n",
            "Requirement already satisfied: scipy>=0.13.3 in /usr/local/lib/python3.6/dist-packages (from kmodes) (1.4.1)\n",
            "Requirement already satisfied: numpy>=1.10.4 in /usr/local/lib/python3.6/dist-packages (from kmodes) (1.18.5)\n",
            "Requirement already satisfied: joblib>=0.11 in /usr/local/lib/python3.6/dist-packages (from kmodes) (0.17.0)\n",
            "Installing collected packages: kmodes\n",
            "Successfully installed kmodes-0.10.2\n"
          ],
          "name": "stdout"
        }
      ]
    },
    {
      "cell_type": "code",
      "metadata": {
        "id": "cwB7XifzM7Xp"
      },
      "source": [
        "from kmodes.kmodes import KModes"
      ],
      "execution_count": 49,
      "outputs": []
    },
    {
      "cell_type": "code",
      "metadata": {
        "colab": {
          "base_uri": "https://localhost:8080/"
        },
        "id": "V9_aiVOaH2Sq",
        "outputId": "3d053d8a-6a64-42dd-e6a9-d7e27e029174"
      },
      "source": [
        "# try to get the best # clusters by looking at cost.\r\n",
        "cost = []\r\n",
        "for i in range(2, 12):\r\n",
        "  km = KModes(n_clusters=i, init='Huang', n_init=5, verbose=1)\r\n",
        "  clusters = km.fit_predict(data)\r\n",
        "  cost.append(km.cost_)"
      ],
      "execution_count": 51,
      "outputs": [
        {
          "output_type": "stream",
          "text": [
            "Init: initializing centroids\n",
            "Init: initializing clusters\n",
            "Starting iterations...\n",
            "Run 1, iteration: 1/100, moves: 124, cost: 5739.0\n",
            "Run 1, iteration: 2/100, moves: 26, cost: 5739.0\n",
            "Init: initializing centroids\n",
            "Init: initializing clusters\n",
            "Starting iterations...\n",
            "Run 2, iteration: 1/100, moves: 121, cost: 5765.0\n",
            "Run 2, iteration: 2/100, moves: 24, cost: 5765.0\n",
            "Init: initializing centroids\n",
            "Init: initializing clusters\n",
            "Starting iterations...\n",
            "Run 3, iteration: 1/100, moves: 119, cost: 5777.0\n",
            "Run 3, iteration: 2/100, moves: 30, cost: 5777.0\n",
            "Init: initializing centroids\n",
            "Init: initializing clusters\n",
            "Starting iterations...\n",
            "Run 4, iteration: 1/100, moves: 109, cost: 5818.0\n",
            "Run 4, iteration: 2/100, moves: 53, cost: 5750.0\n",
            "Run 4, iteration: 3/100, moves: 55, cost: 5739.0\n",
            "Run 4, iteration: 4/100, moves: 1, cost: 5739.0\n",
            "Init: initializing centroids\n",
            "Init: initializing clusters\n",
            "Starting iterations...\n",
            "Run 5, iteration: 1/100, moves: 117, cost: 5717.0\n",
            "Run 5, iteration: 2/100, moves: 67, cost: 5717.0\n",
            "Best run was number 5\n",
            "Init: initializing centroids\n",
            "Init: initializing clusters\n",
            "Starting iterations...\n",
            "Run 1, iteration: 1/100, moves: 105, cost: 5509.0\n",
            "Run 1, iteration: 2/100, moves: 17, cost: 5509.0\n",
            "Init: initializing centroids\n",
            "Init: initializing clusters\n",
            "Starting iterations...\n",
            "Run 2, iteration: 1/100, moves: 148, cost: 5477.0\n",
            "Run 2, iteration: 2/100, moves: 4, cost: 5477.0\n",
            "Init: initializing centroids\n",
            "Init: initializing clusters\n",
            "Starting iterations...\n",
            "Run 3, iteration: 1/100, moves: 147, cost: 5837.0\n",
            "Run 3, iteration: 2/100, moves: 79, cost: 5761.0\n",
            "Run 3, iteration: 3/100, moves: 4, cost: 5761.0\n",
            "Init: initializing centroids\n",
            "Init: initializing clusters\n",
            "Starting iterations...\n",
            "Run 4, iteration: 1/100, moves: 156, cost: 5376.0\n",
            "Run 4, iteration: 2/100, moves: 29, cost: 5338.0\n",
            "Run 4, iteration: 3/100, moves: 23, cost: 5338.0\n",
            "Init: initializing centroids\n",
            "Init: initializing clusters\n",
            "Starting iterations...\n",
            "Run 5, iteration: 1/100, moves: 174, cost: 5567.0\n",
            "Run 5, iteration: 2/100, moves: 121, cost: 5491.0\n",
            "Run 5, iteration: 3/100, moves: 19, cost: 5491.0\n",
            "Best run was number 4\n",
            "Init: initializing centroids\n",
            "Init: initializing clusters\n",
            "Starting iterations...\n",
            "Run 1, iteration: 1/100, moves: 186, cost: 5231.0\n",
            "Run 1, iteration: 2/100, moves: 22, cost: 5231.0\n",
            "Init: initializing centroids\n",
            "Init: initializing clusters\n",
            "Starting iterations...\n",
            "Run 2, iteration: 1/100, moves: 163, cost: 5123.0\n",
            "Run 2, iteration: 2/100, moves: 106, cost: 5031.0\n",
            "Run 2, iteration: 3/100, moves: 38, cost: 5031.0\n",
            "Init: initializing centroids\n",
            "Init: initializing clusters\n",
            "Starting iterations...\n",
            "Run 3, iteration: 1/100, moves: 203, cost: 5255.0\n",
            "Run 3, iteration: 2/100, moves: 60, cost: 5224.0\n",
            "Run 3, iteration: 3/100, moves: 5, cost: 5224.0\n",
            "Init: initializing centroids\n",
            "Init: initializing clusters\n",
            "Starting iterations...\n",
            "Run 4, iteration: 1/100, moves: 172, cost: 5352.0\n",
            "Run 4, iteration: 2/100, moves: 49, cost: 5352.0\n",
            "Init: initializing centroids\n",
            "Init: initializing clusters\n",
            "Starting iterations...\n",
            "Run 5, iteration: 1/100, moves: 172, cost: 5106.0\n",
            "Run 5, iteration: 2/100, moves: 32, cost: 5106.0\n",
            "Best run was number 2\n",
            "Init: initializing centroids\n",
            "Init: initializing clusters\n",
            "Starting iterations...\n",
            "Run 1, iteration: 1/100, moves: 157, cost: 5075.0\n",
            "Run 1, iteration: 2/100, moves: 21, cost: 5067.0\n",
            "Run 1, iteration: 3/100, moves: 7, cost: 5067.0\n",
            "Init: initializing centroids\n",
            "Init: initializing clusters\n",
            "Starting iterations...\n",
            "Run 2, iteration: 1/100, moves: 209, cost: 4953.0\n",
            "Run 2, iteration: 2/100, moves: 21, cost: 4953.0\n",
            "Init: initializing centroids\n",
            "Init: initializing clusters\n",
            "Starting iterations...\n",
            "Run 3, iteration: 1/100, moves: 199, cost: 4983.0\n",
            "Run 3, iteration: 2/100, moves: 35, cost: 4983.0\n",
            "Init: initializing centroids\n",
            "Init: initializing clusters\n",
            "Starting iterations...\n",
            "Run 4, iteration: 1/100, moves: 153, cost: 4987.0\n",
            "Run 4, iteration: 2/100, moves: 85, cost: 4943.0\n",
            "Run 4, iteration: 3/100, moves: 14, cost: 4943.0\n",
            "Init: initializing centroids\n",
            "Init: initializing clusters\n",
            "Starting iterations...\n",
            "Run 5, iteration: 1/100, moves: 138, cost: 5004.0\n",
            "Run 5, iteration: 2/100, moves: 27, cost: 5004.0\n",
            "Best run was number 4\n",
            "Init: initializing centroids\n",
            "Init: initializing clusters\n",
            "Starting iterations...\n",
            "Run 1, iteration: 1/100, moves: 180, cost: 4917.0\n",
            "Run 1, iteration: 2/100, moves: 89, cost: 4885.0\n",
            "Run 1, iteration: 3/100, moves: 14, cost: 4885.0\n",
            "Init: initializing centroids\n",
            "Init: initializing clusters\n",
            "Starting iterations...\n",
            "Run 2, iteration: 1/100, moves: 167, cost: 4918.0\n",
            "Run 2, iteration: 2/100, moves: 95, cost: 4862.0\n",
            "Run 2, iteration: 3/100, moves: 28, cost: 4862.0\n",
            "Init: initializing centroids\n",
            "Init: initializing clusters\n",
            "Starting iterations...\n",
            "Run 3, iteration: 1/100, moves: 268, cost: 4995.0\n",
            "Run 3, iteration: 2/100, moves: 81, cost: 4887.0\n",
            "Run 3, iteration: 3/100, moves: 49, cost: 4875.0\n",
            "Run 3, iteration: 4/100, moves: 3, cost: 4875.0\n",
            "Init: initializing centroids\n",
            "Init: initializing clusters\n",
            "Starting iterations...\n",
            "Run 4, iteration: 1/100, moves: 159, cost: 5103.0\n",
            "Run 4, iteration: 2/100, moves: 86, cost: 4938.0\n",
            "Run 4, iteration: 3/100, moves: 109, cost: 4908.0\n",
            "Run 4, iteration: 4/100, moves: 32, cost: 4908.0\n",
            "Init: initializing centroids\n",
            "Init: initializing clusters\n",
            "Starting iterations...\n",
            "Run 5, iteration: 1/100, moves: 205, cost: 4929.0\n",
            "Run 5, iteration: 2/100, moves: 36, cost: 4929.0\n",
            "Best run was number 2\n",
            "Init: initializing centroids\n",
            "Init: initializing clusters\n",
            "Starting iterations...\n",
            "Run 1, iteration: 1/100, moves: 183, cost: 4912.0\n",
            "Run 1, iteration: 2/100, moves: 82, cost: 4873.0\n",
            "Run 1, iteration: 3/100, moves: 7, cost: 4873.0\n",
            "Init: initializing centroids\n",
            "Init: initializing clusters\n",
            "Starting iterations...\n",
            "Run 2, iteration: 1/100, moves: 207, cost: 4898.0\n",
            "Run 2, iteration: 2/100, moves: 72, cost: 4867.0\n",
            "Run 2, iteration: 3/100, moves: 25, cost: 4859.0\n",
            "Run 2, iteration: 4/100, moves: 12, cost: 4849.0\n",
            "Run 2, iteration: 5/100, moves: 24, cost: 4825.0\n",
            "Run 2, iteration: 6/100, moves: 36, cost: 4819.0\n",
            "Run 2, iteration: 7/100, moves: 2, cost: 4819.0\n",
            "Init: initializing centroids\n",
            "Init: initializing clusters\n",
            "Starting iterations...\n",
            "Run 3, iteration: 1/100, moves: 184, cost: 4829.0\n",
            "Run 3, iteration: 2/100, moves: 53, cost: 4829.0\n",
            "Init: initializing centroids\n",
            "Init: initializing clusters\n",
            "Starting iterations...\n",
            "Run 4, iteration: 1/100, moves: 137, cost: 4771.0\n",
            "Run 4, iteration: 2/100, moves: 24, cost: 4771.0\n",
            "Init: initializing centroids\n",
            "Init: initializing clusters\n",
            "Starting iterations...\n",
            "Run 5, iteration: 1/100, moves: 188, cost: 4700.0\n",
            "Run 5, iteration: 2/100, moves: 43, cost: 4689.0\n",
            "Run 5, iteration: 3/100, moves: 2, cost: 4689.0\n",
            "Best run was number 5\n",
            "Init: initializing centroids\n",
            "Init: initializing clusters\n",
            "Starting iterations...\n",
            "Run 1, iteration: 1/100, moves: 283, cost: 4811.0\n",
            "Run 1, iteration: 2/100, moves: 44, cost: 4795.0\n",
            "Run 1, iteration: 3/100, moves: 25, cost: 4795.0\n",
            "Init: initializing centroids\n",
            "Init: initializing clusters\n",
            "Starting iterations...\n",
            "Run 2, iteration: 1/100, moves: 213, cost: 4650.0\n",
            "Run 2, iteration: 2/100, moves: 109, cost: 4650.0\n",
            "Init: initializing centroids\n",
            "Init: initializing clusters\n",
            "Starting iterations...\n",
            "Run 3, iteration: 1/100, moves: 232, cost: 4748.0\n",
            "Run 3, iteration: 2/100, moves: 90, cost: 4712.0\n",
            "Run 3, iteration: 3/100, moves: 2, cost: 4712.0\n",
            "Init: initializing centroids\n",
            "Init: initializing clusters\n",
            "Starting iterations...\n",
            "Run 4, iteration: 1/100, moves: 189, cost: 4767.0\n",
            "Run 4, iteration: 2/100, moves: 58, cost: 4744.0\n",
            "Run 4, iteration: 3/100, moves: 32, cost: 4728.0\n",
            "Run 4, iteration: 4/100, moves: 0, cost: 4728.0\n",
            "Init: initializing centroids\n",
            "Init: initializing clusters\n",
            "Starting iterations...\n",
            "Run 5, iteration: 1/100, moves: 209, cost: 4764.0\n",
            "Run 5, iteration: 2/100, moves: 142, cost: 4671.0\n",
            "Run 5, iteration: 3/100, moves: 66, cost: 4662.0\n",
            "Run 5, iteration: 4/100, moves: 6, cost: 4662.0\n",
            "Best run was number 2\n",
            "Init: initializing centroids\n",
            "Init: initializing clusters\n",
            "Starting iterations...\n",
            "Run 1, iteration: 1/100, moves: 237, cost: 4658.0\n",
            "Run 1, iteration: 2/100, moves: 46, cost: 4643.0\n",
            "Run 1, iteration: 3/100, moves: 15, cost: 4643.0\n",
            "Init: initializing centroids\n",
            "Init: initializing clusters\n",
            "Starting iterations...\n",
            "Run 2, iteration: 1/100, moves: 137, cost: 4758.0\n",
            "Run 2, iteration: 2/100, moves: 62, cost: 4717.0\n",
            "Run 2, iteration: 3/100, moves: 64, cost: 4710.0\n",
            "Run 2, iteration: 4/100, moves: 0, cost: 4710.0\n",
            "Init: initializing centroids\n",
            "Init: initializing clusters\n",
            "Starting iterations...\n",
            "Run 3, iteration: 1/100, moves: 200, cost: 4754.0\n",
            "Run 3, iteration: 2/100, moves: 53, cost: 4734.0\n",
            "Run 3, iteration: 3/100, moves: 40, cost: 4710.0\n",
            "Run 3, iteration: 4/100, moves: 26, cost: 4659.0\n",
            "Run 3, iteration: 5/100, moves: 40, cost: 4601.0\n",
            "Run 3, iteration: 6/100, moves: 19, cost: 4601.0\n",
            "Init: initializing centroids\n",
            "Init: initializing clusters\n",
            "Starting iterations...\n",
            "Run 4, iteration: 1/100, moves: 255, cost: 4725.0\n",
            "Run 4, iteration: 2/100, moves: 61, cost: 4711.0\n",
            "Run 4, iteration: 3/100, moves: 8, cost: 4711.0\n",
            "Init: initializing centroids\n",
            "Init: initializing clusters\n",
            "Starting iterations...\n",
            "Run 5, iteration: 1/100, moves: 179, cost: 4605.0\n",
            "Run 5, iteration: 2/100, moves: 45, cost: 4577.0\n",
            "Run 5, iteration: 3/100, moves: 8, cost: 4577.0\n",
            "Best run was number 5\n",
            "Init: initializing centroids\n",
            "Init: initializing clusters\n",
            "Starting iterations...\n",
            "Run 1, iteration: 1/100, moves: 173, cost: 4558.0\n",
            "Run 1, iteration: 2/100, moves: 58, cost: 4558.0\n",
            "Init: initializing centroids\n",
            "Init: initializing clusters\n",
            "Starting iterations...\n",
            "Run 2, iteration: 1/100, moves: 233, cost: 4592.0\n",
            "Run 2, iteration: 2/100, moves: 103, cost: 4542.0\n",
            "Run 2, iteration: 3/100, moves: 23, cost: 4541.0\n",
            "Run 2, iteration: 4/100, moves: 6, cost: 4535.0\n",
            "Run 2, iteration: 5/100, moves: 1, cost: 4535.0\n",
            "Init: initializing centroids\n",
            "Init: initializing clusters\n",
            "Starting iterations...\n",
            "Run 3, iteration: 1/100, moves: 215, cost: 4637.0\n",
            "Run 3, iteration: 2/100, moves: 122, cost: 4586.0\n",
            "Run 3, iteration: 3/100, moves: 20, cost: 4582.0\n",
            "Run 3, iteration: 4/100, moves: 3, cost: 4582.0\n",
            "Init: initializing centroids\n",
            "Init: initializing clusters\n",
            "Starting iterations...\n",
            "Run 4, iteration: 1/100, moves: 233, cost: 4639.0\n",
            "Run 4, iteration: 2/100, moves: 25, cost: 4634.0\n",
            "Run 4, iteration: 3/100, moves: 0, cost: 4634.0\n",
            "Init: initializing centroids\n",
            "Init: initializing clusters\n",
            "Starting iterations...\n",
            "Run 5, iteration: 1/100, moves: 206, cost: 4597.0\n",
            "Run 5, iteration: 2/100, moves: 65, cost: 4577.0\n",
            "Run 5, iteration: 3/100, moves: 11, cost: 4577.0\n",
            "Best run was number 2\n",
            "Init: initializing centroids\n",
            "Init: initializing clusters\n",
            "Starting iterations...\n",
            "Run 1, iteration: 1/100, moves: 211, cost: 4534.0\n",
            "Run 1, iteration: 2/100, moves: 96, cost: 4504.0\n",
            "Run 1, iteration: 3/100, moves: 1, cost: 4504.0\n",
            "Init: initializing centroids\n",
            "Init: initializing clusters\n",
            "Starting iterations...\n",
            "Run 2, iteration: 1/100, moves: 142, cost: 4577.0\n",
            "Run 2, iteration: 2/100, moves: 93, cost: 4534.0\n",
            "Run 2, iteration: 3/100, moves: 36, cost: 4523.0\n",
            "Run 2, iteration: 4/100, moves: 10, cost: 4516.0\n",
            "Run 2, iteration: 5/100, moves: 2, cost: 4516.0\n",
            "Init: initializing centroids\n",
            "Init: initializing clusters\n",
            "Starting iterations...\n",
            "Run 3, iteration: 1/100, moves: 239, cost: 4612.0\n",
            "Run 3, iteration: 2/100, moves: 95, cost: 4577.0\n",
            "Run 3, iteration: 3/100, moves: 6, cost: 4577.0\n",
            "Init: initializing centroids\n",
            "Init: initializing clusters\n",
            "Starting iterations...\n",
            "Run 4, iteration: 1/100, moves: 261, cost: 4535.0\n",
            "Run 4, iteration: 2/100, moves: 70, cost: 4535.0\n",
            "Init: initializing centroids\n",
            "Init: initializing clusters\n",
            "Starting iterations...\n",
            "Run 5, iteration: 1/100, moves: 152, cost: 4570.0\n",
            "Run 5, iteration: 2/100, moves: 67, cost: 4553.0\n",
            "Run 5, iteration: 3/100, moves: 2, cost: 4553.0\n",
            "Best run was number 1\n"
          ],
          "name": "stdout"
        }
      ]
    },
    {
      "cell_type": "code",
      "metadata": {
        "colab": {
          "base_uri": "https://localhost:8080/",
          "height": 312
        },
        "id": "C_b09IU0OUcG",
        "outputId": "ee99f6c3-a482-46e1-c47d-2308ec6ad5b7"
      },
      "source": [
        "plt.title('cost vs # clusters graph (k-mode)')\r\n",
        "plt.xlabel('number of clusters')\r\n",
        "plt.ylabel('cost')\r\n",
        "plt.plot(np.array(list(range(2, 12))), np.array(cost))"
      ],
      "execution_count": 52,
      "outputs": [
        {
          "output_type": "execute_result",
          "data": {
            "text/plain": [
              "[<matplotlib.lines.Line2D at 0x7f2513c31e10>]"
            ]
          },
          "metadata": {
            "tags": []
          },
          "execution_count": 52
        },
        {
          "output_type": "display_data",
          "data": {
            "image/png": "[encoded data removed]",
            "text/plain": [
              "<Figure size 432x288 with 1 Axes>"
            ]
          },
          "metadata": {
            "tags": [],
            "needs_background": "light"
          }
        }
      ]
    },
    {
      "cell_type": "markdown",
      "metadata": {
        "id": "mATj1ZTqV7XT"
      },
      "source": [
        "As we can see, K-Modes also suggest `7` is around the best number of clusters."
      ]
    },
    {
      "cell_type": "code",
      "metadata": {
        "id": "_URwhmsmVS1y"
      },
      "source": [
        "km = KModes(n_clusters= 7, init='Huang', n_init=5, verbose=1)"
      ],
      "execution_count": 53,
      "outputs": []
    },
    {
      "cell_type": "code",
      "metadata": {
        "colab": {
          "base_uri": "https://localhost:8080/"
        },
        "id": "02uoIYPZIE2O",
        "outputId": "3dd3bb9a-b9b3-4a38-e58b-13aec8d232be"
      },
      "source": [
        "clusters = km.fit_predict(data)"
      ],
      "execution_count": 54,
      "outputs": [
        {
          "output_type": "stream",
          "text": [
            "Init: initializing centroids\n",
            "Init: initializing clusters\n",
            "Starting iterations...\n",
            "Run 1, iteration: 1/100, moves: 225, cost: 5027.0\n",
            "Run 1, iteration: 2/100, moves: 180, cost: 4792.0\n",
            "Run 1, iteration: 3/100, moves: 99, cost: 4717.0\n",
            "Run 1, iteration: 4/100, moves: 15, cost: 4717.0\n",
            "Init: initializing centroids\n",
            "Init: initializing clusters\n",
            "Starting iterations...\n",
            "Run 2, iteration: 1/100, moves: 295, cost: 4915.0\n",
            "Run 2, iteration: 2/100, moves: 79, cost: 4871.0\n",
            "Run 2, iteration: 3/100, moves: 6, cost: 4871.0\n",
            "Init: initializing centroids\n",
            "Init: initializing clusters\n",
            "Starting iterations...\n",
            "Run 3, iteration: 1/100, moves: 176, cost: 4944.0\n",
            "Run 3, iteration: 2/100, moves: 55, cost: 4873.0\n",
            "Run 3, iteration: 3/100, moves: 34, cost: 4855.0\n",
            "Run 3, iteration: 4/100, moves: 12, cost: 4849.0\n",
            "Run 3, iteration: 5/100, moves: 7, cost: 4849.0\n",
            "Init: initializing centroids\n",
            "Init: initializing clusters\n",
            "Starting iterations...\n",
            "Run 4, iteration: 1/100, moves: 178, cost: 4716.0\n",
            "Run 4, iteration: 2/100, moves: 64, cost: 4689.0\n",
            "Run 4, iteration: 3/100, moves: 6, cost: 4689.0\n",
            "Init: initializing centroids\n",
            "Init: initializing clusters\n",
            "Starting iterations...\n",
            "Run 5, iteration: 1/100, moves: 217, cost: 4825.0\n",
            "Run 5, iteration: 2/100, moves: 70, cost: 4821.0\n",
            "Run 5, iteration: 3/100, moves: 0, cost: 4821.0\n",
            "Best run was number 4\n"
          ],
          "name": "stdout"
        }
      ]
    },
    {
      "cell_type": "code",
      "metadata": {
        "colab": {
          "base_uri": "https://localhost:8080/"
        },
        "id": "Pm9J-lL7IYJw",
        "outputId": "d98ea0f8-4761-4a74-993a-4d99fd2ab06e"
      },
      "source": [
        "km.cluster_centroids_"
      ],
      "execution_count": 55,
      "outputs": [
        {
          "output_type": "execute_result",
          "data": {
            "text/plain": [
              "array([[0., 1., 0., 0., 1., 0., 0., 1., 0., 0., 1., 0., 0., 0., 0., 1.,\n",
              "        0., 0., 0., 0., 0., 0., 0., 0., 0., 0., 0., 0., 0., 0., 0., 0.,\n",
              "        0., 0., 0., 0., 0., 0., 0., 0., 0., 0., 0., 0., 0., 0., 0., 0.,\n",
              "        0., 0., 0., 0., 0., 0., 0., 0., 0., 0., 0., 0., 0., 0., 0., 0.,\n",
              "        0., 0., 0., 0., 0., 0., 0., 0., 0., 0., 0., 0., 0., 0., 0., 0.,\n",
              "        0., 0., 0., 0., 0., 0., 0., 0., 1., 0., 0., 0., 1., 1., 1., 1.,\n",
              "        1., 1., 0., 0.],\n",
              "       [1., 1., 0., 0., 1., 0., 0., 1., 0., 1., 1., 0., 0., 1., 1., 0.,\n",
              "        0., 0., 0., 0., 1., 0., 0., 0., 0., 0., 0., 0., 0., 0., 0., 0.,\n",
              "        0., 0., 0., 0., 0., 0., 0., 0., 0., 0., 0., 0., 0., 0., 0., 0.,\n",
              "        0., 0., 0., 0., 0., 0., 0., 0., 0., 0., 0., 0., 0., 0., 0., 0.,\n",
              "        0., 0., 0., 0., 0., 0., 0., 0., 0., 0., 0., 0., 0., 0., 0., 0.,\n",
              "        0., 0., 0., 0., 0., 0., 0., 0., 0., 0., 0., 1., 1., 1., 1., 0.,\n",
              "        0., 0., 0., 0.],\n",
              "       [1., 1., 0., 0., 0., 0., 0., 0., 0., 1., 0., 0., 0., 0., 0., 0.,\n",
              "        0., 0., 0., 0., 1., 0., 0., 0., 0., 0., 0., 0., 0., 0., 0., 0.,\n",
              "        0., 0., 0., 0., 0., 0., 0., 0., 0., 0., 0., 1., 0., 0., 0., 0.,\n",
              "        0., 0., 0., 0., 0., 0., 0., 0., 0., 0., 0., 0., 0., 0., 0., 0.,\n",
              "        0., 0., 0., 0., 0., 0., 0., 0., 0., 0., 0., 0., 0., 0., 0., 0.,\n",
              "        0., 0., 0., 0., 0., 0., 0., 0., 0., 0., 0., 1., 0., 0., 1., 0.,\n",
              "        0., 0., 0., 0.],\n",
              "       [0., 1., 0., 0., 1., 0., 0., 0., 0., 0., 0., 0., 0., 0., 0., 0.,\n",
              "        0., 0., 0., 0., 0., 0., 0., 0., 0., 0., 0., 0., 0., 0., 0., 0.,\n",
              "        0., 0., 0., 0., 0., 0., 0., 0., 0., 0., 0., 0., 0., 0., 0., 0.,\n",
              "        0., 0., 0., 0., 0., 0., 0., 0., 0., 0., 0., 0., 0., 0., 0., 0.,\n",
              "        0., 0., 0., 0., 0., 0., 0., 0., 0., 0., 0., 0., 0., 0., 0., 0.,\n",
              "        0., 0., 0., 0., 0., 0., 0., 0., 0., 0., 1., 1., 1., 1., 1., 0.,\n",
              "        0., 0., 0., 0.],\n",
              "       [0., 0., 0., 0., 0., 0., 0., 0., 0., 0., 0., 0., 0., 0., 0., 0.,\n",
              "        0., 0., 0., 0., 1., 1., 0., 0., 0., 0., 0., 0., 0., 0., 0., 0.,\n",
              "        0., 0., 0., 0., 0., 0., 0., 0., 0., 0., 0., 0., 0., 0., 0., 0.,\n",
              "        0., 0., 0., 0., 0., 0., 0., 0., 0., 0., 0., 0., 0., 0., 0., 0.,\n",
              "        0., 0., 0., 0., 0., 0., 0., 0., 0., 0., 0., 0., 0., 0., 0., 0.,\n",
              "        0., 0., 0., 0., 0., 0., 0., 0., 0., 0., 0., 0., 1., 0., 0., 1.,\n",
              "        0., 0., 0., 0.],\n",
              "       [1., 1., 1., 0., 1., 0., 0., 1., 1., 1., 0., 0., 1., 0., 1., 1.,\n",
              "        0., 0., 0., 0., 0., 0., 0., 0., 0., 0., 0., 0., 0., 0., 0., 0.,\n",
              "        0., 0., 0., 0., 0., 0., 0., 0., 0., 0., 0., 0., 0., 0., 0., 0.,\n",
              "        0., 0., 0., 0., 0., 0., 0., 0., 0., 0., 0., 0., 0., 0., 0., 0.,\n",
              "        0., 0., 0., 0., 0., 0., 0., 0., 0., 0., 0., 0., 0., 0., 0., 0.,\n",
              "        0., 0., 0., 0., 0., 0., 0., 0., 0., 1., 1., 1., 1., 1., 1., 1.,\n",
              "        0., 0., 0., 0.],\n",
              "       [0., 1., 0., 0., 0., 0., 0., 0., 0., 0., 0., 0., 0., 0., 0., 0.,\n",
              "        0., 0., 0., 0., 0., 0., 0., 0., 0., 0., 0., 0., 0., 0., 0., 0.,\n",
              "        0., 0., 0., 0., 0., 0., 0., 0., 0., 0., 0., 0., 0., 0., 0., 0.,\n",
              "        0., 0., 0., 0., 0., 0., 0., 0., 0., 0., 0., 0., 0., 0., 0., 0.,\n",
              "        0., 0., 0., 0., 0., 0., 0., 0., 0., 0., 0., 0., 0., 0., 0., 0.,\n",
              "        0., 0., 0., 0., 0., 0., 0., 0., 0., 1., 0., 0., 0., 1., 1., 0.,\n",
              "        0., 0., 0., 0.]])"
            ]
          },
          "metadata": {
            "tags": []
          },
          "execution_count": 55
        }
      ]
    },
    {
      "cell_type": "code",
      "metadata": {
        "colab": {
          "base_uri": "https://localhost:8080/"
        },
        "id": "Dh1GThK9IgIf",
        "outputId": "16b3c0c1-7495-4194-c690-7b87d811d024"
      },
      "source": [
        "km.cost_"
      ],
      "execution_count": 56,
      "outputs": [
        {
          "output_type": "execute_result",
          "data": {
            "text/plain": [
              "4689.0"
            ]
          },
          "metadata": {
            "tags": []
          },
          "execution_count": 56
        }
      ]
    },
    {
      "cell_type": "markdown",
      "metadata": {
        "id": "wiaWRZCjWMs9"
      },
      "source": [
        "How to interpret this? We will add up the centroids to see how many times a feature appeas in all of the clusters."
      ]
    },
    {
      "cell_type": "code",
      "metadata": {
        "id": "ZYdstqkaWVx-"
      },
      "source": [
        "centroids = km.cluster_centroids_"
      ],
      "execution_count": 57,
      "outputs": []
    },
    {
      "cell_type": "code",
      "metadata": {
        "id": "2Cz7V1tpWdpJ"
      },
      "source": [
        "centroids_merge = centroids[0]\r\n",
        "for i in range(1, len(centroids)):\r\n",
        "  centroids_merge += centroids[i]"
      ],
      "execution_count": 60,
      "outputs": []
    },
    {
      "cell_type": "code",
      "metadata": {
        "colab": {
          "base_uri": "https://localhost:8080/"
        },
        "id": "TZVbIsjCWvH0",
        "outputId": "ca8eabc0-23a2-4465-cc9a-5ee633558553"
      },
      "source": [
        "centroids_merge"
      ],
      "execution_count": 61,
      "outputs": [
        {
          "output_type": "execute_result",
          "data": {
            "text/plain": [
              "array([3., 6., 1., 0., 4., 0., 0., 3., 1., 3., 2., 0., 1., 1., 2., 2., 0.,\n",
              "       0., 0., 0., 3., 1., 0., 0., 0., 0., 0., 0., 0., 0., 0., 0., 0., 0.,\n",
              "       0., 0., 0., 0., 0., 0., 0., 0., 0., 1., 0., 0., 0., 0., 0., 0., 0.,\n",
              "       0., 0., 0., 0., 0., 0., 0., 0., 0., 0., 0., 0., 0., 0., 0., 0., 0.,\n",
              "       0., 0., 0., 0., 0., 0., 0., 0., 0., 0., 0., 0., 0., 0., 0., 0., 0.,\n",
              "       0., 0., 0., 1., 2., 2., 4., 5., 5., 6., 3., 1., 1., 0., 0.])"
            ]
          },
          "metadata": {
            "tags": []
          },
          "execution_count": 61
        }
      ]
    },
    {
      "cell_type": "code",
      "metadata": {
        "colab": {
          "base_uri": "https://localhost:8080/"
        },
        "id": "m-EPMAkTW0sM",
        "outputId": "2e4b33bb-82a9-40a7-9655-33a3f96d83ad"
      },
      "source": [
        "len(centroids_merge)"
      ],
      "execution_count": 62,
      "outputs": [
        {
          "output_type": "execute_result",
          "data": {
            "text/plain": [
              "100"
            ]
          },
          "metadata": {
            "tags": []
          },
          "execution_count": 62
        }
      ]
    },
    {
      "cell_type": "code",
      "metadata": {
        "colab": {
          "base_uri": "https://localhost:8080/"
        },
        "id": "rCcyBFu2XRV-",
        "outputId": "2733f24d-7227-40f6-9446-ec6bdacaf1b5"
      },
      "source": [
        "print('features that are important under K-Modes algorithm:')\r\n",
        "print()\r\n",
        "num_centroids = len(centroids)\r\n",
        "for i, val in enumerate(centroids_merge):\r\n",
        "  feature_name = data.columns[i]\r\n",
        "  if val != 0:\r\n",
        "    print(f'{feature_name} appears {val} number of times in {num_centroids} clusters created by K-Modes')"
      ],
      "execution_count": 66,
      "outputs": [
        {
          "output_type": "stream",
          "text": [
            "features that are important under K-Modes algorithm:\n",
            "\n",
            "Unspecified essential hypertension code appears 3.0 number of times in 7 clusters created by K-Modes\n",
            "Encounter for change or removal of surgical wound dressing code appears 6.0 number of times in 7 clusters created by K-Modes\n",
            "Esophageal reflux code appears 1.0 number of times in 7 clusters created by K-Modes\n",
            "Anemia, unspecified code appears 4.0 number of times in 7 clusters created by K-Modes\n",
            "Neutropenia, unspecified code appears 3.0 number of times in 7 clusters created by K-Modes\n",
            "Disorders of magnesium metabolism code appears 1.0 number of times in 7 clusters created by K-Modes\n",
            "Other specified pre-operative examination code appears 3.0 number of times in 7 clusters created by K-Modes\n",
            "Constipation, unspecified code appears 2.0 number of times in 7 clusters created by K-Modes\n",
            "Laboratory examination, unspecified code appears 1.0 number of times in 7 clusters created by K-Modes\n",
            "Backache, unspecified code appears 1.0 number of times in 7 clusters created by K-Modes\n",
            "Hypopotassemia code appears 2.0 number of times in 7 clusters created by K-Modes\n",
            "Thrombocytopenia, unspecified code appears 2.0 number of times in 7 clusters created by K-Modes\n",
            "Examination of participant in clinical trial code appears 3.0 number of times in 7 clusters created by K-Modes\n",
            "Dietary surveillance and counseling code appears 1.0 number of times in 7 clusters created by K-Modes\n",
            "Multiple myeloma, in remission code appears 1.0 number of times in 7 clusters created by K-Modes\n",
            "ALT appears 1.0 number of times in 7 clusters created by K-Modes\n",
            "ALK appears 2.0 number of times in 7 clusters created by K-Modes\n",
            "BETA2 appears 2.0 number of times in 7 clusters created by K-Modes\n",
            "CRE appears 4.0 number of times in 7 clusters created by K-Modes\n",
            "TP appears 5.0 number of times in 7 clusters created by K-Modes\n",
            "Lenalidomide appears 5.0 number of times in 7 clusters created by K-Modes\n",
            "Bortezomib appears 6.0 number of times in 7 clusters created by K-Modes\n",
            "Etoposide appears 3.0 number of times in 7 clusters created by K-Modes\n",
            "Cisplatin appears 1.0 number of times in 7 clusters created by K-Modes\n",
            "Doxorubicin appears 1.0 number of times in 7 clusters created by K-Modes\n"
          ],
          "name": "stdout"
        }
      ]
    },
    {
      "cell_type": "markdown",
      "metadata": {
        "id": "JG8D8x-pW875"
      },
      "source": [
        "By the way we can also explroe K-modes more, there is another initialization method called `Cao` that is different from `Huang`."
      ]
    },
    {
      "cell_type": "markdown",
      "metadata": {
        "id": "4ZzVPN0rRveq"
      },
      "source": [
        "# 3.DBSCAN"
      ]
    },
    {
      "cell_type": "markdown",
      "metadata": {
        "id": "4YMdSU_SUKzE"
      },
      "source": [
        "- density-based clustering algorithm. separates data of high density region from low densisty region. (not probability density I think? Just how \"dense\" points are).\r\n",
        "- good to detect outliers\r\n",
        "- This algorithm is better than k-means when it comes to working with oddly shaped data."
      ]
    },
    {
      "cell_type": "markdown",
      "metadata": {
        "id": "QYINJ-f0Ywnf"
      },
      "source": [
        "## DBSCAN on our data."
      ]
    },
    {
      "cell_type": "code",
      "metadata": {
        "id": "EsDQ1WMTR6yQ"
      },
      "source": [
        "from sklearn.cluster import DBSCAN"
      ],
      "execution_count": 67,
      "outputs": []
    },
    {
      "cell_type": "code",
      "metadata": {
        "id": "AIvAvV3rYC_5"
      },
      "source": [
        "from scipy.spatial import distance"
      ],
      "execution_count": 68,
      "outputs": []
    },
    {
      "cell_type": "code",
      "metadata": {
        "id": "wNL5VPIiWFO1"
      },
      "source": [
        "dbscan_model = DBSCAN(eps=0.21, min_samples=8, metric = 'hamming')\r\n",
        "dbscan_result = dbscan_model.fit_predict(data)"
      ],
      "execution_count": 69,
      "outputs": []
    },
    {
      "cell_type": "code",
      "metadata": {
        "colab": {
          "base_uri": "https://localhost:8080/"
        },
        "id": "bpm_RoKwWcLi",
        "outputId": "1bac5a1d-5194-4e1f-a07e-0f7ad2b39f75"
      },
      "source": [
        "dbscan_result"
      ],
      "execution_count": 70,
      "outputs": [
        {
          "output_type": "execute_result",
          "data": {
            "text/plain": [
              "array([ 0,  0,  0,  0,  0,  0,  0,  0,  0,  0,  0,  0,  0,  0,  0,  0,  0,\n",
              "        0,  0,  0,  0,  0,  0,  0,  0,  0,  0,  0,  0,  0,  0,  0,  0,  0,\n",
              "        0,  0,  0,  0,  0,  0,  0,  0,  0,  0,  0,  0,  0,  0,  0,  0,  0,\n",
              "        0,  0,  0,  0,  0,  0,  0,  0,  0,  0,  0,  0,  0,  0,  0,  0,  0,\n",
              "        0,  0,  0,  0,  0,  0,  0,  0,  0,  0,  0,  0,  0,  0,  0,  0,  0,\n",
              "        0,  0,  0,  0,  0,  0,  0, -1,  0,  0,  0,  0,  0,  0,  0,  0,  0,\n",
              "        0,  0,  0,  0,  0,  0,  0,  0,  0,  0,  0,  0,  0,  0,  0,  0,  0,\n",
              "        0,  0,  0,  0,  0,  0,  0,  0,  0,  0,  0,  0,  0,  0,  0,  0,  0,\n",
              "        0,  0,  0,  0,  0,  0,  0,  0,  0,  0,  0,  0,  0,  0,  0,  0,  0,\n",
              "        0,  0,  0,  0,  0, -1,  0,  0,  0,  0,  0,  0,  0,  0,  0,  0,  0,\n",
              "        0,  0,  0,  0,  0,  0,  0,  0,  0,  0,  0,  0,  0,  0,  0,  0,  0,\n",
              "        0,  0,  0,  0,  0,  0,  0,  0,  0,  0,  0,  0,  0,  0,  0,  0,  0,\n",
              "        0,  0,  0,  0,  0,  0,  0,  0,  0,  0,  0,  0,  0,  0,  0,  0,  0,\n",
              "        0,  0,  0,  0,  0,  0,  0,  0,  0,  0,  0,  0,  0,  0,  0,  0,  0,\n",
              "        0,  0,  0,  0,  0,  0,  0,  0,  0,  0,  0,  0,  0,  0,  0,  0,  0,\n",
              "        0,  0,  0,  0,  0,  0,  0,  0,  0,  0,  0,  0,  0,  0,  0,  0,  0,\n",
              "        0,  0,  0,  0,  0,  0,  0,  0,  0,  0,  0,  0,  0,  0,  0,  0,  0,\n",
              "        0,  0,  0,  0,  0,  0,  0,  0,  0,  0,  0,  0,  0,  0,  0,  0,  0,\n",
              "        0,  0,  0,  0,  0,  0,  0,  0,  0,  0,  0,  0,  0,  0,  0,  0,  0,\n",
              "        0,  0,  0,  0,  0,  0,  0,  0,  0,  0,  0,  0,  0,  0,  0,  0,  0,\n",
              "        0,  0,  0,  0,  0,  0,  0,  0,  0,  0,  0,  0,  0,  0,  0,  0,  0,\n",
              "        0,  0,  0,  0,  0,  0,  0,  0,  0,  0,  0,  0,  0,  0,  0,  0,  0,\n",
              "        0,  0,  0,  0,  0,  0,  0,  0,  0,  0,  0,  0,  0,  0,  0,  0,  0,\n",
              "        0,  0,  0,  0,  0,  0,  0,  0,  0,  0,  0,  0,  0,  0,  0,  0,  0,\n",
              "        0,  0,  0,  0,  0,  0,  0,  0,  0,  0,  0,  0,  0,  0,  0,  0,  0,\n",
              "        0,  0,  0,  0,  0,  0,  0,  0,  0,  0,  0,  0,  0,  0,  0,  0,  0,\n",
              "        0,  0,  0,  0,  0,  0,  0,  0,  0,  0,  0,  0,  0,  0,  0,  0,  0,\n",
              "        0,  0,  0,  0,  0,  0,  0,  0,  0,  0,  0,  0,  0,  0,  0,  0,  0,\n",
              "        0,  0,  0,  0,  0,  0,  0,  0,  0,  0,  0,  0,  0,  0,  0,  0,  0,\n",
              "        0,  0,  0,  0,  0,  0,  0,  0,  0,  0,  0,  0,  0,  0,  0,  0,  0,\n",
              "        0,  0,  0,  0,  0,  0,  0,  0,  0,  0,  0,  0,  0,  0,  0,  0,  0,\n",
              "        0,  0,  0,  0,  0,  0,  0,  0,  0,  0,  0,  0,  0,  0,  0,  0,  0,\n",
              "        0,  0,  0,  0,  0,  0,  0,  0,  0,  0,  0,  0,  0,  0,  0,  0,  0,\n",
              "        0,  0,  0,  0,  0,  0,  0,  0,  0,  0])"
            ]
          },
          "metadata": {
            "tags": []
          },
          "execution_count": 70
        }
      ]
    },
    {
      "cell_type": "code",
      "metadata": {
        "id": "gh_ns3rNYh5c"
      },
      "source": [
        "dbscan_model = DBSCAN(eps=0.21, min_samples=8)\r\n",
        "dbscan_result = dbscan_model.fit_predict(data)"
      ],
      "execution_count": 71,
      "outputs": []
    },
    {
      "cell_type": "code",
      "metadata": {
        "colab": {
          "base_uri": "https://localhost:8080/"
        },
        "id": "gP28whODYk6o",
        "outputId": "90d0ff7c-c9ff-4069-8f36-9c69d633d052"
      },
      "source": [
        "dbscan_result"
      ],
      "execution_count": 72,
      "outputs": [
        {
          "output_type": "execute_result",
          "data": {
            "text/plain": [
              "array([-1, -1, -1, -1, -1, -1, -1, -1, -1, -1, -1, -1, -1, -1, -1, -1, -1,\n",
              "       -1, -1, -1, -1, -1, -1, -1, -1, -1, -1, -1, -1, -1, -1, -1, -1, -1,\n",
              "       -1, -1, -1, -1, -1, -1, -1, -1, -1, -1, -1, -1, -1, -1, -1, -1, -1,\n",
              "       -1, -1, -1, -1, -1, -1, -1, -1, -1, -1, -1, -1, -1, -1, -1, -1, -1,\n",
              "       -1, -1, -1, -1, -1, -1, -1, -1, -1, -1, -1, -1, -1, -1, -1, -1, -1,\n",
              "       -1, -1, -1, -1, -1, -1, -1, -1, -1, -1, -1, -1, -1, -1, -1, -1, -1,\n",
              "       -1, -1, -1, -1, -1, -1, -1, -1, -1, -1, -1, -1, -1, -1, -1, -1, -1,\n",
              "       -1, -1, -1, -1, -1, -1, -1, -1, -1, -1, -1, -1, -1, -1, -1, -1, -1,\n",
              "       -1, -1, -1, -1, -1, -1, -1, -1, -1, -1, -1, -1, -1, -1, -1, -1, -1,\n",
              "       -1, -1, -1, -1, -1, -1, -1, -1, -1, -1, -1, -1, -1, -1, -1, -1, -1,\n",
              "       -1, -1, -1, -1, -1, -1, -1, -1, -1, -1, -1, -1, -1, -1, -1, -1, -1,\n",
              "       -1, -1, -1, -1, -1, -1, -1, -1, -1, -1, -1, -1, -1, -1, -1, -1, -1,\n",
              "       -1, -1, -1, -1, -1, -1, -1, -1, -1, -1, -1, -1, -1, -1, -1, -1, -1,\n",
              "       -1, -1, -1, -1, -1, -1, -1, -1, -1, -1, -1, -1, -1, -1, -1, -1, -1,\n",
              "       -1, -1, -1, -1, -1, -1, -1, -1, -1, -1, -1, -1, -1, -1, -1, -1, -1,\n",
              "       -1, -1, -1, -1, -1, -1, -1, -1, -1, -1, -1, -1, -1, -1, -1, -1, -1,\n",
              "       -1, -1, -1, -1, -1, -1, -1, -1, -1, -1, -1, -1, -1, -1, -1, -1, -1,\n",
              "       -1, -1, -1, -1, -1, -1, -1, -1, -1, -1, -1, -1, -1, -1, -1, -1, -1,\n",
              "       -1, -1, -1, -1, -1, -1, -1, -1, -1, -1, -1, -1, -1, -1, -1, -1, -1,\n",
              "       -1, -1, -1, -1, -1, -1, -1, -1, -1, -1, -1, -1, -1, -1, -1, -1, -1,\n",
              "       -1, -1, -1, -1, -1, -1, -1, -1, -1, -1, -1, -1, -1, -1, -1, -1, -1,\n",
              "       -1, -1, -1, -1, -1, -1, -1, -1, -1, -1, -1, -1, -1, -1, -1, -1, -1,\n",
              "       -1, -1, -1, -1, -1, -1, -1, -1, -1, -1, -1, -1, -1, -1, -1, -1, -1,\n",
              "       -1, -1, -1, -1, -1, -1, -1, -1, -1, -1, -1, -1, -1, -1, -1, -1, -1,\n",
              "       -1, -1, -1, -1, -1, -1, -1, -1, -1, -1, -1, -1, -1, -1, -1, -1, -1,\n",
              "       -1, -1, -1, -1, -1, -1, -1, -1, -1, -1, -1, -1, -1, -1, -1, -1, -1,\n",
              "       -1, -1, -1, -1, -1, -1, -1, -1, -1, -1, -1, -1, -1, -1, -1, -1, -1,\n",
              "       -1, -1, -1, -1, -1, -1, -1, -1, -1, -1, -1, -1, -1, -1, -1, -1, -1,\n",
              "       -1, -1, -1, -1, -1, -1, -1, -1, -1, -1, -1, -1, -1, -1, -1, -1, -1,\n",
              "       -1, -1, -1, -1, -1, -1, -1, -1, -1, -1, -1, -1, -1, -1, -1, -1, -1,\n",
              "       -1, -1, -1, -1, -1, -1, -1, -1, -1, -1, -1, -1, -1, -1, -1, -1, -1,\n",
              "       -1, -1, -1, -1, -1, -1, -1, -1, -1, -1, -1, -1, -1, -1, -1, -1, -1,\n",
              "       -1, -1, -1, -1, -1, -1, -1, -1, -1, -1, -1, -1, -1, -1, -1, -1, -1,\n",
              "       -1, -1, -1, -1, -1, -1, -1, -1, -1, -1])"
            ]
          },
          "metadata": {
            "tags": []
          },
          "execution_count": 72
        }
      ]
    },
    {
      "cell_type": "code",
      "metadata": {
        "id": "5sLDbZuMYoFZ"
      },
      "source": [
        "dbscan_model = DBSCAN(eps=2, min_samples=8)\r\n",
        "dbscan_result = dbscan_model.fit_predict(data)"
      ],
      "execution_count": 77,
      "outputs": []
    },
    {
      "cell_type": "code",
      "metadata": {
        "colab": {
          "base_uri": "https://localhost:8080/"
        },
        "id": "Y6oS6qmtYoFZ",
        "outputId": "760842ee-417b-4eee-e435-d25c231b16fc"
      },
      "source": [
        "dbscan_result"
      ],
      "execution_count": 78,
      "outputs": [
        {
          "output_type": "execute_result",
          "data": {
            "text/plain": [
              "array([-1, -1, -1,  0,  0, -1, -1,  0,  0, -1, -1, -1,  0,  0,  0,  0, -1,\n",
              "        0,  0, -1,  0, -1, -1, -1,  0,  0,  0,  0,  0, -1, -1, -1, -1, -1,\n",
              "        0, -1, -1, -1, -1, -1, -1, -1, -1, -1, -1, -1, -1,  0, -1, -1, -1,\n",
              "        0, -1, -1, -1, -1,  0, -1, -1, -1,  0, -1, -1, -1, -1,  0, -1, -1,\n",
              "        0, -1, -1, -1, -1, -1,  0,  0, -1,  0, -1,  0,  0, -1, -1, -1, -1,\n",
              "       -1, -1, -1, -1, -1, -1, -1, -1, -1, -1, -1, -1, -1, -1,  0, -1, -1,\n",
              "       -1, -1,  0, -1, -1,  0, -1, -1, -1, -1, -1, -1, -1,  0, -1, -1,  0,\n",
              "        0, -1, -1,  0, -1, -1, -1, -1, -1, -1, -1, -1, -1, -1,  0,  0, -1,\n",
              "       -1, -1, -1, -1, -1,  0, -1, -1, -1, -1, -1, -1, -1, -1, -1,  0, -1,\n",
              "        0, -1, -1,  0, -1, -1, -1, -1, -1, -1, -1, -1, -1, -1, -1, -1, -1,\n",
              "       -1,  0, -1,  0, -1, -1, -1, -1, -1, -1, -1, -1, -1, -1, -1, -1, -1,\n",
              "        0,  0, -1, -1, -1, -1, -1, -1, -1,  0, -1, -1, -1, -1, -1, -1, -1,\n",
              "       -1, -1, -1, -1, -1,  0, -1,  0, -1, -1,  0, -1,  0,  0, -1, -1, -1,\n",
              "       -1, -1,  0, -1, -1,  0, -1, -1, -1, -1, -1, -1, -1, -1, -1, -1, -1,\n",
              "       -1, -1, -1, -1, -1, -1, -1, -1, -1, -1, -1, -1, -1,  0, -1,  0, -1,\n",
              "       -1, -1, -1,  0, -1,  0, -1, -1, -1, -1, -1,  0, -1,  0, -1,  0, -1,\n",
              "       -1, -1, -1,  0, -1, -1, -1, -1, -1,  0, -1,  0,  0, -1, -1, -1, -1,\n",
              "       -1, -1,  0, -1, -1,  0,  0,  0, -1,  0, -1,  0, -1, -1, -1, -1, -1,\n",
              "       -1, -1, -1, -1, -1, -1, -1,  0, -1,  0, -1, -1, -1, -1,  0, -1, -1,\n",
              "        0, -1, -1, -1, -1, -1, -1, -1, -1, -1, -1, -1, -1, -1, -1, -1, -1,\n",
              "       -1, -1, -1,  0, -1, -1, -1, -1,  0, -1, -1,  0, -1, -1, -1, -1, -1,\n",
              "       -1, -1, -1, -1,  0, -1,  0, -1,  0,  0,  0, -1, -1,  0,  0, -1,  0,\n",
              "        0, -1, -1,  0,  0,  0, -1,  0, -1, -1, -1,  0, -1,  0,  0, -1, -1,\n",
              "        0,  0,  0,  0, -1, -1,  0, -1, -1,  0,  0, -1, -1, -1, -1, -1,  0,\n",
              "        0,  0,  0, -1,  0,  0,  0,  0,  0,  0,  0, -1, -1,  0,  0,  0,  0,\n",
              "        0, -1,  0, -1,  0,  0,  0,  0,  0,  0, -1, -1, -1,  0,  0,  0, -1,\n",
              "       -1,  0,  0,  0, -1,  0,  0,  0,  0,  0,  0,  0, -1, -1, -1,  0,  0,\n",
              "       -1,  0,  0,  0,  0,  0, -1,  0, -1,  0, -1, -1,  0, -1, -1,  0,  0,\n",
              "       -1, -1,  0, -1, -1,  0, -1,  0, -1, -1, -1,  0, -1, -1, -1,  0, -1,\n",
              "       -1, -1, -1, -1, -1,  0, -1,  0,  0, -1, -1, -1,  0, -1, -1, -1,  0,\n",
              "        0, -1,  0, -1,  0,  0,  0, -1, -1, -1,  0,  0,  0, -1,  0,  0, -1,\n",
              "        0,  0, -1, -1, -1,  0, -1, -1, -1, -1,  0,  0, -1, -1, -1, -1,  0,\n",
              "       -1, -1,  0, -1, -1,  0,  0,  0,  0, -1,  0,  0, -1, -1, -1, -1, -1,\n",
              "        0, -1,  0, -1,  0,  0, -1,  0,  0,  0])"
            ]
          },
          "metadata": {
            "tags": []
          },
          "execution_count": 78
        }
      ]
    },
    {
      "cell_type": "markdown",
      "metadata": {
        "id": "pCDblMhGYcH3"
      },
      "source": [
        "This is not interpretable at all. All data points are in one big cluster."
      ]
    },
    {
      "cell_type": "markdown",
      "metadata": {
        "id": "pwaJrld_YYmU"
      },
      "source": [
        "## DBSCAN on synthetic data."
      ]
    },
    {
      "cell_type": "code",
      "metadata": {
        "id": "Uq0qNi--aswm"
      },
      "source": [
        "from sklearn.datasets import make_classification"
      ],
      "execution_count": 79,
      "outputs": []
    },
    {
      "cell_type": "code",
      "metadata": {
        "id": "UQAqS4EwasuR"
      },
      "source": [
        "training_data, _ = make_classification(\r\n",
        "    n_samples=1000,\r\n",
        "    n_features=2,\r\n",
        "    n_informative=2,\r\n",
        "    n_redundant=0,\r\n",
        "    n_clusters_per_class=1,\r\n",
        "    random_state=4\r\n",
        ")"
      ],
      "execution_count": 80,
      "outputs": []
    },
    {
      "cell_type": "code",
      "metadata": {
        "colab": {
          "base_uri": "https://localhost:8080/",
          "height": 265
        },
        "id": "sLJqk0-iayPz",
        "outputId": "544f9907-5270-4844-91d1-94140aca7f50"
      },
      "source": [
        "dbscan_model = DBSCAN(eps=0.25, min_samples=9)\r\n",
        "\r\n",
        "# train the model\r\n",
        "dbscan_result = dbscan_model.fit_predict(training_data)\r\n",
        "\r\n",
        "# get all of the unique clusters\r\n",
        "dbscan_clusters = np.unique(dbscan_result)\r\n",
        "\r\n",
        "# plot the DBSCAN clusters\r\n",
        "for dbscan_cluster in dbscan_clusters:\r\n",
        "    # get data points that fall in this cluster\r\n",
        "    index = np.where(dbscan_result == dbscan_cluster)\r\n",
        "    # make the plot\r\n",
        "    plt.scatter(training_data[index, 0], training_data[index, 1])\r\n",
        "\r\n",
        "# show the DBSCAN plot\r\n",
        "plt.show()"
      ],
      "execution_count": 81,
      "outputs": [
        {
          "output_type": "display_data",
          "data": {
            "image/png": "[encoded data removed]",
            "text/plain": [
              "<Figure size 432x288 with 1 Axes>"
            ]
          },
          "metadata": {
            "tags": [],
            "needs_background": "light"
          }
        }
      ]
    },
    {
      "cell_type": "code",
      "metadata": {
        "colab": {
          "base_uri": "https://localhost:8080/"
        },
        "id": "mpyV2Vw0a_qE",
        "outputId": "40d93ad7-006c-4928-f54c-bc127ad2077a"
      },
      "source": [
        "dbscan_clusters"
      ],
      "execution_count": 82,
      "outputs": [
        {
          "output_type": "execute_result",
          "data": {
            "text/plain": [
              "array([-1,  0,  1,  2,  3])"
            ]
          },
          "metadata": {
            "tags": []
          },
          "execution_count": 82
        }
      ]
    },
    {
      "cell_type": "markdown",
      "metadata": {
        "id": "hakTqSqySrkE"
      },
      "source": [
        "# 4. mean-shift clustering"
      ]
    },
    {
      "cell_type": "markdown",
      "metadata": {
        "id": "by_J5WEmc3uU"
      },
      "source": [
        "- centroid based algorithm\r\n",
        "- doesn't need a specification on number of clusters!"
      ]
    },
    {
      "cell_type": "markdown",
      "metadata": {
        "id": "fAH3g10raqLv"
      },
      "source": [
        "## on our data"
      ]
    },
    {
      "cell_type": "code",
      "metadata": {
        "id": "ahgmnC6TSz0l"
      },
      "source": [
        "from sklearn.cluster import MeanShift"
      ],
      "execution_count": 84,
      "outputs": []
    },
    {
      "cell_type": "code",
      "metadata": {
        "id": "oTgQ8AAPcaq_"
      },
      "source": [
        "mean_shift_model = MeanShift()"
      ],
      "execution_count": 85,
      "outputs": []
    },
    {
      "cell_type": "code",
      "metadata": {
        "id": "VgJRxwu7cbtt"
      },
      "source": [
        "mean_shift_result = mean_shift_model.fit_predict(data)"
      ],
      "execution_count": 86,
      "outputs": []
    },
    {
      "cell_type": "code",
      "metadata": {
        "colab": {
          "base_uri": "https://localhost:8080/"
        },
        "id": "uLGwFyZkciuw",
        "outputId": "c080066a-d6f5-4281-cf0f-1233bb124940"
      },
      "source": [
        "mean_shift_result"
      ],
      "execution_count": 87,
      "outputs": [
        {
          "output_type": "execute_result",
          "data": {
            "text/plain": [
              "array([ 0,  0,  0,  0,  0,  0,  0,  0,  0,  0,  0,  0,  0,  0,  0,  0,  0,\n",
              "        0,  0,  0,  0,  0,  0,  0,  0,  0,  0,  0,  0,  0,  0,  0,  0,  0,\n",
              "        0,  0,  0,  0,  0,  0,  0,  0,  0,  0,  0,  0,  0,  0,  0,  0,  0,\n",
              "        0,  0,  0,  0,  0,  0,  0,  0,  0,  0,  0,  0,  0,  0,  0,  0,  0,\n",
              "        0,  0,  0,  0,  0,  0,  0,  0,  0,  0,  0,  0,  0,  0,  0,  0,  0,\n",
              "        0,  0,  0,  0,  0,  0,  0,  7,  8,  0,  0,  0,  0,  0,  0,  0,  0,\n",
              "        0,  0,  0,  0,  0,  0,  0,  0,  0,  0,  0,  0,  0,  0,  0,  0,  0,\n",
              "        0,  0,  0,  0,  0,  0,  0,  0,  0,  0,  0,  0,  0,  0,  0,  0,  0,\n",
              "        0,  5,  0,  0, 12,  0,  0,  0,  0,  0,  0,  0,  0,  0,  0,  0,  0,\n",
              "        0,  0,  0,  0,  1, 20,  0,  0, 17,  0, 17,  0,  0,  0,  0,  0,  0,\n",
              "        0,  0,  0,  0, 18,  0, 19,  0,  0,  0,  0,  0,  0,  0,  0,  0,  0,\n",
              "        0,  0,  0,  0,  0,  0,  0, 16,  0,  0,  0,  0,  0,  0,  0,  0,  0,\n",
              "        0,  0,  0, 14,  4,  0,  0,  0,  0,  0,  0,  0,  0,  0,  0,  0,  0,\n",
              "        9,  0,  0,  0,  0,  0,  0,  0,  0,  0,  0,  0,  3,  0,  0,  0,  0,\n",
              "        0,  0,  0,  0,  0,  0,  0,  0,  0,  0,  0,  0,  0,  0,  0,  0,  0,\n",
              "        0,  0,  2,  0,  0,  0,  0,  0, 15,  0,  0,  0,  0,  0, 10,  0,  0,\n",
              "        0,  0,  0,  0,  0,  0,  0,  0,  0,  0,  0,  0,  0,  0,  0,  0,  0,\n",
              "        0,  0,  0,  0,  0,  0,  0,  0,  0,  0,  0,  0,  0,  0,  0,  0,  0,\n",
              "       11,  0,  0,  0,  0,  6,  0,  0,  0,  0,  0,  0,  0,  0,  0,  0,  0,\n",
              "        0,  0,  0,  0,  0,  0,  0,  0,  0,  0,  0,  0,  0,  0,  0,  0,  0,\n",
              "        0,  0,  0,  0,  0,  0,  0,  0,  0,  0,  0,  0,  0,  0,  0,  0,  0,\n",
              "        0,  0,  0,  0,  0,  0,  0,  0,  0,  0,  0,  0,  0,  0,  0,  0,  0,\n",
              "        0,  0,  0,  0,  0,  0,  0,  0,  0,  0,  0,  0,  0,  0,  0,  0,  0,\n",
              "        0,  0,  0,  0,  0,  0,  0,  0,  0,  0,  0,  0,  0,  0,  0,  0,  0,\n",
              "        0,  0,  0,  0,  0,  0,  0,  0,  0,  0,  0,  0,  0,  0,  0,  0,  0,\n",
              "        0,  0,  0,  0,  0,  0,  0,  0,  0,  0,  0,  0,  0,  0,  0,  0,  0,\n",
              "        0,  0,  0,  0,  0,  0,  0,  0,  0,  0,  0,  0,  0,  0,  0,  0,  0,\n",
              "        0,  0,  0,  0,  0,  0,  0,  0,  0,  0,  0,  0,  0,  0,  0,  0,  0,\n",
              "        0,  0,  0,  0,  0,  0,  0,  0,  0,  0,  0,  0, 13,  0,  0,  0,  0,\n",
              "        0, 17,  0,  0,  0,  0,  0,  0,  0,  0,  0,  0,  0,  0,  0,  0,  0,\n",
              "        0,  0,  0,  0,  0,  0,  0,  0,  0,  0,  0,  0,  0,  0,  0,  0,  0,\n",
              "        0,  0,  0,  0,  0,  0,  0,  0,  0,  0,  0,  0,  0,  0,  0,  0,  0,\n",
              "        0,  0,  0,  0,  0,  0,  0,  0,  0,  0,  0,  0,  0,  0,  0,  0,  0,\n",
              "        0,  0,  0,  0,  0,  0,  0,  0,  0,  0])"
            ]
          },
          "metadata": {
            "tags": []
          },
          "execution_count": 87
        }
      ]
    },
    {
      "cell_type": "code",
      "metadata": {
        "id": "nnYl4M7EcpDZ"
      },
      "source": [
        "mean_shift_clusters = mean_shift_model.cluster_centers_"
      ],
      "execution_count": 88,
      "outputs": []
    },
    {
      "cell_type": "code",
      "metadata": {
        "colab": {
          "base_uri": "https://localhost:8080/"
        },
        "id": "_LpisdmWdJYN",
        "outputId": "5332bfcb-61f8-4ca2-95f3-5d420a83f414"
      },
      "source": [
        "len(mean_shift_clusters)"
      ],
      "execution_count": 89,
      "outputs": [
        {
          "output_type": "execute_result",
          "data": {
            "text/plain": [
              "21"
            ]
          },
          "metadata": {
            "tags": []
          },
          "execution_count": 89
        }
      ]
    },
    {
      "cell_type": "code",
      "metadata": {
        "colab": {
          "base_uri": "https://localhost:8080/"
        },
        "id": "kPWfsq9adoeV",
        "outputId": "40c1647b-5f98-43a8-a4e5-c5e43911c6ac"
      },
      "source": [
        "for centroid in mean_shift_clusters:\r\n",
        "  print(centroid)"
      ],
      "execution_count": 91,
      "outputs": [
        {
          "output_type": "stream",
          "text": [
            "[0.3148855  0.66030534 0.12977099 0.03053435 0.42748092 0.09160305\n",
            " 0.15076336 0.4351145  0.16412214 0.34541985 0.29770992 0.10496183\n",
            " 0.08206107 0.19274809 0.25381679 0.30916031 0.02862595 0.08969466\n",
            " 0.1278626  0.08396947 0.49045802 0.29389313 0.09923664 0.08969466\n",
            " 0.07251908 0.01908397 0.05916031 0.04007634 0.15839695 0.11832061\n",
            " 0.03816794 0.03816794 0.08206107 0.11068702 0.00381679 0.01717557\n",
            " 0.05534351 0.10687023 0.02671756 0.1240458  0.02290076 0.00954198\n",
            " 0.04580153 0.24236641 0.04580153 0.08778626 0.02099237 0.03816794\n",
            " 0.00954198 0.02862595 0.01908397 0.00572519 0.01908397 0.00572519\n",
            " 0.03244275 0.00763359 0.03435115 0.00763359 0.01335878 0.00381679\n",
            " 0.00763359 0.0019084  0.0019084  0.00954198 0.00572519 0.00954198\n",
            " 0.05152672 0.00572519 0.00763359 0.01145038 0.00572519 0.03435115\n",
            " 0.00763359 0.         0.0019084  0.00381679 0.         0.0019084\n",
            " 0.00381679 0.03053435 0.0019084  0.0019084  0.         0.00381679\n",
            " 0.00381679 0.0019084  0.00572519 0.00572519 0.30916031 0.35305344\n",
            " 0.27290076 0.42748092 0.60496183 0.5629771  0.76908397 0.40648855\n",
            " 0.12977099 0.13549618 0.04007634 0.01526718]\n",
            "[1. 1. 1. 1. 1. 1. 1. 1. 1. 1. 1. 0. 1. 1. 1. 0. 0. 0. 1. 0. 1. 1. 0. 0.\n",
            " 0. 0. 0. 0. 1. 1. 1. 1. 0. 1. 0. 0. 0. 1. 0. 1. 0. 0. 1. 0. 0. 0. 0. 0.\n",
            " 0. 0. 0. 1. 1. 0. 0. 0. 0. 0. 0. 1. 0. 0. 0. 0. 0. 0. 0. 0. 0. 0. 0. 1.\n",
            " 0. 0. 0. 0. 0. 0. 0. 0. 0. 0. 0. 0. 0. 0. 0. 0. 1. 0. 0. 1. 1. 1. 1. 1.\n",
            " 1. 0. 0. 0.]\n",
            "[1. 1. 1. 1. 1. 1. 1. 1. 1. 1. 0. 0. 1. 1. 0. 1. 0. 1. 1. 0. 0. 0. 0. 0.\n",
            " 0. 0. 0. 1. 0. 0. 0. 0. 0. 0. 0. 0. 0. 0. 0. 0. 0. 0. 0. 0. 0. 1. 0. 0.\n",
            " 0. 1. 0. 0. 0. 0. 0. 0. 1. 0. 0. 1. 0. 0. 0. 0. 1. 0. 0. 0. 0. 0. 0. 0.\n",
            " 1. 0. 1. 0. 0. 0. 0. 0. 0. 0. 0. 0. 0. 0. 0. 0. 1. 1. 1. 1. 1. 0. 1. 1.\n",
            " 0. 0. 0. 0.]\n",
            "[1. 1. 1. 1. 1. 1. 0. 1. 1. 0. 1. 0. 1. 1. 0. 1. 1. 0. 0. 0. 0. 0. 0. 0.\n",
            " 0. 1. 1. 0. 1. 0. 0. 0. 1. 0. 0. 0. 0. 0. 0. 0. 1. 1. 1. 0. 0. 1. 0. 0.\n",
            " 0. 0. 0. 0. 0. 0. 0. 0. 0. 0. 0. 1. 0. 0. 0. 0. 1. 0. 0. 0. 0. 0. 0. 0.\n",
            " 0. 1. 0. 1. 0. 0. 1. 0. 1. 0. 0. 0. 0. 0. 0. 0. 0. 1. 1. 1. 0. 0. 1. 0.\n",
            " 0. 0. 0. 0.]\n",
            "[1. 1. 1. 1. 1. 0. 0. 1. 1. 1. 1. 0. 1. 1. 0. 1. 0. 1. 1. 1. 0. 0. 0. 0.\n",
            " 0. 1. 0. 0. 0. 0. 1. 1. 1. 0. 0. 0. 0. 0. 1. 1. 1. 1. 0. 0. 0. 1. 0. 0.\n",
            " 0. 0. 0. 0. 0. 0. 0. 0. 1. 0. 0. 0. 0. 0. 0. 0. 0. 0. 0. 0. 0. 0. 0. 0.\n",
            " 0. 0. 0. 1. 0. 0. 0. 0. 0. 1. 1. 0. 0. 0. 0. 0. 1. 0. 1. 1. 0. 0. 1. 1.\n",
            " 1. 1. 0. 0.]\n",
            "[1. 1. 1. 1. 1. 0. 0. 1. 1. 1. 0. 0. 1. 0. 1. 1. 1. 1. 0. 0. 1. 0. 0. 0.\n",
            " 0. 0. 1. 1. 0. 0. 0. 0. 0. 0. 0. 0. 0. 0. 0. 1. 0. 0. 0. 1. 0. 0. 0. 0.\n",
            " 0. 1. 0. 0. 0. 0. 0. 0. 1. 0. 0. 0. 1. 0. 0. 0. 0. 0. 1. 0. 0. 0. 0. 1.\n",
            " 0. 0. 0. 0. 0. 0. 0. 0. 0. 0. 0. 0. 0. 0. 0. 0. 1. 1. 1. 1. 1. 0. 1. 1.\n",
            " 1. 1. 0. 0.]\n",
            "[1. 1. 1. 1. 1. 0. 0. 1. 1. 0. 1. 1. 0. 1. 1. 1. 0. 1. 0. 0. 0. 0. 0. 0.\n",
            " 0. 0. 0. 1. 0. 0. 0. 0. 0. 1. 0. 1. 0. 0. 0. 0. 0. 0. 0. 0. 0. 0. 0. 0.\n",
            " 0. 0. 0. 0. 0. 0. 0. 0. 0. 1. 0. 1. 0. 0. 0. 0. 0. 1. 0. 1. 0. 0. 0. 0.\n",
            " 1. 1. 1. 0. 0. 0. 0. 0. 0. 0. 0. 0. 0. 0. 0. 0. 0. 0. 0. 1. 1. 1. 1. 1.\n",
            " 0. 0. 0. 0.]\n",
            "[1. 1. 1. 0. 1. 0. 0. 1. 1. 1. 1. 1. 0. 1. 1. 1. 0. 0. 0. 0. 0. 0. 0. 0.\n",
            " 0. 0. 0. 0. 0. 1. 1. 1. 1. 1. 0. 0. 0. 0. 1. 0. 0. 0. 1. 0. 0. 0. 0. 1.\n",
            " 0. 1. 0. 0. 0. 0. 1. 0. 0. 0. 1. 0. 0. 1. 1. 1. 1. 1. 0. 0. 0. 0. 0. 0.\n",
            " 0. 0. 0. 0. 0. 0. 0. 0. 0. 0. 0. 0. 0. 0. 0. 0. 1. 1. 1. 0. 1. 1. 1. 1.\n",
            " 1. 1. 0. 1.]\n",
            "[1. 1. 1. 0. 0. 0. 0. 1. 1. 0. 0. 0. 0. 1. 1. 1. 0. 0. 0. 0. 1. 1. 1. 0.\n",
            " 0. 1. 0. 1. 1. 0. 0. 0. 0. 1. 0. 0. 0. 1. 0. 1. 0. 0. 0. 1. 0. 0. 0. 0.\n",
            " 0. 0. 0. 0. 1. 0. 0. 0. 1. 0. 0. 1. 0. 0. 0. 0. 0. 0. 0. 0. 0. 0. 0. 0.\n",
            " 0. 0. 0. 0. 0. 0. 0. 0. 0. 0. 0. 0. 0. 0. 0. 0. 1. 0. 1. 1. 1. 1. 0. 1.\n",
            " 0. 0. 0. 0.]\n",
            "[1. 1. 0. 1. 1. 1. 0. 1. 1. 1. 1. 0. 1. 1. 1. 1. 0. 0. 1. 1. 0. 0. 0. 0.\n",
            " 0. 1. 1. 1. 1. 1. 0. 0. 0. 1. 0. 1. 0. 0. 1. 0. 1. 1. 0. 0. 1. 0. 0. 0.\n",
            " 0. 0. 0. 0. 0. 0. 0. 0. 0. 0. 1. 0. 0. 0. 0. 0. 0. 0. 1. 0. 0. 0. 0. 0.\n",
            " 0. 0. 0. 1. 0. 0. 0. 0. 0. 0. 0. 0. 0. 0. 0. 0. 1. 1. 1. 1. 1. 1. 1. 1.\n",
            " 0. 1. 0. 0.]\n",
            "[1. 1. 0. 1. 1. 1. 0. 1. 1. 0. 0. 1. 1. 0. 1. 1. 0. 0. 1. 1. 0. 0. 0. 0.\n",
            " 0. 0. 0. 0. 0. 0. 0. 1. 0. 0. 0. 1. 0. 1. 0. 1. 0. 0. 0. 0. 0. 1. 0. 0.\n",
            " 0. 0. 0. 0. 0. 0. 0. 0. 0. 0. 0. 0. 0. 0. 0. 0. 0. 0. 0. 0. 0. 0. 0. 0.\n",
            " 0. 0. 0. 0. 0. 0. 0. 0. 0. 1. 0. 0. 0. 0. 0. 0. 1. 1. 1. 1. 1. 1. 1. 1.\n",
            " 1. 0. 0. 0.]\n",
            "[1. 1. 0. 0. 1. 1. 0. 0. 1. 0. 0. 0. 0. 1. 1. 1. 0. 0. 1. 0. 0. 0. 0. 0.\n",
            " 0. 0. 1. 0. 0. 0. 1. 0. 0. 0. 1. 0. 0. 1. 0. 0. 0. 0. 0. 0. 1. 1. 0. 0.\n",
            " 0. 0. 0. 0. 0. 0. 0. 0. 1. 1. 0. 0. 0. 0. 0. 0. 0. 0. 0. 0. 0. 0. 0. 0.\n",
            " 0. 1. 1. 0. 0. 0. 0. 0. 0. 0. 0. 0. 0. 0. 0. 0. 0. 1. 0. 0. 1. 0. 1. 0.\n",
            " 0. 0. 0. 0.]\n",
            "[1. 1. 0. 0. 1. 0. 1. 1. 1. 0. 1. 0. 0. 1. 1. 0. 0. 0. 0. 1. 1. 0. 0. 0.\n",
            " 0. 0. 0. 0. 1. 0. 0. 0. 0. 1. 0. 0. 0. 0. 0. 0. 0. 1. 0. 0. 0. 0. 0. 0.\n",
            " 0. 1. 1. 0. 1. 0. 0. 0. 1. 0. 0. 0. 0. 0. 0. 0. 0. 0. 0. 0. 0. 0. 0. 0.\n",
            " 1. 0. 0. 0. 0. 0. 0. 0. 0. 0. 0. 0. 0. 0. 0. 0. 1. 1. 1. 0. 1. 1. 1. 1.\n",
            " 1. 1. 0. 0.]\n",
            "[1. 1. 0. 0. 1. 0. 0. 1. 1. 0. 0. 0. 1. 0. 1. 1. 0. 1. 1. 1. 0. 0. 0. 0.\n",
            " 0. 1. 0. 0. 0. 1. 0. 1. 1. 1. 0. 0. 0. 1. 0. 0. 0. 0. 1. 0. 0. 0. 0. 0.\n",
            " 0. 0. 0. 0. 0. 1. 0. 0. 1. 0. 0. 0. 0. 0. 0. 0. 0. 0. 0. 0. 0. 0. 0. 0.\n",
            " 0. 0. 0. 0. 0. 0. 0. 0. 0. 0. 0. 0. 0. 0. 0. 0. 1. 0. 0. 1. 1. 1. 0. 1.\n",
            " 0. 0. 0. 0.]\n",
            "[0. 1. 1. 1. 1. 1. 1. 1. 0. 1. 1. 0. 1. 0. 1. 1. 0. 1. 0. 1. 0. 0. 0. 0.\n",
            " 0. 0. 0. 0. 1. 1. 0. 0. 0. 1. 0. 0. 0. 0. 1. 1. 0. 0. 1. 0. 0. 0. 0. 0.\n",
            " 0. 0. 0. 0. 0. 0. 0. 0. 0. 0. 0. 1. 0. 0. 0. 0. 0. 0. 1. 0. 0. 0. 0. 1.\n",
            " 0. 0. 0. 0. 0. 0. 0. 0. 0. 0. 0. 0. 0. 0. 0. 0. 0. 1. 1. 1. 1. 1. 1. 1.\n",
            " 1. 1. 0. 0.]\n",
            "[0. 1. 1. 1. 1. 0. 0. 1. 0. 1. 1. 1. 1. 0. 1. 1. 1. 0. 0. 1. 0. 0. 1. 0.\n",
            " 0. 0. 0. 0. 1. 0. 0. 0. 1. 0. 0. 0. 0. 1. 0. 0. 0. 0. 1. 0. 0. 0. 0. 0.\n",
            " 0. 0. 0. 0. 0. 1. 0. 0. 0. 0. 0. 0. 0. 0. 0. 0. 0. 0. 0. 0. 0. 0. 0. 1.\n",
            " 1. 0. 0. 0. 0. 0. 0. 1. 0. 0. 0. 0. 0. 0. 0. 0. 0. 1. 0. 0. 1. 0. 1. 0.\n",
            " 0. 0. 0. 0.]\n",
            "[0. 1. 1. 0. 1. 0. 0. 1. 1. 1. 0. 1. 0. 1. 0. 1. 0. 0. 0. 0. 1. 0. 0. 0.\n",
            " 0. 0. 0. 0. 0. 0. 0. 0. 0. 0. 0. 0. 0. 1. 1. 0. 0. 0. 0. 1. 0. 0. 0. 0.\n",
            " 0. 0. 0. 0. 0. 0. 0. 0. 1. 0. 0. 0. 0. 0. 0. 0. 0. 0. 1. 0. 0. 0. 0. 1.\n",
            " 0. 0. 0. 0. 0. 0. 0. 0. 0. 0. 0. 0. 0. 0. 0. 0. 1. 1. 0. 1. 1. 1. 1. 1.\n",
            " 1. 1. 0. 0.]\n",
            "[0. 1. 0. 1. 1. 0. 0. 1. 1. 1. 1. 0. 1. 0. 1. 1. 0. 1. 1. 1. 1. 0. 0. 0.\n",
            " 0. 0. 0. 0. 1. 0. 0. 0. 0. 1. 0. 0. 0. 0. 1. 0. 0. 0. 0. 1. 1. 0. 0. 0.\n",
            " 0. 0. 0. 0. 1. 0. 0. 0. 0. 0. 0. 0. 0. 0. 0. 0. 0. 0. 0. 0. 0. 0. 0. 0.\n",
            " 0. 0. 0. 0. 0. 0. 0. 0. 0. 0. 0. 0. 0. 0. 0. 0. 1. 0. 1. 0. 0. 1. 1. 1.\n",
            " 1. 1. 0. 0.]\n",
            "[0. 1. 0. 1. 0. 1. 0. 1. 0. 1. 1. 0. 1. 0. 1. 0. 0. 0. 0. 0. 1. 0. 0. 0.\n",
            " 0. 1. 0. 0. 1. 0. 0. 0. 0. 1. 0. 0. 0. 1. 0. 0. 0. 0. 0. 0. 0. 0. 0. 0.\n",
            " 1. 0. 0. 0. 1. 0. 0. 0. 0. 1. 0. 0. 1. 0. 0. 0. 0. 0. 0. 0. 0. 0. 0. 0.\n",
            " 1. 0. 0. 0. 1. 0. 0. 0. 0. 0. 0. 0. 0. 0. 0. 0. 0. 0. 1. 1. 1. 1. 1. 0.\n",
            " 0. 0. 0. 0.]\n",
            "[0. 1. 0. 0. 1. 1. 0. 1. 1. 1. 1. 0. 1. 0. 1. 1. 0. 1. 0. 1. 1. 1. 0. 0.\n",
            " 0. 0. 1. 0. 1. 1. 0. 0. 0. 0. 0. 1. 0. 0. 0. 1. 0. 0. 0. 0. 0. 0. 0. 0.\n",
            " 0. 0. 0. 0. 1. 0. 0. 0. 0. 0. 0. 0. 0. 0. 0. 0. 0. 0. 0. 0. 0. 0. 0. 0.\n",
            " 0. 0. 0. 0. 0. 0. 0. 0. 0. 0. 0. 0. 0. 0. 0. 0. 1. 0. 1. 0. 1. 1. 1. 0.\n",
            " 0. 0. 0. 1.]\n",
            "[0. 1. 0. 0. 0. 1. 1. 1. 0. 1. 0. 0. 1. 1. 1. 0. 0. 0. 0. 1. 1. 0. 0. 0.\n",
            " 0. 1. 1. 0. 1. 0. 0. 0. 0. 0. 0. 1. 0. 1. 0. 1. 1. 0. 0. 0. 0. 0. 0. 0.\n",
            " 0. 0. 0. 0. 1. 0. 0. 0. 0. 0. 1. 0. 0. 0. 0. 0. 0. 0. 0. 0. 0. 0. 0. 0.\n",
            " 0. 1. 0. 1. 1. 1. 1. 0. 0. 0. 0. 0. 0. 0. 0. 0. 0. 1. 1. 1. 1. 0. 1. 1.\n",
            " 1. 1. 0. 0.]\n"
          ],
          "name": "stdout"
        }
      ]
    },
    {
      "cell_type": "markdown",
      "metadata": {
        "id": "xXZLI3VYZq7a"
      },
      "source": [
        "Don't know why this looks so weird. The first centroid has decimals but other centroids only has `1` and `0`'s.. Let's just interpret the results on the first centroid - it contains the most examples anyways."
      ]
    },
    {
      "cell_type": "code",
      "metadata": {
        "colab": {
          "base_uri": "https://localhost:8080/"
        },
        "id": "yCwVRB4JZ1gM",
        "outputId": "ac1539e1-42ae-4815-fec1-0273bae210e6"
      },
      "source": [
        "print('top features that are thought to be important by mean-shift clustering:')\r\n",
        "print()\r\n",
        "first_centroid = mean_shift_clusters[0]\r\n",
        "indices_of_largest_values = np.argsort(first_centroid)[::-1][:5]\r\n",
        "for index in indices_of_largest_values:\r\n",
        "  feature_name_of_this_index = data.columns[index]\r\n",
        "  print(f'{feature_name_of_this_index}', end = ', ') "
      ],
      "execution_count": 92,
      "outputs": [
        {
          "output_type": "stream",
          "text": [
            "top features that are thought to be important by mean-shift clustering:\n",
            "\n",
            "Bortezomib, Encounter for change or removal of surgical wound dressing code, TP, Lenalidomide, Examination of participant in clinical trial code, "
          ],
          "name": "stdout"
        }
      ]
    },
    {
      "cell_type": "markdown",
      "metadata": {
        "id": "M5IKD0pLapPs"
      },
      "source": [
        "## on synthetic data"
      ]
    },
    {
      "cell_type": "code",
      "metadata": {
        "colab": {
          "base_uri": "https://localhost:8080/",
          "height": 265
        },
        "id": "8BgnEcPMbJ7Q",
        "outputId": "262c3e2f-fe2e-45f6-bff1-af759da6223b"
      },
      "source": [
        "# define the model\r\n",
        "mean_model = MeanShift()\r\n",
        "\r\n",
        "# assign each data point to a cluster\r\n",
        "mean_result = mean_model.fit_predict(training_data)\r\n",
        "\r\n",
        "# get all of the unique clusters\r\n",
        "mean_clusters = np.unique(mean_result)\r\n",
        "\r\n",
        "# plot Mean-Shift the clusters\r\n",
        "for mean_cluster in mean_clusters:\r\n",
        "    # get data points that fall in this cluster\r\n",
        "    index = np.where(mean_result == mean_cluster)\r\n",
        "    # make the plot\r\n",
        "    plt.scatter(training_data[index, 0], training_data[index, 1])\r\n",
        "\r\n",
        "# show the Mean-Shift plot\r\n",
        "plt.show()"
      ],
      "execution_count": 97,
      "outputs": [
        {
          "output_type": "display_data",
          "data": {
            "image/png": "[encoded data removed]",
            "text/plain": [
              "<Figure size 432x288 with 1 Axes>"
            ]
          },
          "metadata": {
            "tags": [],
            "needs_background": "light"
          }
        }
      ]
    },
    {
      "cell_type": "markdown",
      "metadata": {
        "id": "TcKtfIdAS0MM"
      },
      "source": [
        "# 5.EM clustering using Gaussian Mixture model"
      ]
    },
    {
      "cell_type": "markdown",
      "metadata": {
        "id": "ZHOdWwLNePmr"
      },
      "source": [
        "- distribution based clustering. Assumes each cluster is distributed as a Gaussian\r\n",
        "- this overcomes the pitfall of K-Means that only fits well with **circular** clusters. Because in the definition of distance for K-means, it penalizes data that are far away (so a ellipsoid of data have large sum of distances than a circle of data) \r\n",
        "- highly doubt this will work well for our dataset because Gaussian distribution is continuous and our data is categorical/binary"
      ]
    },
    {
      "cell_type": "code",
      "metadata": {
        "id": "my-gFs16S1u5"
      },
      "source": [
        "from sklearn.mixture import GaussianMixture"
      ],
      "execution_count": 98,
      "outputs": []
    },
    {
      "cell_type": "markdown",
      "metadata": {
        "id": "fyqqtrmWbvnL"
      },
      "source": [
        "## on synthetic data"
      ]
    },
    {
      "cell_type": "code",
      "metadata": {
        "colab": {
          "base_uri": "https://localhost:8080/",
          "height": 265
        },
        "id": "gpJSY7Psew4C",
        "outputId": "254c6d12-ecd9-4263-916a-32192465066f"
      },
      "source": [
        "training_data, _ = make_classification(\r\n",
        "    n_samples=1000,\r\n",
        "    n_features=2,\r\n",
        "    n_informative=2,\r\n",
        "    n_redundant=0,\r\n",
        "    n_clusters_per_class=1,\r\n",
        "    random_state=4\r\n",
        ")\r\n",
        "\r\n",
        "# define the model\r\n",
        "gaussian_model = GaussianMixture(n_components=2)\r\n",
        "\r\n",
        "# train the model\r\n",
        "gaussian_model.fit(training_data)\r\n",
        "\r\n",
        "# assign each data point to a cluster\r\n",
        "gaussian_result = gaussian_model.predict(training_data)\r\n",
        "\r\n",
        "# get all of the unique clusters\r\n",
        "gaussian_clusters = np.unique(gaussian_result)\r\n",
        "\r\n",
        "# plot Gaussian Mixture the clusters\r\n",
        "for gaussian_cluster in gaussian_clusters:\r\n",
        "    # get data points that fall in this cluster\r\n",
        "    index = np.where(gaussian_result == gaussian_cluster)\r\n",
        "    # make the plot\r\n",
        "    plt.scatter(training_data[index, 0], training_data[index, 1])\r\n",
        "\r\n",
        "# show the Gaussian Mixture plot\r\n",
        "plt.show()"
      ],
      "execution_count": 99,
      "outputs": [
        {
          "output_type": "display_data",
          "data": {
            "image/png": "[encoded data removed]",
            "text/plain": [
              "<Figure size 432x288 with 1 Axes>"
            ]
          },
          "metadata": {
            "tags": [],
            "needs_background": "light"
          }
        }
      ]
    },
    {
      "cell_type": "markdown",
      "metadata": {
        "id": "EcGTiOirb3YZ"
      },
      "source": [
        "## on our data"
      ]
    },
    {
      "cell_type": "code",
      "metadata": {
        "id": "8h6m0tIzfIiS"
      },
      "source": [
        "gaussian_model = GaussianMixture(n_components=7)\r\n",
        "gaussian_model.fit(data)\r\n",
        "gaussian_result = gaussian_model.predict(data)"
      ],
      "execution_count": 100,
      "outputs": []
    },
    {
      "cell_type": "code",
      "metadata": {
        "colab": {
          "base_uri": "https://localhost:8080/"
        },
        "id": "UvcDEbwXe-Dk",
        "outputId": "07d746b7-7143-4f82-bad1-6bddc9eb6dd3"
      },
      "source": [
        "gaussian_result"
      ],
      "execution_count": 101,
      "outputs": [
        {
          "output_type": "execute_result",
          "data": {
            "text/plain": [
              "array([0, 4, 5, 5, 5, 5, 0, 5, 5, 5, 6, 5, 5, 5, 4, 4, 0, 5, 5, 5, 1, 5,\n",
              "       1, 5, 5, 5, 5, 5, 5, 5, 2, 5, 2, 5, 5, 2, 2, 2, 5, 5, 5, 2, 5, 5,\n",
              "       2, 2, 5, 5, 5, 1, 5, 1, 2, 5, 5, 2, 5, 2, 4, 5, 4, 2, 4, 2, 2, 5,\n",
              "       5, 2, 4, 2, 4, 6, 4, 2, 2, 5, 1, 4, 4, 5, 5, 4, 4, 2, 2, 5, 2, 2,\n",
              "       2, 2, 2, 4, 6, 2, 2, 2, 2, 2, 2, 4, 6, 4, 2, 2, 4, 2, 3, 4, 2, 2,\n",
              "       4, 1, 2, 2, 2, 4, 2, 4, 4, 4, 2, 4, 4, 6, 2, 4, 4, 2, 2, 4, 6, 2,\n",
              "       4, 2, 4, 0, 3, 6, 0, 4, 6, 4, 6, 6, 3, 3, 2, 3, 4, 3, 4, 4, 0, 5,\n",
              "       3, 3, 4, 6, 3, 3, 4, 6, 6, 6, 3, 6, 6, 3, 0, 5, 4, 1, 6, 1, 3, 4,\n",
              "       3, 3, 4, 4, 4, 3, 4, 6, 3, 6, 6, 4, 4, 3, 4, 4, 4, 5, 6, 2, 4, 3,\n",
              "       3, 3, 3, 2, 5, 6, 3, 3, 1, 6, 6, 4, 6, 1, 3, 6, 4, 4, 1, 4, 4, 3,\n",
              "       0, 6, 4, 1, 4, 6, 1, 1, 0, 4, 6, 6, 4, 0, 4, 0, 4, 3, 3, 4, 0, 4,\n",
              "       3, 4, 6, 3, 3, 0, 0, 0, 6, 4, 6, 1, 6, 4, 6, 0, 5, 3, 4, 1, 1, 3,\n",
              "       6, 4, 4, 0, 4, 6, 1, 4, 3, 0, 3, 4, 4, 0, 4, 3, 5, 1, 3, 4, 6, 0,\n",
              "       1, 1, 6, 6, 4, 5, 0, 3, 4, 4, 1, 1, 1, 6, 4, 6, 0, 6, 6, 5, 0, 0,\n",
              "       1, 4, 0, 0, 6, 4, 0, 4, 0, 0, 1, 0, 4, 0, 4, 1, 6, 6, 0, 4, 0, 3,\n",
              "       1, 0, 1, 6, 4, 4, 2, 1, 0, 6, 4, 0, 6, 4, 6, 0, 0, 1, 4, 0, 0, 1,\n",
              "       6, 1, 0, 6, 1, 4, 6, 0, 0, 1, 1, 4, 0, 1, 4, 1, 0, 1, 4, 4, 3, 1,\n",
              "       5, 6, 0, 1, 1, 1, 6, 1, 1, 1, 4, 5, 1, 4, 1, 5, 0, 4, 4, 4, 4, 0,\n",
              "       1, 1, 1, 0, 4, 1, 1, 4, 6, 1, 1, 1, 1, 1, 4, 1, 1, 4, 5, 4, 4, 4,\n",
              "       1, 1, 4, 5, 4, 1, 4, 4, 0, 4, 1, 4, 1, 4, 1, 1, 5, 1, 1, 1, 1, 4,\n",
              "       5, 5, 1, 1, 1, 1, 1, 1, 1, 1, 1, 4, 1, 1, 1, 5, 1, 1, 4, 6, 4, 5,\n",
              "       1, 4, 4, 5, 4, 1, 4, 5, 1, 1, 0, 5, 4, 1, 2, 1, 1, 0, 5, 5, 4, 5,\n",
              "       1, 0, 4, 5, 6, 1, 4, 4, 0, 1, 6, 5, 0, 4, 5, 5, 5, 5, 1, 5, 4, 5,\n",
              "       5, 1, 5, 5, 5, 5, 5, 4, 5, 5, 5, 3, 5, 5, 5, 5, 5, 5, 5, 5, 5, 5,\n",
              "       5, 2, 5, 5, 5, 5, 5, 5, 2, 2, 1, 5, 5, 2, 2, 4, 5, 3, 5, 5, 1, 4,\n",
              "       5, 5, 5, 2, 5, 5, 5, 5, 5, 2, 5, 5, 2, 5, 5, 5, 5, 5, 5, 5, 5])"
            ]
          },
          "metadata": {
            "tags": []
          },
          "execution_count": 101
        }
      ]
    },
    {
      "cell_type": "code",
      "metadata": {
        "colab": {
          "base_uri": "https://localhost:8080/"
        },
        "id": "JV6HYkvkfo7-",
        "outputId": "9d5a5fea-9a18-4101-8682-222a60182db3"
      },
      "source": [
        "gaussian_model.means_"
      ],
      "execution_count": 257,
      "outputs": [
        {
          "output_type": "execute_result",
          "data": {
            "text/plain": [
              "array([[0.25848744, 0.3603529 , 0.07886057, 0.00876229, 0.1938664 ,\n",
              "        0.        , 0.28039315, 0.24096287, 0.07117026, 0.23659629,\n",
              "        0.17086458, 0.        , 0.        , 0.11390972, 0.19384226,\n",
              "        0.11060404, 0.02628686, 0.00876229, 0.092004  , 0.01314343,\n",
              "        0.76231888, 0.50821259, 0.16210229, 0.20153258, 0.16648343,\n",
              "        0.02628686, 0.06571715, 0.06571715, 0.17086479, 0.07447943,\n",
              "        0.02628686, 0.01314343, 0.        , 0.00438114, 0.        ,\n",
              "        0.        , 0.122672  , 0.10076651, 0.02190572, 0.07009829,\n",
              "        0.02190572, 0.01752457, 0.030668  , 0.3296577 , 0.00438114,\n",
              "        0.        , 0.        , 0.        , 0.        , 0.02190572,\n",
              "        0.01314343, 0.        , 0.00876229, 0.00876229, 0.        ,\n",
              "        0.        , 0.01424282, 0.00876229, 0.        , 0.        ,\n",
              "        0.        , 0.        , 0.        , 0.        , 0.        ,\n",
              "        0.        , 0.00876229, 0.        , 0.        , 0.        ,\n",
              "        0.        , 0.00438114, 0.        , 0.        , 0.00438114,\n",
              "        0.        , 0.        , 0.        , 0.        , 0.        ,\n",
              "        0.        , 0.        , 0.        , 0.        , 0.        ,\n",
              "        0.        , 0.        , 0.        , 0.25848765, 0.32092066,\n",
              "        0.25518176, 0.40414279, 0.48631254, 0.3548961 , 0.5312177 ,\n",
              "        0.37239716, 0.        , 0.01314343, 0.        , 0.01752457],\n",
              "       [0.76388889, 0.88888889, 0.41666667, 0.18055556, 0.77777778,\n",
              "        0.47222222, 0.09722222, 0.81944444, 0.65277778, 0.66666667,\n",
              "        0.36111111, 0.30555556, 0.44444444, 0.47222222, 0.73611111,\n",
              "        0.63888889, 0.09722222, 0.33333333, 0.27777778, 0.25      ,\n",
              "        0.15277778, 0.06944444, 0.01388889, 0.        , 0.        ,\n",
              "        0.08333333, 0.125     , 0.05555556, 0.19444444, 0.27777778,\n",
              "        0.08333333, 0.13888889, 0.26388889, 0.29166667, 0.05555556,\n",
              "        0.13888889, 0.        , 0.23611111, 0.06944444, 0.20833333,\n",
              "        0.05555556, 0.04166667, 0.20833333, 0.06944444, 0.23611111,\n",
              "        0.19444444, 0.        , 0.        , 0.        , 0.02777778,\n",
              "        0.02777778, 0.02777778, 0.02777778, 0.04166667, 0.        ,\n",
              "        0.04166667, 0.05555556, 0.05555556, 0.06944444, 0.05555556,\n",
              "        0.        , 0.        , 0.        , 0.        , 0.05555556,\n",
              "        0.08333333, 0.11111111, 0.04166667, 0.        , 0.        ,\n",
              "        0.        , 0.15277778, 0.08333333, 0.04166667, 0.04166667,\n",
              "        0.05555556, 0.        , 0.        , 0.04166667, 0.04166667,\n",
              "        0.01388889, 0.01388889, 0.        , 0.        , 0.        ,\n",
              "        0.        , 0.        , 0.        , 0.375     , 0.41666667,\n",
              "        0.23611111, 0.47222222, 0.86111111, 0.68055556, 0.91666667,\n",
              "        0.43055556, 0.02777778, 0.01388889, 0.15277778, 0.02777778],\n",
              "       [0.42465753, 0.80821918, 0.21917808, 0.06849315, 0.31506849,\n",
              "        0.08219178, 0.12328767, 0.8630137 , 0.05479452, 0.56164384,\n",
              "        0.57534247, 0.04109589, 0.15068493, 0.30136986, 0.23287671,\n",
              "        0.21917808, 0.        , 0.04109589, 0.28767123, 0.24657534,\n",
              "        0.87671233, 0.4109589 , 0.21917808, 0.        , 0.        ,\n",
              "        0.06849315, 0.09589041, 0.08219178, 0.24657534, 0.12328767,\n",
              "        0.06849315, 0.10958904, 0.        , 0.30136986, 0.01369863,\n",
              "        0.06849315, 0.02739726, 0.21917808, 0.06849315, 0.34246575,\n",
              "        0.05479452, 0.01369863, 0.05479452, 0.47945205, 0.01369863,\n",
              "        0.01369863, 0.        , 0.        , 0.01369863, 0.09589041,\n",
              "        0.06849315, 0.04109589, 0.15068493, 0.        , 0.        ,\n",
              "        0.02739726, 0.04109589, 0.01369863, 0.02739726, 0.02739726,\n",
              "        0.04109589, 0.        , 0.        , 0.        , 0.01369863,\n",
              "        0.        , 0.09589041, 0.        , 0.        , 0.        ,\n",
              "        0.02739726, 0.09589041, 0.02739726, 0.01369863, 0.        ,\n",
              "        0.02739726, 0.02739726, 0.02739726, 0.01369863, 0.01369863,\n",
              "        0.        , 0.        , 0.        , 0.        , 0.        ,\n",
              "        0.        , 0.        , 0.        , 0.36986301, 0.1369863 ,\n",
              "        0.46575342, 0.56164384, 0.71232877, 0.53424658, 0.93150685,\n",
              "        0.56164384, 0.10958904, 0.10958904, 0.15068493, 0.04109589],\n",
              "       [0.31764706, 0.96470588, 0.21176471, 0.16470588, 0.87058824,\n",
              "        0.10588235, 0.03529412, 0.67058824, 0.42352941, 0.45882353,\n",
              "        0.55294118, 0.27058824, 0.31764706, 0.27058824, 0.41176471,\n",
              "        0.72941176, 0.07058824, 0.27058824, 0.10588235, 0.18823529,\n",
              "        0.22352941, 0.08235294, 0.02352941, 0.        , 0.        ,\n",
              "        0.04705882, 0.08235294, 0.03529412, 0.21176471, 0.23529412,\n",
              "        0.07058824, 0.10588235, 0.22352941, 0.21176471, 0.02352941,\n",
              "        0.04705882, 0.02352941, 0.08235294, 0.11764706, 0.21176471,\n",
              "        0.02352941, 0.02352941, 0.10588235, 0.10588235, 0.15294118,\n",
              "        0.12941176, 0.02352941, 0.04705882, 0.01176471, 0.07058824,\n",
              "        0.02352941, 0.04705882, 0.02352941, 0.01176471, 0.07058824,\n",
              "        0.01176471, 0.07058824, 0.01176471, 0.05882353, 0.02352941,\n",
              "        0.03529412, 0.01176471, 0.01176471, 0.02352941, 0.01176471,\n",
              "        0.04705882, 0.17647059, 0.04705882, 0.04705882, 0.02352941,\n",
              "        0.01176471, 0.05882353, 0.08235294, 0.01176471, 0.01176471,\n",
              "        0.01176471, 0.        , 0.        , 0.        , 0.08235294,\n",
              "        0.        , 0.01176471, 0.03529412, 0.01176471, 0.01176471,\n",
              "        0.        , 0.02352941, 0.        , 0.56470588, 0.29411765,\n",
              "        0.35294118, 0.49411765, 0.78823529, 0.90588235, 0.98823529,\n",
              "        1.        , 0.97647059, 0.97647059, 0.02352941, 0.02352941],\n",
              "       [0.19512357, 0.9113079 , 0.08869253, 0.        , 0.592021  ,\n",
              "        0.12416955, 0.01773851, 0.32816237, 0.1663457 , 0.25717886,\n",
              "        0.23946984, 0.17738507, 0.01773851, 0.17738507, 0.1663457 ,\n",
              "        0.44128548, 0.01773851, 0.14190805, 0.10643104, 0.07982328,\n",
              "        0.04434627, 0.        , 0.        , 0.00886925, 0.        ,\n",
              "        0.        , 0.02660776, 0.00886925, 0.14190762, 0.08869253,\n",
              "        0.02660776, 0.00886925, 0.15077731, 0.14190805, 0.        ,\n",
              "        0.        , 0.        , 0.09756135, 0.        , 0.08869253,\n",
              "        0.01773851, 0.        , 0.00886925, 0.07765317, 0.01773851,\n",
              "        0.23946984, 0.07982328, 0.15077731, 0.04434627, 0.00886925,\n",
              "        0.00886925, 0.        , 0.        , 0.        , 0.11530029,\n",
              "        0.        , 0.10420541, 0.        , 0.00886925, 0.00886925,\n",
              "        0.00886925, 0.01773851, 0.00886925, 0.04434627, 0.        ,\n",
              "        0.        , 0.06208477, 0.        , 0.        , 0.03547701,\n",
              "        0.00886925, 0.00886925, 0.        , 0.        , 0.        ,\n",
              "        0.        , 0.        , 0.        , 0.        , 0.07982328,\n",
              "        0.00886925, 0.00886925, 0.        , 0.00886925, 0.00886925,\n",
              "        0.01773851, 0.00886925, 0.02660776, 0.27494642, 0.63636501,\n",
              "        0.2284234 , 0.39693482, 0.5587515 , 0.72723116, 0.94678448,\n",
              "        0.07095403, 0.00886925, 0.00886925, 0.        , 0.        ]])"
            ]
          },
          "metadata": {
            "tags": []
          },
          "execution_count": 257
        }
      ]
    },
    {
      "cell_type": "code",
      "metadata": {
        "id": "6mNQZzcBcHPP"
      },
      "source": [
        "gaussian_means = gaussian_model.means_"
      ],
      "execution_count": 102,
      "outputs": []
    },
    {
      "cell_type": "code",
      "metadata": {
        "colab": {
          "base_uri": "https://localhost:8080/"
        },
        "id": "yZl6hY5QcThU",
        "outputId": "d3a13b2e-2bb7-4449-c4ed-51d33722e12b"
      },
      "source": [
        "# find the top 5 features in each of the gaussian means.\r\n",
        "for i in range(len(gaussian_means)):\r\n",
        "  indices = np.argsort(gaussian_means[i])[::-1][:5]\r\n",
        "  print(f\"Gaussian of cluster {i} represents\")\r\n",
        "  print(\"feature \", end = \" \")\r\n",
        "  for j in indices:\r\n",
        "    name = data.columns[j]\r\n",
        "    print(f\"{name}\", end = \", \")\r\n",
        "  print()"
      ],
      "execution_count": 105,
      "outputs": [
        {
          "output_type": "stream",
          "text": [
            "Gaussian of cluster 0 represents\n",
            "feature  Bortezomib, Encounter for change or removal of surgical wound dressing code, Anemia, unspecified code, TP, Thrombocytopenia, unspecified code, \n",
            "Gaussian of cluster 1 represents\n",
            "feature  Bortezomib, Encounter for change or removal of surgical wound dressing code, Lenalidomide, Anemia, unspecified code, TP, \n",
            "Gaussian of cluster 2 represents\n",
            "feature  Examination of participant in clinical trial code, Multiple myeloma, in remission code, Bortezomib, Neutropenia, unspecified code, TP, \n",
            "Gaussian of cluster 3 represents\n",
            "feature  Other specified pre-operative examination code, Neutropenia, unspecified code, TP, Bortezomib, Encounter for change or removal of surgical wound dressing code, \n",
            "Gaussian of cluster 4 represents\n",
            "feature  Bortezomib, Encounter for change or removal of surgical wound dressing code, Lenalidomide, Other specified pre-operative examination code, ALK, \n",
            "Gaussian of cluster 5 represents\n",
            "feature  Examination of participant in clinical trial code, Dietary surveillance and counseling code, Etoposide, TP, Other specified aftercare following surgery code, \n",
            "Gaussian of cluster 6 represents\n",
            "feature  Etoposide, Bortezomib, Encounter for change or removal of surgical wound dressing code, Cisplatin, Doxorubicin, \n"
          ],
          "name": "stdout"
        }
      ]
    },
    {
      "cell_type": "markdown",
      "metadata": {
        "id": "ajNFTSNqTAwx"
      },
      "source": [
        "# 6. Agglomerative Hierarchical Clustering"
      ]
    },
    {
      "cell_type": "code",
      "metadata": {
        "id": "3NQ8YikXjEnY"
      },
      "source": [
        "from sklearn.cluster import AgglomerativeClustering"
      ],
      "execution_count": 106,
      "outputs": []
    },
    {
      "cell_type": "markdown",
      "metadata": {
        "id": "ael-U2oxBns5"
      },
      "source": [
        "## try on syntatic data."
      ]
    },
    {
      "cell_type": "code",
      "metadata": {
        "colab": {
          "base_uri": "https://localhost:8080/",
          "height": 265
        },
        "id": "QKHx8N2ZTCBJ",
        "outputId": "2ecdd3f9-800d-4632-d2c6-a63f21ad2b25"
      },
      "source": [
        "# initialize the data set we'll work with\r\n",
        "training_data, _ = make_classification(\r\n",
        "    n_samples=1000,\r\n",
        "    n_features=2,\r\n",
        "    n_informative=2,\r\n",
        "    n_redundant=0,\r\n",
        "    n_clusters_per_class=1,\r\n",
        "    random_state=4\r\n",
        ")\r\n",
        "\r\n",
        "# define the model\r\n",
        "agglomerative_model = AgglomerativeClustering(n_clusters=2)\r\n",
        "\r\n",
        "# assign each data point to a cluster\r\n",
        "agglomerative_result = agglomerative_model.fit_predict(training_data)\r\n",
        "\r\n",
        "# get all of the unique clusters\r\n",
        "agglomerative_clusters = np.unique(agglomerative_result)\r\n",
        "\r\n",
        "# plot the clusters\r\n",
        "for agglomerative_cluster in agglomerative_clusters:\r\n",
        "    # get data points that fall in this cluster\r\n",
        "    index = np.where(agglomerative_result == agglomerative_cluster)\r\n",
        "    # make the plot\r\n",
        "    plt.scatter(training_data[index, 0], training_data[index, 1])\r\n",
        "\r\n",
        "# show the Agglomerative Hierarchy plot\r\n",
        "plt.show()"
      ],
      "execution_count": 107,
      "outputs": [
        {
          "output_type": "display_data",
          "data": {
            "image/png": "[encoded data removed]",
            "text/plain": [
              "<Figure size 432x288 with 1 Axes>"
            ]
          },
          "metadata": {
            "tags": [],
            "needs_background": "light"
          }
        }
      ]
    },
    {
      "cell_type": "code",
      "metadata": {
        "colab": {
          "base_uri": "https://localhost:8080/",
          "height": 265
        },
        "id": "TntC6Ey3B1Xh",
        "outputId": "0ff2288f-ae0e-433c-c87b-8f2ece5f14fd"
      },
      "source": [
        "# define the model\r\n",
        "agglomerative_model = AgglomerativeClustering(n_clusters=3)\r\n",
        "\r\n",
        "# assign each data point to a cluster\r\n",
        "agglomerative_result = agglomerative_model.fit_predict(training_data)\r\n",
        "\r\n",
        "# get all of the unique clusters\r\n",
        "agglomerative_clusters = np.unique(agglomerative_result)\r\n",
        "\r\n",
        "# plot the clusters\r\n",
        "for agglomerative_cluster in agglomerative_clusters:\r\n",
        "    # get data points that fall in this cluster\r\n",
        "    index = np.where(agglomerative_result == agglomerative_cluster)\r\n",
        "    # make the plot\r\n",
        "    plt.scatter(training_data[index, 0], training_data[index, 1])\r\n",
        "\r\n",
        "# show the Agglomerative Hierarchy plot\r\n",
        "plt.show()"
      ],
      "execution_count": 108,
      "outputs": [
        {
          "output_type": "display_data",
          "data": {
            "image/png": "[encoded data removed]",
            "text/plain": [
              "<Figure size 432x288 with 1 Axes>"
            ]
          },
          "metadata": {
            "tags": [],
            "needs_background": "light"
          }
        }
      ]
    },
    {
      "cell_type": "code",
      "metadata": {
        "colab": {
          "base_uri": "https://localhost:8080/",
          "height": 265
        },
        "id": "kTVwFEklB5rb",
        "outputId": "99afe3a1-014f-4254-b6d2-a933d8ba8ebe"
      },
      "source": [
        "# define the model\r\n",
        "agglomerative_model = AgglomerativeClustering(n_clusters=4)\r\n",
        "\r\n",
        "# assign each data point to a cluster\r\n",
        "agglomerative_result = agglomerative_model.fit_predict(training_data)\r\n",
        "\r\n",
        "# get all of the unique clusters\r\n",
        "agglomerative_clusters = np.unique(agglomerative_result)\r\n",
        "\r\n",
        "# plot the clusters\r\n",
        "for agglomerative_cluster in agglomerative_clusters:\r\n",
        "    # get data points that fall in this cluster\r\n",
        "    index = np.where(agglomerative_result == agglomerative_cluster)\r\n",
        "    # make the plot\r\n",
        "    plt.scatter(training_data[index, 0], training_data[index, 1])\r\n",
        "\r\n",
        "# show the Agglomerative Hierarchy plot\r\n",
        "plt.show()"
      ],
      "execution_count": 109,
      "outputs": [
        {
          "output_type": "display_data",
          "data": {
            "image/png": "[encoded data removed]",
            "text/plain": [
              "<Figure size 432x288 with 1 Axes>"
            ]
          },
          "metadata": {
            "tags": [],
            "needs_background": "light"
          }
        }
      ]
    },
    {
      "cell_type": "markdown",
      "metadata": {
        "id": "3fWSe8DpBtZR"
      },
      "source": [
        "## apply on our data"
      ]
    },
    {
      "cell_type": "code",
      "metadata": {
        "id": "xlgU50jaA_js"
      },
      "source": [
        "agglomerative_model = AgglomerativeClustering(n_clusters=5)\r\n",
        "agglomerative_result = agglomerative_model.fit_predict(data)\r\n",
        "agglomerative_clusters = np.unique(agglomerative_result)"
      ],
      "execution_count": 110,
      "outputs": []
    },
    {
      "cell_type": "code",
      "metadata": {
        "colab": {
          "base_uri": "https://localhost:8080/"
        },
        "id": "GtnkIkVaCGJB",
        "outputId": "aa2c06cc-f5a1-4e16-f636-7adc040026ea"
      },
      "source": [
        "agglomerative_clusters"
      ],
      "execution_count": 111,
      "outputs": [
        {
          "output_type": "execute_result",
          "data": {
            "text/plain": [
              "array([0, 1, 2, 3, 4])"
            ]
          },
          "metadata": {
            "tags": []
          },
          "execution_count": 111
        }
      ]
    },
    {
      "cell_type": "code",
      "metadata": {
        "colab": {
          "base_uri": "https://localhost:8080/"
        },
        "id": "VIASTWRHCXfK",
        "outputId": "a9789bf9-64cd-479b-e252-669015a20ff2"
      },
      "source": [
        "agglomerative_result"
      ],
      "execution_count": 112,
      "outputs": [
        {
          "output_type": "execute_result",
          "data": {
            "text/plain": [
              "array([0, 0, 3, 3, 3, 3, 0, 3, 1, 3, 0, 3, 3, 1, 1, 2, 0, 3, 3, 3, 2, 1,\n",
              "       2, 3, 3, 3, 1, 1, 3, 1, 1, 3, 1, 1, 3, 1, 1, 3, 1, 1, 3, 1, 1, 1,\n",
              "       1, 1, 1, 1, 3, 4, 1, 2, 1, 1, 1, 1, 2, 1, 1, 1, 1, 1, 2, 1, 1, 1,\n",
              "       1, 1, 1, 1, 1, 1, 1, 1, 1, 1, 2, 1, 1, 3, 1, 1, 1, 1, 1, 3, 1, 1,\n",
              "       1, 1, 1, 1, 0, 1, 1, 1, 1, 2, 1, 1, 0, 1, 0, 1, 1, 1, 0, 1, 1, 1,\n",
              "       0, 0, 1, 1, 1, 1, 1, 1, 1, 1, 1, 0, 1, 1, 1, 1, 1, 1, 1, 1, 1, 1,\n",
              "       1, 1, 1, 0, 0, 0, 0, 0, 0, 1, 0, 1, 0, 0, 0, 0, 1, 0, 1, 1, 0, 2,\n",
              "       0, 0, 2, 0, 1, 0, 0, 0, 1, 0, 1, 0, 0, 0, 2, 1, 1, 4, 0, 2, 1, 1,\n",
              "       0, 0, 0, 1, 2, 0, 1, 0, 0, 0, 0, 1, 2, 1, 2, 0, 3, 1, 0, 1, 2, 0,\n",
              "       0, 0, 0, 1, 2, 0, 0, 0, 1, 0, 0, 2, 0, 2, 0, 0, 2, 2, 4, 2, 0, 0,\n",
              "       0, 0, 2, 2, 0, 0, 2, 0, 0, 0, 0, 0, 2, 0, 0, 0, 2, 0, 0, 2, 0, 0,\n",
              "       0, 0, 0, 0, 0, 0, 2, 0, 0, 2, 0, 2, 0, 2, 0, 0, 3, 0, 2, 2, 2, 0,\n",
              "       0, 2, 2, 0, 2, 0, 2, 2, 0, 2, 0, 2, 2, 0, 2, 0, 1, 2, 0, 2, 4, 0,\n",
              "       4, 2, 0, 0, 2, 3, 0, 0, 2, 2, 2, 2, 2, 0, 2, 0, 2, 0, 0, 1, 0, 0,\n",
              "       0, 2, 0, 0, 0, 2, 0, 2, 0, 0, 2, 0, 2, 0, 1, 2, 0, 0, 2, 2, 2, 0,\n",
              "       2, 0, 2, 0, 0, 2, 1, 0, 0, 0, 0, 0, 0, 2, 0, 0, 0, 4, 2, 0, 0, 4,\n",
              "       0, 0, 0, 0, 2, 0, 0, 0, 0, 2, 2, 2, 0, 2, 2, 4, 0, 4, 2, 2, 0, 2,\n",
              "       3, 0, 2, 2, 4, 1, 4, 2, 2, 2, 2, 3, 2, 2, 4, 3, 2, 2, 2, 2, 2, 0,\n",
              "       0, 4, 4, 0, 2, 2, 2, 2, 0, 4, 0, 2, 4, 2, 2, 2, 4, 2, 3, 2, 2, 2,\n",
              "       2, 2, 0, 3, 2, 4, 2, 2, 0, 2, 2, 2, 2, 2, 2, 2, 3, 0, 2, 4, 4, 2,\n",
              "       2, 3, 2, 4, 2, 2, 0, 4, 2, 2, 2, 2, 2, 2, 4, 1, 4, 2, 2, 0, 2, 3,\n",
              "       2, 2, 2, 3, 2, 2, 2, 3, 4, 2, 0, 3, 2, 4, 1, 2, 4, 0, 1, 3, 2, 2,\n",
              "       2, 0, 2, 3, 0, 2, 0, 2, 0, 4, 0, 1, 0, 1, 3, 3, 3, 3, 2, 3, 1, 3,\n",
              "       3, 4, 1, 3, 3, 3, 3, 2, 3, 3, 3, 0, 3, 3, 3, 3, 3, 3, 3, 3, 3, 3,\n",
              "       3, 3, 3, 3, 3, 1, 3, 1, 1, 1, 4, 3, 1, 3, 1, 1, 3, 0, 1, 1, 2, 2,\n",
              "       3, 3, 3, 1, 2, 3, 1, 3, 3, 1, 3, 3, 1, 3, 1, 3, 3, 3, 3, 1, 3])"
            ]
          },
          "metadata": {
            "tags": []
          },
          "execution_count": 112
        }
      ]
    },
    {
      "cell_type": "markdown",
      "metadata": {
        "id": "0K-Oz8ChD5ez"
      },
      "source": [
        "now we have the label on each data point (cluster it belongs to), but we want the meaning of these clusters. For Agglomerative Hierarchical Clustering I think the results can be given as a Hierarchical Graph. This is quite distinct from other approaches."
      ]
    },
    {
      "cell_type": "code",
      "metadata": {
        "id": "CPKtHvY_D4wD"
      },
      "source": [
        "from scipy.cluster.hierarchy import dendrogram"
      ],
      "execution_count": 113,
      "outputs": []
    },
    {
      "cell_type": "code",
      "metadata": {
        "id": "eYNOP3ocEFgS"
      },
      "source": [
        "# borrowed from sklearn page\r\n",
        "def plot_dendrogram(model, **kwargs):\r\n",
        "    # Create linkage matrix and then plot the dendrogram\r\n",
        "\r\n",
        "    # create the counts of samples under each node\r\n",
        "    counts = np.zeros(model.children_.shape[0])\r\n",
        "    n_samples = len(model.labels_)\r\n",
        "    for i, merge in enumerate(model.children_):\r\n",
        "        current_count = 0\r\n",
        "        for child_idx in merge:\r\n",
        "            if child_idx < n_samples:\r\n",
        "                current_count += 1  # leaf node\r\n",
        "            else:\r\n",
        "                current_count += counts[child_idx - n_samples]\r\n",
        "        counts[i] = current_count\r\n",
        "\r\n",
        "    linkage_matrix = np.column_stack([model.children_, model.distances_,\r\n",
        "                                      counts]).astype(float)\r\n",
        "\r\n",
        "    # Plot the corresponding dendrogram\r\n",
        "    dendrogram(linkage_matrix, **kwargs)"
      ],
      "execution_count": 114,
      "outputs": []
    },
    {
      "cell_type": "code",
      "metadata": {
        "colab": {
          "base_uri": "https://localhost:8080/",
          "height": 407
        },
        "id": "8jDhieTYEhqb",
        "outputId": "fd93f6c3-af00-4c29-b9db-97e0cb11ec60"
      },
      "source": [
        "model = AgglomerativeClustering(distance_threshold=0, n_clusters=None)\r\n",
        "model = model.fit(data)\r\n",
        "plt.figure(figsize = (10, 6))\r\n",
        "plt.title('Hierarchical Clustering Dendrogram')\r\n",
        "# plot the top three levels of the dendrogram\r\n",
        "plot_dendrogram(model, truncate_mode='level', p=3)\r\n",
        "plt.xlabel(\"Number of points in node (or index of point if no parenthesis).\")\r\n",
        "plt.show()"
      ],
      "execution_count": 115,
      "outputs": [
        {
          "output_type": "display_data",
          "data": {
            "image/png": "[encoded data removed]",
            "text/plain": [
              "<Figure size 720x432 with 1 Axes>"
            ]
          },
          "metadata": {
            "tags": [],
            "needs_background": "light"
          }
        }
      ]
    },
    {
      "cell_type": "markdown",
      "metadata": {
        "id": "fRxXueqIIF6n"
      },
      "source": [
        "However, don't know if this means anything? How to interpret this Hierarchical clustering dendrogram?"
      ]
    },
    {
      "cell_type": "markdown",
      "metadata": {
        "id": "oP-xrUBoc8Kl"
      },
      "source": [
        "# Conclusion"
      ]
    },
    {
      "cell_type": "markdown",
      "metadata": {
        "id": "5Hm2KU-0c-Cl"
      },
      "source": [
        "A couple of algorithms weren't very informative, such as `DBSCAN`, which clumps all data points as a single group. (don't know if I did anything wrong?) `Hierarchical Clustering` didn't show what features each cluster correspond to.\r\n",
        "\r\n",
        "However we did get some results from the other algorithms. Particularly there are a couple of prominent features that clustering algorithm find. (keep in mind that a lot of features are 0 in each row. Data is sparse)\r\n",
        "\r\n",
        "Prominent features include: `Bortezomib`, `Encounter for change or removal of surgical wound dressing code`, `TP`, `Examination of participant in clinical trial code`, `Lenalidomide`, `Anemia, unspecified code`"
      ]
    }
  ]
}