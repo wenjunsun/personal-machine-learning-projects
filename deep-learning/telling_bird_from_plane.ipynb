{
  "nbformat": 4,
  "nbformat_minor": 0,
  "metadata": {
    "colab": {
      "name": "telling_bird_from_plane.ipynb",
      "provenance": [],
      "authorship_tag": "ABX9TyPIGLvht/0PLyKolFNX0urZ",
      "include_colab_link": true
    },
    "kernelspec": {
      "name": "python3",
      "display_name": "Python 3"
    },
    "widgets": {
      "application/vnd.jupyter.widget-state+json": {
        "4f7dd8d056b647ac8bcf05ee89cae41c": {
          "model_module": "@jupyter-widgets/controls",
          "model_name": "HBoxModel",
          "state": {
            "_view_name": "HBoxView",
            "_dom_classes": [],
            "_model_name": "HBoxModel",
            "_view_module": "@jupyter-widgets/controls",
            "_model_module_version": "1.5.0",
            "_view_count": null,
            "_view_module_version": "1.5.0",
            "box_style": "",
            "layout": "IPY_MODEL_260c54da1793450a82f81c60e2d9eec8",
            "_model_module": "@jupyter-widgets/controls",
            "children": [
              "IPY_MODEL_14b46f103d36432ca35d641ad9c98c95",
              "IPY_MODEL_c42bef3e90284504af3dea5430520fdd"
            ]
          }
        },
        "260c54da1793450a82f81c60e2d9eec8": {
          "model_module": "@jupyter-widgets/base",
          "model_name": "LayoutModel",
          "state": {
            "_view_name": "LayoutView",
            "grid_template_rows": null,
            "right": null,
            "justify_content": null,
            "_view_module": "@jupyter-widgets/base",
            "overflow": null,
            "_model_module_version": "1.2.0",
            "_view_count": null,
            "flex_flow": null,
            "width": null,
            "min_width": null,
            "border": null,
            "align_items": null,
            "bottom": null,
            "_model_module": "@jupyter-widgets/base",
            "top": null,
            "grid_column": null,
            "overflow_y": null,
            "overflow_x": null,
            "grid_auto_flow": null,
            "grid_area": null,
            "grid_template_columns": null,
            "flex": null,
            "_model_name": "LayoutModel",
            "justify_items": null,
            "grid_row": null,
            "max_height": null,
            "align_content": null,
            "visibility": null,
            "align_self": null,
            "height": null,
            "min_height": null,
            "padding": null,
            "grid_auto_rows": null,
            "grid_gap": null,
            "max_width": null,
            "order": null,
            "_view_module_version": "1.2.0",
            "grid_template_areas": null,
            "object_position": null,
            "object_fit": null,
            "grid_auto_columns": null,
            "margin": null,
            "display": null,
            "left": null
          }
        },
        "14b46f103d36432ca35d641ad9c98c95": {
          "model_module": "@jupyter-widgets/controls",
          "model_name": "FloatProgressModel",
          "state": {
            "_view_name": "ProgressView",
            "style": "IPY_MODEL_400a6683c25d426fa64b736ab1ced3f5",
            "_dom_classes": [],
            "description": "",
            "_model_name": "FloatProgressModel",
            "bar_style": "success",
            "max": 1,
            "_view_module": "@jupyter-widgets/controls",
            "_model_module_version": "1.5.0",
            "value": 1,
            "_view_count": null,
            "_view_module_version": "1.5.0",
            "orientation": "horizontal",
            "min": 0,
            "description_tooltip": null,
            "_model_module": "@jupyter-widgets/controls",
            "layout": "IPY_MODEL_9c29018ed0e141baba180aa25107fbae"
          }
        },
        "c42bef3e90284504af3dea5430520fdd": {
          "model_module": "@jupyter-widgets/controls",
          "model_name": "HTMLModel",
          "state": {
            "_view_name": "HTMLView",
            "style": "IPY_MODEL_51c24f0b0a3649339636785839fcbd50",
            "_dom_classes": [],
            "description": "",
            "_model_name": "HTMLModel",
            "placeholder": "​",
            "_view_module": "@jupyter-widgets/controls",
            "_model_module_version": "1.5.0",
            "value": " 170500096/? [00:05&lt;00:00, 28436028.48it/s]",
            "_view_count": null,
            "_view_module_version": "1.5.0",
            "description_tooltip": null,
            "_model_module": "@jupyter-widgets/controls",
            "layout": "IPY_MODEL_7e031b68b57a4115a54694cfb2abca5f"
          }
        },
        "400a6683c25d426fa64b736ab1ced3f5": {
          "model_module": "@jupyter-widgets/controls",
          "model_name": "ProgressStyleModel",
          "state": {
            "_view_name": "StyleView",
            "_model_name": "ProgressStyleModel",
            "description_width": "initial",
            "_view_module": "@jupyter-widgets/base",
            "_model_module_version": "1.5.0",
            "_view_count": null,
            "_view_module_version": "1.2.0",
            "bar_color": null,
            "_model_module": "@jupyter-widgets/controls"
          }
        },
        "9c29018ed0e141baba180aa25107fbae": {
          "model_module": "@jupyter-widgets/base",
          "model_name": "LayoutModel",
          "state": {
            "_view_name": "LayoutView",
            "grid_template_rows": null,
            "right": null,
            "justify_content": null,
            "_view_module": "@jupyter-widgets/base",
            "overflow": null,
            "_model_module_version": "1.2.0",
            "_view_count": null,
            "flex_flow": null,
            "width": null,
            "min_width": null,
            "border": null,
            "align_items": null,
            "bottom": null,
            "_model_module": "@jupyter-widgets/base",
            "top": null,
            "grid_column": null,
            "overflow_y": null,
            "overflow_x": null,
            "grid_auto_flow": null,
            "grid_area": null,
            "grid_template_columns": null,
            "flex": null,
            "_model_name": "LayoutModel",
            "justify_items": null,
            "grid_row": null,
            "max_height": null,
            "align_content": null,
            "visibility": null,
            "align_self": null,
            "height": null,
            "min_height": null,
            "padding": null,
            "grid_auto_rows": null,
            "grid_gap": null,
            "max_width": null,
            "order": null,
            "_view_module_version": "1.2.0",
            "grid_template_areas": null,
            "object_position": null,
            "object_fit": null,
            "grid_auto_columns": null,
            "margin": null,
            "display": null,
            "left": null
          }
        },
        "51c24f0b0a3649339636785839fcbd50": {
          "model_module": "@jupyter-widgets/controls",
          "model_name": "DescriptionStyleModel",
          "state": {
            "_view_name": "StyleView",
            "_model_name": "DescriptionStyleModel",
            "description_width": "",
            "_view_module": "@jupyter-widgets/base",
            "_model_module_version": "1.5.0",
            "_view_count": null,
            "_view_module_version": "1.2.0",
            "_model_module": "@jupyter-widgets/controls"
          }
        },
        "7e031b68b57a4115a54694cfb2abca5f": {
          "model_module": "@jupyter-widgets/base",
          "model_name": "LayoutModel",
          "state": {
            "_view_name": "LayoutView",
            "grid_template_rows": null,
            "right": null,
            "justify_content": null,
            "_view_module": "@jupyter-widgets/base",
            "overflow": null,
            "_model_module_version": "1.2.0",
            "_view_count": null,
            "flex_flow": null,
            "width": null,
            "min_width": null,
            "border": null,
            "align_items": null,
            "bottom": null,
            "_model_module": "@jupyter-widgets/base",
            "top": null,
            "grid_column": null,
            "overflow_y": null,
            "overflow_x": null,
            "grid_auto_flow": null,
            "grid_area": null,
            "grid_template_columns": null,
            "flex": null,
            "_model_name": "LayoutModel",
            "justify_items": null,
            "grid_row": null,
            "max_height": null,
            "align_content": null,
            "visibility": null,
            "align_self": null,
            "height": null,
            "min_height": null,
            "padding": null,
            "grid_auto_rows": null,
            "grid_gap": null,
            "max_width": null,
            "order": null,
            "_view_module_version": "1.2.0",
            "grid_template_areas": null,
            "object_position": null,
            "object_fit": null,
            "grid_auto_columns": null,
            "margin": null,
            "display": null,
            "left": null
          }
        }
      }
    }
  },
  "cells": [
    {
      "cell_type": "markdown",
      "metadata": {
        "id": "view-in-github",
        "colab_type": "text"
      },
      "source": [
        "<a href=\"https://colab.research.google.com/github/wenjunsun/personal-machine-learning-projects/blob/master/deep-learning/telling_bird_from_plane.ipynb\" target=\"_parent\"><img src=\"https://colab.research.google.com/assets/colab-badge.svg\" alt=\"Open In Colab\"/></a>"
      ]
    },
    {
      "cell_type": "markdown",
      "metadata": {
        "id": "Kl4vdzvW1y9n"
      },
      "source": [
        "In this notebook we will build a neural network to recognize if a image contains a bird or a plane by using the `CIFAR-10` dataset."
      ]
    },
    {
      "cell_type": "markdown",
      "metadata": {
        "id": "mg3rIT0preJ-"
      },
      "source": [
        "# load and look at data"
      ]
    },
    {
      "cell_type": "code",
      "metadata": {
        "id": "UHCZ1rUtu4Q-"
      },
      "source": [
        "import torch\r\n",
        "import torchvision\r\n",
        "from torchvision import datasets\r\n",
        "from torchvision import transforms\r\n",
        "import matplotlib.pyplot as plt"
      ],
      "execution_count": 2,
      "outputs": []
    },
    {
      "cell_type": "code",
      "metadata": {
        "colab": {
          "base_uri": "https://localhost:8080/",
          "height": 83,
          "referenced_widgets": [
            "4f7dd8d056b647ac8bcf05ee89cae41c",
            "260c54da1793450a82f81c60e2d9eec8",
            "14b46f103d36432ca35d641ad9c98c95",
            "c42bef3e90284504af3dea5430520fdd",
            "400a6683c25d426fa64b736ab1ced3f5",
            "9c29018ed0e141baba180aa25107fbae",
            "51c24f0b0a3649339636785839fcbd50",
            "7e031b68b57a4115a54694cfb2abca5f"
          ]
        },
        "id": "TrwRdt4CvPPi",
        "outputId": "69c3dfbf-94b4-486d-cb53-5afe80da6fc2"
      },
      "source": [
        "cifar10 = datasets.CIFAR10('./', train = True, download = True)"
      ],
      "execution_count": 3,
      "outputs": [
        {
          "output_type": "stream",
          "text": [
            "Downloading https://www.cs.toronto.edu/~kriz/cifar-10-python.tar.gz to ./cifar-10-python.tar.gz\n"
          ],
          "name": "stdout"
        },
        {
          "output_type": "display_data",
          "data": {
            "application/vnd.jupyter.widget-view+json": {
              "model_id": "4f7dd8d056b647ac8bcf05ee89cae41c",
              "version_minor": 0,
              "version_major": 2
            },
            "text/plain": [
              "HBox(children=(FloatProgress(value=1.0, bar_style='info', max=1.0), HTML(value='')))"
            ]
          },
          "metadata": {
            "tags": []
          }
        },
        {
          "output_type": "stream",
          "text": [
            "Extracting ./cifar-10-python.tar.gz to ./\n"
          ],
          "name": "stdout"
        }
      ]
    },
    {
      "cell_type": "code",
      "metadata": {
        "colab": {
          "base_uri": "https://localhost:8080/"
        },
        "id": "gaHUqgyHvlvF",
        "outputId": "b497b0d5-5dd6-4113-f36d-3ae1e391e18a"
      },
      "source": [
        "cifar10_val = datasets.CIFAR10('./', train = False, download=True)"
      ],
      "execution_count": 4,
      "outputs": [
        {
          "output_type": "stream",
          "text": [
            "Files already downloaded and verified\n"
          ],
          "name": "stdout"
        }
      ]
    },
    {
      "cell_type": "code",
      "metadata": {
        "colab": {
          "base_uri": "https://localhost:8080/"
        },
        "id": "Mm4p5xTsvwiW",
        "outputId": "353aaa82-43a1-4a58-c061-c71d37e19e43"
      },
      "source": [
        "cifar10"
      ],
      "execution_count": 5,
      "outputs": [
        {
          "output_type": "execute_result",
          "data": {
            "text/plain": [
              "Dataset CIFAR10\n",
              "    Number of datapoints: 50000\n",
              "    Root location: ./\n",
              "    Split: Train"
            ]
          },
          "metadata": {
            "tags": []
          },
          "execution_count": 5
        }
      ]
    },
    {
      "cell_type": "code",
      "metadata": {
        "colab": {
          "base_uri": "https://localhost:8080/"
        },
        "id": "pz1OKELEl9LJ",
        "outputId": "dbcc5aa9-1064-4298-ccf2-1098ab6d8952"
      },
      "source": [
        "cifar10_val"
      ],
      "execution_count": 6,
      "outputs": [
        {
          "output_type": "execute_result",
          "data": {
            "text/plain": [
              "Dataset CIFAR10\n",
              "    Number of datapoints: 10000\n",
              "    Root location: ./\n",
              "    Split: Test"
            ]
          },
          "metadata": {
            "tags": []
          },
          "execution_count": 6
        }
      ]
    },
    {
      "cell_type": "markdown",
      "metadata": {
        "id": "uSX0SRm7l-Fl"
      },
      "source": [
        "all `pytorch` `dataset` objects have to implement 2 methods:\r\n",
        "- one method is to return the length of the dataset.\r\n",
        "- another method is to __getitem__ method.\r\n",
        "\r\n",
        "so we can call `len (dataset)` and `dataset[index]`"
      ]
    },
    {
      "cell_type": "code",
      "metadata": {
        "colab": {
          "base_uri": "https://localhost:8080/"
        },
        "id": "EHH7ie8lmhtC",
        "outputId": "f8e17d04-c38a-47d8-8f0b-ca927ec726f9"
      },
      "source": [
        "len(cifar10)"
      ],
      "execution_count": 7,
      "outputs": [
        {
          "output_type": "execute_result",
          "data": {
            "text/plain": [
              "50000"
            ]
          },
          "metadata": {
            "tags": []
          },
          "execution_count": 7
        }
      ]
    },
    {
      "cell_type": "code",
      "metadata": {
        "colab": {
          "base_uri": "https://localhost:8080/"
        },
        "id": "IgJb8ydKmjyY",
        "outputId": "5172f98f-2ce1-4a5a-c47f-87c97849bafc"
      },
      "source": [
        "cifar10[1]"
      ],
      "execution_count": 8,
      "outputs": [
        {
          "output_type": "execute_result",
          "data": {
            "text/plain": [
              "(<PIL.Image.Image image mode=RGB size=32x32 at 0x7F1CF26E3EF0>, 9)"
            ]
          },
          "metadata": {
            "tags": []
          },
          "execution_count": 8
        }
      ]
    },
    {
      "cell_type": "code",
      "metadata": {
        "id": "qNAmKxHIlnx9"
      },
      "source": [
        "# mapping from label (a number) to the string that represents\r\n",
        "# that image.\r\n",
        "class_names = ['airplane','automobile','bird','cat','deer',\r\n",
        "               'dog','frog','horse','ship','truck']"
      ],
      "execution_count": 9,
      "outputs": []
    },
    {
      "cell_type": "code",
      "metadata": {
        "colab": {
          "base_uri": "https://localhost:8080/",
          "height": 283
        },
        "id": "yFqhbP1GwSO4",
        "outputId": "0020ade2-25bb-4040-b9e6-f1059f906522"
      },
      "source": [
        "plt.imshow(cifar10[99][0])"
      ],
      "execution_count": 10,
      "outputs": [
        {
          "output_type": "execute_result",
          "data": {
            "text/plain": [
              "<matplotlib.image.AxesImage at 0x7f1cf07469b0>"
            ]
          },
          "metadata": {
            "tags": []
          },
          "execution_count": 10
        },
        {
          "output_type": "stream",
          "text": [
            "\n"
          ],
          "name": "stdout"
        },
        {
          "output_type": "display_data",
          "data": {
            "image/png": "[encoded data removed]",
            "text/plain": [
              "<Figure size 432x288 with 1 Axes>"
            ]
          },
          "metadata": {
            "tags": [],
            "needs_background": "light"
          }
        }
      ]
    },
    {
      "cell_type": "code",
      "metadata": {
        "colab": {
          "base_uri": "https://localhost:8080/"
        },
        "id": "6gQEBnqfx73Z",
        "outputId": "c2e29cbe-9c65-4399-e2b3-97f36c31937f"
      },
      "source": [
        "cifar10[99][1]"
      ],
      "execution_count": 11,
      "outputs": [
        {
          "output_type": "execute_result",
          "data": {
            "text/plain": [
              "1"
            ]
          },
          "metadata": {
            "tags": []
          },
          "execution_count": 11
        }
      ]
    },
    {
      "cell_type": "code",
      "metadata": {
        "colab": {
          "base_uri": "https://localhost:8080/",
          "height": 35
        },
        "id": "UV6dB7lTlqJO",
        "outputId": "8e515d18-6fd7-4bb7-a826-6ecc2177dc66"
      },
      "source": [
        "class_names[cifar10[99][1]]"
      ],
      "execution_count": 12,
      "outputs": [
        {
          "output_type": "execute_result",
          "data": {
            "application/vnd.google.colaboratory.intrinsic+json": {
              "type": "string"
            },
            "text/plain": [
              "'automobile'"
            ]
          },
          "metadata": {
            "tags": []
          },
          "execution_count": 12
        }
      ]
    },
    {
      "cell_type": "code",
      "metadata": {
        "colab": {
          "base_uri": "https://localhost:8080/",
          "height": 246
        },
        "id": "vXN39u4Sy7Lm",
        "outputId": "63933f0b-3a16-47bc-aaf8-dd91cca3a2d6"
      },
      "source": [
        "fig = plt.figure(figsize=(8,4))\r\n",
        "num_classes = 10\r\n",
        "for i in range(num_classes):\r\n",
        "  for j in range(len(cifar10)):\r\n",
        "    if cifar10[j][1] == i:\r\n",
        "      # 2, 5 specifies we want 2 by 5 subplots, 1 + i\r\n",
        "      # specifies which plot this specific image occupies (1 - 10)\r\n",
        "      # xticks = [] and yticks = [] means we don't want to show\r\n",
        "      # numbers on the x and y axis.\r\n",
        "      ax = fig.add_subplot(2, 5, 1 + i, xticks=[], yticks=[])\r\n",
        "      ax.set_title(class_names[i])\r\n",
        "      img = cifar10[j][0]\r\n",
        "      plt.imshow(img)\r\n",
        "      break\r\n",
        "plt.show()"
      ],
      "execution_count": 13,
      "outputs": [
        {
          "output_type": "display_data",
          "data": {
            "image/png": "[encoded data removed]",
            "text/plain": [
              "<Figure size 576x288 with 10 Axes>"
            ]
          },
          "metadata": {
            "tags": []
          }
        }
      ]
    },
    {
      "cell_type": "markdown",
      "metadata": {
        "id": "N4QNVETUs3TK"
      },
      "source": [
        "# make image a tensor!"
      ]
    },
    {
      "cell_type": "code",
      "metadata": {
        "id": "QJVMwoN0zndt"
      },
      "source": [
        "# torchvision has a function that takes an PIL image\r\n",
        "# and transform into a tensor.\r\n",
        "to_tensor_fn = torchvision.transforms.ToTensor()"
      ],
      "execution_count": 14,
      "outputs": []
    },
    {
      "cell_type": "code",
      "metadata": {
        "id": "SZ9-KsToznb9"
      },
      "source": [
        "image_tensor = to_tensor_fn(cifar10[99][0])"
      ],
      "execution_count": 15,
      "outputs": []
    },
    {
      "cell_type": "code",
      "metadata": {
        "colab": {
          "base_uri": "https://localhost:8080/"
        },
        "id": "T6sFwRAnpu1e",
        "outputId": "79bdfa10-edd6-453a-cc67-f1bcd20512a9"
      },
      "source": [
        "image_tensor"
      ],
      "execution_count": 16,
      "outputs": [
        {
          "output_type": "execute_result",
          "data": {
            "text/plain": [
              "tensor([[[0.2431, 0.1961, 0.1804,  ..., 0.6549, 0.7176, 0.5373],\n",
              "         [0.2471, 0.2157, 0.2039,  ..., 0.6392, 0.6706, 0.5686],\n",
              "         [0.2275, 0.2510, 0.2196,  ..., 0.6000, 0.5882, 0.4824],\n",
              "         ...,\n",
              "         [0.6745, 0.5608, 0.5098,  ..., 0.3686, 0.5529, 0.5451],\n",
              "         [0.7176, 0.5882, 0.3137,  ..., 0.3176, 0.5294, 0.5608],\n",
              "         [0.8196, 0.7137, 0.5451,  ..., 0.2314, 0.5098, 0.6627]],\n",
              "\n",
              "        [[0.2510, 0.1961, 0.1725,  ..., 0.6745, 0.7216, 0.5333],\n",
              "         [0.2549, 0.2078, 0.1961,  ..., 0.6627, 0.6824, 0.5725],\n",
              "         [0.2431, 0.2588, 0.2353,  ..., 0.6078, 0.6039, 0.5020],\n",
              "         ...,\n",
              "         [0.5294, 0.4314, 0.2196,  ..., 0.2941, 0.4235, 0.4118],\n",
              "         [0.5725, 0.4627, 0.2510,  ..., 0.2824, 0.4627, 0.4902],\n",
              "         [0.6824, 0.5922, 0.4275,  ..., 0.2118, 0.4667, 0.6118]],\n",
              "\n",
              "        [[0.1725, 0.1020, 0.0745,  ..., 0.2706, 0.2980, 0.2824],\n",
              "         [0.1451, 0.1020, 0.1059,  ..., 0.2392, 0.2941, 0.3020],\n",
              "         [0.1412, 0.1451, 0.1451,  ..., 0.2431, 0.2510, 0.2235],\n",
              "         ...,\n",
              "         [0.3882, 0.3294, 0.1647,  ..., 0.2196, 0.3373, 0.3176],\n",
              "         [0.4588, 0.3725, 0.1725,  ..., 0.2353, 0.3843, 0.4314],\n",
              "         [0.5647, 0.4824, 0.3255,  ..., 0.1843, 0.4353, 0.6275]]])"
            ]
          },
          "metadata": {
            "tags": []
          },
          "execution_count": 16
        }
      ]
    },
    {
      "cell_type": "code",
      "metadata": {
        "colab": {
          "base_uri": "https://localhost:8080/"
        },
        "id": "KeR-y54UznZi",
        "outputId": "47b93c5e-dab6-437c-ab8a-eb89e7073a8b"
      },
      "source": [
        "image_tensor.max()"
      ],
      "execution_count": 17,
      "outputs": [
        {
          "output_type": "execute_result",
          "data": {
            "text/plain": [
              "tensor(1.)"
            ]
          },
          "metadata": {
            "tags": []
          },
          "execution_count": 17
        }
      ]
    },
    {
      "cell_type": "code",
      "metadata": {
        "colab": {
          "base_uri": "https://localhost:8080/"
        },
        "id": "TKkIdYRE0SSA",
        "outputId": "2ab2b96e-a163-4cc2-8a9d-77b1f4af6009"
      },
      "source": [
        "image_tensor.min()"
      ],
      "execution_count": 18,
      "outputs": [
        {
          "output_type": "execute_result",
          "data": {
            "text/plain": [
              "tensor(0.)"
            ]
          },
          "metadata": {
            "tags": []
          },
          "execution_count": 18
        }
      ]
    },
    {
      "cell_type": "code",
      "metadata": {
        "colab": {
          "base_uri": "https://localhost:8080/"
        },
        "id": "4FY4cHiRqpjd",
        "outputId": "ec371ad5-7b59-43da-a543-bfecf0ccc182"
      },
      "source": [
        "image_tensor.shape"
      ],
      "execution_count": 19,
      "outputs": [
        {
          "output_type": "execute_result",
          "data": {
            "text/plain": [
              "torch.Size([3, 32, 32])"
            ]
          },
          "metadata": {
            "tags": []
          },
          "execution_count": 19
        }
      ]
    },
    {
      "cell_type": "markdown",
      "metadata": {
        "id": "0WigL4TipzBI"
      },
      "source": [
        "when we transform the image pixels into a tensor, we automatically get floating point numbers from `0` to `1`. Remember in the original `PIL` image representation, each pixel number should be from `0` to `255`."
      ]
    },
    {
      "cell_type": "code",
      "metadata": {
        "colab": {
          "base_uri": "https://localhost:8080/",
          "height": 283
        },
        "id": "geYeBFZ70f2F",
        "outputId": "8ce599f3-9852-436a-a1dd-cfb3fe9e552a"
      },
      "source": [
        "# see we can still plot this tensor: imshow expects\r\n",
        "# W X H X C. our tensor is in C X W X H\r\n",
        "plt.imshow(image_tensor.permute(1, 2, 0))"
      ],
      "execution_count": 20,
      "outputs": [
        {
          "output_type": "execute_result",
          "data": {
            "text/plain": [
              "<matplotlib.image.AxesImage at 0x7f1cf07a52e8>"
            ]
          },
          "metadata": {
            "tags": []
          },
          "execution_count": 20
        },
        {
          "output_type": "display_data",
          "data": {
            "image/png": "[encoded data removed]",
            "text/plain": [
              "<Figure size 432x288 with 1 Axes>"
            ]
          },
          "metadata": {
            "tags": [],
            "needs_background": "light"
          }
        }
      ]
    },
    {
      "cell_type": "markdown",
      "metadata": {
        "id": "X_laS29bqPG9"
      },
      "source": [
        "# normalizing image"
      ]
    },
    {
      "cell_type": "code",
      "metadata": {
        "id": "KL8K_uUVyWuy"
      },
      "source": [
        "# luckily, when we load the dataset we can specify the transform function\r\n",
        "# already, so we don't have to transform the dataset ourselves after\r\n",
        "# loading in the raw data.\r\n",
        "tensors_cifar10 = datasets.CIFAR10('./', train=True, download=False,\r\n",
        "                                  transform=transforms.ToTensor())"
      ],
      "execution_count": 21,
      "outputs": []
    },
    {
      "cell_type": "code",
      "metadata": {
        "colab": {
          "base_uri": "https://localhost:8080/"
        },
        "id": "P4iDxr-IqZyB",
        "outputId": "b564821e-7ecc-43a4-a89b-4c16bca39093"
      },
      "source": [
        "type(tensors_cifar10[1][0]), tensors_cifar10[1][0].shape, tensors_cifar10[1][0].dtype"
      ],
      "execution_count": 22,
      "outputs": [
        {
          "output_type": "execute_result",
          "data": {
            "text/plain": [
              "(torch.Tensor, torch.Size([3, 32, 32]), torch.float32)"
            ]
          },
          "metadata": {
            "tags": []
          },
          "execution_count": 22
        }
      ]
    },
    {
      "cell_type": "markdown",
      "metadata": {
        "id": "HTHpfBjVsmZC"
      },
      "source": [
        "To let the `torchvision` package do the normalization, we need to pass in the mean and standard deviation of each channel across all images. So we need to calculate those `2` values ourselves and pass that into the transform function."
      ]
    },
    {
      "cell_type": "code",
      "metadata": {
        "id": "WSymHMhrrBzj"
      },
      "source": [
        "# collect all the image tensors together along the last\r\n",
        "# dimension, so as to help aggregate function later:\r\n",
        "# 3 x 32 x 32 x 50000.\r\n",
        "image_tensors = torch.stack([image for image, label in tensors_cifar10], dim = -1)"
      ],
      "execution_count": 23,
      "outputs": []
    },
    {
      "cell_type": "code",
      "metadata": {
        "colab": {
          "base_uri": "https://localhost:8080/"
        },
        "id": "_-rYOqxIu9C1",
        "outputId": "b14826b2-9f02-49b1-c178-85d799674965"
      },
      "source": [
        "image_tensors.shape"
      ],
      "execution_count": 24,
      "outputs": [
        {
          "output_type": "execute_result",
          "data": {
            "text/plain": [
              "torch.Size([3, 32, 32, 50000])"
            ]
          },
          "metadata": {
            "tags": []
          },
          "execution_count": 24
        }
      ]
    },
    {
      "cell_type": "code",
      "metadata": {
        "colab": {
          "base_uri": "https://localhost:8080/"
        },
        "id": "MKJ6UgyDuT0R",
        "outputId": "1c1e1206-202b-4926-bfd2-3e0fd2571d27"
      },
      "source": [
        "# this exactly gives us all the pixel values of each channel\r\n",
        "# across all images.\r\n",
        "# we need to do mean and std on this tensor for each\r\n",
        "# of the 3 dimensions.\r\n",
        "image_tensors.view(3, -1).shape"
      ],
      "execution_count": 25,
      "outputs": [
        {
          "output_type": "execute_result",
          "data": {
            "text/plain": [
              "torch.Size([3, 51200000])"
            ]
          },
          "metadata": {
            "tags": []
          },
          "execution_count": 25
        }
      ]
    },
    {
      "cell_type": "code",
      "metadata": {
        "colab": {
          "base_uri": "https://localhost:8080/"
        },
        "id": "SLJdbIgIvGV5",
        "outputId": "81b66113-286e-4141-8b6f-9a761caaf469"
      },
      "source": [
        "torch.mean(image_tensors.view(3, -1), dim = 1)"
      ],
      "execution_count": 26,
      "outputs": [
        {
          "output_type": "execute_result",
          "data": {
            "text/plain": [
              "tensor([0.4914, 0.4822, 0.4465])"
            ]
          },
          "metadata": {
            "tags": []
          },
          "execution_count": 26
        }
      ]
    },
    {
      "cell_type": "code",
      "metadata": {
        "colab": {
          "base_uri": "https://localhost:8080/"
        },
        "id": "fM9v2A2qvetb",
        "outputId": "d9ae73dd-bf33-4088-bcd2-ea5e5399f516"
      },
      "source": [
        "torch.std(image_tensors.view(3, -1), dim = 1)"
      ],
      "execution_count": 27,
      "outputs": [
        {
          "output_type": "execute_result",
          "data": {
            "text/plain": [
              "tensor([0.2470, 0.2435, 0.2616])"
            ]
          },
          "metadata": {
            "tags": []
          },
          "execution_count": 27
        }
      ]
    },
    {
      "cell_type": "markdown",
      "metadata": {
        "id": "DZRv1uAPvwD6"
      },
      "source": [
        "these are the numbers we can plug into our `transforms.Normalize()` function!"
      ]
    },
    {
      "cell_type": "code",
      "metadata": {
        "id": "jQ_rrGtdvo97"
      },
      "source": [
        "cifar10 = datasets.CIFAR10('./', train=True, download=False,\r\n",
        "                           transform = transforms.Compose(\r\n",
        "                               [transforms.ToTensor(),\r\n",
        "                                transforms.Normalize(mean = (0.4914, 0.4822, 0.4465),\r\n",
        "                                                     std = (0.2470, 0.2435, 0.2616))]\r\n",
        "                          ))"
      ],
      "execution_count": 28,
      "outputs": []
    },
    {
      "cell_type": "code",
      "metadata": {
        "id": "9kT4XFBt1Hgl"
      },
      "source": [
        "# load validation set data with the same normalization constants\r\n",
        "# note that when we calculate these constants we only looked\r\n",
        "# at training set.\r\n",
        "cifar10_val = datasets.CIFAR10('./', train=False, download=False,\r\n",
        "                               transform = transforms.Compose(\r\n",
        "                                   [transforms.ToTensor(),\r\n",
        "                                    transforms.Normalize(mean = (0.4914, 0.4822, 0.4465),\r\n",
        "                                                         std = (0.2470, 0.2435, 0.2616))]\r\n",
        "                              ))"
      ],
      "execution_count": 29,
      "outputs": []
    },
    {
      "cell_type": "code",
      "metadata": {
        "colab": {
          "base_uri": "https://localhost:8080/",
          "height": 0
        },
        "id": "s1mWIrWdwqwJ",
        "outputId": "f8626ed1-5f41-4f4d-ecaa-f883c2865a5c"
      },
      "source": [
        "# normalized image.\r\n",
        "plt.imshow(cifar10[99][0].permute(1, 2, 0))"
      ],
      "execution_count": 30,
      "outputs": [
        {
          "output_type": "stream",
          "text": [
            "Clipping input data to the valid range for imshow with RGB data ([0..1] for floats or [0..255] for integers).\n"
          ],
          "name": "stderr"
        },
        {
          "output_type": "execute_result",
          "data": {
            "text/plain": [
              "<matplotlib.image.AxesImage at 0x7f1cef042be0>"
            ]
          },
          "metadata": {
            "tags": []
          },
          "execution_count": 30
        },
        {
          "output_type": "display_data",
          "data": {
            "image/png": "[encoded data removed]",
            "text/plain": [
              "<Figure size 432x288 with 1 Axes>"
            ]
          },
          "metadata": {
            "tags": [],
            "needs_background": "light"
          }
        }
      ]
    },
    {
      "cell_type": "markdown",
      "metadata": {
        "id": "25MQ8NhVxznv"
      },
      "source": [
        "# Get our dataset of birds and planes"
      ]
    },
    {
      "cell_type": "code",
      "metadata": {
        "id": "2up5ScXZ1mnO"
      },
      "source": [
        "# label of plane = 0, label of birds = 2 in our original\r\n",
        "# CIFAR dataset. We will only extract images with these\r\n",
        "# 2 labels in both train and validation set.\r\n",
        "class_names = ['plane', 'bird']"
      ],
      "execution_count": 31,
      "outputs": []
    },
    {
      "cell_type": "code",
      "metadata": {
        "id": "96hEv_ow3MDW"
      },
      "source": [
        "# we will map plane to 0, and bird to 1 in our dataset.\r\n",
        "label_map = {0 : 0, 2: 1}"
      ],
      "execution_count": 32,
      "outputs": []
    },
    {
      "cell_type": "code",
      "metadata": {
        "id": "Y7lczU8XxTjT"
      },
      "source": [
        "cifar_birds_and_planes = [(img, label_map[label]) for img, label in cifar10 if label in {0, 2}]\r\n",
        "cifar_val_birds_and_planes = [(img, label_map[label]) for img, label in cifar10_val if label in {0, 2}]"
      ],
      "execution_count": 33,
      "outputs": []
    },
    {
      "cell_type": "markdown",
      "metadata": {
        "id": "RbpnmvXh3ijd"
      },
      "source": [
        "We could build a `Dataset` object, but we choose to just use the `list` here to store the data, because it satisfies having `__len__()` and `__getitem__()`."
      ]
    },
    {
      "cell_type": "code",
      "metadata": {
        "colab": {
          "base_uri": "https://localhost:8080/"
        },
        "id": "CT2G86vSesk4",
        "outputId": "9ede073d-0b19-4bc8-89f4-0063135fd4e9"
      },
      "source": [
        "# size of birds and planes dataset\r\n",
        "len(cifar_birds_and_planes)"
      ],
      "execution_count": 46,
      "outputs": [
        {
          "output_type": "execute_result",
          "data": {
            "text/plain": [
              "10000"
            ]
          },
          "metadata": {
            "tags": []
          },
          "execution_count": 46
        }
      ]
    },
    {
      "cell_type": "code",
      "metadata": {
        "colab": {
          "base_uri": "https://localhost:8080/"
        },
        "id": "-UThMkeAevCk",
        "outputId": "d4a28d6b-c33c-456a-b678-b4fe5e70dbae"
      },
      "source": [
        "len(cifar_val_birds_and_planes)"
      ],
      "execution_count": 47,
      "outputs": [
        {
          "output_type": "execute_result",
          "data": {
            "text/plain": [
              "2000"
            ]
          },
          "metadata": {
            "tags": []
          },
          "execution_count": 47
        }
      ]
    },
    {
      "cell_type": "code",
      "metadata": {
        "colab": {
          "base_uri": "https://localhost:8080/"
        },
        "id": "g4xyKfhKexiq",
        "outputId": "649e2a62-92a5-428a-e9ff-f774b2d28c7d"
      },
      "source": [
        "# number of birds images in training set\r\n",
        "len([(image, label) for image, label in cifar_birds_and_planes if label == 1])"
      ],
      "execution_count": 50,
      "outputs": [
        {
          "output_type": "execute_result",
          "data": {
            "text/plain": [
              "5000"
            ]
          },
          "metadata": {
            "tags": []
          },
          "execution_count": 50
        }
      ]
    },
    {
      "cell_type": "code",
      "metadata": {
        "colab": {
          "base_uri": "https://localhost:8080/"
        },
        "id": "f9Y-64BFfPl0",
        "outputId": "0a14e4f9-38fd-46f0-d419-1fe0e508df85"
      },
      "source": [
        "# number of birds images in training set\r\n",
        "len([(image, label) for image, label in cifar_val_birds_and_planes if label == 1])"
      ],
      "execution_count": 51,
      "outputs": [
        {
          "output_type": "execute_result",
          "data": {
            "text/plain": [
              "1000"
            ]
          },
          "metadata": {
            "tags": []
          },
          "execution_count": 51
        }
      ]
    },
    {
      "cell_type": "markdown",
      "metadata": {
        "id": "3HN3d-82fRev"
      },
      "source": [
        "We can see that our dataset is balanced, there are the half images that are birds and half that are planes, which is good."
      ]
    },
    {
      "cell_type": "markdown",
      "metadata": {
        "id": "Ck5yLWzU1n7V"
      },
      "source": [
        "# build neural net architecture!"
      ]
    },
    {
      "cell_type": "code",
      "metadata": {
        "id": "Tgv2-Y9L3upP"
      },
      "source": [
        "import torch.nn as nn\r\n",
        "import torch.optim as optim"
      ],
      "execution_count": 36,
      "outputs": []
    },
    {
      "cell_type": "code",
      "metadata": {
        "colab": {
          "base_uri": "https://localhost:8080/"
        },
        "id": "ZCl0KgS4fg6w",
        "outputId": "e52da2e4-cdd0-41cf-87e4-1877f29de53c"
      },
      "source": [
        "# 3 x 32 x 32 -> input vector has size of 3072.\r\n",
        "torch.prod(torch.tensor(cifar_birds_and_planes[0][0].shape))"
      ],
      "execution_count": 57,
      "outputs": [
        {
          "output_type": "execute_result",
          "data": {
            "text/plain": [
              "tensor(3072)"
            ]
          },
          "metadata": {
            "tags": []
          },
          "execution_count": 57
        }
      ]
    },
    {
      "cell_type": "code",
      "metadata": {
        "id": "oTQUPj_R-UJD"
      },
      "source": [
        "model = nn.Sequential(nn.Linear(3072, 512),\r\n",
        "                      nn.Tanh(),\r\n",
        "                      nn.Linear(512, 2),\r\n",
        "                      nn.LogSoftmax(dim = 1)) # softmax as to produce probabilities over linear units, Log as to help with numerical stability."
      ],
      "execution_count": 94,
      "outputs": []
    },
    {
      "cell_type": "code",
      "metadata": {
        "id": "AI2FWSaIiYQj"
      },
      "source": [
        "softmax = nn.Softmax(dim = 1)"
      ],
      "execution_count": 89,
      "outputs": []
    },
    {
      "cell_type": "code",
      "metadata": {
        "colab": {
          "base_uri": "https://localhost:8080/"
        },
        "id": "1Vn_qrtLig55",
        "outputId": "43666dd2-8194-41e2-e138-e99a188022ec"
      },
      "source": [
        "softmax(torch.tensor([[1.,2,3], \r\n",
        "                      [3.,4,5]]))"
      ],
      "execution_count": 90,
      "outputs": [
        {
          "output_type": "execute_result",
          "data": {
            "text/plain": [
              "tensor([[0.0900, 0.2447, 0.6652],\n",
              "        [0.0900, 0.2447, 0.6652]])"
            ]
          },
          "metadata": {
            "tags": []
          },
          "execution_count": 90
        }
      ]
    },
    {
      "cell_type": "code",
      "metadata": {
        "colab": {
          "base_uri": "https://localhost:8080/"
        },
        "id": "d8nVCvwEjNUi",
        "outputId": "39ffde7a-05e6-491e-9c57-d5b23eaa5d44"
      },
      "source": [
        "torch.exp(torch.tensor([1. ,2, 3])) / torch.exp(torch.tensor([1. ,2, 3])).sum()"
      ],
      "execution_count": 92,
      "outputs": [
        {
          "output_type": "execute_result",
          "data": {
            "text/plain": [
              "tensor([0.0900, 0.2447, 0.6652])"
            ]
          },
          "metadata": {
            "tags": []
          },
          "execution_count": 92
        }
      ]
    },
    {
      "cell_type": "code",
      "metadata": {
        "id": "CSmj9N6fjaUy"
      },
      "source": [
        "# but now our loss shouldn't be MSE loss, and we should\r\n",
        "# use negative log likelihood loss, which is just the negative\r\n",
        "# of the log, taking range from 0 to 1.\r\n",
        "\r\n",
        "# nn.NLLLoss() takes in a (log) probability distribution vector, and the index\r\n",
        "# of the one probability we want to compute.\r\n",
        "loss_fn = nn.NLLLoss()"
      ],
      "execution_count": 95,
      "outputs": []
    },
    {
      "cell_type": "markdown",
      "metadata": {
        "id": "7PizXfmCkRvr"
      },
      "source": [
        "![](https://ljvmiranda921.github.io/assets/png/cs231n-ann/neg_log.png)"
      ]
    },
    {
      "cell_type": "markdown",
      "metadata": {
        "id": "pFsem5tWkvss"
      },
      "source": [
        "Let's now pass one image of our dataset to the neural net. See if loss and everything works."
      ]
    },
    {
      "cell_type": "code",
      "metadata": {
        "id": "A4WJQyhfkWcu"
      },
      "source": [
        "# view as to squash the 3 x 32 x 32 matrix into a 3072 vector\r\n",
        "# unsqueeze as to add an extra dimension for the batch processing\r\n",
        "# of the neural net.\r\n",
        "batch = cifar_birds_and_planes[0][0].view(-1).unsqueeze(0)\r\n",
        "label = cifar_birds_and_planes[0][1]"
      ],
      "execution_count": 99,
      "outputs": []
    },
    {
      "cell_type": "code",
      "metadata": {
        "colab": {
          "base_uri": "https://localhost:8080/"
        },
        "id": "W-HQDLjPk6ly",
        "outputId": "a135b20e-2fcb-4f55-a772-1b2999d3218b"
      },
      "source": [
        "loss_fn(model(batch), torch.tensor([label]))"
      ],
      "execution_count": 101,
      "outputs": [
        {
          "output_type": "execute_result",
          "data": {
            "text/plain": [
              "tensor(0.6264, grad_fn=<NllLossBackward>)"
            ]
          },
          "metadata": {
            "tags": []
          },
          "execution_count": 101
        }
      ]
    },
    {
      "cell_type": "markdown",
      "metadata": {
        "id": "BRUSawLN1qya"
      },
      "source": [
        "# train the damn thing!"
      ]
    },
    {
      "cell_type": "code",
      "metadata": {
        "id": "H1qdoH6xl6rO"
      },
      "source": [
        "lr = 1e-2"
      ],
      "execution_count": 103,
      "outputs": []
    },
    {
      "cell_type": "code",
      "metadata": {
        "id": "lqGyevg11qa5"
      },
      "source": [
        "optimizer = optim.SGD(params = model.parameters(), lr = lr)"
      ],
      "execution_count": 106,
      "outputs": []
    },
    {
      "cell_type": "code",
      "metadata": {
        "id": "fSnx_EVimCRq"
      },
      "source": [
        "def training_loop(num_epochs, optimizer, model, loss_function, x_train, y_train,\r\n",
        "                  x_validation, y_validation):\r\n",
        "  for curr_epoch in range(1, num_epochs + 1):\r\n",
        "    optimizer.zero_grad()\r\n",
        "\r\n",
        "    y_pred = model(x_train)\r\n",
        "    train_loss = loss_function(y_pred, y_train)\r\n",
        "    train_loss.backward()\r\n",
        "\r\n",
        "    optimizer.step() # update parameters this optimizer owns via GD\r\n",
        "\r\n",
        "    with torch.no_grad(): # to calculate validation loss we don't want to keep track of gradients!\r\n",
        "      validate_loss = loss_function(model(x_validation), y_validation)\r\n",
        "\r\n",
        "    if curr_epoch % 10 == 0:\r\n",
        "      print(f'at epoch {curr_epoch} in the training, train loss is {train_loss}')\r\n",
        "      print(f'at epoch {curr_epoch} in the training, validation loss is {validate_loss}')"
      ],
      "execution_count": 135,
      "outputs": []
    },
    {
      "cell_type": "code",
      "metadata": {
        "id": "U_sK3mvsnXv5"
      },
      "source": [
        "x_train = torch.stack([img_and_label[0] for img_and_label in cifar_birds_and_planes])"
      ],
      "execution_count": 118,
      "outputs": []
    },
    {
      "cell_type": "code",
      "metadata": {
        "colab": {
          "base_uri": "https://localhost:8080/"
        },
        "id": "rqWnhXZtnv3o",
        "outputId": "20bc6f30-3b41-4629-825b-fdaa9577e0a9"
      },
      "source": [
        "x_train.shape"
      ],
      "execution_count": 119,
      "outputs": [
        {
          "output_type": "execute_result",
          "data": {
            "text/plain": [
              "torch.Size([10000, 3, 32, 32])"
            ]
          },
          "metadata": {
            "tags": []
          },
          "execution_count": 119
        }
      ]
    },
    {
      "cell_type": "code",
      "metadata": {
        "id": "P0cIJoQDnzAd"
      },
      "source": [
        "# collapse 3 x 32 x 32 into 3072\r\n",
        "x_train = x_train.view(10000, -1)"
      ],
      "execution_count": 120,
      "outputs": []
    },
    {
      "cell_type": "code",
      "metadata": {
        "colab": {
          "base_uri": "https://localhost:8080/"
        },
        "id": "sIBRork5n5HR",
        "outputId": "afa9dd9f-a307-4001-caaf-2a4ca2c2f9d7"
      },
      "source": [
        "x_train.shape"
      ],
      "execution_count": 121,
      "outputs": [
        {
          "output_type": "execute_result",
          "data": {
            "text/plain": [
              "torch.Size([10000, 3072])"
            ]
          },
          "metadata": {
            "tags": []
          },
          "execution_count": 121
        }
      ]
    },
    {
      "cell_type": "code",
      "metadata": {
        "id": "u58_Wjecn6mg"
      },
      "source": [
        "y_train = torch.stack([torch.tensor(img_and_label[1]) for img_and_label in cifar_birds_and_planes])"
      ],
      "execution_count": 131,
      "outputs": []
    },
    {
      "cell_type": "code",
      "metadata": {
        "colab": {
          "base_uri": "https://localhost:8080/"
        },
        "id": "vPCV5DkyoHis",
        "outputId": "838f70f5-2219-4a70-bce7-e2f79f750408"
      },
      "source": [
        "y_train.shape"
      ],
      "execution_count": 125,
      "outputs": [
        {
          "output_type": "execute_result",
          "data": {
            "text/plain": [
              "torch.Size([10000])"
            ]
          },
          "metadata": {
            "tags": []
          },
          "execution_count": 125
        }
      ]
    },
    {
      "cell_type": "code",
      "metadata": {
        "colab": {
          "base_uri": "https://localhost:8080/"
        },
        "id": "yjzVi1QloKFl",
        "outputId": "1e2d6cd2-8ed3-42b2-ff0d-a588ce4a91da"
      },
      "source": [
        "y_train.unsqueeze_(1)"
      ],
      "execution_count": 126,
      "outputs": [
        {
          "output_type": "execute_result",
          "data": {
            "text/plain": [
              "tensor([[1],\n",
              "        [1],\n",
              "        [1],\n",
              "        ...,\n",
              "        [0],\n",
              "        [0],\n",
              "        [1]])"
            ]
          },
          "metadata": {
            "tags": []
          },
          "execution_count": 126
        }
      ]
    },
    {
      "cell_type": "code",
      "metadata": {
        "colab": {
          "base_uri": "https://localhost:8080/"
        },
        "id": "QSP66zYAnAAv",
        "outputId": "8f66f19c-e7ac-4f52-e2e4-2a5679b3cc1f"
      },
      "source": [
        "y_train.shape"
      ],
      "execution_count": 127,
      "outputs": [
        {
          "output_type": "execute_result",
          "data": {
            "text/plain": [
              "torch.Size([10000, 1])"
            ]
          },
          "metadata": {
            "tags": []
          },
          "execution_count": 127
        }
      ]
    },
    {
      "cell_type": "code",
      "metadata": {
        "id": "3AL02Lz1oR8y"
      },
      "source": [
        "x_val = torch.stack([img_and_label[0] for img_and_label in cifar_val_birds_and_planes])\r\n",
        "x_val = x_val.view(2000, -1)"
      ],
      "execution_count": 128,
      "outputs": []
    },
    {
      "cell_type": "code",
      "metadata": {
        "id": "9U2C4-iQof65"
      },
      "source": [
        "y_val = torch.stack([torch.tensor(img_and_label[1]) for img_and_label in cifar_val_birds_and_planes])"
      ],
      "execution_count": 132,
      "outputs": []
    },
    {
      "cell_type": "code",
      "metadata": {
        "colab": {
          "base_uri": "https://localhost:8080/"
        },
        "id": "eJiW1DYlmc_-",
        "outputId": "cab260ce-2fcc-49a0-f97c-aad50194b252"
      },
      "source": [
        "training_loop(100, optimizer, model, loss_fn, x_train, y_train, x_val, y_val)"
      ],
      "execution_count": 141,
      "outputs": [
        {
          "output_type": "stream",
          "text": [
            "at epoch 10 in the training, train loss is 0.4095042645931244\n",
            "at epoch 10 in the training, validation loss is 0.43029797077178955\n",
            "at epoch 20 in the training, train loss is 0.408574640750885\n",
            "at epoch 20 in the training, validation loss is 0.4298960268497467\n",
            "at epoch 30 in the training, train loss is 0.4076526165008545\n",
            "at epoch 30 in the training, validation loss is 0.429503858089447\n",
            "at epoch 40 in the training, train loss is 0.40673843026161194\n",
            "at epoch 40 in the training, validation loss is 0.42912039160728455\n",
            "at epoch 50 in the training, train loss is 0.4058341681957245\n",
            "at epoch 50 in the training, validation loss is 0.4287464916706085\n",
            "at epoch 60 in the training, train loss is 0.40493419766426086\n",
            "at epoch 60 in the training, validation loss is 0.42838090658187866\n",
            "at epoch 70 in the training, train loss is 0.4040410816669464\n",
            "at epoch 70 in the training, validation loss is 0.42802396416664124\n",
            "at epoch 80 in the training, train loss is 0.4031551480293274\n",
            "at epoch 80 in the training, validation loss is 0.42767423391342163\n",
            "at epoch 90 in the training, train loss is 0.40227556228637695\n",
            "at epoch 90 in the training, validation loss is 0.42733219265937805\n",
            "at epoch 100 in the training, train loss is 0.40140223503112793\n",
            "at epoch 100 in the training, validation loss is 0.4269971251487732\n"
          ],
          "name": "stdout"
        }
      ]
    },
    {
      "cell_type": "markdown",
      "metadata": {
        "id": "uUdmsTOWqFVy"
      },
      "source": [
        "Now the training loop runs considerably longer than before because each time it is taking a gradient with respect to all `10000` images, which take a long time. Even running just 100 loops takes about 1 minute. (without GPU.) We can consider to do SGD, taking gradient just with respect to a single image at one time, to speed up the process."
      ]
    },
    {
      "cell_type": "markdown",
      "metadata": {
        "id": "rp70xaZIsPou"
      },
      "source": [
        "We have ran about 700 training loops, let's now look at the accuracy."
      ]
    },
    {
      "cell_type": "code",
      "metadata": {
        "colab": {
          "base_uri": "https://localhost:8080/"
        },
        "id": "uNV4hJLposKG",
        "outputId": "75f233ab-d04c-4d35-b02e-ea86de48e287"
      },
      "source": [
        "with torch.no_grad():\r\n",
        "  count = 0\r\n",
        "  y_pred = model(x_val)\r\n",
        "  label_pred = torch.argmax(y_pred, dim = 1)\r\n",
        "  for i in range(len(y_pred)):\r\n",
        "    if label_pred[i] == y_val[i]:\r\n",
        "      count += 1\r\n",
        "  print(f'Accuracy on validation set: {count / len(label_pred)}')"
      ],
      "execution_count": 154,
      "outputs": [
        {
          "output_type": "stream",
          "text": [
            "Accuracy on validation set: 0.807\n"
          ],
          "name": "stdout"
        }
      ]
    },
    {
      "cell_type": "markdown",
      "metadata": {
        "id": "a2i5FvM-tzkQ"
      },
      "source": [
        "Not shabby at all! Our vanilla neural net can now recognize birds from planes at a 80% accuracy! This is even without training a long time and without convolutions!"
      ]
    },
    {
      "cell_type": "markdown",
      "metadata": {
        "id": "tcCsiRLUuCj8"
      },
      "source": [
        "Let's run the training a bit more."
      ]
    },
    {
      "cell_type": "code",
      "metadata": {
        "colab": {
          "base_uri": "https://localhost:8080/"
        },
        "id": "1hZ4lDDXtAs2",
        "outputId": "6c98e068-a5c2-4455-912e-6efef94964d7"
      },
      "source": [
        "training_loop(250, optimizer, model, loss_fn, x_train, y_train, x_val, y_val)"
      ],
      "execution_count": 155,
      "outputs": [
        {
          "output_type": "stream",
          "text": [
            "at epoch 10 in the training, train loss is 0.40053343772888184\n",
            "at epoch 10 in the training, validation loss is 0.42666858434677124\n",
            "at epoch 20 in the training, train loss is 0.3996707499027252\n",
            "at epoch 20 in the training, validation loss is 0.4263470768928528\n",
            "at epoch 30 in the training, train loss is 0.3988129496574402\n",
            "at epoch 30 in the training, validation loss is 0.42603135108947754\n",
            "at epoch 40 in the training, train loss is 0.3979590833187103\n",
            "at epoch 40 in the training, validation loss is 0.4257218539714813\n",
            "at epoch 50 in the training, train loss is 0.39710959792137146\n",
            "at epoch 50 in the training, validation loss is 0.4254171848297119\n",
            "at epoch 60 in the training, train loss is 0.39626702666282654\n",
            "at epoch 60 in the training, validation loss is 0.4251188635826111\n",
            "at epoch 70 in the training, train loss is 0.3954259157180786\n",
            "at epoch 70 in the training, validation loss is 0.4248256981372833\n",
            "at epoch 80 in the training, train loss is 0.3945895731449127\n",
            "at epoch 80 in the training, validation loss is 0.42453670501708984\n",
            "at epoch 90 in the training, train loss is 0.3937567472457886\n",
            "at epoch 90 in the training, validation loss is 0.424252986907959\n",
            "at epoch 100 in the training, train loss is 0.3929266333580017\n",
            "at epoch 100 in the training, validation loss is 0.42397400736808777\n",
            "at epoch 110 in the training, train loss is 0.3921019434928894\n",
            "at epoch 110 in the training, validation loss is 0.4236992597579956\n",
            "at epoch 120 in the training, train loss is 0.39127859473228455\n",
            "at epoch 120 in the training, validation loss is 0.4234289526939392\n",
            "at epoch 130 in the training, train loss is 0.3904600739479065\n",
            "at epoch 130 in the training, validation loss is 0.42316219210624695\n",
            "at epoch 140 in the training, train loss is 0.3896423280239105\n",
            "at epoch 140 in the training, validation loss is 0.42289939522743225\n",
            "at epoch 150 in the training, train loss is 0.3888283371925354\n",
            "at epoch 150 in the training, validation loss is 0.42264091968536377\n",
            "at epoch 160 in the training, train loss is 0.3880164325237274\n",
            "at epoch 160 in the training, validation loss is 0.4223858416080475\n",
            "at epoch 170 in the training, train loss is 0.38720762729644775\n",
            "at epoch 170 in the training, validation loss is 0.4221343398094177\n",
            "at epoch 180 in the training, train loss is 0.38640066981315613\n",
            "at epoch 180 in the training, validation loss is 0.4218865931034088\n",
            "at epoch 190 in the training, train loss is 0.3855954706668854\n",
            "at epoch 190 in the training, validation loss is 0.42164114117622375\n",
            "at epoch 200 in the training, train loss is 0.38479313254356384\n",
            "at epoch 200 in the training, validation loss is 0.42139995098114014\n",
            "at epoch 210 in the training, train loss is 0.38399386405944824\n",
            "at epoch 210 in the training, validation loss is 0.42116156220436096\n",
            "at epoch 220 in the training, train loss is 0.38319477438926697\n",
            "at epoch 220 in the training, validation loss is 0.4209265112876892\n",
            "at epoch 230 in the training, train loss is 0.3823976218700409\n",
            "at epoch 230 in the training, validation loss is 0.42069390416145325\n",
            "at epoch 240 in the training, train loss is 0.3816013038158417\n",
            "at epoch 240 in the training, validation loss is 0.4204646646976471\n",
            "at epoch 250 in the training, train loss is 0.3808082640171051\n",
            "at epoch 250 in the training, validation loss is 0.4202382564544678\n"
          ],
          "name": "stdout"
        }
      ]
    },
    {
      "cell_type": "code",
      "metadata": {
        "id": "DZ6y5uyDvfR8"
      },
      "source": [
        "def get_accuracy():\r\n",
        "  with torch.no_grad():\r\n",
        "    count = 0\r\n",
        "    y_pred = model(x_val)\r\n",
        "    label_pred = torch.argmax(y_pred, dim = 1)\r\n",
        "    for i in range(len(y_pred)):\r\n",
        "      if label_pred[i] == y_val[i]:\r\n",
        "        count += 1\r\n",
        "    print(f'Accuracy on validation set is: {count / len(label_pred)}')"
      ],
      "execution_count": 163,
      "outputs": []
    },
    {
      "cell_type": "code",
      "metadata": {
        "colab": {
          "base_uri": "https://localhost:8080/"
        },
        "id": "UY9wRe2suLa8",
        "outputId": "d45d0ca4-0a49-494d-bf11-22eb4d506027"
      },
      "source": [
        "get_accuracy()"
      ],
      "execution_count": 159,
      "outputs": [
        {
          "output_type": "stream",
          "text": [
            "Accuracy on validation set: 0.813\n"
          ],
          "name": "stdout"
        }
      ]
    },
    {
      "cell_type": "code",
      "metadata": {
        "colab": {
          "base_uri": "https://localhost:8080/"
        },
        "id": "LmUgucf2vWgJ",
        "outputId": "c67b44d9-24bd-46ef-fa38-033eec29452d"
      },
      "source": [
        "training_loop(250, optimizer, model, loss_fn, x_train, y_train, x_val, y_val)"
      ],
      "execution_count": 160,
      "outputs": [
        {
          "output_type": "stream",
          "text": [
            "at epoch 10 in the training, train loss is 0.3800166845321655\n",
            "at epoch 10 in the training, validation loss is 0.42001479864120483\n",
            "at epoch 20 in the training, train loss is 0.3792267441749573\n",
            "at epoch 20 in the training, validation loss is 0.41979366540908813\n",
            "at epoch 30 in the training, train loss is 0.37843701243400574\n",
            "at epoch 30 in the training, validation loss is 0.41957518458366394\n",
            "at epoch 40 in the training, train loss is 0.3776499629020691\n",
            "at epoch 40 in the training, validation loss is 0.4193601608276367\n",
            "at epoch 50 in the training, train loss is 0.3768630623817444\n",
            "at epoch 50 in the training, validation loss is 0.41914689540863037\n",
            "at epoch 60 in the training, train loss is 0.3760773241519928\n",
            "at epoch 60 in the training, validation loss is 0.4189363718032837\n",
            "at epoch 70 in the training, train loss is 0.3752921223640442\n",
            "at epoch 70 in the training, validation loss is 0.4187283515930176\n",
            "at epoch 80 in the training, train loss is 0.3745100796222687\n",
            "at epoch 80 in the training, validation loss is 0.4185233414173126\n",
            "at epoch 90 in the training, train loss is 0.3737279176712036\n",
            "at epoch 90 in the training, validation loss is 0.4183207154273987\n",
            "at epoch 100 in the training, train loss is 0.3729473054409027\n",
            "at epoch 100 in the training, validation loss is 0.4181196689605713\n",
            "at epoch 110 in the training, train loss is 0.3721659779548645\n",
            "at epoch 110 in the training, validation loss is 0.41792088747024536\n",
            "at epoch 120 in the training, train loss is 0.3713862895965576\n",
            "at epoch 120 in the training, validation loss is 0.4177252948284149\n",
            "at epoch 130 in the training, train loss is 0.3706071674823761\n",
            "at epoch 130 in the training, validation loss is 0.4175318479537964\n",
            "at epoch 140 in the training, train loss is 0.3698303997516632\n",
            "at epoch 140 in the training, validation loss is 0.4173402190208435\n",
            "at epoch 150 in the training, train loss is 0.36905303597450256\n",
            "at epoch 150 in the training, validation loss is 0.41715124249458313\n",
            "at epoch 160 in the training, train loss is 0.36827611923217773\n",
            "at epoch 160 in the training, validation loss is 0.41696417331695557\n",
            "at epoch 170 in the training, train loss is 0.36750033497810364\n",
            "at epoch 170 in the training, validation loss is 0.416779488325119\n",
            "at epoch 180 in the training, train loss is 0.36672499775886536\n",
            "at epoch 180 in the training, validation loss is 0.41659659147262573\n",
            "at epoch 190 in the training, train loss is 0.36595088243484497\n",
            "at epoch 190 in the training, validation loss is 0.4164159893989563\n",
            "at epoch 200 in the training, train loss is 0.3651754558086395\n",
            "at epoch 200 in the training, validation loss is 0.4162379801273346\n",
            "at epoch 210 in the training, train loss is 0.36440253257751465\n",
            "at epoch 210 in the training, validation loss is 0.4160612225532532\n",
            "at epoch 220 in the training, train loss is 0.36362960934638977\n",
            "at epoch 220 in the training, validation loss is 0.4158869981765747\n",
            "at epoch 230 in the training, train loss is 0.3628571629524231\n",
            "at epoch 230 in the training, validation loss is 0.41571497917175293\n",
            "at epoch 240 in the training, train loss is 0.36208438873291016\n",
            "at epoch 240 in the training, validation loss is 0.4155443608760834\n",
            "at epoch 250 in the training, train loss is 0.3613126575946808\n",
            "at epoch 250 in the training, validation loss is 0.4153757393360138\n"
          ],
          "name": "stdout"
        }
      ]
    },
    {
      "cell_type": "code",
      "metadata": {
        "id": "5XR_-H5nxK53"
      },
      "source": [
        "def get_accuracy(x, y):\r\n",
        "  with torch.no_grad():\r\n",
        "    count = 0\r\n",
        "    y_pred = model(x)\r\n",
        "    label_pred = torch.argmax(y_pred, dim = 1)\r\n",
        "    for i in range(len(y_pred)):\r\n",
        "      if label_pred[i] == y[i]:\r\n",
        "        count += 1\r\n",
        "    print(f'Accuracy is: {count / len(label_pred)}')"
      ],
      "execution_count": 168,
      "outputs": []
    },
    {
      "cell_type": "code",
      "metadata": {
        "colab": {
          "base_uri": "https://localhost:8080/"
        },
        "id": "kYB4JfJhvvWd",
        "outputId": "2a3ef67c-5e09-4556-90e0-914786af8405"
      },
      "source": [
        "get_accuracy(x_val, y_val)"
      ],
      "execution_count": 166,
      "outputs": [
        {
          "output_type": "stream",
          "text": [
            "Accuracy is: 0.8185\n"
          ],
          "name": "stdout"
        }
      ]
    },
    {
      "cell_type": "code",
      "metadata": {
        "colab": {
          "base_uri": "https://localhost:8080/"
        },
        "id": "VsEkE6Snw0tH",
        "outputId": "9cd01c11-598d-45bf-d4ea-13b04de6afaf"
      },
      "source": [
        "get_accuracy(x_train, y_train)"
      ],
      "execution_count": 167,
      "outputs": [
        {
          "output_type": "stream",
          "text": [
            "Accuracy is: 0.8481\n"
          ],
          "name": "stdout"
        }
      ]
    },
    {
      "cell_type": "markdown",
      "metadata": {
        "id": "NBUmvYawxT13"
      },
      "source": [
        "As we can see, the accuracy does't increase that much. But surely our model is not overfitting yet because accuracy on validation is about the same as the one on training set."
      ]
    },
    {
      "cell_type": "code",
      "metadata": {
        "colab": {
          "base_uri": "https://localhost:8080/"
        },
        "id": "l1MtG6ShxlPD",
        "outputId": "03a7977b-c9d4-41b8-cad1-820141dce178"
      },
      "source": [
        "model.parameters"
      ],
      "execution_count": 173,
      "outputs": [
        {
          "output_type": "execute_result",
          "data": {
            "text/plain": [
              "<bound method Module.parameters of Sequential(\n",
              "  (0): Linear(in_features=3072, out_features=512, bias=True)\n",
              "  (1): Tanh()\n",
              "  (2): Linear(in_features=512, out_features=2, bias=True)\n",
              "  (3): LogSoftmax(dim=1)\n",
              ")>"
            ]
          },
          "metadata": {
            "tags": []
          },
          "execution_count": 173
        }
      ]
    },
    {
      "cell_type": "code",
      "metadata": {
        "id": "ycdTHsV7xLbS"
      },
      "source": [
        "# let's see the number of parameters our model has.\r\n",
        "def count_parameters(model):\r\n",
        "  return sum(p.numel() for p in model.parameters() if p.requires_grad)"
      ],
      "execution_count": 175,
      "outputs": []
    },
    {
      "cell_type": "code",
      "metadata": {
        "colab": {
          "base_uri": "https://localhost:8080/"
        },
        "id": "fcIPTMKYxezv",
        "outputId": "68107f0d-4457-4182-cc15-b7862937cca7"
      },
      "source": [
        "count_parameters(model)"
      ],
      "execution_count": 176,
      "outputs": [
        {
          "output_type": "execute_result",
          "data": {
            "text/plain": [
              "1574402"
            ]
          },
          "metadata": {
            "tags": []
          },
          "execution_count": 176
        }
      ]
    },
    {
      "cell_type": "markdown",
      "metadata": {
        "id": "46Ali9RHx9lZ"
      },
      "source": [
        "Woah, our model has more than 1 million parameters, just for this input of 32 by 32. Imagine what the size will be for 500 x 500 images! This is not surprising because our first layers maps from 3072 dimension to 512 dimension, that is about 1 million parameters."
      ]
    },
    {
      "cell_type": "markdown",
      "metadata": {
        "id": "euCuYdVGywcD"
      },
      "source": [
        "# Train over the minibatch, not the entire dataset."
      ]
    },
    {
      "cell_type": "code",
      "metadata": {
        "id": "CwaXZMBa180S"
      },
      "source": [
        "# we can loop through our batches by calling\r\n",
        "# data_batch in dataloader. each time we call\r\n",
        "# this function it will give a different batches, because we set shuffle = True.\r\n",
        "dataloader = torch.utils.data.DataLoader(cifar_birds_and_planes, batch_size=64, shuffle=True)"
      ],
      "execution_count": 178,
      "outputs": []
    },
    {
      "cell_type": "code",
      "metadata": {
        "id": "KUy7kqK5y06b"
      },
      "source": [
        "model = nn.Sequential(nn.Linear(3072, 512),\r\n",
        "                      nn.Tanh(),\r\n",
        "                      nn.Linear(512, 2),\r\n",
        "                      nn.LogSoftmax(dim = 1))\r\n",
        "loss_fn = nn.NLLLoss()\r\n",
        "lr = 1e-2\r\n",
        "optimizer = optim.SGD(params = model.parameters(), lr = lr)"
      ],
      "execution_count": 215,
      "outputs": []
    },
    {
      "cell_type": "code",
      "metadata": {
        "id": "fPQlwvN-zPSN"
      },
      "source": [
        "def SGD_training_loop(num_epochs, optimizer, model, loss_function, data_loader):\r\n",
        "  for curr_epoch in range(1, num_epochs + 1):\r\n",
        "    for img_batch, label_batch in dataloader:\r\n",
        "      optimizer.zero_grad()\r\n",
        "\r\n",
        "      num_batches = img_batch.shape[0]\r\n",
        "      y_pred = model(img_batch.view(num_batches, -1))\r\n",
        "      train_loss = loss_function(y_pred, label_batch)\r\n",
        "      train_loss.backward()\r\n",
        "\r\n",
        "      optimizer.step() # update parameters this optimizer owns via GD\r\n",
        "    print(f'at epoch {curr_epoch} loss on one batch in training set is: {train_loss}')"
      ],
      "execution_count": 216,
      "outputs": []
    },
    {
      "cell_type": "code",
      "metadata": {
        "colab": {
          "base_uri": "https://localhost:8080/"
        },
        "id": "cm0TFe9d4XIs",
        "outputId": "8d65dbef-d48b-4fff-a379-15cc8673e37a"
      },
      "source": [
        "SGD_training_loop(100, optimizer, model, loss_fn, dataloader)"
      ],
      "execution_count": 217,
      "outputs": [
        {
          "output_type": "stream",
          "text": [
            "at epoch 1 loss on one batch in training set is: 0.7271022200584412\n",
            "at epoch 2 loss on one batch in training set is: 0.6186765432357788\n",
            "at epoch 3 loss on one batch in training set is: 0.30486297607421875\n",
            "at epoch 4 loss on one batch in training set is: 0.4794941842556\n",
            "at epoch 5 loss on one batch in training set is: 0.37956613302230835\n",
            "at epoch 6 loss on one batch in training set is: 0.28756412863731384\n",
            "at epoch 7 loss on one batch in training set is: 0.3537481725215912\n",
            "at epoch 8 loss on one batch in training set is: 0.39530107378959656\n",
            "at epoch 9 loss on one batch in training set is: 0.3603317439556122\n",
            "at epoch 10 loss on one batch in training set is: 0.4122258722782135\n",
            "at epoch 11 loss on one batch in training set is: 0.541469931602478\n",
            "at epoch 12 loss on one batch in training set is: 0.5935246348381042\n",
            "at epoch 13 loss on one batch in training set is: 0.4896433353424072\n",
            "at epoch 14 loss on one batch in training set is: 0.2102300077676773\n",
            "at epoch 15 loss on one batch in training set is: 0.33061960339546204\n",
            "at epoch 16 loss on one batch in training set is: 0.5636537075042725\n",
            "at epoch 17 loss on one batch in training set is: 0.3754357397556305\n",
            "at epoch 18 loss on one batch in training set is: 0.2360818088054657\n",
            "at epoch 19 loss on one batch in training set is: 0.24600005149841309\n",
            "at epoch 20 loss on one batch in training set is: 0.20643113553524017\n",
            "at epoch 21 loss on one batch in training set is: 0.2897702157497406\n",
            "at epoch 22 loss on one batch in training set is: 0.2997577488422394\n",
            "at epoch 23 loss on one batch in training set is: 0.16897381842136383\n",
            "at epoch 24 loss on one batch in training set is: 0.3222998082637787\n",
            "at epoch 25 loss on one batch in training set is: 0.1885654628276825\n",
            "at epoch 26 loss on one batch in training set is: 0.36243754625320435\n",
            "at epoch 27 loss on one batch in training set is: 0.4170641303062439\n",
            "at epoch 28 loss on one batch in training set is: 0.5884921550750732\n",
            "at epoch 29 loss on one batch in training set is: 0.18429799377918243\n",
            "at epoch 30 loss on one batch in training set is: 0.3335375189781189\n",
            "at epoch 31 loss on one batch in training set is: 0.29399657249450684\n",
            "at epoch 32 loss on one batch in training set is: 0.1960599720478058\n",
            "at epoch 33 loss on one batch in training set is: 0.09702944755554199\n",
            "at epoch 34 loss on one batch in training set is: 0.3214029371738434\n",
            "at epoch 35 loss on one batch in training set is: 0.06653162091970444\n",
            "at epoch 36 loss on one batch in training set is: 0.32498836517333984\n",
            "at epoch 37 loss on one batch in training set is: 0.16489745676517487\n",
            "at epoch 38 loss on one batch in training set is: 0.08874557167291641\n",
            "at epoch 39 loss on one batch in training set is: 0.05959547311067581\n",
            "at epoch 40 loss on one batch in training set is: 0.11476140469312668\n",
            "at epoch 41 loss on one batch in training set is: 0.158848837018013\n",
            "at epoch 42 loss on one batch in training set is: 0.06907984614372253\n",
            "at epoch 43 loss on one batch in training set is: 0.2149355113506317\n",
            "at epoch 44 loss on one batch in training set is: 0.160160094499588\n",
            "at epoch 45 loss on one batch in training set is: 0.14531287550926208\n",
            "at epoch 46 loss on one batch in training set is: 0.10403399914503098\n",
            "at epoch 47 loss on one batch in training set is: 0.05271537974476814\n",
            "at epoch 48 loss on one batch in training set is: 0.15507665276527405\n",
            "at epoch 49 loss on one batch in training set is: 0.05026645213365555\n",
            "at epoch 50 loss on one batch in training set is: 0.06462663412094116\n",
            "at epoch 51 loss on one batch in training set is: 0.1673167496919632\n",
            "at epoch 52 loss on one batch in training set is: 0.03898290544748306\n",
            "at epoch 53 loss on one batch in training set is: 0.10127365589141846\n",
            "at epoch 54 loss on one batch in training set is: 0.03616860881447792\n",
            "at epoch 55 loss on one batch in training set is: 0.05640304461121559\n",
            "at epoch 56 loss on one batch in training set is: 0.08093009144067764\n",
            "at epoch 57 loss on one batch in training set is: 0.13382868468761444\n",
            "at epoch 58 loss on one batch in training set is: 0.06509260833263397\n",
            "at epoch 59 loss on one batch in training set is: 0.042035143822431564\n",
            "at epoch 60 loss on one batch in training set is: 0.024638622999191284\n",
            "at epoch 61 loss on one batch in training set is: 0.05857815966010094\n",
            "at epoch 62 loss on one batch in training set is: 0.025023827329277992\n",
            "at epoch 63 loss on one batch in training set is: 0.032361701130867004\n",
            "at epoch 64 loss on one batch in training set is: 0.02779369056224823\n",
            "at epoch 65 loss on one batch in training set is: 0.0937032476067543\n",
            "at epoch 66 loss on one batch in training set is: 0.18135423958301544\n",
            "at epoch 67 loss on one batch in training set is: 0.02729974128305912\n",
            "at epoch 68 loss on one batch in training set is: 0.05847766995429993\n",
            "at epoch 69 loss on one batch in training set is: 0.0452326163649559\n",
            "at epoch 70 loss on one batch in training set is: 0.031004630029201508\n",
            "at epoch 71 loss on one batch in training set is: 0.019054260104894638\n",
            "at epoch 72 loss on one batch in training set is: 0.03373505547642708\n",
            "at epoch 73 loss on one batch in training set is: 0.01467893086373806\n",
            "at epoch 74 loss on one batch in training set is: 0.05124261602759361\n",
            "at epoch 75 loss on one batch in training set is: 0.02578847110271454\n",
            "at epoch 76 loss on one batch in training set is: 0.11669620126485825\n",
            "at epoch 77 loss on one batch in training set is: 0.026457270607352257\n",
            "at epoch 78 loss on one batch in training set is: 0.02096131443977356\n",
            "at epoch 79 loss on one batch in training set is: 0.012586310505867004\n",
            "at epoch 80 loss on one batch in training set is: 0.0287983026355505\n",
            "at epoch 81 loss on one batch in training set is: 0.04180649667978287\n",
            "at epoch 82 loss on one batch in training set is: 0.02205231599509716\n",
            "at epoch 83 loss on one batch in training set is: 0.009918443858623505\n",
            "at epoch 84 loss on one batch in training set is: 0.00441210949793458\n",
            "at epoch 85 loss on one batch in training set is: 0.050702184438705444\n",
            "at epoch 86 loss on one batch in training set is: 0.04181660711765289\n",
            "at epoch 87 loss on one batch in training set is: 0.11231759190559387\n",
            "at epoch 88 loss on one batch in training set is: 0.020963190123438835\n",
            "at epoch 89 loss on one batch in training set is: 0.011219327338039875\n",
            "at epoch 90 loss on one batch in training set is: 0.03194838762283325\n",
            "at epoch 91 loss on one batch in training set is: 0.017630239948630333\n",
            "at epoch 92 loss on one batch in training set is: 0.021845007315278053\n",
            "at epoch 93 loss on one batch in training set is: 0.008583488874137402\n",
            "at epoch 94 loss on one batch in training set is: 0.022507155314087868\n",
            "at epoch 95 loss on one batch in training set is: 0.02521900087594986\n",
            "at epoch 96 loss on one batch in training set is: 0.01999337039887905\n",
            "at epoch 97 loss on one batch in training set is: 0.0044665029272437096\n",
            "at epoch 98 loss on one batch in training set is: 0.020425640046596527\n",
            "at epoch 99 loss on one batch in training set is: 0.004460545722395182\n",
            "at epoch 100 loss on one batch in training set is: 0.01907600462436676\n"
          ],
          "name": "stdout"
        }
      ]
    },
    {
      "cell_type": "code",
      "metadata": {
        "colab": {
          "base_uri": "https://localhost:8080/"
        },
        "id": "SMnQ9KVQ4ipP",
        "outputId": "e8ce72d1-2a80-40d0-a14d-2260d07bd48c"
      },
      "source": [
        "get_accuracy(x_train, y_train)"
      ],
      "execution_count": 218,
      "outputs": [
        {
          "output_type": "stream",
          "text": [
            "Accuracy is: 0.9995\n"
          ],
          "name": "stdout"
        }
      ]
    },
    {
      "cell_type": "code",
      "metadata": {
        "colab": {
          "base_uri": "https://localhost:8080/"
        },
        "id": "rn7-SsFi9hIB",
        "outputId": "6a3ddbf6-db3e-43c4-d653-6133d4996c48"
      },
      "source": [
        "get_accuracy(x_val, y_val)"
      ],
      "execution_count": 219,
      "outputs": [
        {
          "output_type": "stream",
          "text": [
            "Accuracy is: 0.817\n"
          ],
          "name": "stdout"
        }
      ]
    },
    {
      "cell_type": "markdown",
      "metadata": {
        "id": "TuvGCgon_6iT"
      },
      "source": [
        "As we can see, when we do gradient descent on batches, it overfits. Although the speed isn't considerably faster."
      ]
    },
    {
      "cell_type": "markdown",
      "metadata": {
        "id": "Moq3PXwdAH8T"
      },
      "source": [
        "# Conclusion"
      ]
    },
    {
      "cell_type": "markdown",
      "metadata": {
        "id": "VYGRHLO8AKOt"
      },
      "source": [
        "- We can regonize birds and planes now with 80% accuracy.\r\n",
        "- `DataLoader` can be used when we want to sample in batches in a huge dataset.\r\n",
        "- `SGD` in our case will achieve 100% accuracy on training set but only 80% on validation set. We are overfitting. Full batch training tends not to overfit?\r\n",
        "- when doing classification we use `softmax + Negative Loss likelihood loss`, or `CrossEntropy`\r\n",
        "- it starts to take a long time to train a network with 1 million + parameters. (100 loops takes about 3 - 5 minutes, on CPU)"
      ]
    },
    {
      "cell_type": "code",
      "metadata": {
        "id": "YswruyCX6ezh"
      },
      "source": [
        ""
      ],
      "execution_count": null,
      "outputs": []
    }
  ]
}