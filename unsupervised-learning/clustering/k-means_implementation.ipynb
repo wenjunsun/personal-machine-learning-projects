{
  "nbformat": 4,
  "nbformat_minor": 0,
  "metadata": {
    "colab": {
      "name": "k-means-implementation.ipynb",
      "provenance": [],
      "collapsed_sections": [],
      "include_colab_link": true
    },
    "kernelspec": {
      "name": "python3",
      "display_name": "Python 3"
    }
  },
  "cells": [
    {
      "cell_type": "markdown",
      "metadata": {
        "id": "view-in-github",
        "colab_type": "text"
      },
      "source": [
        "<a href=\"https://colab.research.google.com/github/wenjunsun/personal-machine-learning-projects/blob/master/unsupervised-learning/clustering/k-means_implementation.ipynb\" target=\"_parent\"><img src=\"https://colab.research.google.com/assets/colab-badge.svg\" alt=\"Open In Colab\"/></a>"
      ]
    },
    {
      "cell_type": "code",
      "metadata": {
        "id": "pcQ19Gcogam6"
      },
      "source": [
        "import matplotlib.pyplot as plt\n",
        "import numpy as np"
      ],
      "execution_count": null,
      "outputs": []
    },
    {
      "cell_type": "code",
      "metadata": {
        "id": "CnCKeCv989r_"
      },
      "source": [
        "X = np.zeros((2,200))"
      ],
      "execution_count": null,
      "outputs": []
    },
    {
      "cell_type": "markdown",
      "metadata": {
        "id": "NkVgI_Lq_SeS"
      },
      "source": [
        "#Generate 100 Gaussian cluster around one point (1,1) and 100 Gaussian cluster around another point (10,9). X is 2 $\\times$ 200 design matrix, each column is a data point"
      ]
    },
    {
      "cell_type": "code",
      "metadata": {
        "id": "_8SmlqnUgilC",
        "colab": {
          "base_uri": "https://localhost:8080/",
          "height": 285
        },
        "outputId": "7dc3569f-5e55-413b-e7f2-4feb37dc9e28"
      },
      "source": [
        "for i in range(100):\n",
        "  x,y = np.random.multivariate_normal([3,3],[[1,0],[0,1]])\n",
        "  X[0,i] = x\n",
        "  X[1,i] = y\n",
        "  plt.plot(x,y,'b.')\n",
        "  \n",
        "for i in range(100,200):\n",
        "  x,y = np.random.multivariate_normal([10,9],[[3,2],[2,5]])\n",
        "  X[0,i] = x\n",
        "  X[1,i] = y\n",
        "  plt.plot(x,y,'r.')"
      ],
      "execution_count": null,
      "outputs": [
        {
          "output_type": "display_data",
          "data": {
            "image/png": "[encoded data removed]",
            "text/plain": [
              "<Figure size 432x288 with 1 Axes>"
            ]
          },
          "metadata": {
            "tags": []
          }
        }
      ]
    },
    {
      "cell_type": "markdown",
      "metadata": {
        "id": "-0K9NIw0_6c5"
      },
      "source": [
        "#randomly generate two centroids"
      ]
    },
    {
      "cell_type": "code",
      "metadata": {
        "id": "IIFLmoMuAAKv"
      },
      "source": [
        "mu_1 = np.asarray(np.random.uniform(0,20,2))"
      ],
      "execution_count": null,
      "outputs": []
    },
    {
      "cell_type": "code",
      "metadata": {
        "id": "oAuuRQL6AKg2"
      },
      "source": [
        "mu_2 = np.asarray(np.random.uniform(0,20,2))"
      ],
      "execution_count": null,
      "outputs": []
    },
    {
      "cell_type": "code",
      "metadata": {
        "id": "siMgJRUDA5MV",
        "colab": {
          "base_uri": "https://localhost:8080/",
          "height": 303
        },
        "outputId": "3a3399e9-92e1-4b8f-bb9b-ab3f2fd49b55"
      },
      "source": [
        "plt.scatter(X[0,:],X[1,:])\n",
        "plt.scatter(mu_1[0],mu_1[1],c='b')\n",
        "plt.scatter(mu_2[0],mu_2[1],c='r')"
      ],
      "execution_count": null,
      "outputs": [
        {
          "output_type": "execute_result",
          "data": {
            "text/plain": [
              "<matplotlib.collections.PathCollection at 0x7f29f3a2c2e8>"
            ]
          },
          "metadata": {
            "tags": []
          },
          "execution_count": 150
        },
        {
          "output_type": "display_data",
          "data": {
            "image/png": "[encoded data removed]",
            "text/plain": [
              "<Figure size 432x288 with 1 Axes>"
            ]
          },
          "metadata": {
            "tags": []
          }
        }
      ]
    },
    {
      "cell_type": "code",
      "metadata": {
        "id": "witq9kCnBXwX"
      },
      "source": [
        "# in each iteration: make each point belong to the centroid closest to the point,\n",
        "# and sum all the points up for that cluster to update the new centroid for that \n",
        "# cluster.\n",
        "\n",
        "c = np.zeros(200) # c acts like a cluster assigning function: \n",
        "                  # given a point, it outputs 1 if that point belongs to centroid 1,\n",
        "                  # and 2 if that point belongs to centroid 2 \n",
        "\n",
        "for i in range(10):\n",
        "  # calculate c function. Know which cluster each point belongs to\n",
        "  for j in range(200):\n",
        "    distance_to_mu_1 = np.linalg.norm(X[:,j]-mu_1)\n",
        "    distance_to_mu_2 = np.linalg.norm(X[:,j]-mu_2)\n",
        "    c[j] = 1 if distance_to_mu_1 < distance_to_mu_2 else 2\n",
        "  # update centroids\n",
        "  new_mu_1 = np.zeros((2))\n",
        "  num_points_1 = 0\n",
        "  new_mu_2 = np.zeros((2))\n",
        "  num_points_2 = 0\n",
        "  for index in range(200):\n",
        "    if c[index] == 1:\n",
        "      num_points_1 += 1\n",
        "      new_mu_1 += X[:,index]\n",
        "    else:\n",
        "      num_points_2 += 1\n",
        "      new_mu_2 += X[:,index]\n",
        "  mu_1 = new_mu_1/num_points_1\n",
        "  mu_2 = new_mu_2/num_points_2\n",
        "      "
      ],
      "execution_count": null,
      "outputs": []
    },
    {
      "cell_type": "code",
      "metadata": {
        "id": "454ra_BWGKBO",
        "colab": {
          "base_uri": "https://localhost:8080/",
          "height": 282
        },
        "outputId": "4c010f4c-a190-4668-a2e1-4edbed7752f5"
      },
      "source": [
        "plt.scatter(X[0,:],X[1,:])\n",
        "plt.scatter(mu_1[0],mu_1[1],c='b')\n",
        "plt.scatter(mu_2[0],mu_2[1],c='r')"
      ],
      "execution_count": null,
      "outputs": [
        {
          "output_type": "execute_result",
          "data": {
            "text/plain": [
              "<matplotlib.collections.PathCollection at 0x7f29f3f64160>"
            ]
          },
          "metadata": {
            "tags": []
          },
          "execution_count": 126
        },
        {
          "output_type": "display_data",
          "data": {
            "image/png": "[encoded data removed]",
            "text/plain": [
              "<Figure size 432x288 with 1 Axes>"
            ]
          },
          "metadata": {
            "tags": []
          }
        }
      ]
    },
    {
      "cell_type": "code",
      "metadata": {
        "id": "ExOR8O6LIHsc"
      },
      "source": [
        "# now let's see how scikit-learn's K-means compare to ours:\n",
        "from sklearn.cluster import KMeans"
      ],
      "execution_count": null,
      "outputs": []
    },
    {
      "cell_type": "code",
      "metadata": {
        "id": "081SNniaJStf"
      },
      "source": [
        "kmeans = KMeans(n_clusters=2, random_state=0).fit(X.T)"
      ],
      "execution_count": null,
      "outputs": []
    },
    {
      "cell_type": "code",
      "metadata": {
        "id": "bAPdF2B3JkNn",
        "colab": {
          "base_uri": "https://localhost:8080/",
          "height": 51
        },
        "outputId": "14ee5db4-3e6e-406c-ed13-76ba35c0cf1c"
      },
      "source": [
        "centroids = kmeans.cluster_centers_\n",
        "print(kmeans.cluster_centers_)"
      ],
      "execution_count": null,
      "outputs": [
        {
          "output_type": "stream",
          "text": [
            "[[10.47401919  9.2238743 ]\n",
            " [ 3.1456496   2.96274526]]\n"
          ],
          "name": "stdout"
        }
      ]
    },
    {
      "cell_type": "code",
      "metadata": {
        "id": "fOz_6iSNPo1t",
        "colab": {
          "base_uri": "https://localhost:8080/",
          "height": 187
        },
        "outputId": "ec2356aa-a68f-47b3-93eb-6d122b1f8051"
      },
      "source": [
        "kmeans.labels_"
      ],
      "execution_count": null,
      "outputs": [
        {
          "output_type": "execute_result",
          "data": {
            "text/plain": [
              "array([1, 1, 1, 1, 1, 1, 1, 1, 1, 1, 1, 1, 1, 1, 1, 1, 1, 1, 1, 1, 1, 1,\n",
              "       1, 1, 1, 1, 1, 1, 1, 1, 1, 1, 1, 1, 1, 1, 1, 1, 1, 1, 1, 1, 1, 1,\n",
              "       1, 1, 1, 1, 1, 1, 1, 1, 1, 1, 1, 1, 1, 1, 1, 1, 1, 1, 1, 1, 1, 1,\n",
              "       1, 1, 1, 1, 1, 1, 1, 1, 1, 1, 1, 1, 1, 1, 1, 1, 1, 1, 1, 1, 1, 1,\n",
              "       1, 1, 1, 1, 1, 1, 1, 1, 1, 1, 1, 1, 0, 0, 0, 0, 0, 0, 0, 0, 0, 0,\n",
              "       0, 0, 0, 0, 0, 0, 0, 0, 0, 0, 1, 0, 0, 0, 1, 0, 0, 0, 1, 0, 0, 0,\n",
              "       1, 0, 0, 0, 0, 0, 0, 0, 0, 0, 0, 0, 0, 0, 0, 0, 0, 0, 0, 0, 0, 0,\n",
              "       0, 0, 0, 0, 0, 0, 0, 0, 0, 0, 0, 0, 0, 0, 0, 0, 0, 0, 0, 0, 0, 0,\n",
              "       0, 0, 0, 0, 0, 0, 0, 0, 0, 0, 0, 0, 0, 0, 0, 0, 0, 0, 0, 0, 0, 0,\n",
              "       0, 0], dtype=int32)"
            ]
          },
          "metadata": {
            "tags": []
          },
          "execution_count": 143
        }
      ]
    },
    {
      "cell_type": "code",
      "metadata": {
        "id": "QIwvyAukNvcD",
        "colab": {
          "base_uri": "https://localhost:8080/",
          "height": 51
        },
        "outputId": "253d64eb-5957-47b0-c370-62a14b4e9110"
      },
      "source": [
        "print(mu_1)\n",
        "print(mu_2)"
      ],
      "execution_count": null,
      "outputs": [
        {
          "output_type": "stream",
          "text": [
            "[3.1456496  2.96274526]\n",
            "[10.47401919  9.2238743 ]\n"
          ],
          "name": "stdout"
        }
      ]
    },
    {
      "cell_type": "code",
      "metadata": {
        "id": "DFZrlTiPKVNa",
        "colab": {
          "base_uri": "https://localhost:8080/",
          "height": 282
        },
        "outputId": "25c83db4-2bf4-4b13-93bf-074a61d6fcff"
      },
      "source": [
        "plt.scatter(X[0,:],X[1,:])\n",
        "plt.scatter(centroids[0,0],centroids[0,1],c='r')\n",
        "plt.scatter(centroids[1,0],centroids[1,1],c='b')"
      ],
      "execution_count": null,
      "outputs": [
        {
          "output_type": "execute_result",
          "data": {
            "text/plain": [
              "<matplotlib.collections.PathCollection at 0x7f29f3faa6a0>"
            ]
          },
          "metadata": {
            "tags": []
          },
          "execution_count": 130
        },
        {
          "output_type": "display_data",
          "data": {
            "image/png": "[encoded data removed]",
            "text/plain": [
              "<Figure size 432x288 with 1 Axes>"
            ]
          },
          "metadata": {
            "tags": []
          }
        }
      ]
    },
    {
      "cell_type": "markdown",
      "metadata": {
        "id": "N9ajFoWv13jw"
      },
      "source": [
        "look pretty close to mine! I implemented the correct version,\r\n",
        "\r\n",
        "just maybe is not that elegant I guess.\r\n",
        "\r\n",
        "and for scikit-learn we need to pass X for each instance in a row,\r\n",
        "\r\n",
        "I did it so X is each instance in a column.\r\n",
        "\r\n",
        "by the way, scikit-learn implements k-means++ which is more stable than our version"
      ]
    },
    {
      "cell_type": "code",
      "metadata": {
        "id": "hF4Dn_YQMZUw",
        "colab": {
          "base_uri": "https://localhost:8080/",
          "height": 34
        },
        "outputId": "f215b13c-0d49-4af7-8fd6-09bce7edefae"
      },
      "source": [
        " kmeans.predict([[0, 0],[10,10],[6,6],[7,7],[5,5]])"
      ],
      "execution_count": null,
      "outputs": [
        {
          "output_type": "execute_result",
          "data": {
            "text/plain": [
              "array([1, 0, 1, 0, 1], dtype=int32)"
            ]
          },
          "metadata": {
            "tags": []
          },
          "execution_count": 142
        }
      ]
    }
  ]
}