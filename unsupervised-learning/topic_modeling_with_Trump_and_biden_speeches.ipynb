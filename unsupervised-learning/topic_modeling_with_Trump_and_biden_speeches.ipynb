{
  "nbformat": 4,
  "nbformat_minor": 0,
  "metadata": {
    "colab": {
      "name": "topic_modeling_with_Trump_and_biden_speeches.ipynb",
      "provenance": [],
      "mount_file_id": "1OQ7rEEJROwkO4DrD3rNxiUc8qw574bLf",
      "authorship_tag": "ABX9TyPEAQRovBvT4MqVR6wsO09k",
      "include_colab_link": true
    },
    "kernelspec": {
      "name": "python3",
      "display_name": "Python 3"
    }
  },
  "cells": [
    {
      "cell_type": "markdown",
      "metadata": {
        "id": "view-in-github",
        "colab_type": "text"
      },
      "source": [
        "<a href=\"https://colab.research.google.com/github/wenjunsun/personal-machine-learning-projects/blob/master/unsupervised-learning/topic_modeling_with_Trump_and_biden_speeches.ipynb\" target=\"_parent\"><img src=\"https://colab.research.google.com/assets/colab-badge.svg\" alt=\"Open In Colab\"/></a>"
      ]
    },
    {
      "cell_type": "markdown",
      "metadata": {
        "id": "LyZlaepqXF2u",
        "colab_type": "text"
      },
      "source": [
        "In this notebook we will look at what each candidate talks about in their speeches. My expectation is that Biden talks more about environment and race issues and Trump talks more about economics. But we will see if that is really the case.\n",
        "\n",
        "There are obviously a lot of ways to do topic modeling. In this notebook I will explore two techniques that fall into the realm of matrix decomposition: SVD and NMF."
      ]
    },
    {
      "cell_type": "markdown",
      "metadata": {
        "id": "4bqxAVcV7IUK",
        "colab_type": "text"
      },
      "source": [
        "I won't provide details about how NMF or SVD works, interested readers can read more about these methods online.\n",
        "\n",
        "Motivation for using matrix decomposition to do topic modeling by Rachel Thomas from Fast AI: \n",
        "\n",
        "> \"Consider the most extreme case - reconstructing the matrix using an outer product of two vectors. Clearly, in most cases we won't be able to reconstruct the matrix exactly. But if we had one vector with the relative frequency of each vocabulary word out of the total word count, and one with the average number of words per document, then that outer product would be as close as we can get.\n",
        "Now consider increasing that matrices to two columns and two rows. The optimal decomposition would now be to cluster the documents into two groups, each of which has as different a distribution of words as possible to each other, but as similar as possible amongst the documents in the cluster. We will call those two groups \"topics\". And we would cluster the words into two groups, based on those which most frequently appear in each of the topics.\""
      ]
    },
    {
      "cell_type": "code",
      "metadata": {
        "id": "w70fYTqNnTC0",
        "colab_type": "code",
        "colab": {}
      },
      "source": [
        "import numpy as np # basical linear algbera numerical computation package.\n",
        "import pandas as pd # for reading data."
      ],
      "execution_count": 1,
      "outputs": []
    },
    {
      "cell_type": "markdown",
      "metadata": {
        "id": "ReDH9n-TyKpe",
        "colab_type": "text"
      },
      "source": [
        "# 1. Read Data"
      ]
    },
    {
      "cell_type": "markdown",
      "metadata": {
        "id": "iEKW1D3XzpiY",
        "colab_type": "text"
      },
      "source": [
        "Data is collected by Elijah Greisz, from [this website](https://www.rev.com/blog/transcript-category/2020-election-transcripts), we used speeches of both Biden and Trump from Aug 1 to Sep 10 as our data. "
      ]
    },
    {
      "cell_type": "code",
      "metadata": {
        "id": "EZG6ZA2_0Bmg",
        "colab_type": "code",
        "colab": {
          "base_uri": "https://localhost:8080/",
          "height": 0
        },
        "outputId": "5c9333ae-0a19-41bd-d1fc-bf85b62240ef"
      },
      "source": [
        "ls"
      ],
      "execution_count": 21,
      "outputs": [
        {
          "output_type": "stream",
          "text": [
            "\u001b[0m\u001b[01;34mdrive\u001b[0m/  \u001b[01;34msample_data\u001b[0m/\n"
          ],
          "name": "stdout"
        }
      ]
    },
    {
      "cell_type": "code",
      "metadata": {
        "id": "p21aXGd7zjK0",
        "colab_type": "code",
        "colab": {}
      },
      "source": [
        "# before running this line need to connect to Google Drive.\n",
        "data = pd.read_csv('drive/My Drive/political_sentiment_analysis/text_data.csv')"
      ],
      "execution_count": 22,
      "outputs": []
    },
    {
      "cell_type": "code",
      "metadata": {
        "id": "eMWYEwe90PfF",
        "colab_type": "code",
        "colab": {
          "base_uri": "https://localhost:8080/",
          "height": 0
        },
        "outputId": "65975bce-3f0a-4e3d-922b-730a9f527add"
      },
      "source": [
        "data.head()"
      ],
      "execution_count": 23,
      "outputs": [
        {
          "output_type": "execute_result",
          "data": {
            "text/html": [
              "<div>\n",
              "<style scoped>\n",
              "    .dataframe tbody tr th:only-of-type {\n",
              "        vertical-align: middle;\n",
              "    }\n",
              "\n",
              "    .dataframe tbody tr th {\n",
              "        vertical-align: top;\n",
              "    }\n",
              "\n",
              "    .dataframe thead th {\n",
              "        text-align: right;\n",
              "    }\n",
              "</style>\n",
              "<table border=\"1\" class=\"dataframe\">\n",
              "  <thead>\n",
              "    <tr style=\"text-align: right;\">\n",
              "      <th></th>\n",
              "      <th>text</th>\n",
              "      <th>speech</th>\n",
              "      <th>candidate</th>\n",
              "    </tr>\n",
              "  </thead>\n",
              "  <tbody>\n",
              "    <tr>\n",
              "      <th>0</th>\n",
              "      <td>Good afternoon folks. Sorry I’m a little late....</td>\n",
              "      <td>Joe Biden Press Conference Transcript September 4</td>\n",
              "      <td>biden</td>\n",
              "    </tr>\n",
              "    <tr>\n",
              "      <th>1</th>\n",
              "      <td>When my son volunteered and joined the United ...</td>\n",
              "      <td>Joe Biden Press Conference Transcript September 4</td>\n",
              "      <td>biden</td>\n",
              "    </tr>\n",
              "    <tr>\n",
              "      <th>2</th>\n",
              "      <td>He stood by failing, failing to take action or...</td>\n",
              "      <td>Joe Biden Press Conference Transcript September 4</td>\n",
              "      <td>biden</td>\n",
              "    </tr>\n",
              "    <tr>\n",
              "      <th>3</th>\n",
              "      <td>I’ve talked to a lot of real working people, a...</td>\n",
              "      <td>Joe Biden Press Conference Transcript September 4</td>\n",
              "      <td>biden</td>\n",
              "    </tr>\n",
              "    <tr>\n",
              "      <th>4</th>\n",
              "      <td>This is a special place for the Biden family. ...</td>\n",
              "      <td>Joe Biden Press Conference Transcript September 4</td>\n",
              "      <td>biden</td>\n",
              "    </tr>\n",
              "  </tbody>\n",
              "</table>\n",
              "</div>"
            ],
            "text/plain": [
              "                                                text  ... candidate\n",
              "0  Good afternoon folks. Sorry I’m a little late....  ...     biden\n",
              "1  When my son volunteered and joined the United ...  ...     biden\n",
              "2  He stood by failing, failing to take action or...  ...     biden\n",
              "3  I’ve talked to a lot of real working people, a...  ...     biden\n",
              "4  This is a special place for the Biden family. ...  ...     biden\n",
              "\n",
              "[5 rows x 3 columns]"
            ]
          },
          "metadata": {
            "tags": []
          },
          "execution_count": 23
        }
      ]
    },
    {
      "cell_type": "code",
      "metadata": {
        "id": "TFa7HSMsiLzb",
        "colab_type": "code",
        "colab": {
          "base_uri": "https://localhost:8080/",
          "height": 0
        },
        "outputId": "05b86bcc-57fe-4304-9eba-1f221de676f6"
      },
      "source": [
        "# select speech texts from biden\n",
        "biden_data = data[data['candidate'] == 'biden']\n",
        "biden_data.head()"
      ],
      "execution_count": 24,
      "outputs": [
        {
          "output_type": "execute_result",
          "data": {
            "text/html": [
              "<div>\n",
              "<style scoped>\n",
              "    .dataframe tbody tr th:only-of-type {\n",
              "        vertical-align: middle;\n",
              "    }\n",
              "\n",
              "    .dataframe tbody tr th {\n",
              "        vertical-align: top;\n",
              "    }\n",
              "\n",
              "    .dataframe thead th {\n",
              "        text-align: right;\n",
              "    }\n",
              "</style>\n",
              "<table border=\"1\" class=\"dataframe\">\n",
              "  <thead>\n",
              "    <tr style=\"text-align: right;\">\n",
              "      <th></th>\n",
              "      <th>text</th>\n",
              "      <th>speech</th>\n",
              "      <th>candidate</th>\n",
              "    </tr>\n",
              "  </thead>\n",
              "  <tbody>\n",
              "    <tr>\n",
              "      <th>0</th>\n",
              "      <td>Good afternoon folks. Sorry I’m a little late....</td>\n",
              "      <td>Joe Biden Press Conference Transcript September 4</td>\n",
              "      <td>biden</td>\n",
              "    </tr>\n",
              "    <tr>\n",
              "      <th>1</th>\n",
              "      <td>When my son volunteered and joined the United ...</td>\n",
              "      <td>Joe Biden Press Conference Transcript September 4</td>\n",
              "      <td>biden</td>\n",
              "    </tr>\n",
              "    <tr>\n",
              "      <th>2</th>\n",
              "      <td>He stood by failing, failing to take action or...</td>\n",
              "      <td>Joe Biden Press Conference Transcript September 4</td>\n",
              "      <td>biden</td>\n",
              "    </tr>\n",
              "    <tr>\n",
              "      <th>3</th>\n",
              "      <td>I’ve talked to a lot of real working people, a...</td>\n",
              "      <td>Joe Biden Press Conference Transcript September 4</td>\n",
              "      <td>biden</td>\n",
              "    </tr>\n",
              "    <tr>\n",
              "      <th>4</th>\n",
              "      <td>This is a special place for the Biden family. ...</td>\n",
              "      <td>Joe Biden Press Conference Transcript September 4</td>\n",
              "      <td>biden</td>\n",
              "    </tr>\n",
              "  </tbody>\n",
              "</table>\n",
              "</div>"
            ],
            "text/plain": [
              "                                                text  ... candidate\n",
              "0  Good afternoon folks. Sorry I’m a little late....  ...     biden\n",
              "1  When my son volunteered and joined the United ...  ...     biden\n",
              "2  He stood by failing, failing to take action or...  ...     biden\n",
              "3  I’ve talked to a lot of real working people, a...  ...     biden\n",
              "4  This is a special place for the Biden family. ...  ...     biden\n",
              "\n",
              "[5 rows x 3 columns]"
            ]
          },
          "metadata": {
            "tags": []
          },
          "execution_count": 24
        }
      ]
    },
    {
      "cell_type": "code",
      "metadata": {
        "id": "OnR4-AqAiOVe",
        "colab_type": "code",
        "colab": {
          "base_uri": "https://localhost:8080/",
          "height": 0
        },
        "outputId": "3d020b05-6e48-4f61-bca7-4563ce9b008f"
      },
      "source": [
        "# select speech texts from trump\n",
        "trump_data = data[data['candidate'] == 'trump']\n",
        "trump_data.head()"
      ],
      "execution_count": 25,
      "outputs": [
        {
          "output_type": "execute_result",
          "data": {
            "text/html": [
              "<div>\n",
              "<style scoped>\n",
              "    .dataframe tbody tr th:only-of-type {\n",
              "        vertical-align: middle;\n",
              "    }\n",
              "\n",
              "    .dataframe tbody tr th {\n",
              "        vertical-align: top;\n",
              "    }\n",
              "\n",
              "    .dataframe thead th {\n",
              "        text-align: right;\n",
              "    }\n",
              "</style>\n",
              "<table border=\"1\" class=\"dataframe\">\n",
              "  <thead>\n",
              "    <tr style=\"text-align: right;\">\n",
              "      <th></th>\n",
              "      <th>text</th>\n",
              "      <th>speech</th>\n",
              "      <th>candidate</th>\n",
              "    </tr>\n",
              "  </thead>\n",
              "  <tbody>\n",
              "    <tr>\n",
              "      <th>362</th>\n",
              "      <td>We brought you a lot of car plants, Michigan. ...</td>\n",
              "      <td>Donald Trump Freeland MI Campaign Rally Speech...</td>\n",
              "      <td>trump</td>\n",
              "    </tr>\n",
              "    <tr>\n",
              "      <th>363</th>\n",
              "      <td>Long time, it’s been a long time since you had...</td>\n",
              "      <td>Donald Trump Freeland MI Campaign Rally Speech...</td>\n",
              "      <td>trump</td>\n",
              "    </tr>\n",
              "    <tr>\n",
              "      <th>364</th>\n",
              "      <td>This is the most important election in the his...</td>\n",
              "      <td>Donald Trump Freeland MI Campaign Rally Speech...</td>\n",
              "      <td>trump</td>\n",
              "    </tr>\n",
              "    <tr>\n",
              "      <th>365</th>\n",
              "      <td>We shouldn’t be smiling about it, but we’ve ch...</td>\n",
              "      <td>Donald Trump Freeland MI Campaign Rally Speech...</td>\n",
              "      <td>trump</td>\n",
              "    </tr>\n",
              "    <tr>\n",
              "      <th>366</th>\n",
              "      <td>If Biden wins, China wins. If Biden wins, the ...</td>\n",
              "      <td>Donald Trump Freeland MI Campaign Rally Speech...</td>\n",
              "      <td>trump</td>\n",
              "    </tr>\n",
              "  </tbody>\n",
              "</table>\n",
              "</div>"
            ],
            "text/plain": [
              "                                                  text  ... candidate\n",
              "362  We brought you a lot of car plants, Michigan. ...  ...     trump\n",
              "363  Long time, it’s been a long time since you had...  ...     trump\n",
              "364  This is the most important election in the his...  ...     trump\n",
              "365  We shouldn’t be smiling about it, but we’ve ch...  ...     trump\n",
              "366  If Biden wins, China wins. If Biden wins, the ...  ...     trump\n",
              "\n",
              "[5 rows x 3 columns]"
            ]
          },
          "metadata": {
            "tags": []
          },
          "execution_count": 25
        }
      ]
    },
    {
      "cell_type": "code",
      "metadata": {
        "id": "u_ZJxoOOiYuw",
        "colab_type": "code",
        "colab": {
          "base_uri": "https://localhost:8080/",
          "height": 0
        },
        "outputId": "9f04726a-1154-42e9-f3d7-d20d90339b21"
      },
      "source": [
        "print(f'there are {biden_data.shape[0]} records of Biden speech documents')\n",
        "print(f'there are {trump_data.shape[0]} records of Trump speech documents')"
      ],
      "execution_count": 26,
      "outputs": [
        {
          "output_type": "stream",
          "text": [
            "there are 362 records of Biden speech documents\n",
            "there are 886 records of Trump speech documents\n"
          ],
          "name": "stdout"
        }
      ]
    },
    {
      "cell_type": "markdown",
      "metadata": {
        "id": "YJFQ-2KL0s3D",
        "colab_type": "text"
      },
      "source": [
        "Now we want to print out some sample texts from both Trump and Biden, just to see what their speeches are like."
      ]
    },
    {
      "cell_type": "code",
      "metadata": {
        "id": "65wxORpG01Of",
        "colab_type": "code",
        "colab": {}
      },
      "source": [
        "from random import randint"
      ],
      "execution_count": 30,
      "outputs": []
    },
    {
      "cell_type": "code",
      "metadata": {
        "id": "OYuF7I6x025C",
        "colab_type": "code",
        "colab": {
          "base_uri": "https://localhost:8080/",
          "height": 0
        },
        "outputId": "ea127d5d-910c-43b6-8f9b-69794ccb8422"
      },
      "source": [
        "# randomly print 5 speeches from Biden.\n",
        "for i in range(5):\n",
        "  random_index = randint(0, biden_data.shape[0] - 1)\n",
        "  print(biden_data.iloc[random_index]['text'])\n",
        "  print()"
      ],
      "execution_count": 33,
      "outputs": [
        {
          "output_type": "stream",
          "text": [
            "And speaking of President Obama, a man I was honored to serve alongside for eight years as vice president. Let me take this moment to say something we don’t say nearly enough. Thank you, Mr. President, you were a great president, a president that our children could and did look up to. No one’s going to say that about the current occupant of the White House. What you know about this president is if he’s given four more years, he’ll be what he’s been for the last four years. The president takes no responsibility, refuses to lead, blames others, cozies up to dictators, and fans the flames of hate and division. He’ll wake up every day believing that job is all about him, never about you. Is that the America you want for you, your family, your children? I see a different America, one that’s generous and strong, selfless, and humble. It’s an America we could rebuild together.\n",
            "\n",
            "He invited companies to the White House to make what he called the pledge to American workers. He couldn’t even keep those firms from outsourcing. Many were given lucrative federal contracts, but then some of them turned around and shipped 7,000 jobs overseas. Under President Trump, US trade deficit has grown. It’s hit an all time high. Let me say that again. US trade deficit is at an all time high under Trump in the last three years.\n",
            "\n",
            "And instead of telling Vladimir Putin that there’d be no putting up with this, that there’d be a heavy price to pay if they dare touch an American soldier, this president doesn’t even bring up the subject in his multiple phone calls with Putin. It’s been reported that Russian forces just attacked American troops in Syria, injuring our service members. Did you hear the president say a single word? Did he lift one finger? Never before has an American president played such a subservient role to a Russian leader. It’s not only dangerous, it’s humiliating and embarrassing for the rest of the world to see, it weakens us. Not even American troops can feel safer under Trump. Donald Trump’s role as a bystander in his own presidency extends to the economic plan and pain. The plan he doesn’t have and the pain being felt by millions of Americans. He said this week, and I quote, “You better vote for me, or you’re going to have the greatest depression you’ve ever seen.” Does he not understand and see the tens of millions of people who’ve had to file for unemployment this year so far?\n",
            "\n",
            "One of the most important conversations I’ve had this entire campaign. It was so someone who was much too young to vote. I met with six year old Gianna Floyd the day before her daddy, George Lloyd was laid to rest. She’s an incredibly brave little girl and I’ll never forget it. When I leaned down to speak to her, she looked in my eyes and she said, and I quote, “Daddy changed the world.” Daddy changed the world. Her words burrowed deep into my heart. Maybe George Floyd’s murder was a breaking point. Maybe John Lewis’ passing is the inspiration. But however it’s come to be, however it’s happened, America’s ready in John’s words, to lay down, quote, “The heavy burden of hate at last.” And in the hard work of rooting out our systemic racism. American history tells us that it’s been in our darkest moments that we’ve made our greatest progress, that we found the light. In this dark moment, I believe we’re poised to make great progress again, that we can find the light once more.\n",
            "\n",
            "It’s not what Dr. King or John Lewis taught and it must end. Fires are burning and we have a president who fans the flames rather than fighting the flames. But we must not burn, we have to build. This president, long ago, forfeited any moral leadership in this country. He can’t stop the violence because for years he’s fomented it. He may believe mouthing the words law and order makes him strong. But his failure to call on his own supporters to stop acting as an armed militia in this country shows how weak he is. Does anyone believe there’ll be less violence in America if Donald Trump is reelected?\n",
            "\n"
          ],
          "name": "stdout"
        }
      ]
    },
    {
      "cell_type": "code",
      "metadata": {
        "id": "2rWbhRIm0eyZ",
        "colab_type": "code",
        "colab": {
          "base_uri": "https://localhost:8080/",
          "height": 0
        },
        "outputId": "46c04401-7aea-401a-c713-95e820306d0a"
      },
      "source": [
        "# randomly print 5 speeches from Trump.\n",
        "for i in range(5):\n",
        "  random_index = randint(0, trump_data.shape[0] - 1)\n",
        "  print(trump_data.iloc[random_index]['text'])\n",
        "  print()"
      ],
      "execution_count": 34,
      "outputs": [
        {
          "output_type": "stream",
          "text": [
            "And I saw where these phonies, you know they want to end everything we’ve done. They want to end it. They want to go to wind. They don’t even know if they want to go to wind. I think they want to just basically close up our country, because they’ve taken away our strength, but they want to do something. But, there is no such thing. Solar can’t do it. I love solar. It’s all fine. Very, very heavily expensive. Very expensive. But they want to go to other forms of alternative energy. And I think that’s okay, except we don’t have them. And it’s not going to power these massive factories.\n",
            "\n",
            "We can’t loose.\n",
            "\n",
            "That’s what they want to do. They want to take away your Second Amendment. If I weren’t president, you would either have an obliterated Second Amendment or it would be gone entirely. I am standing between them and your Second Amendment. And that’s it. That’s it. They know.\n",
            "\n",
            "They said manufacturing jobs will never come back. Remember, you need a magic wand. Where’s the magic wand? Well, we have the magic wand. My first week in office, I withdrew from the Trans-Pacific partnership. It would have been totally destructive to your jobs. It would have been a horror show. I withdrew from the one-sided Paris climate accord, which would have cost us so many billions of dollars. And all it would have done is made the competition even tougher all over the world. I believe it was designed to hurt the United States and to get jobs away from us and companies. I stood up to China’s rampant cheating, plunder, and theft. I repealed that horrible tax. So many taxes. How many taxes did I repeal? I’m getting a list of them now, I’ll have it for you for the next meeting. Because I’ll be back to Pennsylvania, that I promise. And I’m standing up to the special interests and to big pharma. Weeks ago, I signed four historic directives to dramatically reduce the cost of prescription drugs.\n",
            "\n",
            "It was the biggest China ordered two days. The biggest order in the history of corn. Then they did, if you look at soybeans, it was the largest soybean order in history, in history, and also beef cattle, et cetera. So it just shows you how smart China is. We sign a deal and the plague comes in. It might’ve been a mistake. It might’ve been on purpose. Who knows what happened? We’ll figure it out. But whatever it was, it was no good. They could have stopped it. But they know my attitude, I don’t like it. I don’t like it. So a normal country that’s not so smart in that position, Scott would have said, “Oh, we don’t like the way he’s talking about us. Let’s immediately shut down.” He didn’t do that. They said, “Let’s order more from the farmers than we’ve ever ordered. Biggest corn, biggest soybean, biggest cattle.”\n",
            "\n"
          ],
          "name": "stdout"
        }
      ]
    },
    {
      "cell_type": "markdown",
      "metadata": {
        "id": "3FeCxm1w1YCK",
        "colab_type": "text"
      },
      "source": [
        "We see that Trump talks about China, manufacture jobs, second Amendment.\n",
        "\n",
        "Biden talks about moral leadership, George Lloyd, American soldiers, President Obama, etc."
      ]
    },
    {
      "cell_type": "markdown",
      "metadata": {
        "id": "q8-_K52d15bA",
        "colab_type": "text"
      },
      "source": [
        "# 2. Applying SVD, NMF to extract what Trump and Biden each talks about in their speeches."
      ]
    },
    {
      "cell_type": "code",
      "metadata": {
        "id": "BvfkB-NYi95r",
        "colab_type": "code",
        "colab": {}
      },
      "source": [
        "biden_speeches = biden_data['text'].tolist()"
      ],
      "execution_count": 35,
      "outputs": []
    },
    {
      "cell_type": "code",
      "metadata": {
        "id": "FEK7ByqJjUE_",
        "colab_type": "code",
        "colab": {
          "base_uri": "https://localhost:8080/",
          "height": 103
        },
        "outputId": "5fef9af1-5690-41a6-d2dc-58decc541b35"
      },
      "source": [
        "biden_speeches[0]"
      ],
      "execution_count": 36,
      "outputs": [
        {
          "output_type": "execute_result",
          "data": {
            "application/vnd.google.colaboratory.intrinsic+json": {
              "type": "string"
            },
            "text/plain": [
              "'Good afternoon folks. Sorry I’m a little late. I was a mesmerized. I was walking out of the office, that listening to an interview of former General Barry McCaffrey and Bill Cohen, former Secretary of Defense. Before I begin, I want to speak a little bit to what they talked about and the revelations about President Trump’s disregard for our military and our veterans. Quite frankly, if what is written in the Atlantic is true, it’s disgusting. At affirms what most of us believe to be true, that Donald Trump is not fit to do the job of President, to be the Commander in Chief. The President reportedly said, and I emphasize reportedly, said that those who sign up to serve, instead of doing something more lucrative are suckers. Let me be real clear. When my son was an Assistant US Attorney and he volunteered to go to Kosovo, when the war is going on as a civilian, he wasn’t a sucker.'"
            ]
          },
          "metadata": {
            "tags": []
          },
          "execution_count": 36
        }
      ]
    },
    {
      "cell_type": "code",
      "metadata": {
        "id": "79NddA3JjXgB",
        "colab_type": "code",
        "colab": {}
      },
      "source": [
        "trump_speeches = trump_data['text'].tolist()"
      ],
      "execution_count": 37,
      "outputs": []
    },
    {
      "cell_type": "code",
      "metadata": {
        "id": "5hPs6CnCjaQx",
        "colab_type": "code",
        "colab": {
          "base_uri": "https://localhost:8080/",
          "height": 35
        },
        "outputId": "af6f6c2f-3b2d-495f-d663-81a1af828034"
      },
      "source": [
        "trump_speeches[0]"
      ],
      "execution_count": 38,
      "outputs": [
        {
          "output_type": "execute_result",
          "data": {
            "application/vnd.google.colaboratory.intrinsic+json": {
              "type": "string"
            },
            "text/plain": [
              "'We brought you a lot of car plants, Michigan. We brought you a lot of car plants. You know that, right?'"
            ]
          },
          "metadata": {
            "tags": []
          },
          "execution_count": 38
        }
      ]
    },
    {
      "cell_type": "markdown",
      "metadata": {
        "id": "qqUhAx5N34uc",
        "colab_type": "text"
      },
      "source": [
        "## 2.1 Preprocessing/tokenizing:"
      ]
    },
    {
      "cell_type": "code",
      "metadata": {
        "id": "y8pY_WRTbR46",
        "colab_type": "code",
        "colab": {}
      },
      "source": [
        "from sklearn.feature_extraction.text import TfidfVectorizer"
      ],
      "execution_count": 43,
      "outputs": []
    },
    {
      "cell_type": "code",
      "metadata": {
        "id": "PT49Vnc3m0LP",
        "colab_type": "code",
        "colab": {}
      },
      "source": [
        "# in python there is a stemming library called snowballStemmer.\n",
        "from nltk.stem.snowball import SnowballStemmer"
      ],
      "execution_count": 44,
      "outputs": []
    },
    {
      "cell_type": "code",
      "metadata": {
        "id": "FDuBHDO5m0zt",
        "colab_type": "code",
        "colab": {}
      },
      "source": [
        "import nltk"
      ],
      "execution_count": 45,
      "outputs": []
    },
    {
      "cell_type": "code",
      "metadata": {
        "id": "HtFIEfSJm156",
        "colab_type": "code",
        "colab": {
          "base_uri": "https://localhost:8080/",
          "height": 68
        },
        "outputId": "93cbe8bc-9516-4e05-b17a-b9c88cc75e4b"
      },
      "source": [
        "nltk.download('punkt')"
      ],
      "execution_count": 46,
      "outputs": [
        {
          "output_type": "stream",
          "text": [
            "[nltk_data] Downloading package punkt to /root/nltk_data...\n",
            "[nltk_data]   Package punkt is already up-to-date!\n"
          ],
          "name": "stdout"
        },
        {
          "output_type": "execute_result",
          "data": {
            "text/plain": [
              "True"
            ]
          },
          "metadata": {
            "tags": []
          },
          "execution_count": 46
        }
      ]
    },
    {
      "cell_type": "code",
      "metadata": {
        "id": "_yU_ntHEm2xu",
        "colab_type": "code",
        "colab": {
          "base_uri": "https://localhost:8080/",
          "height": 68
        },
        "outputId": "2ef2a6cf-7019-4b11-b775-f9e5c96e7414"
      },
      "source": [
        "nltk.download('stopwords')"
      ],
      "execution_count": 47,
      "outputs": [
        {
          "output_type": "stream",
          "text": [
            "[nltk_data] Downloading package stopwords to /root/nltk_data...\n",
            "[nltk_data]   Package stopwords is already up-to-date!\n"
          ],
          "name": "stdout"
        },
        {
          "output_type": "execute_result",
          "data": {
            "text/plain": [
              "True"
            ]
          },
          "metadata": {
            "tags": []
          },
          "execution_count": 47
        }
      ]
    },
    {
      "cell_type": "code",
      "metadata": {
        "id": "dvMDeDWtm37x",
        "colab_type": "code",
        "colab": {}
      },
      "source": [
        "stemmer = SnowballStemmer(language='english')"
      ],
      "execution_count": 48,
      "outputs": []
    },
    {
      "cell_type": "code",
      "metadata": {
        "id": "MHrUC3B-m46o",
        "colab_type": "code",
        "colab": {}
      },
      "source": [
        "stopwords = nltk.corpus.stopwords.words('english')\n",
        "\n",
        "def stemming_tokenizer(text):\n",
        "  tokens = []\n",
        "  sentences = nltk.sent_tokenize(text)\n",
        "  for sentence in sentences:\n",
        "    for word in nltk.word_tokenize(sentence):\n",
        "      if word not in stopwords:\n",
        "        tokens.append(word.lower())\n",
        "\n",
        "  # filter out any tokens that are not words - filter out punctuations and numbers\n",
        "  onlyWordTokens = [word for word in filter(lambda x: x.isalpha(), tokens)]\n",
        "\n",
        "  # replace every word by its stem:\n",
        "  onlyWordTokens = [stemmer.stem(word) for word in onlyWordTokens]\n",
        "\n",
        "  return onlyWordTokens"
      ],
      "execution_count": 49,
      "outputs": []
    },
    {
      "cell_type": "code",
      "metadata": {
        "id": "RZOqLepem_zP",
        "colab_type": "code",
        "colab": {
          "base_uri": "https://localhost:8080/",
          "height": 1000
        },
        "outputId": "5d721286-0651-4134-98d2-85ec4fcf9a9f"
      },
      "source": [
        "# see how the first biden speech will get tokenized.\n",
        "stemming_tokenizer(biden_speeches[0])"
      ],
      "execution_count": 50,
      "outputs": [
        {
          "output_type": "execute_result",
          "data": {
            "text/plain": [
              "['good',\n",
              " 'afternoon',\n",
              " 'folk',\n",
              " 'sorri',\n",
              " 'i',\n",
              " 'littl',\n",
              " 'late',\n",
              " 'i',\n",
              " 'mesmer',\n",
              " 'i',\n",
              " 'walk',\n",
              " 'offic',\n",
              " 'listen',\n",
              " 'interview',\n",
              " 'former',\n",
              " 'general',\n",
              " 'barri',\n",
              " 'mccaffrey',\n",
              " 'bill',\n",
              " 'cohen',\n",
              " 'former',\n",
              " 'secretari',\n",
              " 'defens',\n",
              " 'befor',\n",
              " 'i',\n",
              " 'begin',\n",
              " 'i',\n",
              " 'want',\n",
              " 'speak',\n",
              " 'littl',\n",
              " 'bit',\n",
              " 'talk',\n",
              " 'revel',\n",
              " 'presid',\n",
              " 'trump',\n",
              " 'disregard',\n",
              " 'militari',\n",
              " 'veteran',\n",
              " 'quit',\n",
              " 'frank',\n",
              " 'written',\n",
              " 'atlant',\n",
              " 'true',\n",
              " 'disgust',\n",
              " 'at',\n",
              " 'affirm',\n",
              " 'us',\n",
              " 'believ',\n",
              " 'true',\n",
              " 'donald',\n",
              " 'trump',\n",
              " 'fit',\n",
              " 'job',\n",
              " 'presid',\n",
              " 'command',\n",
              " 'chief',\n",
              " 'the',\n",
              " 'presid',\n",
              " 'report',\n",
              " 'said',\n",
              " 'i',\n",
              " 'emphas',\n",
              " 'report',\n",
              " 'said',\n",
              " 'sign',\n",
              " 'serv',\n",
              " 'instead',\n",
              " 'someth',\n",
              " 'lucrat',\n",
              " 'sucker',\n",
              " 'let',\n",
              " 'real',\n",
              " 'clear',\n",
              " 'when',\n",
              " 'son',\n",
              " 'assist',\n",
              " 'us',\n",
              " 'attorney',\n",
              " 'volunt',\n",
              " 'go',\n",
              " 'kosovo',\n",
              " 'war',\n",
              " 'go',\n",
              " 'civilian',\n",
              " 'sucker']"
            ]
          },
          "metadata": {
            "tags": []
          },
          "execution_count": 50
        }
      ]
    },
    {
      "cell_type": "code",
      "metadata": {
        "id": "rBT06OA-nGsZ",
        "colab_type": "code",
        "colab": {}
      },
      "source": [
        "tfidf_trump = TfidfVectorizer(max_df=0.99, max_features= 300,\n",
        "                        min_df=0.01, stop_words='english',\n",
        "                        use_idf=True, tokenizer = stemming_tokenizer, # our custom tokenizer that ignores the tense of words.\n",
        "                        ngram_range=(1,1))"
      ],
      "execution_count": 68,
      "outputs": []
    },
    {
      "cell_type": "code",
      "metadata": {
        "id": "rukBpxaInLee",
        "colab_type": "code",
        "colab": {
          "base_uri": "https://localhost:8080/",
          "height": 71
        },
        "outputId": "dda22257-cc0f-4178-acff-81e5d0127788"
      },
      "source": [
        "tfidf_matrix_trump = tfidf_trump.fit_transform(trump_speeches)"
      ],
      "execution_count": 69,
      "outputs": [
        {
          "output_type": "stream",
          "text": [
            "/usr/local/lib/python3.6/dist-packages/sklearn/feature_extraction/text.py:385: UserWarning: Your stop_words may be inconsistent with your preprocessing. Tokenizing the stop words generated tokens ['afterward', 'alon', 'alreadi', 'alway', 'anoth', 'anyon', 'anyth', 'anywher', 'becam', 'becom', 'besid', 'cri', 'describ', 'els', 'elsewher', 'empti', 'everi', 'everyon', 'everyth', 'everywher', 'fifti', 'forti', 'henc', 'hereaft', 'herebi', 'howev', 'hundr', 'inde', 'mani', 'meanwhil', 'moreov', 'nobodi', 'noon', 'noth', 'nowher', 'otherwis', 'perhap', 'pleas', 'sever', 'sinc', 'sincer', 'sixti', 'someon', 'someth', 'sometim', 'somewher', 'thenc', 'thereaft', 'therebi', 'therefor', 'togeth', 'twelv', 'twenti', 'whatev', 'whenc', 'whenev', 'wherea', 'whereaft', 'wherebi', 'wherev'] not in stop_words.\n",
            "  'stop_words.' % sorted(inconsistent))\n"
          ],
          "name": "stderr"
        }
      ]
    },
    {
      "cell_type": "code",
      "metadata": {
        "id": "9YY_ssGdAwAT",
        "colab_type": "code",
        "colab": {}
      },
      "source": [
        "# convert a sparse matrix to dense matrix, for later SVD.\n",
        "tfidf_matrix_trump = tfidf_matrix_trump.todense()"
      ],
      "execution_count": 84,
      "outputs": []
    },
    {
      "cell_type": "code",
      "metadata": {
        "id": "-K5-KRvv5Gjx",
        "colab_type": "code",
        "colab": {
          "base_uri": "https://localhost:8080/",
          "height": 34
        },
        "outputId": "10445409-ae0c-41b4-e57b-61d85166318f"
      },
      "source": [
        "# each of trump's speech is represented\n",
        "# by a 300 dimensional vector\n",
        "tfidf_matrix_trump.shape"
      ],
      "execution_count": 70,
      "outputs": [
        {
          "output_type": "execute_result",
          "data": {
            "text/plain": [
              "(886, 300)"
            ]
          },
          "metadata": {
            "tags": []
          },
          "execution_count": 70
        }
      ]
    },
    {
      "cell_type": "code",
      "metadata": {
        "id": "KUjMcRC39oUA",
        "colab_type": "code",
        "colab": {}
      },
      "source": [
        "tfidf_biden = TfidfVectorizer(max_df=0.99, max_features= 250,\n",
        "                        min_df=0.01, stop_words='english',\n",
        "                        use_idf=True, tokenizer = stemming_tokenizer, # our custom tokenizer that ignores the tense of words.\n",
        "                        ngram_range=(1,1))"
      ],
      "execution_count": 71,
      "outputs": []
    },
    {
      "cell_type": "code",
      "metadata": {
        "id": "qpYrgkxh5_qJ",
        "colab_type": "code",
        "colab": {
          "base_uri": "https://localhost:8080/",
          "height": 71
        },
        "outputId": "87c0ce17-678c-4187-8c34-5ab45477c0c9"
      },
      "source": [
        "tfidf_matrix_biden = tfidf_biden.fit_transform(biden_speeches)"
      ],
      "execution_count": 72,
      "outputs": [
        {
          "output_type": "stream",
          "text": [
            "/usr/local/lib/python3.6/dist-packages/sklearn/feature_extraction/text.py:385: UserWarning: Your stop_words may be inconsistent with your preprocessing. Tokenizing the stop words generated tokens ['afterward', 'alon', 'alreadi', 'alway', 'anoth', 'anyon', 'anyth', 'anywher', 'becam', 'becom', 'besid', 'cri', 'describ', 'els', 'elsewher', 'empti', 'everi', 'everyon', 'everyth', 'everywher', 'fifti', 'forti', 'henc', 'hereaft', 'herebi', 'howev', 'hundr', 'inde', 'mani', 'meanwhil', 'moreov', 'nobodi', 'noon', 'noth', 'nowher', 'otherwis', 'perhap', 'pleas', 'sever', 'sinc', 'sincer', 'sixti', 'someon', 'someth', 'sometim', 'somewher', 'thenc', 'thereaft', 'therebi', 'therefor', 'togeth', 'twelv', 'twenti', 'whatev', 'whenc', 'whenev', 'wherea', 'whereaft', 'wherebi', 'wherev'] not in stop_words.\n",
            "  'stop_words.' % sorted(inconsistent))\n"
          ],
          "name": "stderr"
        }
      ]
    },
    {
      "cell_type": "code",
      "metadata": {
        "id": "zcL8tLgzA4ia",
        "colab_type": "code",
        "colab": {}
      },
      "source": [
        "tfidf_matrix_biden = tfidf_matrix_biden.todense()"
      ],
      "execution_count": 85,
      "outputs": []
    },
    {
      "cell_type": "code",
      "metadata": {
        "id": "UCyQVwLG6GvK",
        "colab_type": "code",
        "colab": {
          "base_uri": "https://localhost:8080/",
          "height": 34
        },
        "outputId": "57791ea8-9485-4699-af6c-e56be3ab5800"
      },
      "source": [
        "tfidf_matrix_biden.shape"
      ],
      "execution_count": 73,
      "outputs": [
        {
          "output_type": "execute_result",
          "data": {
            "text/plain": [
              "(362, 250)"
            ]
          },
          "metadata": {
            "tags": []
          },
          "execution_count": 73
        }
      ]
    },
    {
      "cell_type": "code",
      "metadata": {
        "id": "C1xgwlE29x3a",
        "colab_type": "code",
        "colab": {
          "base_uri": "https://localhost:8080/",
          "height": 357
        },
        "outputId": "e908b962-5f6a-4574-e794-1485022fd6f0"
      },
      "source": [
        "# 20 words biden used\n",
        "tfidf_biden.get_feature_names()[:20]"
      ],
      "execution_count": 76,
      "outputs": [
        {
          "output_type": "execute_result",
          "data": {
            "text/plain": [
              "['abl',\n",
              " 'act',\n",
              " 'administr',\n",
              " 'afford',\n",
              " 'ago',\n",
              " 'alreadi',\n",
              " 'alway',\n",
              " 'america',\n",
              " 'american',\n",
              " 'anyth',\n",
              " 'ask',\n",
              " 'away',\n",
              " 'bad',\n",
              " 'begin',\n",
              " 'believ',\n",
              " 'best',\n",
              " 'better',\n",
              " 'biden',\n",
              " 'big',\n",
              " 'billion']"
            ]
          },
          "metadata": {
            "tags": []
          },
          "execution_count": 76
        }
      ]
    },
    {
      "cell_type": "code",
      "metadata": {
        "id": "1HPF0zld92-o",
        "colab_type": "code",
        "colab": {
          "base_uri": "https://localhost:8080/",
          "height": 357
        },
        "outputId": "a7b9faea-22de-4f66-d9e6-c88c0747e194"
      },
      "source": [
        "# 20 words trump used\n",
        "tfidf_trump.get_feature_names()[:20]"
      ],
      "execution_count": 77,
      "outputs": [
        {
          "output_type": "execute_result",
          "data": {
            "text/plain": [
              "['achiev',\n",
              " 'actual',\n",
              " 'administr',\n",
              " 'agenda',\n",
              " 'ago',\n",
              " 'allow',\n",
              " 'alreadi',\n",
              " 'alway',\n",
              " 'amaz',\n",
              " 'amend',\n",
              " 'america',\n",
              " 'american',\n",
              " 'anoth',\n",
              " 'anybodi',\n",
              " 'anyth',\n",
              " 'ask',\n",
              " 'away',\n",
              " 'bad',\n",
              " 'ballot',\n",
              " 'ban']"
            ]
          },
          "metadata": {
            "tags": []
          },
          "execution_count": 77
        }
      ]
    },
    {
      "cell_type": "code",
      "metadata": {
        "id": "Z_yOX3rF_Wwk",
        "colab_type": "code",
        "colab": {}
      },
      "source": [
        "trump_vocab = tfidf_trump.get_feature_names()"
      ],
      "execution_count": 78,
      "outputs": []
    },
    {
      "cell_type": "code",
      "metadata": {
        "id": "BGWfuzHV_abO",
        "colab_type": "code",
        "colab": {}
      },
      "source": [
        "biden_vocab = tfidf_biden.get_feature_names()"
      ],
      "execution_count": 79,
      "outputs": []
    },
    {
      "cell_type": "code",
      "metadata": {
        "id": "bs96_7DQ99pS",
        "colab_type": "code",
        "colab": {}
      },
      "source": [
        "# write a function that given a vector,\n",
        "# show the words that correspond to the most importance.\n",
        "# (largest in magnitude)\n",
        "# assume the element that has more magnitute are more important.\n",
        "def getMostImportantWords(vector, numOfWords, isTrump):\n",
        "  indices_of_most_important_words = np.argsort(vector)[::-1][:numOfWords]\n",
        "  if isTrump:\n",
        "    return ' '.join([trump_vocab[index] for index in indices_of_most_important_words])\n",
        "  else:\n",
        "    return ' '.join([biden_vocab[index] for index in indices_of_most_important_words])"
      ],
      "execution_count": 80,
      "outputs": []
    },
    {
      "cell_type": "markdown",
      "metadata": {
        "id": "3zltvbzI5INm",
        "colab_type": "text"
      },
      "source": [
        "## 2.2 SVD."
      ]
    },
    {
      "cell_type": "code",
      "metadata": {
        "id": "io-gkqQZAmoH",
        "colab_type": "code",
        "colab": {}
      },
      "source": [
        "from scipy import linalg"
      ],
      "execution_count": 82,
      "outputs": []
    },
    {
      "cell_type": "code",
      "metadata": {
        "id": "n9lu1vej9Ywv",
        "colab_type": "code",
        "colab": {
          "base_uri": "https://localhost:8080/",
          "height": 51
        },
        "outputId": "41b4685b-e330-460b-8524-90ec5f3b0891"
      },
      "source": [
        "%time U, s, Vh = linalg.svd(tfidf_matrix_trump, full_matrices=False)"
      ],
      "execution_count": 99,
      "outputs": [
        {
          "output_type": "stream",
          "text": [
            "CPU times: user 99.5 ms, sys: 36.2 ms, total: 136 ms\n",
            "Wall time: 76.1 ms\n"
          ],
          "name": "stdout"
        }
      ]
    },
    {
      "cell_type": "code",
      "metadata": {
        "id": "MxKyuPfABBVZ",
        "colab_type": "code",
        "colab": {
          "base_uri": "https://localhost:8080/",
          "height": 102
        },
        "outputId": "19c24efa-e35e-44b4-9b6b-86a0b618baba"
      },
      "source": [
        "# print out 5 topics Trump talks about\n",
        "for i in range(5):\n",
        "  print(f'topic {i}: ' + getMostImportantWords(vector = Vh[i], numOfWords= 10, isTrump= True))"
      ],
      "execution_count": 100,
      "outputs": [
        {
          "output_type": "stream",
          "text": [
            "topic 0: russia favor trillion plan post term judg free illeg play\n",
            "topic 1: biden year china joe happen countri like left citi deal\n",
            "topic 2: peopl said know say like think good thing look guy\n",
            "topic 3: want peopl citi polic left democrat america win biden law\n",
            "topic 4: great peopl love state job nation american good america unit\n"
          ],
          "name": "stdout"
        }
      ]
    },
    {
      "cell_type": "code",
      "metadata": {
        "id": "fZZyr5NuDLvX",
        "colab_type": "code",
        "colab": {
          "base_uri": "https://localhost:8080/",
          "height": 102
        },
        "outputId": "e108e58d-1be7-421b-f08d-add920552206"
      },
      "source": [
        "# print out 5 topics Trump talks about\n",
        "for i in range(5):\n",
        "  print(f'topic {i}: ' + getMostImportantWords(vector = Vh[i], numOfWords= 15, isTrump= True))"
      ],
      "execution_count": 101,
      "outputs": [
        {
          "output_type": "stream",
          "text": [
            "topic 0: russia favor trillion plan post term judg free illeg play stock achiev yeah polici oil\n",
            "topic 1: biden year china joe happen countri like left citi deal mani look thing said talk\n",
            "topic 2: peopl said know say like think good thing look guy lot big happen right poll\n",
            "topic 3: want peopl citi polic left democrat america win biden law run everi york american crime\n",
            "topic 4: great peopl love state job nation american good america unit right open million work make\n"
          ],
          "name": "stdout"
        }
      ]
    },
    {
      "cell_type": "code",
      "metadata": {
        "id": "WajuGcoWCWMw",
        "colab_type": "code",
        "colab": {
          "base_uri": "https://localhost:8080/",
          "height": 51
        },
        "outputId": "052cce6f-cfff-4ce3-e3ab-ff124c4228b0"
      },
      "source": [
        "%time U, s, Vh = linalg.svd(tfidf_matrix_biden, full_matrices=False)"
      ],
      "execution_count": 95,
      "outputs": [
        {
          "output_type": "stream",
          "text": [
            "CPU times: user 44.9 ms, sys: 16 ms, total: 60.9 ms\n",
            "Wall time: 37.3 ms\n"
          ],
          "name": "stdout"
        }
      ]
    },
    {
      "cell_type": "code",
      "metadata": {
        "id": "gzw2vJc2CKCG",
        "colab_type": "code",
        "colab": {
          "base_uri": "https://localhost:8080/",
          "height": 102
        },
        "outputId": "4712cf57-2402-4d76-b9e9-71307ce77689"
      },
      "source": [
        "# print out 5 topics biden talks about\n",
        "for i in range(5):\n",
        "  print(f'topic {i}: ' + getMostImportantWords(vector = Vh[i], numOfWords= 10, isTrump= False))"
      ],
      "execution_count": 97,
      "outputs": [
        {
          "output_type": "stream",
          "text": [
            "topic 0: program shot local crosstalk justic afford buy general citi death\n",
            "topic 1: thank want god think elect realli crosstalk hope got better\n",
            "topic 2: crosstalk know right got think said talk someth vote thing\n",
            "topic 3: crosstalk right worker tax thank job trump pay american union\n",
            "topic 4: school abl educ need home health safe sure children make\n"
          ],
          "name": "stdout"
        }
      ]
    },
    {
      "cell_type": "code",
      "metadata": {
        "id": "C3B5whmXDBuf",
        "colab_type": "code",
        "colab": {
          "base_uri": "https://localhost:8080/",
          "height": 102
        },
        "outputId": "2c4a78d9-f1a4-4f48-e40c-4a9f4e3f59e9"
      },
      "source": [
        "# print out 5 topics biden talks about\n",
        "for i in range(5):\n",
        "  print(f'topic {i}: ' + getMostImportantWords(vector = Vh[i], numOfWords= 15, isTrump= False))"
      ],
      "execution_count": 98,
      "outputs": [
        {
          "output_type": "stream",
          "text": [
            "topic 0: program shot local crosstalk justic afford buy general citi death learn test cut street idea\n",
            "topic 1: thank want god think elect realli crosstalk hope got better day number import state lot\n",
            "topic 2: crosstalk know right got think said talk someth vote thing lot anyth want say happen\n",
            "topic 3: crosstalk right worker tax thank job trump pay american union compani build treat feder make\n",
            "topic 4: school abl educ need home health safe sure children make kid open billion parent think\n"
          ],
          "name": "stdout"
        }
      ]
    },
    {
      "cell_type": "markdown",
      "metadata": {
        "id": "Qa7AOFYq6PLx",
        "colab_type": "text"
      },
      "source": [
        "## 2.3 NMF"
      ]
    },
    {
      "cell_type": "code",
      "metadata": {
        "id": "CRsUBSWdDTgc",
        "colab_type": "code",
        "colab": {}
      },
      "source": [
        "from sklearn import decomposition"
      ],
      "execution_count": 102,
      "outputs": []
    },
    {
      "cell_type": "code",
      "metadata": {
        "id": "Zqz9-3DSDbuB",
        "colab_type": "code",
        "colab": {}
      },
      "source": [
        "clf = decomposition.NMF(n_components=5, random_state=1)\n",
        "\n",
        "W1 = clf.fit_transform(tfidf_matrix_trump)\n",
        "H1 = clf.components_"
      ],
      "execution_count": 103,
      "outputs": []
    },
    {
      "cell_type": "code",
      "metadata": {
        "id": "RgxBPUVPDm7R",
        "colab_type": "code",
        "colab": {
          "base_uri": "https://localhost:8080/",
          "height": 102
        },
        "outputId": "d441c0bf-a70b-4acb-a716-7039f796552d"
      },
      "source": [
        "# print out 5 topics Trump talks about\n",
        "for i in range(5):\n",
        "  print(f'topic {i}: ' + getMostImportantWords(vector = H1[i], numOfWords= 10, isTrump= True))"
      ],
      "execution_count": 108,
      "outputs": [
        {
          "output_type": "stream",
          "text": [
            "topic 0: said happen like come know thing say think got right\n",
            "topic 1: thank great job want love let everybodi man friend michigan\n",
            "topic 2: china year job american world america countri nation biden histori\n",
            "topic 3: want biden left citi polic joe law look berni radic\n",
            "topic 4: peopl great love good win state right know job realli\n"
          ],
          "name": "stdout"
        }
      ]
    },
    {
      "cell_type": "code",
      "metadata": {
        "id": "tMThEm77D7hj",
        "colab_type": "code",
        "colab": {
          "base_uri": "https://localhost:8080/",
          "height": 102
        },
        "outputId": "932d0bc4-b2ba-48fd-ca77-a7d36480b3fb"
      },
      "source": [
        "# print out 5 topics Trump talks about\n",
        "for i in range(5):\n",
        "  print(f'topic {i}: ' + getMostImportantWords(vector = H1[i], numOfWords= 15, isTrump= True))"
      ],
      "execution_count": 109,
      "outputs": [
        {
          "output_type": "stream",
          "text": [
            "topic 0: said happen like come know thing say think got right time let look big year\n",
            "topic 1: thank great job want love let everybodi man friend michigan respect children god carolina realli\n",
            "topic 2: china year job american world america countri nation biden histori billion deal unit million state\n",
            "topic 3: want biden left citi polic joe law look berni radic suburb democrat crime everi run\n",
            "topic 4: peopl great love good win state right know job realli like vote lot say governor\n"
          ],
          "name": "stdout"
        }
      ]
    },
    {
      "cell_type": "code",
      "metadata": {
        "id": "QuwuJvqBD87o",
        "colab_type": "code",
        "colab": {}
      },
      "source": [
        "W1 = clf.fit_transform(tfidf_matrix_biden)\n",
        "H1 = clf.components_"
      ],
      "execution_count": 110,
      "outputs": []
    },
    {
      "cell_type": "code",
      "metadata": {
        "id": "YgTu7gOnD_bB",
        "colab_type": "code",
        "colab": {
          "base_uri": "https://localhost:8080/",
          "height": 102
        },
        "outputId": "0d0a0594-5368-4a9f-b6a0-c9c361799963"
      },
      "source": [
        "# print out 5 topics Biden talks about\n",
        "for i in range(5):\n",
        "  print(f'topic {i}: ' + getMostImportantWords(vector = H1[i], numOfWords= 10, isTrump= False))"
      ],
      "execution_count": 111,
      "outputs": [
        {
          "output_type": "stream",
          "text": [
            "topic 0: american trump job presid worker tax america donald pay union\n",
            "topic 1: thank god want better day covid labor elect hope number\n",
            "topic 2: peopl think know said say talk got thing want look\n",
            "topic 3: crosstalk right treat know got someth life love want health\n",
            "topic 4: school need educ safe abl make latino sure children year\n"
          ],
          "name": "stdout"
        }
      ]
    },
    {
      "cell_type": "code",
      "metadata": {
        "id": "56grUQwbECdf",
        "colab_type": "code",
        "colab": {
          "base_uri": "https://localhost:8080/",
          "height": 102
        },
        "outputId": "287e1f5c-45c7-46ee-c3fa-6b0c7d1f78ba"
      },
      "source": [
        "# print out 5 topics Biden talks about\n",
        "for i in range(5):\n",
        "  print(f'topic {i}: ' + getMostImportantWords(vector = H1[i], numOfWords= 15, isTrump= False))"
      ],
      "execution_count": 112,
      "outputs": [
        {
          "output_type": "stream",
          "text": [
            "topic 0: american trump job presid worker tax america donald pay union million build work make compani\n",
            "topic 1: thank god want better day covid labor elect hope number state promis realli protect union\n",
            "topic 2: peopl think know said say talk got thing want look countri lot time come presid\n",
            "topic 3: crosstalk right treat know got someth life love want health deal problem okay happen number\n",
            "topic 4: school need educ safe abl make latino sure children year home open everi mask health\n"
          ],
          "name": "stdout"
        }
      ]
    },
    {
      "cell_type": "markdown",
      "metadata": {
        "id": "I0wZyGOn6XvF",
        "colab_type": "text"
      },
      "source": [
        "## 2.4 K-means"
      ]
    },
    {
      "cell_type": "code",
      "metadata": {
        "id": "Eiily8o-nNME",
        "colab_type": "code",
        "colab": {}
      },
      "source": [
        "from sklearn.cluster import KMeans"
      ],
      "execution_count": 113,
      "outputs": []
    },
    {
      "cell_type": "code",
      "metadata": {
        "id": "nGiexUQ4EHsp",
        "colab_type": "code",
        "colab": {
          "base_uri": "https://localhost:8080/",
          "height": 68
        },
        "outputId": "4f98ee7c-0142-43ab-a80c-0d76767740ff"
      },
      "source": [
        "km = KMeans(n_clusters = 5)\n",
        "km.fit(tfidf_matrix_trump)"
      ],
      "execution_count": 114,
      "outputs": [
        {
          "output_type": "execute_result",
          "data": {
            "text/plain": [
              "KMeans(algorithm='auto', copy_x=True, init='k-means++', max_iter=300,\n",
              "       n_clusters=5, n_init=10, n_jobs=None, precompute_distances='auto',\n",
              "       random_state=None, tol=0.0001, verbose=0)"
            ]
          },
          "metadata": {
            "tags": []
          },
          "execution_count": 114
        }
      ]
    },
    {
      "cell_type": "code",
      "metadata": {
        "id": "x88Bug0BEP3H",
        "colab_type": "code",
        "colab": {
          "base_uri": "https://localhost:8080/",
          "height": 102
        },
        "outputId": "fbe45785-9dca-4a5d-8904-0df624b18bf1"
      },
      "source": [
        "# Trump:\n",
        "for i in range(5):\n",
        "  print(f'topic {i}: ' + getMostImportantWords(km.cluster_centers_[i], numOfWords = 10, isTrump=True))"
      ],
      "execution_count": 116,
      "outputs": [
        {
          "output_type": "stream",
          "text": [
            "topic 0: china year job countri world american biden billion america deal\n",
            "topic 1: thank great job love want peopl right realli good man\n",
            "topic 2: peopl great want know say right good state like win\n",
            "topic 3: said think like thing say right come know happen got\n",
            "topic 4: biden want left citi know polic look joe american yeah\n"
          ],
          "name": "stdout"
        }
      ]
    },
    {
      "cell_type": "code",
      "metadata": {
        "id": "KlP8sh8TEeEm",
        "colab_type": "code",
        "colab": {
          "base_uri": "https://localhost:8080/",
          "height": 102
        },
        "outputId": "4dc7bf45-1d69-4c10-a31f-d85121352e0b"
      },
      "source": [
        "# Trump:\n",
        "for i in range(5):\n",
        "  print(f'topic {i}: ' + getMostImportantWords(km.cluster_centers_[i], numOfWords = 15, isTrump=True))"
      ],
      "execution_count": 117,
      "outputs": [
        {
          "output_type": "stream",
          "text": [
            "topic 0: china year job countri world american biden billion america deal nation histori right number million\n",
            "topic 1: thank great job love want peopl right realli good man friend make america know said\n",
            "topic 2: peopl great want know say right good state like win lot love vote new got\n",
            "topic 3: said think like thing say right come know happen got want time year mani let\n",
            "topic 4: biden want left citi know polic look joe american yeah countri berni america law radic\n"
          ],
          "name": "stdout"
        }
      ]
    },
    {
      "cell_type": "code",
      "metadata": {
        "id": "EDvzQH-LElbm",
        "colab_type": "code",
        "colab": {
          "base_uri": "https://localhost:8080/",
          "height": 68
        },
        "outputId": "28f439d0-f9fd-4f06-c0aa-668de25b0401"
      },
      "source": [
        "km = KMeans(n_clusters = 5)\n",
        "km.fit(tfidf_matrix_biden)"
      ],
      "execution_count": 118,
      "outputs": [
        {
          "output_type": "execute_result",
          "data": {
            "text/plain": [
              "KMeans(algorithm='auto', copy_x=True, init='k-means++', max_iter=300,\n",
              "       n_clusters=5, n_init=10, n_jobs=None, precompute_distances='auto',\n",
              "       random_state=None, tol=0.0001, verbose=0)"
            ]
          },
          "metadata": {
            "tags": []
          },
          "execution_count": 118
        }
      ]
    },
    {
      "cell_type": "code",
      "metadata": {
        "id": "sI6GAxuJEn9s",
        "colab_type": "code",
        "colab": {
          "base_uri": "https://localhost:8080/",
          "height": 102
        },
        "outputId": "3e2e0f49-9760-4815-a457-ffaf2dd57cf5"
      },
      "source": [
        "# biden\n",
        "for i in range(5):\n",
        "  print(f'topic {i}: ' + getMostImportantWords(km.cluster_centers_[i], numOfWords = 10, isTrump=False))"
      ],
      "execution_count": 119,
      "outputs": [
        {
          "output_type": "stream",
          "text": [
            "topic 0: crosstalk inaud got tell togeth chanc know campaign want right\n",
            "topic 1: trump job presid american worker make tax donald pay america\n",
            "topic 2: peopl think say presid thing talk know said like countri\n",
            "topic 3: thank god want elect state better day number covid think\n",
            "topic 4: latino abl make peopl school union know sure okay everi\n"
          ],
          "name": "stdout"
        }
      ]
    },
    {
      "cell_type": "code",
      "metadata": {
        "id": "3qurWBW4EsKt",
        "colab_type": "code",
        "colab": {
          "base_uri": "https://localhost:8080/",
          "height": 102
        },
        "outputId": "f20560ae-95e3-4fab-d44f-d0f16b0d4e3a"
      },
      "source": [
        "# biden\n",
        "for i in range(5):\n",
        "  print(f'topic {i}: ' + getMostImportantWords(km.cluster_centers_[i], numOfWords = 15, isTrump=False))"
      ],
      "execution_count": 120,
      "outputs": [
        {
          "output_type": "stream",
          "text": [
            "topic 0: crosstalk inaud got tell togeth chanc know campaign want right way time generat lot think\n",
            "topic 1: trump job presid american worker make tax donald pay america work million school countri peopl\n",
            "topic 2: peopl think say presid thing talk know said like countri look make vote want understand\n",
            "topic 3: thank god want elect state better day number covid think hope labor good union honor\n",
            "topic 4: latino abl make peopl school union know sure okay everi program billion way state educ\n"
          ],
          "name": "stdout"
        }
      ]
    },
    {
      "cell_type": "markdown",
      "metadata": {
        "id": "hNrqJ4FaGNjQ",
        "colab_type": "text"
      },
      "source": [
        "# 3. repeat analysis for slightly different parameters"
      ]
    },
    {
      "cell_type": "code",
      "metadata": {
        "colab_type": "code",
        "id": "1BRORVKgGS8K",
        "colab": {}
      },
      "source": [
        "tfidf_trump = TfidfVectorizer(max_df=0.95, max_features= 500, # use more words.\n",
        "                        min_df=0.02, stop_words='english',\n",
        "                        use_idf=True, tokenizer = stemming_tokenizer, # our custom tokenizer that ignores the tense of words.\n",
        "                        ngram_range=(1,1))"
      ],
      "execution_count": 121,
      "outputs": []
    },
    {
      "cell_type": "code",
      "metadata": {
        "colab_type": "code",
        "id": "yqd1Lu4qGS8W",
        "colab": {
          "base_uri": "https://localhost:8080/",
          "height": 71
        },
        "outputId": "e9aeb3b3-73bd-48c6-dba5-40804b9b88ad"
      },
      "source": [
        "tfidf_matrix_trump = tfidf_trump.fit_transform(trump_speeches)"
      ],
      "execution_count": 122,
      "outputs": [
        {
          "output_type": "stream",
          "text": [
            "/usr/local/lib/python3.6/dist-packages/sklearn/feature_extraction/text.py:385: UserWarning: Your stop_words may be inconsistent with your preprocessing. Tokenizing the stop words generated tokens ['afterward', 'alon', 'alreadi', 'alway', 'anoth', 'anyon', 'anyth', 'anywher', 'becam', 'becom', 'besid', 'cri', 'describ', 'els', 'elsewher', 'empti', 'everi', 'everyon', 'everyth', 'everywher', 'fifti', 'forti', 'henc', 'hereaft', 'herebi', 'howev', 'hundr', 'inde', 'mani', 'meanwhil', 'moreov', 'nobodi', 'noon', 'noth', 'nowher', 'otherwis', 'perhap', 'pleas', 'sever', 'sinc', 'sincer', 'sixti', 'someon', 'someth', 'sometim', 'somewher', 'thenc', 'thereaft', 'therebi', 'therefor', 'togeth', 'twelv', 'twenti', 'whatev', 'whenc', 'whenev', 'wherea', 'whereaft', 'wherebi', 'wherev'] not in stop_words.\n",
            "  'stop_words.' % sorted(inconsistent))\n"
          ],
          "name": "stderr"
        }
      ]
    },
    {
      "cell_type": "code",
      "metadata": {
        "colab_type": "code",
        "id": "h7_z17CRGS8j",
        "colab": {}
      },
      "source": [
        "# convert a sparse matrix to dense matrix, for later SVD.\n",
        "tfidf_matrix_trump = tfidf_matrix_trump.todense()"
      ],
      "execution_count": 123,
      "outputs": []
    },
    {
      "cell_type": "code",
      "metadata": {
        "colab_type": "code",
        "id": "u1Dj9N_yGS8o",
        "colab": {
          "base_uri": "https://localhost:8080/",
          "height": 34
        },
        "outputId": "8aae839d-3f48-420e-aaa0-1c12cd086dee"
      },
      "source": [
        "# each of trump's speech is represented\n",
        "# by a 300 dimensional vector\n",
        "tfidf_matrix_trump.shape"
      ],
      "execution_count": 124,
      "outputs": [
        {
          "output_type": "execute_result",
          "data": {
            "text/plain": [
              "(886, 392)"
            ]
          },
          "metadata": {
            "tags": []
          },
          "execution_count": 124
        }
      ]
    },
    {
      "cell_type": "code",
      "metadata": {
        "colab_type": "code",
        "id": "lktYvzRjGS8s",
        "colab": {}
      },
      "source": [
        "tfidf_biden = TfidfVectorizer(max_df=0.99, max_features= 250,\n",
        "                        min_df=0.01, stop_words='english',\n",
        "                        use_idf=True, tokenizer = stemming_tokenizer, # our custom tokenizer that ignores the tense of words.\n",
        "                        ngram_range=(1,1))"
      ],
      "execution_count": 125,
      "outputs": []
    },
    {
      "cell_type": "code",
      "metadata": {
        "colab_type": "code",
        "id": "TqqNX_WVGS8v",
        "colab": {
          "base_uri": "https://localhost:8080/",
          "height": 71
        },
        "outputId": "d0d4f347-2555-416a-90d1-356bf02c42c9"
      },
      "source": [
        "tfidf_matrix_biden = tfidf_biden.fit_transform(biden_speeches)"
      ],
      "execution_count": 126,
      "outputs": [
        {
          "output_type": "stream",
          "text": [
            "/usr/local/lib/python3.6/dist-packages/sklearn/feature_extraction/text.py:385: UserWarning: Your stop_words may be inconsistent with your preprocessing. Tokenizing the stop words generated tokens ['afterward', 'alon', 'alreadi', 'alway', 'anoth', 'anyon', 'anyth', 'anywher', 'becam', 'becom', 'besid', 'cri', 'describ', 'els', 'elsewher', 'empti', 'everi', 'everyon', 'everyth', 'everywher', 'fifti', 'forti', 'henc', 'hereaft', 'herebi', 'howev', 'hundr', 'inde', 'mani', 'meanwhil', 'moreov', 'nobodi', 'noon', 'noth', 'nowher', 'otherwis', 'perhap', 'pleas', 'sever', 'sinc', 'sincer', 'sixti', 'someon', 'someth', 'sometim', 'somewher', 'thenc', 'thereaft', 'therebi', 'therefor', 'togeth', 'twelv', 'twenti', 'whatev', 'whenc', 'whenev', 'wherea', 'whereaft', 'wherebi', 'wherev'] not in stop_words.\n",
            "  'stop_words.' % sorted(inconsistent))\n"
          ],
          "name": "stderr"
        }
      ]
    },
    {
      "cell_type": "code",
      "metadata": {
        "colab_type": "code",
        "id": "WfAQsl5qGS8y",
        "colab": {}
      },
      "source": [
        "tfidf_matrix_biden = tfidf_matrix_biden.todense()"
      ],
      "execution_count": 127,
      "outputs": []
    },
    {
      "cell_type": "code",
      "metadata": {
        "colab_type": "code",
        "id": "yfi_fcrrGS81",
        "colab": {
          "base_uri": "https://localhost:8080/",
          "height": 34
        },
        "outputId": "c8efb599-782d-44fa-b505-0fb2a8bbc414"
      },
      "source": [
        "tfidf_matrix_biden.shape"
      ],
      "execution_count": 128,
      "outputs": [
        {
          "output_type": "execute_result",
          "data": {
            "text/plain": [
              "(362, 250)"
            ]
          },
          "metadata": {
            "tags": []
          },
          "execution_count": 128
        }
      ]
    },
    {
      "cell_type": "code",
      "metadata": {
        "colab_type": "code",
        "id": "fCU67iAGGS85",
        "colab": {
          "base_uri": "https://localhost:8080/",
          "height": 357
        },
        "outputId": "827ba3f4-2492-481c-eb06-402e9fa1d820"
      },
      "source": [
        "# 20 words biden used\n",
        "tfidf_biden.get_feature_names()[:20]"
      ],
      "execution_count": 129,
      "outputs": [
        {
          "output_type": "execute_result",
          "data": {
            "text/plain": [
              "['abl',\n",
              " 'act',\n",
              " 'administr',\n",
              " 'afford',\n",
              " 'ago',\n",
              " 'alreadi',\n",
              " 'alway',\n",
              " 'america',\n",
              " 'american',\n",
              " 'anyth',\n",
              " 'ask',\n",
              " 'away',\n",
              " 'bad',\n",
              " 'begin',\n",
              " 'believ',\n",
              " 'best',\n",
              " 'better',\n",
              " 'biden',\n",
              " 'big',\n",
              " 'billion']"
            ]
          },
          "metadata": {
            "tags": []
          },
          "execution_count": 129
        }
      ]
    },
    {
      "cell_type": "code",
      "metadata": {
        "colab_type": "code",
        "id": "tYM4VsMdGS87",
        "colab": {
          "base_uri": "https://localhost:8080/",
          "height": 357
        },
        "outputId": "c35a1165-7beb-4d23-fbd3-359ed9218503"
      },
      "source": [
        "# 20 words trump used\n",
        "tfidf_trump.get_feature_names()[:20]"
      ],
      "execution_count": 130,
      "outputs": [
        {
          "output_type": "execute_result",
          "data": {
            "text/plain": [
              "['abl',\n",
              " 'achiev',\n",
              " 'actual',\n",
              " 'administr',\n",
              " 'advantag',\n",
              " 'agenda',\n",
              " 'ago',\n",
              " 'agre',\n",
              " 'alien',\n",
              " 'allow',\n",
              " 'alreadi',\n",
              " 'alway',\n",
              " 'amaz',\n",
              " 'amend',\n",
              " 'america',\n",
              " 'american',\n",
              " 'announc',\n",
              " 'anoth',\n",
              " 'anybodi',\n",
              " 'anymor']"
            ]
          },
          "metadata": {
            "tags": []
          },
          "execution_count": 130
        }
      ]
    },
    {
      "cell_type": "code",
      "metadata": {
        "colab_type": "code",
        "id": "ybefYd9cGS89",
        "colab": {}
      },
      "source": [
        "trump_vocab = tfidf_trump.get_feature_names()"
      ],
      "execution_count": 131,
      "outputs": []
    },
    {
      "cell_type": "code",
      "metadata": {
        "colab_type": "code",
        "id": "bWpr-G30GS8-",
        "colab": {}
      },
      "source": [
        "biden_vocab = tfidf_biden.get_feature_names()"
      ],
      "execution_count": 132,
      "outputs": []
    },
    {
      "cell_type": "code",
      "metadata": {
        "colab_type": "code",
        "id": "ncuwMnuuGS9A",
        "colab": {}
      },
      "source": [
        "# write a function that given a vector,\n",
        "# show the words that correspond to the most importance.\n",
        "# (largest in magnitude)\n",
        "# assume the element that has more magnitute are more important.\n",
        "def getMostImportantWords(vector, numOfWords, isTrump):\n",
        "  indices_of_most_important_words = np.argsort(vector)[::-1][:numOfWords]\n",
        "  if isTrump:\n",
        "    return ' '.join([trump_vocab[index] for index in indices_of_most_important_words])\n",
        "  else:\n",
        "    return ' '.join([biden_vocab[index] for index in indices_of_most_important_words])"
      ],
      "execution_count": 133,
      "outputs": []
    },
    {
      "cell_type": "markdown",
      "metadata": {
        "colab_type": "text",
        "id": "o20lZemYGS9C"
      },
      "source": [
        "## 3.2 SVD."
      ]
    },
    {
      "cell_type": "code",
      "metadata": {
        "colab_type": "code",
        "id": "7jD8tKv3GS9C",
        "colab": {}
      },
      "source": [
        "from scipy import linalg"
      ],
      "execution_count": 134,
      "outputs": []
    },
    {
      "cell_type": "code",
      "metadata": {
        "colab_type": "code",
        "id": "w1UzgubSGS9E",
        "colab": {
          "base_uri": "https://localhost:8080/",
          "height": 51
        },
        "outputId": "82b80f02-5c4a-41df-9900-fe7e3759bae6"
      },
      "source": [
        "%time U, s, Vh = linalg.svd(tfidf_matrix_trump, full_matrices=False)"
      ],
      "execution_count": 135,
      "outputs": [
        {
          "output_type": "stream",
          "text": [
            "CPU times: user 172 ms, sys: 52.4 ms, total: 224 ms\n",
            "Wall time: 146 ms\n"
          ],
          "name": "stdout"
        }
      ]
    },
    {
      "cell_type": "code",
      "metadata": {
        "colab_type": "code",
        "id": "-dN8hZYyGS9H",
        "colab": {
          "base_uri": "https://localhost:8080/",
          "height": 102
        },
        "outputId": "f4de0057-82d4-4ac1-b295-ab4ce1b66b46"
      },
      "source": [
        "# print out 5 topics Trump talks about\n",
        "for i in range(5):\n",
        "  print(f'topic {i}: ' + getMostImportantWords(vector = Vh[i], numOfWords= 10, isTrump= True))"
      ],
      "execution_count": 136,
      "outputs": [
        {
          "output_type": "stream",
          "text": [
            "topic 0: terrorist alien sudden manifesto short kind fair speak histor immedi\n",
            "topic 1: thank great love job friend good repres john realli fantast\n",
            "topic 2: china america biden year american world thank job joe nation\n",
            "topic 3: said year china billion deal farmer good job tariff thing\n",
            "topic 4: great job love peopl state good open american nation million\n"
          ],
          "name": "stdout"
        }
      ]
    },
    {
      "cell_type": "code",
      "metadata": {
        "colab_type": "code",
        "id": "QVWhXplyGS9J",
        "colab": {
          "base_uri": "https://localhost:8080/",
          "height": 102
        },
        "outputId": "5f987dde-25b0-4f72-99f6-e67799b64468"
      },
      "source": [
        "# print out 5 topics Trump talks about\n",
        "for i in range(5):\n",
        "  print(f'topic {i}: ' + getMostImportantWords(vector = Vh[i], numOfWords= 15, isTrump= True))"
      ],
      "execution_count": 137,
      "outputs": [
        {
          "output_type": "stream",
          "text": [
            "topic 0: terrorist alien sudden manifesto short kind fair speak histor immedi honest anywher coupl sort futur\n",
            "topic 1: thank great love job friend good repres john realli fantast man everybodi honor carolina god\n",
            "topic 2: china america biden year american world thank job joe nation countri histori billion unit deal\n",
            "topic 3: said year china billion deal farmer good job tariff thing took sir come right guy\n",
            "topic 4: great job love peopl state good open american nation million right win work john governor\n"
          ],
          "name": "stdout"
        }
      ]
    },
    {
      "cell_type": "code",
      "metadata": {
        "colab_type": "code",
        "id": "j4o5IcLyGS9L",
        "colab": {
          "base_uri": "https://localhost:8080/",
          "height": 51
        },
        "outputId": "e53ae6fd-ff7f-4ded-a895-26bd4084d46b"
      },
      "source": [
        "%time U, s, Vh = linalg.svd(tfidf_matrix_biden, full_matrices=False)"
      ],
      "execution_count": 138,
      "outputs": [
        {
          "output_type": "stream",
          "text": [
            "CPU times: user 39 ms, sys: 19.1 ms, total: 58.1 ms\n",
            "Wall time: 35.1 ms\n"
          ],
          "name": "stdout"
        }
      ]
    },
    {
      "cell_type": "code",
      "metadata": {
        "colab_type": "code",
        "id": "F_a03KewGS9N",
        "colab": {
          "base_uri": "https://localhost:8080/",
          "height": 102
        },
        "outputId": "88ca6ebb-6fe3-4c07-bafa-bdce6290a7ea"
      },
      "source": [
        "# print out 5 topics biden talks about\n",
        "for i in range(5):\n",
        "  print(f'topic {i}: ' + getMostImportantWords(vector = Vh[i], numOfWords= 10, isTrump= False))"
      ],
      "execution_count": 139,
      "outputs": [
        {
          "output_type": "stream",
          "text": [
            "topic 0: program shot local crosstalk justic afford buy general citi death\n",
            "topic 1: thank want god think elect realli crosstalk hope got better\n",
            "topic 2: crosstalk know right got think said talk someth vote thing\n",
            "topic 3: crosstalk right worker tax thank job trump pay american union\n",
            "topic 4: school abl educ need home health safe sure children make\n"
          ],
          "name": "stdout"
        }
      ]
    },
    {
      "cell_type": "code",
      "metadata": {
        "colab_type": "code",
        "id": "Jqr3HO1YGS9O",
        "colab": {
          "base_uri": "https://localhost:8080/",
          "height": 102
        },
        "outputId": "27601486-0bf9-4f24-9119-db0d5f71727c"
      },
      "source": [
        "# print out 5 topics biden talks about\n",
        "for i in range(5):\n",
        "  print(f'topic {i}: ' + getMostImportantWords(vector = Vh[i], numOfWords= 15, isTrump= False))"
      ],
      "execution_count": 140,
      "outputs": [
        {
          "output_type": "stream",
          "text": [
            "topic 0: program shot local crosstalk justic afford buy general citi death learn test cut street idea\n",
            "topic 1: thank want god think elect realli crosstalk hope got better day number import state lot\n",
            "topic 2: crosstalk know right got think said talk someth vote thing lot anyth want say happen\n",
            "topic 3: crosstalk right worker tax thank job trump pay american union compani build treat feder make\n",
            "topic 4: school abl educ need home health safe sure children make kid open billion parent think\n"
          ],
          "name": "stdout"
        }
      ]
    },
    {
      "cell_type": "markdown",
      "metadata": {
        "colab_type": "text",
        "id": "ZBr_ZNeVGS9Q"
      },
      "source": [
        "## 2.3 NMF"
      ]
    },
    {
      "cell_type": "code",
      "metadata": {
        "colab_type": "code",
        "id": "6GmL0GjrGS9Q",
        "colab": {}
      },
      "source": [
        "from sklearn import decomposition"
      ],
      "execution_count": 141,
      "outputs": []
    },
    {
      "cell_type": "code",
      "metadata": {
        "colab_type": "code",
        "id": "-yi-xIatGS9S",
        "colab": {}
      },
      "source": [
        "clf = decomposition.NMF(n_components=5, random_state=1)\n",
        "\n",
        "W1 = clf.fit_transform(tfidf_matrix_trump)\n",
        "H1 = clf.components_"
      ],
      "execution_count": 142,
      "outputs": []
    },
    {
      "cell_type": "code",
      "metadata": {
        "colab_type": "code",
        "id": "jye1oie5GS9V",
        "colab": {
          "base_uri": "https://localhost:8080/",
          "height": 102
        },
        "outputId": "594016ed-d140-455f-d37b-ecd40095b1dc"
      },
      "source": [
        "# print out 5 topics Trump talks about\n",
        "for i in range(5):\n",
        "  print(f'topic {i}: ' + getMostImportantWords(vector = H1[i], numOfWords= 10, isTrump= True))"
      ],
      "execution_count": 143,
      "outputs": [
        {
          "output_type": "stream",
          "text": [
            "topic 0: said peopl like say know thing happen come think right\n",
            "topic 1: thank let want repres great everybodi god make america respect\n",
            "topic 2: year china billion world job countri biden american deal america\n",
            "topic 3: want biden left citi polic law joe everi america radic\n",
            "topic 4: great love job good state win right john peopl guy\n"
          ],
          "name": "stdout"
        }
      ]
    },
    {
      "cell_type": "code",
      "metadata": {
        "colab_type": "code",
        "id": "no5ifRLzGS9X",
        "colab": {
          "base_uri": "https://localhost:8080/",
          "height": 102
        },
        "outputId": "be450c24-778e-4302-d61b-b17a45e89b40"
      },
      "source": [
        "# print out 5 topics Trump talks about\n",
        "for i in range(5):\n",
        "  print(f'topic {i}: ' + getMostImportantWords(vector = H1[i], numOfWords= 15, isTrump= True))"
      ],
      "execution_count": 144,
      "outputs": [
        {
          "output_type": "stream",
          "text": [
            "topic 0: said peopl like say know thing happen come think right look lot got let big\n",
            "topic 1: thank let want repres great everybodi god make america respect children proud minnesota job honor\n",
            "topic 2: year china billion world job countri biden american deal america histori nation took joe economi\n",
            "topic 3: want biden left citi polic law joe everi america radic look countri democrat new berni\n",
            "topic 4: great love job good state win right john peopl guy governor realli friend open vote\n"
          ],
          "name": "stdout"
        }
      ]
    },
    {
      "cell_type": "code",
      "metadata": {
        "colab_type": "code",
        "id": "p1U7sTaxGS9Z",
        "colab": {}
      },
      "source": [
        "W1 = clf.fit_transform(tfidf_matrix_biden)\n",
        "H1 = clf.components_"
      ],
      "execution_count": 145,
      "outputs": []
    },
    {
      "cell_type": "code",
      "metadata": {
        "colab_type": "code",
        "id": "28eal1GLGS9a",
        "colab": {
          "base_uri": "https://localhost:8080/",
          "height": 102
        },
        "outputId": "80dbdfb7-8ded-470e-8ad2-a2b9b0e436b8"
      },
      "source": [
        "# print out 5 topics Biden talks about\n",
        "for i in range(5):\n",
        "  print(f'topic {i}: ' + getMostImportantWords(vector = H1[i], numOfWords= 10, isTrump= False))"
      ],
      "execution_count": 146,
      "outputs": [
        {
          "output_type": "stream",
          "text": [
            "topic 0: american trump job presid worker tax america donald pay union\n",
            "topic 1: thank god want better day covid labor elect hope number\n",
            "topic 2: peopl think know said say talk got thing want look\n",
            "topic 3: crosstalk right treat know got someth life love want health\n",
            "topic 4: school need educ safe abl make latino sure children year\n"
          ],
          "name": "stdout"
        }
      ]
    },
    {
      "cell_type": "code",
      "metadata": {
        "colab_type": "code",
        "id": "WR-V-9sPGS9c",
        "colab": {
          "base_uri": "https://localhost:8080/",
          "height": 102
        },
        "outputId": "e1c8572f-c3aa-49b6-f2da-40b688163c9d"
      },
      "source": [
        "# print out 5 topics Biden talks about\n",
        "for i in range(5):\n",
        "  print(f'topic {i}: ' + getMostImportantWords(vector = H1[i], numOfWords= 15, isTrump= False))"
      ],
      "execution_count": 147,
      "outputs": [
        {
          "output_type": "stream",
          "text": [
            "topic 0: american trump job presid worker tax america donald pay union million build work make compani\n",
            "topic 1: thank god want better day covid labor elect hope number state promis realli protect union\n",
            "topic 2: peopl think know said say talk got thing want look countri lot time come presid\n",
            "topic 3: crosstalk right treat know got someth life love want health deal problem okay happen number\n",
            "topic 4: school need educ safe abl make latino sure children year home open everi mask health\n"
          ],
          "name": "stdout"
        }
      ]
    },
    {
      "cell_type": "markdown",
      "metadata": {
        "colab_type": "text",
        "id": "cS68rxtYGS9d"
      },
      "source": [
        "## 2.4 K-means"
      ]
    },
    {
      "cell_type": "code",
      "metadata": {
        "colab_type": "code",
        "id": "XMqdoAAlGS9d",
        "colab": {}
      },
      "source": [
        "from sklearn.cluster import KMeans"
      ],
      "execution_count": 148,
      "outputs": []
    },
    {
      "cell_type": "code",
      "metadata": {
        "colab_type": "code",
        "id": "izgmYx7qGS9e",
        "colab": {
          "base_uri": "https://localhost:8080/",
          "height": 68
        },
        "outputId": "b7e1711f-6d2f-47cd-c13c-85ac11c54939"
      },
      "source": [
        "km = KMeans(n_clusters = 5)\n",
        "km.fit(tfidf_matrix_trump)"
      ],
      "execution_count": 149,
      "outputs": [
        {
          "output_type": "execute_result",
          "data": {
            "text/plain": [
              "KMeans(algorithm='auto', copy_x=True, init='k-means++', max_iter=300,\n",
              "       n_clusters=5, n_init=10, n_jobs=None, precompute_distances='auto',\n",
              "       random_state=None, tol=0.0001, verbose=0)"
            ]
          },
          "metadata": {
            "tags": []
          },
          "execution_count": 149
        }
      ]
    },
    {
      "cell_type": "code",
      "metadata": {
        "colab_type": "code",
        "id": "kPHcC4hiGS9g",
        "colab": {
          "base_uri": "https://localhost:8080/",
          "height": 102
        },
        "outputId": "49b12a15-5bb5-4f00-f40e-035a6545adb6"
      },
      "source": [
        "# Trump:\n",
        "for i in range(5):\n",
        "  print(f'topic {i}: ' + getMostImportantWords(km.cluster_centers_[i], numOfWords = 10, isTrump=True))"
      ],
      "execution_count": 150,
      "outputs": [
        {
          "output_type": "stream",
          "text": [
            "topic 0: said come like happen say know yeah thing got want\n",
            "topic 1: citi polic left want look york biden know law new\n",
            "topic 2: thank great job love want peopl realli good right know\n",
            "topic 3: year china job biden american countri america world billion histori\n",
            "topic 4: peopl know want right great think say like lot good\n"
          ],
          "name": "stdout"
        }
      ]
    },
    {
      "cell_type": "code",
      "metadata": {
        "colab_type": "code",
        "id": "02PAi_1DGS9h",
        "colab": {
          "base_uri": "https://localhost:8080/",
          "height": 102
        },
        "outputId": "82b8a723-0fa5-4163-a2cb-ef21ae7bd14f"
      },
      "source": [
        "# Trump:\n",
        "for i in range(5):\n",
        "  print(f'topic {i}: ' + getMostImportantWords(km.cluster_centers_[i], numOfWords = 15, isTrump=True))"
      ],
      "execution_count": 151,
      "outputs": [
        {
          "output_type": "stream",
          "text": [
            "topic 0: said come like happen say know yeah thing got want right let time countri think\n",
            "topic 1: citi polic left want look york biden know law new peopl radic run portland crime\n",
            "topic 2: thank great job love want peopl realli good right know repres said america friend make\n",
            "topic 3: year china job biden american countri america world billion histori deal nation joe state number\n",
            "topic 4: peopl know want right great think say like lot good state thing way win time\n"
          ],
          "name": "stdout"
        }
      ]
    },
    {
      "cell_type": "code",
      "metadata": {
        "colab_type": "code",
        "id": "ruTHR2Z-GS9j",
        "colab": {
          "base_uri": "https://localhost:8080/",
          "height": 68
        },
        "outputId": "f0c3b41c-6b35-45f2-f343-e85e05692723"
      },
      "source": [
        "km = KMeans(n_clusters = 5)\n",
        "km.fit(tfidf_matrix_biden)"
      ],
      "execution_count": 152,
      "outputs": [
        {
          "output_type": "execute_result",
          "data": {
            "text/plain": [
              "KMeans(algorithm='auto', copy_x=True, init='k-means++', max_iter=300,\n",
              "       n_clusters=5, n_init=10, n_jobs=None, precompute_distances='auto',\n",
              "       random_state=None, tol=0.0001, verbose=0)"
            ]
          },
          "metadata": {
            "tags": []
          },
          "execution_count": 152
        }
      ]
    },
    {
      "cell_type": "code",
      "metadata": {
        "colab_type": "code",
        "id": "S2yThBBlGS9k",
        "colab": {
          "base_uri": "https://localhost:8080/",
          "height": 102
        },
        "outputId": "8395891e-0b4a-4825-972e-49459e96b067"
      },
      "source": [
        "# biden\n",
        "for i in range(5):\n",
        "  print(f'topic {i}: ' + getMostImportantWords(km.cluster_centers_[i], numOfWords = 10, isTrump=False))"
      ],
      "execution_count": 153,
      "outputs": [
        {
          "output_type": "stream",
          "text": [
            "topic 0: talk togeth know got say said anyth thing come lot\n",
            "topic 1: presid trump american job america worker countri make donald work\n",
            "topic 2: thank inaud tell want state god way better elect day\n",
            "topic 3: peopl make think school abl vote need look right sure\n",
            "topic 4: crosstalk right treat love someth life got know watch matter\n"
          ],
          "name": "stdout"
        }
      ]
    },
    {
      "cell_type": "code",
      "metadata": {
        "colab_type": "code",
        "id": "opDMR0c5GS9m",
        "colab": {
          "base_uri": "https://localhost:8080/",
          "height": 102
        },
        "outputId": "c078699b-7d59-43d9-8a65-10abe453a8d7"
      },
      "source": [
        "# biden\n",
        "for i in range(5):\n",
        "  print(f'topic {i}: ' + getMostImportantWords(km.cluster_centers_[i], numOfWords = 15, isTrump=False))"
      ],
      "execution_count": 154,
      "outputs": [
        {
          "output_type": "stream",
          "text": [
            "topic 0: talk togeth know got say said anyth thing come lot someth want stand time son\n",
            "topic 1: presid trump american job america worker countri make donald work peopl nation union famili build\n",
            "topic 2: thank inaud tell want state god way better elect day come number good covid friend\n",
            "topic 3: peopl make think school abl vote need look right sure realli know way thing year\n",
            "topic 4: crosstalk right treat love someth life got know watch matter fact want say thank think\n"
          ],
          "name": "stdout"
        }
      ]
    },
    {
      "cell_type": "markdown",
      "metadata": {
        "id": "ipY3lTUYGtlt",
        "colab_type": "text"
      },
      "source": [
        "# Conclusion: "
      ]
    },
    {
      "cell_type": "markdown",
      "metadata": {
        "id": "nbKuy6jpG0uX",
        "colab_type": "text"
      },
      "source": [
        "As we can see, it is pretty clear that Trump talks a lot about China, job, America crime, radical, left. Biden talks more about school, education, health, safe, worker, vote. There isn't much surprise here. \n",
        "\n",
        "- We can try with different topic modeling models and different hyperparameters in the future."
      ]
    }
  ]
}